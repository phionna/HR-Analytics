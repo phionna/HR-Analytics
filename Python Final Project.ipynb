{
 "cells": [
  {
   "cell_type": "markdown",
   "metadata": {},
   "source": [
    "# Python Final Project: Human Resource Data Analysis\n",
    "By: Phionna Teo\n",
    "\n",
    "**This project aims to explore three fundamental questions about the Human Resource Data Set:**\n",
    "1. Is there a relationship between pay and performance score (adjusted for position)?\n",
    "2. What is the overall diversity profile of the organization?\n",
    "3. What are the best recruiting sources for the company to invest in?"
   ]
  },
  {
   "cell_type": "code",
   "execution_count": 1,
   "metadata": {
    "collapsed": true
   },
   "outputs": [],
   "source": [
    "import tablib\n",
    "import bokeh\n",
    "from bokeh.plotting import figure, output_notebook, show\n",
    "from bokeh.layouts import column\n",
    "import numpy as np\n",
    "from sklearn.linear_model import LinearRegression\n",
    "\n",
    "#Import the dataset and store in a tablib Dataset\n",
    "datafile = open(\"HRDataset_v9.csv\",\"r\")\n",
    "data = tablib.import_set(datafile.read())\n",
    "datafile.close()\n",
    "\n",
    "list_of_headers = data.headers"
   ]
  },
  {
   "cell_type": "code",
   "execution_count": 2,
   "metadata": {
    "collapsed": true
   },
   "outputs": [],
   "source": [
    "#Method that takes in a Header Title and returns a set of values in that column\n",
    "def get_set_of_column(Header):\n",
    "    return set(data[Header])\n",
    "\n",
    "#Method that takes in a dictionary, and values to append to it, returns nothing\n",
    "def append_dict(dictionary, position, value):\n",
    "    if position not in dictionary.keys():\n",
    "        dictionary[position] = [value]\n",
    "    else:\n",
    "        dictionary[position].append(value)\n",
    "    return"
   ]
  },
  {
   "cell_type": "code",
   "execution_count": 3,
   "metadata": {
    "collapsed": true
   },
   "outputs": [],
   "source": [
    "#A Dictionary where key is position, value is a list of pay and performance score\n",
    "position_pay_perf = {}\n",
    "\n",
    "#Populate the dictionary above using a for loop\n",
    "for position in get_set_of_column(\"Position\"):\n",
    "    for employee in data.dict:\n",
    "        if employee[\"Position\"] == position and employee[\"Employment Status\"] == \"Active\":\n",
    "            pay_perf = (float(employee[\"Pay Rate\"]), employee[\"Perf_ScoreID\"])\n",
    "            append_dict(position_pay_perf,position,pay_perf)"
   ]
  },
  {
   "cell_type": "markdown",
   "metadata": {},
   "source": [
    "# What is the average pay rate per position?"
   ]
  },
  {
   "cell_type": "markdown",
   "metadata": {},
   "source": [
    "Knowing the pay rates by position, lets first look at which position is paid the most, on average."
   ]
  },
  {
   "cell_type": "code",
   "execution_count": 4,
   "metadata": {},
   "outputs": [
    {
     "name": "stdout",
     "output_type": "stream",
     "text": [
      "Position                       Average Pay Rate\n",
      "President & CEO                $80.0\n",
      "CIO                            $65.0\n",
      "IT Director                    $65.0\n",
      "IT Manager - Support           $64.0\n",
      "BI Director                    $63.5\n",
      "IT Manager - Infra             $63.0\n",
      "IT Manager - DB                $62.0\n",
      "Director of Operations         $60.0\n",
      "Director of Sales              $60.0\n",
      "Area Sales Manager             $55.3\n",
      "Sales Manager                  $55.0\n",
      "Shared Services Manager        $55.0\n",
      "Data Architect                 $55.0\n",
      "Sr. Network Engineer           $54.1\n",
      "Production Manager             $53.6\n",
      "Software Engineer              $52.2\n",
      "Senior BI Developer            $51.2\n",
      "BI Developer                   $45.2\n",
      "Network Engineer               $41.1\n",
      "Database Administrator         $36.5\n",
      "Sr. Accountant                 $35.0\n",
      "IT Support                     $28.5\n",
      "Software Engineering Manager   $27.0\n",
      "Accountant I                   $26.8\n",
      "Production Technician II       $25.1\n",
      "Production Technician I        $19.0\n",
      "Administrative Assistant       $19.0\n"
     ]
    }
   ],
   "source": [
    "#Create a new Dataset for the Average Pay Table\n",
    "avg_pay = tablib.Dataset()\n",
    "avg_pay.headers = ['Position', 'Average Pay Rate']\n",
    "\n",
    "for position in position_pay_perf:\n",
    "    sum_pay = 0\n",
    "    counter = 0\n",
    "    for person in position_pay_perf[position]:\n",
    "        sum_pay += person[0]\n",
    "        counter += 1\n",
    "    avg = sum_pay / counter\n",
    "    avg_pay.append([position, avg])\n",
    "\n",
    "avg_pay_sorted = avg_pay.sort(\"Average Pay Rate\", reverse = True)\n",
    "\n",
    "#This creates a file where you can see the average pay rate by position\n",
    "avg_pay_file = open(\"Average Pay Sorted by Position\", \"w\")\n",
    "avg_pay_file.write(avg_pay_sorted.csv)\n",
    "avg_pay_file.close()\n",
    "\n",
    "#This prints a sorted table of 'Position' and the 'Average Pay Rate'\n",
    "print(\"%-30s %s\" %('Position', 'Average Pay Rate'))\n",
    "for i in avg_pay_sorted.dict:\n",
    "    print(\"%-30s $%.1f\" %(i['Position'],i['Average Pay Rate']))"
   ]
  },
  {
   "cell_type": "markdown",
   "metadata": {},
   "source": [
    "# Does higher performance correspond to higher pay?"
   ]
  },
  {
   "cell_type": "markdown",
   "metadata": {},
   "source": [
    "Now that we found the variability in pay rate according to positions, lets analyze the variability of pay rate within each position. Does higher performance correspond to a higher pay rate?\n",
    "\n",
    "For this analysis, lets weed out those positions that only have 2 or less data points, otherwise the regression is meaningless.\n",
    "\n",
    "Lets also weed out 'PerformanceID' data points that have scores of '9' and '0' because a score of 9 indicates 'too early to review' and 0 is a probational '90-day-meets'.\n"
   ]
  },
  {
   "cell_type": "code",
   "execution_count": 5,
   "metadata": {
    "collapsed": true
   },
   "outputs": [],
   "source": [
    "new_position_pay_perf = {}\n",
    "regression_position_pay_perf = {}\n",
    "\n",
    "for position in position_pay_perf:\n",
    "    for p in position_pay_perf[position]:\n",
    "        if int(p[1]) <= 5 and int(p[1]) != 0:\n",
    "            append_dict(new_position_pay_perf,position,p)\n",
    "\n",
    "for po in new_position_pay_perf:\n",
    "    if len(new_position_pay_perf[po]) > 2:\n",
    "        regression_position_pay_perf[po] = new_position_pay_perf[po]"
   ]
  },
  {
   "cell_type": "code",
   "execution_count": 6,
   "metadata": {
    "collapsed": true
   },
   "outputs": [],
   "source": [
    "#A method that returns the r-squared value of the regression, takes in a dictionary and the position\n",
    "def get_r_squared(dictionary,position):\n",
    "    list_of_x = []\n",
    "    list_of_y = []\n",
    "    for p in dictionary[position]:\n",
    "        list_of_x.append(int(p[1]))\n",
    "        list_of_y.append(p[0])\n",
    "    x = np.array(list_of_x).reshape((-1,1))\n",
    "    y = np.array(list_of_y)\n",
    "\n",
    "    model = LinearRegression().fit(x, y)\n",
    "    score = model.score(x,y)\n",
    "    return score\n",
    "\n",
    "#A method that does the visualization, takes in dictionary,position and r-squared score, returns nothing\n",
    "def scatter_plot_graph(dictionary,position,score,title):\n",
    "    list_of_x = []\n",
    "    list_of_y = []\n",
    "    for p in dictionary[position]:\n",
    "        list_of_x.append(int(p[1]))\n",
    "        list_of_y.append(p[0])\n",
    "    x = np.array(list_of_x)\n",
    "    y = np.array(list_of_y)\n",
    "    graph_title = \"Pay Rate vs %s for %s, R-Square= %.4f\" %(title, position, score)\n",
    "    p = figure(plot_width=500, plot_height=500,title= graph_title,x_axis_label=title,y_axis_label=\"Pay Rate\")\n",
    "\n",
    "    p.circle(x,y, size=20, color=\"navy\", alpha=0.5)\n",
    "\n",
    "    return p"
   ]
  },
  {
   "cell_type": "code",
   "execution_count": 7,
   "metadata": {},
   "outputs": [
    {
     "data": {
      "text/html": [
       "\n",
       "    <div class=\"bk-root\">\n",
       "        <a href=\"https://bokeh.pydata.org\" target=\"_blank\" class=\"bk-logo bk-logo-small bk-logo-notebook\"></a>\n",
       "        <span id=\"1430\">Loading BokehJS ...</span>\n",
       "    </div>"
      ]
     },
     "metadata": {},
     "output_type": "display_data"
    },
    {
     "data": {
      "application/javascript": [
       "\n",
       "(function(root) {\n",
       "  function now() {\n",
       "    return new Date();\n",
       "  }\n",
       "\n",
       "  var force = true;\n",
       "\n",
       "  if (typeof root._bokeh_onload_callbacks === \"undefined\" || force === true) {\n",
       "    root._bokeh_onload_callbacks = [];\n",
       "    root._bokeh_is_loading = undefined;\n",
       "  }\n",
       "\n",
       "  var JS_MIME_TYPE = 'application/javascript';\n",
       "  var HTML_MIME_TYPE = 'text/html';\n",
       "  var EXEC_MIME_TYPE = 'application/vnd.bokehjs_exec.v0+json';\n",
       "  var CLASS_NAME = 'output_bokeh rendered_html';\n",
       "\n",
       "  /**\n",
       "   * Render data to the DOM node\n",
       "   */\n",
       "  function render(props, node) {\n",
       "    var script = document.createElement(\"script\");\n",
       "    node.appendChild(script);\n",
       "  }\n",
       "\n",
       "  /**\n",
       "   * Handle when an output is cleared or removed\n",
       "   */\n",
       "  function handleClearOutput(event, handle) {\n",
       "    var cell = handle.cell;\n",
       "\n",
       "    var id = cell.output_area._bokeh_element_id;\n",
       "    var server_id = cell.output_area._bokeh_server_id;\n",
       "    // Clean up Bokeh references\n",
       "    if (id != null && id in Bokeh.index) {\n",
       "      Bokeh.index[id].model.document.clear();\n",
       "      delete Bokeh.index[id];\n",
       "    }\n",
       "\n",
       "    if (server_id !== undefined) {\n",
       "      // Clean up Bokeh references\n",
       "      var cmd = \"from bokeh.io.state import curstate; print(curstate().uuid_to_server['\" + server_id + \"'].get_sessions()[0].document.roots[0]._id)\";\n",
       "      cell.notebook.kernel.execute(cmd, {\n",
       "        iopub: {\n",
       "          output: function(msg) {\n",
       "            var id = msg.content.text.trim();\n",
       "            if (id in Bokeh.index) {\n",
       "              Bokeh.index[id].model.document.clear();\n",
       "              delete Bokeh.index[id];\n",
       "            }\n",
       "          }\n",
       "        }\n",
       "      });\n",
       "      // Destroy server and session\n",
       "      var cmd = \"import bokeh.io.notebook as ion; ion.destroy_server('\" + server_id + \"')\";\n",
       "      cell.notebook.kernel.execute(cmd);\n",
       "    }\n",
       "  }\n",
       "\n",
       "  /**\n",
       "   * Handle when a new output is added\n",
       "   */\n",
       "  function handleAddOutput(event, handle) {\n",
       "    var output_area = handle.output_area;\n",
       "    var output = handle.output;\n",
       "\n",
       "    // limit handleAddOutput to display_data with EXEC_MIME_TYPE content only\n",
       "    if ((output.output_type != \"display_data\") || (!output.data.hasOwnProperty(EXEC_MIME_TYPE))) {\n",
       "      return\n",
       "    }\n",
       "\n",
       "    var toinsert = output_area.element.find(\".\" + CLASS_NAME.split(' ')[0]);\n",
       "\n",
       "    if (output.metadata[EXEC_MIME_TYPE][\"id\"] !== undefined) {\n",
       "      toinsert[toinsert.length - 1].firstChild.textContent = output.data[JS_MIME_TYPE];\n",
       "      // store reference to embed id on output_area\n",
       "      output_area._bokeh_element_id = output.metadata[EXEC_MIME_TYPE][\"id\"];\n",
       "    }\n",
       "    if (output.metadata[EXEC_MIME_TYPE][\"server_id\"] !== undefined) {\n",
       "      var bk_div = document.createElement(\"div\");\n",
       "      bk_div.innerHTML = output.data[HTML_MIME_TYPE];\n",
       "      var script_attrs = bk_div.children[0].attributes;\n",
       "      for (var i = 0; i < script_attrs.length; i++) {\n",
       "        toinsert[toinsert.length - 1].firstChild.setAttribute(script_attrs[i].name, script_attrs[i].value);\n",
       "      }\n",
       "      // store reference to server id on output_area\n",
       "      output_area._bokeh_server_id = output.metadata[EXEC_MIME_TYPE][\"server_id\"];\n",
       "    }\n",
       "  }\n",
       "\n",
       "  function register_renderer(events, OutputArea) {\n",
       "\n",
       "    function append_mime(data, metadata, element) {\n",
       "      // create a DOM node to render to\n",
       "      var toinsert = this.create_output_subarea(\n",
       "        metadata,\n",
       "        CLASS_NAME,\n",
       "        EXEC_MIME_TYPE\n",
       "      );\n",
       "      this.keyboard_manager.register_events(toinsert);\n",
       "      // Render to node\n",
       "      var props = {data: data, metadata: metadata[EXEC_MIME_TYPE]};\n",
       "      render(props, toinsert[toinsert.length - 1]);\n",
       "      element.append(toinsert);\n",
       "      return toinsert\n",
       "    }\n",
       "\n",
       "    /* Handle when an output is cleared or removed */\n",
       "    events.on('clear_output.CodeCell', handleClearOutput);\n",
       "    events.on('delete.Cell', handleClearOutput);\n",
       "\n",
       "    /* Handle when a new output is added */\n",
       "    events.on('output_added.OutputArea', handleAddOutput);\n",
       "\n",
       "    /**\n",
       "     * Register the mime type and append_mime function with output_area\n",
       "     */\n",
       "    OutputArea.prototype.register_mime_type(EXEC_MIME_TYPE, append_mime, {\n",
       "      /* Is output safe? */\n",
       "      safe: true,\n",
       "      /* Index of renderer in `output_area.display_order` */\n",
       "      index: 0\n",
       "    });\n",
       "  }\n",
       "\n",
       "  // register the mime type if in Jupyter Notebook environment and previously unregistered\n",
       "  if (root.Jupyter !== undefined) {\n",
       "    var events = require('base/js/events');\n",
       "    var OutputArea = require('notebook/js/outputarea').OutputArea;\n",
       "\n",
       "    if (OutputArea.prototype.mime_types().indexOf(EXEC_MIME_TYPE) == -1) {\n",
       "      register_renderer(events, OutputArea);\n",
       "    }\n",
       "  }\n",
       "\n",
       "  \n",
       "  if (typeof (root._bokeh_timeout) === \"undefined\" || force === true) {\n",
       "    root._bokeh_timeout = Date.now() + 5000;\n",
       "    root._bokeh_failed_load = false;\n",
       "  }\n",
       "\n",
       "  var NB_LOAD_WARNING = {'data': {'text/html':\n",
       "     \"<div style='background-color: #fdd'>\\n\"+\n",
       "     \"<p>\\n\"+\n",
       "     \"BokehJS does not appear to have successfully loaded. If loading BokehJS from CDN, this \\n\"+\n",
       "     \"may be due to a slow or bad network connection. Possible fixes:\\n\"+\n",
       "     \"</p>\\n\"+\n",
       "     \"<ul>\\n\"+\n",
       "     \"<li>re-rerun `output_notebook()` to attempt to load from CDN again, or</li>\\n\"+\n",
       "     \"<li>use INLINE resources instead, as so:</li>\\n\"+\n",
       "     \"</ul>\\n\"+\n",
       "     \"<code>\\n\"+\n",
       "     \"from bokeh.resources import INLINE\\n\"+\n",
       "     \"output_notebook(resources=INLINE)\\n\"+\n",
       "     \"</code>\\n\"+\n",
       "     \"</div>\"}};\n",
       "\n",
       "  function display_loaded() {\n",
       "    var el = document.getElementById(\"1430\");\n",
       "    if (el != null) {\n",
       "      el.textContent = \"BokehJS is loading...\";\n",
       "    }\n",
       "    if (root.Bokeh !== undefined) {\n",
       "      if (el != null) {\n",
       "        el.textContent = \"BokehJS \" + root.Bokeh.version + \" successfully loaded.\";\n",
       "      }\n",
       "    } else if (Date.now() < root._bokeh_timeout) {\n",
       "      setTimeout(display_loaded, 100)\n",
       "    }\n",
       "  }\n",
       "\n",
       "\n",
       "  function run_callbacks() {\n",
       "    try {\n",
       "      root._bokeh_onload_callbacks.forEach(function(callback) {\n",
       "        if (callback != null)\n",
       "          callback();\n",
       "      });\n",
       "    } finally {\n",
       "      delete root._bokeh_onload_callbacks\n",
       "    }\n",
       "    console.debug(\"Bokeh: all callbacks have finished\");\n",
       "  }\n",
       "\n",
       "  function load_libs(css_urls, js_urls, callback) {\n",
       "    if (css_urls == null) css_urls = [];\n",
       "    if (js_urls == null) js_urls = [];\n",
       "\n",
       "    root._bokeh_onload_callbacks.push(callback);\n",
       "    if (root._bokeh_is_loading > 0) {\n",
       "      console.debug(\"Bokeh: BokehJS is being loaded, scheduling callback at\", now());\n",
       "      return null;\n",
       "    }\n",
       "    if (js_urls == null || js_urls.length === 0) {\n",
       "      run_callbacks();\n",
       "      return null;\n",
       "    }\n",
       "    console.debug(\"Bokeh: BokehJS not loaded, scheduling load and callback at\", now());\n",
       "    root._bokeh_is_loading = css_urls.length + js_urls.length;\n",
       "\n",
       "    function on_load() {\n",
       "      root._bokeh_is_loading--;\n",
       "      if (root._bokeh_is_loading === 0) {\n",
       "        console.debug(\"Bokeh: all BokehJS libraries/stylesheets loaded\");\n",
       "        run_callbacks()\n",
       "      }\n",
       "    }\n",
       "\n",
       "    function on_error() {\n",
       "      console.error(\"failed to load \" + url);\n",
       "    }\n",
       "\n",
       "    for (var i = 0; i < css_urls.length; i++) {\n",
       "      var url = css_urls[i];\n",
       "      const element = document.createElement(\"link\");\n",
       "      element.onload = on_load;\n",
       "      element.onerror = on_error;\n",
       "      element.rel = \"stylesheet\";\n",
       "      element.type = \"text/css\";\n",
       "      element.href = url;\n",
       "      console.debug(\"Bokeh: injecting link tag for BokehJS stylesheet: \", url);\n",
       "      document.body.appendChild(element);\n",
       "    }\n",
       "\n",
       "    for (var i = 0; i < js_urls.length; i++) {\n",
       "      var url = js_urls[i];\n",
       "      var element = document.createElement('script');\n",
       "      element.onload = on_load;\n",
       "      element.onerror = on_error;\n",
       "      element.async = false;\n",
       "      element.src = url;\n",
       "      console.debug(\"Bokeh: injecting script tag for BokehJS library: \", url);\n",
       "      document.head.appendChild(element);\n",
       "    }\n",
       "  };var element = document.getElementById(\"1430\");\n",
       "  if (element == null) {\n",
       "    console.error(\"Bokeh: ERROR: autoload.js configured with elementid '1430' but no matching script tag was found. \")\n",
       "    return false;\n",
       "  }\n",
       "\n",
       "  function inject_raw_css(css) {\n",
       "    const element = document.createElement(\"style\");\n",
       "    element.appendChild(document.createTextNode(css));\n",
       "    document.body.appendChild(element);\n",
       "  }\n",
       "\n",
       "  var js_urls = [\"https://cdn.pydata.org/bokeh/release/bokeh-1.3.4.min.js\", \"https://cdn.pydata.org/bokeh/release/bokeh-widgets-1.3.4.min.js\", \"https://cdn.pydata.org/bokeh/release/bokeh-tables-1.3.4.min.js\", \"https://cdn.pydata.org/bokeh/release/bokeh-gl-1.3.4.min.js\"];\n",
       "  var css_urls = [];\n",
       "\n",
       "  var inline_js = [\n",
       "    function(Bokeh) {\n",
       "      Bokeh.set_log_level(\"info\");\n",
       "    },\n",
       "    \n",
       "    function(Bokeh) {\n",
       "      \n",
       "    },\n",
       "    function(Bokeh) {} // ensure no trailing comma for IE\n",
       "  ];\n",
       "\n",
       "  function run_inline_js() {\n",
       "    \n",
       "    if ((root.Bokeh !== undefined) || (force === true)) {\n",
       "      for (var i = 0; i < inline_js.length; i++) {\n",
       "        inline_js[i].call(root, root.Bokeh);\n",
       "      }if (force === true) {\n",
       "        display_loaded();\n",
       "      }} else if (Date.now() < root._bokeh_timeout) {\n",
       "      setTimeout(run_inline_js, 100);\n",
       "    } else if (!root._bokeh_failed_load) {\n",
       "      console.log(\"Bokeh: BokehJS failed to load within specified timeout.\");\n",
       "      root._bokeh_failed_load = true;\n",
       "    } else if (force !== true) {\n",
       "      var cell = $(document.getElementById(\"1430\")).parents('.cell').data().cell;\n",
       "      cell.output_area.append_execute_result(NB_LOAD_WARNING)\n",
       "    }\n",
       "\n",
       "  }\n",
       "\n",
       "  if (root._bokeh_is_loading === 0) {\n",
       "    console.debug(\"Bokeh: BokehJS loaded, going straight to plotting\");\n",
       "    run_inline_js();\n",
       "  } else {\n",
       "    load_libs(css_urls, js_urls, function() {\n",
       "      console.debug(\"Bokeh: BokehJS plotting callback run at\", now());\n",
       "      run_inline_js();\n",
       "    });\n",
       "  }\n",
       "}(window));"
      ],
      "application/vnd.bokehjs_load.v0+json": "\n(function(root) {\n  function now() {\n    return new Date();\n  }\n\n  var force = true;\n\n  if (typeof root._bokeh_onload_callbacks === \"undefined\" || force === true) {\n    root._bokeh_onload_callbacks = [];\n    root._bokeh_is_loading = undefined;\n  }\n\n  \n\n  \n  if (typeof (root._bokeh_timeout) === \"undefined\" || force === true) {\n    root._bokeh_timeout = Date.now() + 5000;\n    root._bokeh_failed_load = false;\n  }\n\n  var NB_LOAD_WARNING = {'data': {'text/html':\n     \"<div style='background-color: #fdd'>\\n\"+\n     \"<p>\\n\"+\n     \"BokehJS does not appear to have successfully loaded. If loading BokehJS from CDN, this \\n\"+\n     \"may be due to a slow or bad network connection. Possible fixes:\\n\"+\n     \"</p>\\n\"+\n     \"<ul>\\n\"+\n     \"<li>re-rerun `output_notebook()` to attempt to load from CDN again, or</li>\\n\"+\n     \"<li>use INLINE resources instead, as so:</li>\\n\"+\n     \"</ul>\\n\"+\n     \"<code>\\n\"+\n     \"from bokeh.resources import INLINE\\n\"+\n     \"output_notebook(resources=INLINE)\\n\"+\n     \"</code>\\n\"+\n     \"</div>\"}};\n\n  function display_loaded() {\n    var el = document.getElementById(\"1430\");\n    if (el != null) {\n      el.textContent = \"BokehJS is loading...\";\n    }\n    if (root.Bokeh !== undefined) {\n      if (el != null) {\n        el.textContent = \"BokehJS \" + root.Bokeh.version + \" successfully loaded.\";\n      }\n    } else if (Date.now() < root._bokeh_timeout) {\n      setTimeout(display_loaded, 100)\n    }\n  }\n\n\n  function run_callbacks() {\n    try {\n      root._bokeh_onload_callbacks.forEach(function(callback) {\n        if (callback != null)\n          callback();\n      });\n    } finally {\n      delete root._bokeh_onload_callbacks\n    }\n    console.debug(\"Bokeh: all callbacks have finished\");\n  }\n\n  function load_libs(css_urls, js_urls, callback) {\n    if (css_urls == null) css_urls = [];\n    if (js_urls == null) js_urls = [];\n\n    root._bokeh_onload_callbacks.push(callback);\n    if (root._bokeh_is_loading > 0) {\n      console.debug(\"Bokeh: BokehJS is being loaded, scheduling callback at\", now());\n      return null;\n    }\n    if (js_urls == null || js_urls.length === 0) {\n      run_callbacks();\n      return null;\n    }\n    console.debug(\"Bokeh: BokehJS not loaded, scheduling load and callback at\", now());\n    root._bokeh_is_loading = css_urls.length + js_urls.length;\n\n    function on_load() {\n      root._bokeh_is_loading--;\n      if (root._bokeh_is_loading === 0) {\n        console.debug(\"Bokeh: all BokehJS libraries/stylesheets loaded\");\n        run_callbacks()\n      }\n    }\n\n    function on_error() {\n      console.error(\"failed to load \" + url);\n    }\n\n    for (var i = 0; i < css_urls.length; i++) {\n      var url = css_urls[i];\n      const element = document.createElement(\"link\");\n      element.onload = on_load;\n      element.onerror = on_error;\n      element.rel = \"stylesheet\";\n      element.type = \"text/css\";\n      element.href = url;\n      console.debug(\"Bokeh: injecting link tag for BokehJS stylesheet: \", url);\n      document.body.appendChild(element);\n    }\n\n    for (var i = 0; i < js_urls.length; i++) {\n      var url = js_urls[i];\n      var element = document.createElement('script');\n      element.onload = on_load;\n      element.onerror = on_error;\n      element.async = false;\n      element.src = url;\n      console.debug(\"Bokeh: injecting script tag for BokehJS library: \", url);\n      document.head.appendChild(element);\n    }\n  };var element = document.getElementById(\"1430\");\n  if (element == null) {\n    console.error(\"Bokeh: ERROR: autoload.js configured with elementid '1430' but no matching script tag was found. \")\n    return false;\n  }\n\n  function inject_raw_css(css) {\n    const element = document.createElement(\"style\");\n    element.appendChild(document.createTextNode(css));\n    document.body.appendChild(element);\n  }\n\n  var js_urls = [\"https://cdn.pydata.org/bokeh/release/bokeh-1.3.4.min.js\", \"https://cdn.pydata.org/bokeh/release/bokeh-widgets-1.3.4.min.js\", \"https://cdn.pydata.org/bokeh/release/bokeh-tables-1.3.4.min.js\", \"https://cdn.pydata.org/bokeh/release/bokeh-gl-1.3.4.min.js\"];\n  var css_urls = [];\n\n  var inline_js = [\n    function(Bokeh) {\n      Bokeh.set_log_level(\"info\");\n    },\n    \n    function(Bokeh) {\n      \n    },\n    function(Bokeh) {} // ensure no trailing comma for IE\n  ];\n\n  function run_inline_js() {\n    \n    if ((root.Bokeh !== undefined) || (force === true)) {\n      for (var i = 0; i < inline_js.length; i++) {\n        inline_js[i].call(root, root.Bokeh);\n      }if (force === true) {\n        display_loaded();\n      }} else if (Date.now() < root._bokeh_timeout) {\n      setTimeout(run_inline_js, 100);\n    } else if (!root._bokeh_failed_load) {\n      console.log(\"Bokeh: BokehJS failed to load within specified timeout.\");\n      root._bokeh_failed_load = true;\n    } else if (force !== true) {\n      var cell = $(document.getElementById(\"1430\")).parents('.cell').data().cell;\n      cell.output_area.append_execute_result(NB_LOAD_WARNING)\n    }\n\n  }\n\n  if (root._bokeh_is_loading === 0) {\n    console.debug(\"Bokeh: BokehJS loaded, going straight to plotting\");\n    run_inline_js();\n  } else {\n    load_libs(css_urls, js_urls, function() {\n      console.debug(\"Bokeh: BokehJS plotting callback run at\", now());\n      run_inline_js();\n    });\n  }\n}(window));"
     },
     "metadata": {},
     "output_type": "display_data"
    },
    {
     "data": {
      "text/html": [
       "\n",
       "\n",
       "\n",
       "\n",
       "\n",
       "\n",
       "  <div class=\"bk-root\" id=\"3ca49a58-11a3-4d5a-8e8b-295652b4f752\" data-root-id=\"1431\"></div>\n"
      ]
     },
     "metadata": {},
     "output_type": "display_data"
    },
    {
     "data": {
      "application/javascript": [
       "(function(root) {\n",
       "  function embed_document(root) {\n",
       "    \n",
       "  var docs_json = {\"359ca11f-569a-42d1-aab2-41a8efea4de6\":{\"roots\":{\"references\":[{\"attributes\":{\"children\":[{\"id\":\"1001\",\"subtype\":\"Figure\",\"type\":\"Plot\"},{\"id\":\"1040\",\"subtype\":\"Figure\",\"type\":\"Plot\"},{\"id\":\"1079\",\"subtype\":\"Figure\",\"type\":\"Plot\"},{\"id\":\"1118\",\"subtype\":\"Figure\",\"type\":\"Plot\"},{\"id\":\"1157\",\"subtype\":\"Figure\",\"type\":\"Plot\"},{\"id\":\"1196\",\"subtype\":\"Figure\",\"type\":\"Plot\"},{\"id\":\"1235\",\"subtype\":\"Figure\",\"type\":\"Plot\"},{\"id\":\"1274\",\"subtype\":\"Figure\",\"type\":\"Plot\"},{\"id\":\"1313\",\"subtype\":\"Figure\",\"type\":\"Plot\"},{\"id\":\"1352\",\"subtype\":\"Figure\",\"type\":\"Plot\"},{\"id\":\"1391\",\"subtype\":\"Figure\",\"type\":\"Plot\"}]},\"id\":\"1431\",\"type\":\"Column\"},{\"attributes\":{},\"id\":\"1182\",\"type\":\"ResetTool\"},{\"attributes\":{},\"id\":\"1062\",\"type\":\"WheelZoomTool\"},{\"attributes\":{},\"id\":\"1364\",\"type\":\"BasicTicker\"},{\"attributes\":{\"callback\":null,\"data\":{\"x\":[3,3,3,3],\"y\":{\"__ndarray__\":\"AAAAAACARkAAAAAAAABHQAAAAAAAgEZAAAAAAACARkA=\",\"dtype\":\"float64\",\"shape\":[4]}},\"selected\":{\"id\":\"1491\",\"type\":\"Selection\"},\"selection_policy\":{\"id\":\"1492\",\"type\":\"UnionRenderers\"}},\"id\":\"1074\",\"type\":\"ColumnDataSource\"},{\"attributes\":{},\"id\":\"1183\",\"type\":\"HelpTool\"},{\"attributes\":{\"ticker\":{\"id\":\"1364\",\"type\":\"BasicTicker\"}},\"id\":\"1367\",\"type\":\"Grid\"},{\"attributes\":{\"axis_label\":\"Performance\",\"formatter\":{\"id\":\"1447\",\"type\":\"BasicTickFormatter\"},\"ticker\":{\"id\":\"1052\",\"type\":\"BasicTicker\"}},\"id\":\"1051\",\"type\":\"LinearAxis\"},{\"attributes\":{\"active_drag\":\"auto\",\"active_inspect\":\"auto\",\"active_multi\":null,\"active_scroll\":\"auto\",\"active_tap\":\"auto\",\"tools\":[{\"id\":\"1178\",\"type\":\"PanTool\"},{\"id\":\"1179\",\"type\":\"WheelZoomTool\"},{\"id\":\"1180\",\"type\":\"BoxZoomTool\"},{\"id\":\"1181\",\"type\":\"SaveTool\"},{\"id\":\"1182\",\"type\":\"ResetTool\"},{\"id\":\"1183\",\"type\":\"HelpTool\"}]},\"id\":\"1184\",\"type\":\"Toolbar\"},{\"attributes\":{\"axis_label\":\"Pay Rate\",\"formatter\":{\"id\":\"1481\",\"type\":\"BasicTickFormatter\"},\"ticker\":{\"id\":\"1369\",\"type\":\"BasicTicker\"}},\"id\":\"1368\",\"type\":\"LinearAxis\"},{\"attributes\":{\"data_source\":{\"id\":\"1191\",\"type\":\"ColumnDataSource\"},\"glyph\":{\"id\":\"1192\",\"type\":\"Circle\"},\"hover_glyph\":null,\"muted_glyph\":null,\"nonselection_glyph\":{\"id\":\"1193\",\"type\":\"Circle\"},\"selection_glyph\":null,\"view\":{\"id\":\"1195\",\"type\":\"CDSView\"}},\"id\":\"1194\",\"type\":\"GlyphRenderer\"},{\"attributes\":{\"source\":{\"id\":\"1035\",\"type\":\"ColumnDataSource\"}},\"id\":\"1039\",\"type\":\"CDSView\"},{\"attributes\":{},\"id\":\"1369\",\"type\":\"BasicTicker\"},{\"attributes\":{\"source\":{\"id\":\"1191\",\"type\":\"ColumnDataSource\"}},\"id\":\"1195\",\"type\":\"CDSView\"},{\"attributes\":{\"dimension\":1,\"ticker\":{\"id\":\"1369\",\"type\":\"BasicTicker\"}},\"id\":\"1372\",\"type\":\"Grid\"},{\"attributes\":{\"fill_alpha\":{\"value\":0.1},\"fill_color\":{\"value\":\"#1f77b4\"},\"line_alpha\":{\"value\":0.1},\"line_color\":{\"value\":\"#1f77b4\"},\"size\":{\"units\":\"screen\",\"value\":20},\"x\":{\"field\":\"x\"},\"y\":{\"field\":\"y\"}},\"id\":\"1388\",\"type\":\"Circle\"},{\"attributes\":{\"fill_alpha\":{\"value\":0.1},\"fill_color\":{\"value\":\"#1f77b4\"},\"line_alpha\":{\"value\":0.1},\"line_color\":{\"value\":\"#1f77b4\"},\"size\":{\"units\":\"screen\",\"value\":20},\"x\":{\"field\":\"x\"},\"y\":{\"field\":\"y\"}},\"id\":\"1232\",\"type\":\"Circle\"},{\"attributes\":{\"data_source\":{\"id\":\"1035\",\"type\":\"ColumnDataSource\"},\"glyph\":{\"id\":\"1036\",\"type\":\"Circle\"},\"hover_glyph\":null,\"muted_glyph\":null,\"nonselection_glyph\":{\"id\":\"1037\",\"type\":\"Circle\"},\"selection_glyph\":null,\"view\":{\"id\":\"1039\",\"type\":\"CDSView\"}},\"id\":\"1038\",\"type\":\"GlyphRenderer\"},{\"attributes\":{\"text\":\"Pay Rate vs Performance for IT Support, R-Square= 0.5111\"},\"id\":\"1197\",\"type\":\"Title\"},{\"attributes\":{\"fill_alpha\":{\"value\":0.5},\"fill_color\":{\"value\":\"navy\"},\"line_alpha\":{\"value\":0.5},\"line_color\":{\"value\":\"navy\"},\"size\":{\"units\":\"screen\",\"value\":20},\"x\":{\"field\":\"x\"},\"y\":{\"field\":\"y\"}},\"id\":\"1387\",\"type\":\"Circle\"},{\"attributes\":{\"callback\":null},\"id\":\"1199\",\"type\":\"DataRange1d\"},{\"attributes\":{\"active_drag\":\"auto\",\"active_inspect\":\"auto\",\"active_multi\":null,\"active_scroll\":\"auto\",\"active_tap\":\"auto\",\"tools\":[{\"id\":\"1373\",\"type\":\"PanTool\"},{\"id\":\"1374\",\"type\":\"WheelZoomTool\"},{\"id\":\"1375\",\"type\":\"BoxZoomTool\"},{\"id\":\"1376\",\"type\":\"SaveTool\"},{\"id\":\"1377\",\"type\":\"ResetTool\"},{\"id\":\"1378\",\"type\":\"HelpTool\"}]},\"id\":\"1379\",\"type\":\"Toolbar\"},{\"attributes\":{},\"id\":\"1447\",\"type\":\"BasicTickFormatter\"},{\"attributes\":{},\"id\":\"1373\",\"type\":\"PanTool\"},{\"attributes\":{\"callback\":null},\"id\":\"1201\",\"type\":\"DataRange1d\"},{\"attributes\":{},\"id\":\"1374\",\"type\":\"WheelZoomTool\"},{\"attributes\":{},\"id\":\"1203\",\"type\":\"LinearScale\"},{\"attributes\":{},\"id\":\"1064\",\"type\":\"SaveTool\"},{\"attributes\":{\"overlay\":{\"id\":\"1514\",\"type\":\"BoxAnnotation\"}},\"id\":\"1375\",\"type\":\"BoxZoomTool\"},{\"attributes\":{},\"id\":\"1205\",\"type\":\"LinearScale\"},{\"attributes\":{},\"id\":\"1376\",\"type\":\"SaveTool\"},{\"attributes\":{\"axis_label\":\"Performance\",\"formatter\":{\"id\":\"1463\",\"type\":\"BasicTickFormatter\"},\"ticker\":{\"id\":\"1208\",\"type\":\"BasicTicker\"}},\"id\":\"1207\",\"type\":\"LinearAxis\"},{\"attributes\":{},\"id\":\"1377\",\"type\":\"ResetTool\"},{\"attributes\":{},\"id\":\"1208\",\"type\":\"BasicTicker\"},{\"attributes\":{\"fill_alpha\":{\"value\":0.1},\"fill_color\":{\"value\":\"#1f77b4\"},\"line_alpha\":{\"value\":0.1},\"line_color\":{\"value\":\"#1f77b4\"},\"size\":{\"units\":\"screen\",\"value\":20},\"x\":{\"field\":\"x\"},\"y\":{\"field\":\"y\"}},\"id\":\"1076\",\"type\":\"Circle\"},{\"attributes\":{},\"id\":\"1378\",\"type\":\"HelpTool\"},{\"attributes\":{\"ticker\":{\"id\":\"1208\",\"type\":\"BasicTicker\"}},\"id\":\"1211\",\"type\":\"Grid\"},{\"attributes\":{\"overlay\":{\"id\":\"1490\",\"type\":\"BoxAnnotation\"}},\"id\":\"1063\",\"type\":\"BoxZoomTool\"},{\"attributes\":{\"callback\":null},\"id\":\"1045\",\"type\":\"DataRange1d\"},{\"attributes\":{\"ticker\":{\"id\":\"1052\",\"type\":\"BasicTicker\"}},\"id\":\"1055\",\"type\":\"Grid\"},{\"attributes\":{\"axis_label\":\"Pay Rate\",\"formatter\":{\"id\":\"1465\",\"type\":\"BasicTickFormatter\"},\"ticker\":{\"id\":\"1213\",\"type\":\"BasicTicker\"}},\"id\":\"1212\",\"type\":\"LinearAxis\"},{\"attributes\":{\"dimension\":1,\"ticker\":{\"id\":\"1057\",\"type\":\"BasicTicker\"}},\"id\":\"1060\",\"type\":\"Grid\"},{\"attributes\":{\"data_source\":{\"id\":\"1386\",\"type\":\"ColumnDataSource\"},\"glyph\":{\"id\":\"1387\",\"type\":\"Circle\"},\"hover_glyph\":null,\"muted_glyph\":null,\"nonselection_glyph\":{\"id\":\"1388\",\"type\":\"Circle\"},\"selection_glyph\":null,\"view\":{\"id\":\"1390\",\"type\":\"CDSView\"}},\"id\":\"1389\",\"type\":\"GlyphRenderer\"},{\"attributes\":{},\"id\":\"1213\",\"type\":\"BasicTicker\"},{\"attributes\":{\"fill_alpha\":{\"value\":0.5},\"fill_color\":{\"value\":\"navy\"},\"line_alpha\":{\"value\":0.5},\"line_color\":{\"value\":\"navy\"},\"size\":{\"units\":\"screen\",\"value\":20},\"x\":{\"field\":\"x\"},\"y\":{\"field\":\"y\"}},\"id\":\"1075\",\"type\":\"Circle\"},{\"attributes\":{\"source\":{\"id\":\"1386\",\"type\":\"ColumnDataSource\"}},\"id\":\"1390\",\"type\":\"CDSView\"},{\"attributes\":{\"dimension\":1,\"ticker\":{\"id\":\"1213\",\"type\":\"BasicTicker\"}},\"id\":\"1216\",\"type\":\"Grid\"},{\"attributes\":{\"axis_label\":\"Performance\",\"formatter\":{\"id\":\"1443\",\"type\":\"BasicTickFormatter\"},\"ticker\":{\"id\":\"1013\",\"type\":\"BasicTicker\"}},\"id\":\"1012\",\"type\":\"LinearAxis\"},{\"attributes\":{\"fill_alpha\":{\"value\":0.5},\"fill_color\":{\"value\":\"navy\"},\"line_alpha\":{\"value\":0.5},\"line_color\":{\"value\":\"navy\"},\"size\":{\"units\":\"screen\",\"value\":20},\"x\":{\"field\":\"x\"},\"y\":{\"field\":\"y\"}},\"id\":\"1231\",\"type\":\"Circle\"},{\"attributes\":{\"fill_alpha\":{\"value\":0.1},\"fill_color\":{\"value\":\"#1f77b4\"},\"line_alpha\":{\"value\":0.1},\"line_color\":{\"value\":\"#1f77b4\"},\"size\":{\"units\":\"screen\",\"value\":20},\"x\":{\"field\":\"x\"},\"y\":{\"field\":\"y\"}},\"id\":\"1427\",\"type\":\"Circle\"},{\"attributes\":{\"callback\":null},\"id\":\"1006\",\"type\":\"DataRange1d\"},{\"attributes\":{\"text\":\"Pay Rate vs Performance for Software Engineer, R-Square= 0.1433\"},\"id\":\"1392\",\"type\":\"Title\"},{\"attributes\":{},\"id\":\"1065\",\"type\":\"ResetTool\"},{\"attributes\":{\"callback\":null,\"data\":{\"x\":[3,3,4,3],\"y\":{\"__ndarray__\":\"PQrXo3D9PEBmZmZmZmY/QAAAAAAAADpAPQrXo3B9O0A=\",\"dtype\":\"float64\",\"shape\":[4]}},\"selected\":{\"id\":\"1503\",\"type\":\"Selection\"},\"selection_policy\":{\"id\":\"1504\",\"type\":\"UnionRenderers\"}},\"id\":\"1230\",\"type\":\"ColumnDataSource\"},{\"attributes\":{\"active_drag\":\"auto\",\"active_inspect\":\"auto\",\"active_multi\":null,\"active_scroll\":\"auto\",\"active_tap\":\"auto\",\"tools\":[{\"id\":\"1217\",\"type\":\"PanTool\"},{\"id\":\"1218\",\"type\":\"WheelZoomTool\"},{\"id\":\"1219\",\"type\":\"BoxZoomTool\"},{\"id\":\"1220\",\"type\":\"SaveTool\"},{\"id\":\"1221\",\"type\":\"ResetTool\"},{\"id\":\"1222\",\"type\":\"HelpTool\"}]},\"id\":\"1223\",\"type\":\"Toolbar\"},{\"attributes\":{\"callback\":null},\"id\":\"1004\",\"type\":\"DataRange1d\"},{\"attributes\":{\"callback\":null},\"id\":\"1394\",\"type\":\"DataRange1d\"},{\"attributes\":{},\"id\":\"1010\",\"type\":\"LinearScale\"},{\"attributes\":{},\"id\":\"1049\",\"type\":\"LinearScale\"},{\"attributes\":{},\"id\":\"1217\",\"type\":\"PanTool\"},{\"attributes\":{\"axis_label\":\"Pay Rate\",\"formatter\":{\"id\":\"1445\",\"type\":\"BasicTickFormatter\"},\"ticker\":{\"id\":\"1018\",\"type\":\"BasicTicker\"}},\"id\":\"1017\",\"type\":\"LinearAxis\"},{\"attributes\":{\"callback\":null},\"id\":\"1396\",\"type\":\"DataRange1d\"},{\"attributes\":{},\"id\":\"1008\",\"type\":\"LinearScale\"},{\"attributes\":{},\"id\":\"1061\",\"type\":\"PanTool\"},{\"attributes\":{},\"id\":\"1218\",\"type\":\"WheelZoomTool\"},{\"attributes\":{\"text\":\"Pay Rate vs Performance for BI Developer, R-Square= 0.0000\"},\"id\":\"1041\",\"type\":\"Title\"},{\"attributes\":{},\"id\":\"1398\",\"type\":\"LinearScale\"},{\"attributes\":{},\"id\":\"1181\",\"type\":\"SaveTool\"},{\"attributes\":{\"overlay\":{\"id\":\"1502\",\"type\":\"BoxAnnotation\"}},\"id\":\"1219\",\"type\":\"BoxZoomTool\"},{\"attributes\":{},\"id\":\"1298\",\"type\":\"SaveTool\"},{\"attributes\":{},\"id\":\"1400\",\"type\":\"LinearScale\"},{\"attributes\":{},\"id\":\"1013\",\"type\":\"BasicTicker\"},{\"attributes\":{\"ticker\":{\"id\":\"1013\",\"type\":\"BasicTicker\"}},\"id\":\"1016\",\"type\":\"Grid\"},{\"attributes\":{\"axis_label\":\"Pay Rate\",\"formatter\":{\"id\":\"1449\",\"type\":\"BasicTickFormatter\"},\"ticker\":{\"id\":\"1057\",\"type\":\"BasicTicker\"}},\"id\":\"1056\",\"type\":\"LinearAxis\"},{\"attributes\":{},\"id\":\"1220\",\"type\":\"SaveTool\"},{\"attributes\":{\"callback\":null},\"id\":\"1043\",\"type\":\"DataRange1d\"},{\"attributes\":{\"axis_label\":\"Performance\",\"formatter\":{\"id\":\"1483\",\"type\":\"BasicTickFormatter\"},\"ticker\":{\"id\":\"1403\",\"type\":\"BasicTicker\"}},\"id\":\"1402\",\"type\":\"LinearAxis\"},{\"attributes\":{},\"id\":\"1453\",\"type\":\"BasicTickFormatter\"},{\"attributes\":{},\"id\":\"1221\",\"type\":\"ResetTool\"},{\"attributes\":{},\"id\":\"1451\",\"type\":\"BasicTickFormatter\"},{\"attributes\":{},\"id\":\"1403\",\"type\":\"BasicTicker\"},{\"attributes\":{\"active_drag\":\"auto\",\"active_inspect\":\"auto\",\"active_multi\":null,\"active_scroll\":\"auto\",\"active_tap\":\"auto\",\"tools\":[{\"id\":\"1022\",\"type\":\"PanTool\"},{\"id\":\"1023\",\"type\":\"WheelZoomTool\"},{\"id\":\"1024\",\"type\":\"BoxZoomTool\"},{\"id\":\"1025\",\"type\":\"SaveTool\"},{\"id\":\"1026\",\"type\":\"ResetTool\"},{\"id\":\"1027\",\"type\":\"HelpTool\"}]},\"id\":\"1028\",\"type\":\"Toolbar\"},{\"attributes\":{},\"id\":\"1052\",\"type\":\"BasicTicker\"},{\"attributes\":{},\"id\":\"1222\",\"type\":\"HelpTool\"},{\"attributes\":{\"ticker\":{\"id\":\"1403\",\"type\":\"BasicTicker\"}},\"id\":\"1406\",\"type\":\"Grid\"},{\"attributes\":{},\"id\":\"1018\",\"type\":\"BasicTicker\"},{\"attributes\":{\"fill_alpha\":{\"value\":0.1},\"fill_color\":{\"value\":\"#1f77b4\"},\"line_alpha\":{\"value\":0.1},\"line_color\":{\"value\":\"#1f77b4\"},\"size\":{\"units\":\"screen\",\"value\":20},\"x\":{\"field\":\"x\"},\"y\":{\"field\":\"y\"}},\"id\":\"1037\",\"type\":\"Circle\"},{\"attributes\":{\"dimension\":1,\"ticker\":{\"id\":\"1018\",\"type\":\"BasicTicker\"}},\"id\":\"1021\",\"type\":\"Grid\"},{\"attributes\":{},\"id\":\"1057\",\"type\":\"BasicTicker\"},{\"attributes\":{\"axis_label\":\"Pay Rate\",\"formatter\":{\"id\":\"1485\",\"type\":\"BasicTickFormatter\"},\"ticker\":{\"id\":\"1408\",\"type\":\"BasicTicker\"}},\"id\":\"1407\",\"type\":\"LinearAxis\"},{\"attributes\":{},\"id\":\"1047\",\"type\":\"LinearScale\"},{\"attributes\":{\"data_source\":{\"id\":\"1230\",\"type\":\"ColumnDataSource\"},\"glyph\":{\"id\":\"1231\",\"type\":\"Circle\"},\"hover_glyph\":null,\"muted_glyph\":null,\"nonselection_glyph\":{\"id\":\"1232\",\"type\":\"Circle\"},\"selection_glyph\":null,\"view\":{\"id\":\"1234\",\"type\":\"CDSView\"}},\"id\":\"1233\",\"type\":\"GlyphRenderer\"},{\"attributes\":{\"fill_alpha\":{\"value\":0.5},\"fill_color\":{\"value\":\"navy\"},\"line_alpha\":{\"value\":0.5},\"line_color\":{\"value\":\"navy\"},\"size\":{\"units\":\"screen\",\"value\":20},\"x\":{\"field\":\"x\"},\"y\":{\"field\":\"y\"}},\"id\":\"1036\",\"type\":\"Circle\"},{\"attributes\":{\"below\":[{\"id\":\"1090\",\"type\":\"LinearAxis\"}],\"center\":[{\"id\":\"1094\",\"type\":\"Grid\"},{\"id\":\"1099\",\"type\":\"Grid\"}],\"left\":[{\"id\":\"1095\",\"type\":\"LinearAxis\"}],\"plot_height\":500,\"plot_width\":500,\"renderers\":[{\"id\":\"1116\",\"type\":\"GlyphRenderer\"}],\"title\":{\"id\":\"1080\",\"type\":\"Title\"},\"toolbar\":{\"id\":\"1106\",\"type\":\"Toolbar\"},\"x_range\":{\"id\":\"1082\",\"type\":\"DataRange1d\"},\"x_scale\":{\"id\":\"1086\",\"type\":\"LinearScale\"},\"y_range\":{\"id\":\"1084\",\"type\":\"DataRange1d\"},\"y_scale\":{\"id\":\"1088\",\"type\":\"LinearScale\"}},\"id\":\"1079\",\"subtype\":\"Figure\",\"type\":\"Plot\"},{\"attributes\":{},\"id\":\"1449\",\"type\":\"BasicTickFormatter\"},{\"attributes\":{\"source\":{\"id\":\"1230\",\"type\":\"ColumnDataSource\"}},\"id\":\"1234\",\"type\":\"CDSView\"},{\"attributes\":{},\"id\":\"1408\",\"type\":\"BasicTicker\"},{\"attributes\":{\"dimension\":1,\"ticker\":{\"id\":\"1408\",\"type\":\"BasicTicker\"}},\"id\":\"1411\",\"type\":\"Grid\"},{\"attributes\":{},\"id\":\"1463\",\"type\":\"BasicTickFormatter\"},{\"attributes\":{\"below\":[{\"id\":\"1246\",\"type\":\"LinearAxis\"}],\"center\":[{\"id\":\"1250\",\"type\":\"Grid\"},{\"id\":\"1255\",\"type\":\"Grid\"}],\"left\":[{\"id\":\"1251\",\"type\":\"LinearAxis\"}],\"plot_height\":500,\"plot_width\":500,\"renderers\":[{\"id\":\"1272\",\"type\":\"GlyphRenderer\"}],\"title\":{\"id\":\"1236\",\"type\":\"Title\"},\"toolbar\":{\"id\":\"1262\",\"type\":\"Toolbar\"},\"x_range\":{\"id\":\"1238\",\"type\":\"DataRange1d\"},\"x_scale\":{\"id\":\"1242\",\"type\":\"LinearScale\"},\"y_range\":{\"id\":\"1240\",\"type\":\"DataRange1d\"},\"y_scale\":{\"id\":\"1244\",\"type\":\"LinearScale\"}},\"id\":\"1235\",\"subtype\":\"Figure\",\"type\":\"Plot\"},{\"attributes\":{},\"id\":\"1023\",\"type\":\"WheelZoomTool\"},{\"attributes\":{\"below\":[{\"id\":\"1285\",\"type\":\"LinearAxis\"}],\"center\":[{\"id\":\"1289\",\"type\":\"Grid\"},{\"id\":\"1294\",\"type\":\"Grid\"}],\"left\":[{\"id\":\"1290\",\"type\":\"LinearAxis\"}],\"plot_height\":500,\"plot_width\":500,\"renderers\":[{\"id\":\"1311\",\"type\":\"GlyphRenderer\"}],\"title\":{\"id\":\"1275\",\"type\":\"Title\"},\"toolbar\":{\"id\":\"1301\",\"type\":\"Toolbar\"},\"x_range\":{\"id\":\"1277\",\"type\":\"DataRange1d\"},\"x_scale\":{\"id\":\"1281\",\"type\":\"LinearScale\"},\"y_range\":{\"id\":\"1279\",\"type\":\"DataRange1d\"},\"y_scale\":{\"id\":\"1283\",\"type\":\"LinearScale\"}},\"id\":\"1274\",\"subtype\":\"Figure\",\"type\":\"Plot\"},{\"attributes\":{\"callback\":null,\"data\":{\"x\":[4,3,5,3,3,3,3,4,3,3,3,3,3,3,3,1,3,2,3,3,3,3,3,3,4,3,4,3,3,3,4,3,3,3,3,3,3,3,3,3,3,3,3,4,3,4,2,3,3,3,4,5,3,3,3,3,1,3,3,3,3,3],\"y\":{\"__ndarray__\":\"AAAAAAAANEAAAAAAAAA1QAAAAAAAADdAw/UoXI/CMEAAAAAAAAA2QAAAAAAAADBAAAAAAAAANkAAAAAAAAAwQAAAAAAAADRAAAAAAAAAMEAAAAAAAIAzQAAAAAAAADZAAAAAAAAANkAAAAAAAAAuQAAAAAAAAC5AAAAAAAAANEAAAAAAAAA1QAAAAAAAADZAAAAAAADAMEAAAAAAAEA1QAAAAAAAADdAAAAAAAAAOEAAAAAAAAAyQAAAAAAAADhAAAAAAAAAMEAAAAAAAAAxQAAAAAAAADBAAAAAAAAALkAAAAAAAAA4QAAAAAAAADVAAAAAAAAANEAAAAAAAAAwQAAAAAAAADRAAAAAAAAANUAAAAAAAAAzQAAAAAAAADNAAAAAAAAALEAAAAAAAAA1QAAAAAAAADFAAAAAAAAAMUAAAAAAAAA3QAAAAAAAADhAAAAAAAAALkAAAAAAAAAuQAAAAAAAADNAAAAAAAAAMEAAAAAAAAA2QAAAAAAAADFAAAAAAAAAMUAAAAAAAAAwQAAAAAAAADZAAAAAAAAAMUAAAAAAAAAxQAAAAAAAADVAAAAAAAAALkAAAAAAAIA4QAAAAAAAADBAAAAAAAAALEAAAAAAAAA2QAAAAAAAACxAAAAAAAAAOEAAAAAAAAAuQA==\",\"dtype\":\"float64\",\"shape\":[62]}},\"selected\":{\"id\":\"1488\",\"type\":\"Selection\"},\"selection_policy\":{\"id\":\"1489\",\"type\":\"UnionRenderers\"}},\"id\":\"1035\",\"type\":\"ColumnDataSource\"},{\"attributes\":{\"callback\":null,\"data\":{\"x\":[3,3,3],\"y\":{\"__ndarray__\":\"AAAAAAAgSUAAAAAAACBKQAAAAAAAgElA\",\"dtype\":\"float64\",\"shape\":[3]}},\"selected\":{\"id\":\"1506\",\"type\":\"Selection\"},\"selection_policy\":{\"id\":\"1507\",\"type\":\"UnionRenderers\"}},\"id\":\"1269\",\"type\":\"ColumnDataSource\"},{\"attributes\":{\"fill_alpha\":{\"value\":0.5},\"fill_color\":{\"value\":\"navy\"},\"line_alpha\":{\"value\":0.5},\"line_color\":{\"value\":\"navy\"},\"size\":{\"units\":\"screen\",\"value\":20},\"x\":{\"field\":\"x\"},\"y\":{\"field\":\"y\"}},\"id\":\"1426\",\"type\":\"Circle\"},{\"attributes\":{\"text\":\"Pay Rate vs Performance for Senior BI Developer, R-Square= 0.0000\"},\"id\":\"1236\",\"type\":\"Title\"},{\"attributes\":{},\"id\":\"1022\",\"type\":\"PanTool\"},{\"attributes\":{},\"id\":\"1459\",\"type\":\"BasicTickFormatter\"},{\"attributes\":{\"callback\":null,\"data\":{\"x\":[3,3,3,5],\"y\":{\"__ndarray__\":\"zczMzMzMR0DhehSuR8FLQAAAAAAAoEhAAAAAAAAASEA=\",\"dtype\":\"float64\",\"shape\":[4]}},\"selected\":{\"id\":\"1518\",\"type\":\"Selection\"},\"selection_policy\":{\"id\":\"1519\",\"type\":\"UnionRenderers\"}},\"id\":\"1425\",\"type\":\"ColumnDataSource\"},{\"attributes\":{\"callback\":null},\"id\":\"1238\",\"type\":\"DataRange1d\"},{\"attributes\":{\"overlay\":{\"id\":\"1487\",\"type\":\"BoxAnnotation\"}},\"id\":\"1024\",\"type\":\"BoxZoomTool\"},{\"attributes\":{},\"id\":\"1412\",\"type\":\"PanTool\"},{\"attributes\":{\"callback\":null},\"id\":\"1240\",\"type\":\"DataRange1d\"},{\"attributes\":{},\"id\":\"1413\",\"type\":\"WheelZoomTool\"},{\"attributes\":{},\"id\":\"1242\",\"type\":\"LinearScale\"},{\"attributes\":{},\"id\":\"1025\",\"type\":\"SaveTool\"},{\"attributes\":{\"overlay\":{\"id\":\"1517\",\"type\":\"BoxAnnotation\"}},\"id\":\"1414\",\"type\":\"BoxZoomTool\"},{\"attributes\":{},\"id\":\"1244\",\"type\":\"LinearScale\"},{\"attributes\":{},\"id\":\"1026\",\"type\":\"ResetTool\"},{\"attributes\":{},\"id\":\"1415\",\"type\":\"SaveTool\"},{\"attributes\":{\"axis_label\":\"Performance\",\"formatter\":{\"id\":\"1467\",\"type\":\"BasicTickFormatter\"},\"ticker\":{\"id\":\"1247\",\"type\":\"BasicTicker\"}},\"id\":\"1246\",\"type\":\"LinearAxis\"},{\"attributes\":{},\"id\":\"1027\",\"type\":\"HelpTool\"},{\"attributes\":{},\"id\":\"1299\",\"type\":\"ResetTool\"},{\"attributes\":{},\"id\":\"1416\",\"type\":\"ResetTool\"},{\"attributes\":{},\"id\":\"1503\",\"type\":\"Selection\"},{\"attributes\":{},\"id\":\"1066\",\"type\":\"HelpTool\"},{\"attributes\":{},\"id\":\"1130\",\"type\":\"BasicTicker\"},{\"attributes\":{},\"id\":\"1247\",\"type\":\"BasicTicker\"},{\"attributes\":{},\"id\":\"1300\",\"type\":\"HelpTool\"},{\"attributes\":{},\"id\":\"1417\",\"type\":\"HelpTool\"},{\"attributes\":{},\"id\":\"1504\",\"type\":\"UnionRenderers\"},{\"attributes\":{\"ticker\":{\"id\":\"1247\",\"type\":\"BasicTicker\"}},\"id\":\"1250\",\"type\":\"Grid\"},{\"attributes\":{\"ticker\":{\"id\":\"1130\",\"type\":\"BasicTicker\"}},\"id\":\"1133\",\"type\":\"Grid\"},{\"attributes\":{\"active_drag\":\"auto\",\"active_inspect\":\"auto\",\"active_multi\":null,\"active_scroll\":\"auto\",\"active_tap\":\"auto\",\"tools\":[{\"id\":\"1061\",\"type\":\"PanTool\"},{\"id\":\"1062\",\"type\":\"WheelZoomTool\"},{\"id\":\"1063\",\"type\":\"BoxZoomTool\"},{\"id\":\"1064\",\"type\":\"SaveTool\"},{\"id\":\"1065\",\"type\":\"ResetTool\"},{\"id\":\"1066\",\"type\":\"HelpTool\"}]},\"id\":\"1067\",\"type\":\"Toolbar\"},{\"attributes\":{\"bottom_units\":\"screen\",\"fill_alpha\":{\"value\":0.5},\"fill_color\":{\"value\":\"lightgrey\"},\"left_units\":\"screen\",\"level\":\"overlay\",\"line_alpha\":{\"value\":1.0},\"line_color\":{\"value\":\"black\"},\"line_dash\":[4,4],\"line_width\":{\"value\":2},\"render_mode\":\"css\",\"right_units\":\"screen\",\"top_units\":\"screen\"},\"id\":\"1505\",\"type\":\"BoxAnnotation\"},{\"attributes\":{\"axis_label\":\"Pay Rate\",\"formatter\":{\"id\":\"1457\",\"type\":\"BasicTickFormatter\"},\"ticker\":{\"id\":\"1135\",\"type\":\"BasicTicker\"}},\"id\":\"1134\",\"type\":\"LinearAxis\"},{\"attributes\":{\"axis_label\":\"Pay Rate\",\"formatter\":{\"id\":\"1469\",\"type\":\"BasicTickFormatter\"},\"ticker\":{\"id\":\"1252\",\"type\":\"BasicTicker\"}},\"id\":\"1251\",\"type\":\"LinearAxis\"},{\"attributes\":{\"active_drag\":\"auto\",\"active_inspect\":\"auto\",\"active_multi\":null,\"active_scroll\":\"auto\",\"active_tap\":\"auto\",\"tools\":[{\"id\":\"1295\",\"type\":\"PanTool\"},{\"id\":\"1296\",\"type\":\"WheelZoomTool\"},{\"id\":\"1297\",\"type\":\"BoxZoomTool\"},{\"id\":\"1298\",\"type\":\"SaveTool\"},{\"id\":\"1299\",\"type\":\"ResetTool\"},{\"id\":\"1300\",\"type\":\"HelpTool\"}]},\"id\":\"1301\",\"type\":\"Toolbar\"},{\"attributes\":{\"data_source\":{\"id\":\"1074\",\"type\":\"ColumnDataSource\"},\"glyph\":{\"id\":\"1075\",\"type\":\"Circle\"},\"hover_glyph\":null,\"muted_glyph\":null,\"nonselection_glyph\":{\"id\":\"1076\",\"type\":\"Circle\"},\"selection_glyph\":null,\"view\":{\"id\":\"1078\",\"type\":\"CDSView\"}},\"id\":\"1077\",\"type\":\"GlyphRenderer\"},{\"attributes\":{\"active_drag\":\"auto\",\"active_inspect\":\"auto\",\"active_multi\":null,\"active_scroll\":\"auto\",\"active_tap\":\"auto\",\"tools\":[{\"id\":\"1412\",\"type\":\"PanTool\"},{\"id\":\"1413\",\"type\":\"WheelZoomTool\"},{\"id\":\"1414\",\"type\":\"BoxZoomTool\"},{\"id\":\"1415\",\"type\":\"SaveTool\"},{\"id\":\"1416\",\"type\":\"ResetTool\"},{\"id\":\"1417\",\"type\":\"HelpTool\"}]},\"id\":\"1418\",\"type\":\"Toolbar\"},{\"attributes\":{},\"id\":\"1506\",\"type\":\"Selection\"},{\"attributes\":{\"data_source\":{\"id\":\"1308\",\"type\":\"ColumnDataSource\"},\"glyph\":{\"id\":\"1309\",\"type\":\"Circle\"},\"hover_glyph\":null,\"muted_glyph\":null,\"nonselection_glyph\":{\"id\":\"1310\",\"type\":\"Circle\"},\"selection_glyph\":null,\"view\":{\"id\":\"1312\",\"type\":\"CDSView\"}},\"id\":\"1311\",\"type\":\"GlyphRenderer\"},{\"attributes\":{\"data_source\":{\"id\":\"1425\",\"type\":\"ColumnDataSource\"},\"glyph\":{\"id\":\"1426\",\"type\":\"Circle\"},\"hover_glyph\":null,\"muted_glyph\":null,\"nonselection_glyph\":{\"id\":\"1427\",\"type\":\"Circle\"},\"selection_glyph\":null,\"view\":{\"id\":\"1429\",\"type\":\"CDSView\"}},\"id\":\"1428\",\"type\":\"GlyphRenderer\"},{\"attributes\":{},\"id\":\"1135\",\"type\":\"BasicTicker\"},{\"attributes\":{\"callback\":null},\"id\":\"1084\",\"type\":\"DataRange1d\"},{\"attributes\":{\"axis_label\":\"Performance\",\"formatter\":{\"id\":\"1479\",\"type\":\"BasicTickFormatter\"},\"ticker\":{\"id\":\"1364\",\"type\":\"BasicTicker\"}},\"id\":\"1363\",\"type\":\"LinearAxis\"},{\"attributes\":{},\"id\":\"1252\",\"type\":\"BasicTicker\"},{\"attributes\":{\"source\":{\"id\":\"1308\",\"type\":\"ColumnDataSource\"}},\"id\":\"1312\",\"type\":\"CDSView\"},{\"attributes\":{\"dimension\":1,\"ticker\":{\"id\":\"1135\",\"type\":\"BasicTicker\"}},\"id\":\"1138\",\"type\":\"Grid\"},{\"attributes\":{\"dimension\":1,\"ticker\":{\"id\":\"1252\",\"type\":\"BasicTicker\"}},\"id\":\"1255\",\"type\":\"Grid\"},{\"attributes\":{\"source\":{\"id\":\"1425\",\"type\":\"ColumnDataSource\"}},\"id\":\"1429\",\"type\":\"CDSView\"},{\"attributes\":{\"callback\":null},\"id\":\"1082\",\"type\":\"DataRange1d\"},{\"attributes\":{},\"id\":\"1507\",\"type\":\"UnionRenderers\"},{\"attributes\":{\"bottom_units\":\"screen\",\"fill_alpha\":{\"value\":0.5},\"fill_color\":{\"value\":\"lightgrey\"},\"left_units\":\"screen\",\"level\":\"overlay\",\"line_alpha\":{\"value\":1.0},\"line_color\":{\"value\":\"black\"},\"line_dash\":[4,4],\"line_width\":{\"value\":2},\"render_mode\":\"css\",\"right_units\":\"screen\",\"top_units\":\"screen\"},\"id\":\"1508\",\"type\":\"BoxAnnotation\"},{\"attributes\":{\"source\":{\"id\":\"1074\",\"type\":\"ColumnDataSource\"}},\"id\":\"1078\",\"type\":\"CDSView\"},{\"attributes\":{\"fill_alpha\":{\"value\":0.1},\"fill_color\":{\"value\":\"#1f77b4\"},\"line_alpha\":{\"value\":0.1},\"line_color\":{\"value\":\"#1f77b4\"},\"size\":{\"units\":\"screen\",\"value\":20},\"x\":{\"field\":\"x\"},\"y\":{\"field\":\"y\"}},\"id\":\"1154\",\"type\":\"Circle\"},{\"attributes\":{\"fill_alpha\":{\"value\":0.1},\"fill_color\":{\"value\":\"#1f77b4\"},\"line_alpha\":{\"value\":0.1},\"line_color\":{\"value\":\"#1f77b4\"},\"size\":{\"units\":\"screen\",\"value\":20},\"x\":{\"field\":\"x\"},\"y\":{\"field\":\"y\"}},\"id\":\"1271\",\"type\":\"Circle\"},{\"attributes\":{\"fill_alpha\":{\"value\":0.1},\"fill_color\":{\"value\":\"#1f77b4\"},\"line_alpha\":{\"value\":0.1},\"line_color\":{\"value\":\"#1f77b4\"},\"size\":{\"units\":\"screen\",\"value\":20},\"x\":{\"field\":\"x\"},\"y\":{\"field\":\"y\"}},\"id\":\"1349\",\"type\":\"Circle\"},{\"attributes\":{},\"id\":\"1509\",\"type\":\"Selection\"},{\"attributes\":{\"text\":\"Pay Rate vs Performance for Production Technician II, R-Square= 0.0137\"},\"id\":\"1314\",\"type\":\"Title\"},{\"attributes\":{\"fill_alpha\":{\"value\":0.5},\"fill_color\":{\"value\":\"navy\"},\"line_alpha\":{\"value\":0.5},\"line_color\":{\"value\":\"navy\"},\"size\":{\"units\":\"screen\",\"value\":20},\"x\":{\"field\":\"x\"},\"y\":{\"field\":\"y\"}},\"id\":\"1153\",\"type\":\"Circle\"},{\"attributes\":{\"fill_alpha\":{\"value\":0.5},\"fill_color\":{\"value\":\"navy\"},\"line_alpha\":{\"value\":0.5},\"line_color\":{\"value\":\"navy\"},\"size\":{\"units\":\"screen\",\"value\":20},\"x\":{\"field\":\"x\"},\"y\":{\"field\":\"y\"}},\"id\":\"1270\",\"type\":\"Circle\"},{\"attributes\":{},\"id\":\"1457\",\"type\":\"BasicTickFormatter\"},{\"attributes\":{},\"id\":\"1510\",\"type\":\"UnionRenderers\"},{\"attributes\":{\"bottom_units\":\"screen\",\"fill_alpha\":{\"value\":0.5},\"fill_color\":{\"value\":\"lightgrey\"},\"left_units\":\"screen\",\"level\":\"overlay\",\"line_alpha\":{\"value\":1.0},\"line_color\":{\"value\":\"black\"},\"line_dash\":[4,4],\"line_width\":{\"value\":2},\"render_mode\":\"css\",\"right_units\":\"screen\",\"top_units\":\"screen\"},\"id\":\"1511\",\"type\":\"BoxAnnotation\"},{\"attributes\":{\"active_drag\":\"auto\",\"active_inspect\":\"auto\",\"active_multi\":null,\"active_scroll\":\"auto\",\"active_tap\":\"auto\",\"tools\":[{\"id\":\"1139\",\"type\":\"PanTool\"},{\"id\":\"1140\",\"type\":\"WheelZoomTool\"},{\"id\":\"1141\",\"type\":\"BoxZoomTool\"},{\"id\":\"1142\",\"type\":\"SaveTool\"},{\"id\":\"1143\",\"type\":\"ResetTool\"},{\"id\":\"1144\",\"type\":\"HelpTool\"}]},\"id\":\"1145\",\"type\":\"Toolbar\"},{\"attributes\":{\"active_drag\":\"auto\",\"active_inspect\":\"auto\",\"active_multi\":null,\"active_scroll\":\"auto\",\"active_tap\":\"auto\",\"tools\":[{\"id\":\"1256\",\"type\":\"PanTool\"},{\"id\":\"1257\",\"type\":\"WheelZoomTool\"},{\"id\":\"1258\",\"type\":\"BoxZoomTool\"},{\"id\":\"1259\",\"type\":\"SaveTool\"},{\"id\":\"1260\",\"type\":\"ResetTool\"},{\"id\":\"1261\",\"type\":\"HelpTool\"}]},\"id\":\"1262\",\"type\":\"Toolbar\"},{\"attributes\":{\"callback\":null},\"id\":\"1316\",\"type\":\"DataRange1d\"},{\"attributes\":{\"text\":\"Pay Rate vs Performance for Accountant I, R-Square= 0.0000\"},\"id\":\"1080\",\"type\":\"Title\"},{\"attributes\":{\"fill_alpha\":{\"value\":0.1},\"fill_color\":{\"value\":\"#1f77b4\"},\"line_alpha\":{\"value\":0.1},\"line_color\":{\"value\":\"#1f77b4\"},\"size\":{\"units\":\"screen\",\"value\":20},\"x\":{\"field\":\"x\"},\"y\":{\"field\":\"y\"}},\"id\":\"1115\",\"type\":\"Circle\"},{\"attributes\":{},\"id\":\"1139\",\"type\":\"PanTool\"},{\"attributes\":{},\"id\":\"1465\",\"type\":\"BasicTickFormatter\"},{\"attributes\":{\"callback\":null},\"id\":\"1318\",\"type\":\"DataRange1d\"},{\"attributes\":{},\"id\":\"1455\",\"type\":\"BasicTickFormatter\"},{\"attributes\":{},\"id\":\"1256\",\"type\":\"PanTool\"},{\"attributes\":{},\"id\":\"1086\",\"type\":\"LinearScale\"},{\"attributes\":{},\"id\":\"1140\",\"type\":\"WheelZoomTool\"},{\"attributes\":{},\"id\":\"1257\",\"type\":\"WheelZoomTool\"},{\"attributes\":{},\"id\":\"1512\",\"type\":\"Selection\"},{\"attributes\":{},\"id\":\"1088\",\"type\":\"LinearScale\"},{\"attributes\":{},\"id\":\"1320\",\"type\":\"LinearScale\"},{\"attributes\":{\"overlay\":{\"id\":\"1496\",\"type\":\"BoxAnnotation\"}},\"id\":\"1141\",\"type\":\"BoxZoomTool\"},{\"attributes\":{},\"id\":\"1467\",\"type\":\"BasicTickFormatter\"},{\"attributes\":{\"overlay\":{\"id\":\"1505\",\"type\":\"BoxAnnotation\"}},\"id\":\"1258\",\"type\":\"BoxZoomTool\"},{\"attributes\":{},\"id\":\"1513\",\"type\":\"UnionRenderers\"},{\"attributes\":{},\"id\":\"1322\",\"type\":\"LinearScale\"},{\"attributes\":{},\"id\":\"1142\",\"type\":\"SaveTool\"},{\"attributes\":{},\"id\":\"1259\",\"type\":\"SaveTool\"},{\"attributes\":{},\"id\":\"1469\",\"type\":\"BasicTickFormatter\"},{\"attributes\":{\"bottom_units\":\"screen\",\"fill_alpha\":{\"value\":0.5},\"fill_color\":{\"value\":\"lightgrey\"},\"left_units\":\"screen\",\"level\":\"overlay\",\"line_alpha\":{\"value\":1.0},\"line_color\":{\"value\":\"black\"},\"line_dash\":[4,4],\"line_width\":{\"value\":2},\"render_mode\":\"css\",\"right_units\":\"screen\",\"top_units\":\"screen\"},\"id\":\"1514\",\"type\":\"BoxAnnotation\"},{\"attributes\":{\"axis_label\":\"Performance\",\"formatter\":{\"id\":\"1451\",\"type\":\"BasicTickFormatter\"},\"ticker\":{\"id\":\"1091\",\"type\":\"BasicTicker\"}},\"id\":\"1090\",\"type\":\"LinearAxis\"},{\"attributes\":{\"axis_label\":\"Performance\",\"formatter\":{\"id\":\"1475\",\"type\":\"BasicTickFormatter\"},\"ticker\":{\"id\":\"1325\",\"type\":\"BasicTicker\"}},\"id\":\"1324\",\"type\":\"LinearAxis\"},{\"attributes\":{},\"id\":\"1143\",\"type\":\"ResetTool\"},{\"attributes\":{},\"id\":\"1260\",\"type\":\"ResetTool\"},{\"attributes\":{},\"id\":\"1471\",\"type\":\"BasicTickFormatter\"},{\"attributes\":{},\"id\":\"1515\",\"type\":\"Selection\"},{\"attributes\":{},\"id\":\"1091\",\"type\":\"BasicTicker\"},{\"attributes\":{},\"id\":\"1325\",\"type\":\"BasicTicker\"},{\"attributes\":{},\"id\":\"1144\",\"type\":\"HelpTool\"},{\"attributes\":{},\"id\":\"1261\",\"type\":\"HelpTool\"},{\"attributes\":{},\"id\":\"1473\",\"type\":\"BasicTickFormatter\"},{\"attributes\":{},\"id\":\"1516\",\"type\":\"UnionRenderers\"},{\"attributes\":{\"ticker\":{\"id\":\"1091\",\"type\":\"BasicTicker\"}},\"id\":\"1094\",\"type\":\"Grid\"},{\"attributes\":{\"ticker\":{\"id\":\"1325\",\"type\":\"BasicTicker\"}},\"id\":\"1328\",\"type\":\"Grid\"},{\"attributes\":{},\"id\":\"1475\",\"type\":\"BasicTickFormatter\"},{\"attributes\":{\"bottom_units\":\"screen\",\"fill_alpha\":{\"value\":0.5},\"fill_color\":{\"value\":\"lightgrey\"},\"left_units\":\"screen\",\"level\":\"overlay\",\"line_alpha\":{\"value\":1.0},\"line_color\":{\"value\":\"black\"},\"line_dash\":[4,4],\"line_width\":{\"value\":2},\"render_mode\":\"css\",\"right_units\":\"screen\",\"top_units\":\"screen\"},\"id\":\"1517\",\"type\":\"BoxAnnotation\"},{\"attributes\":{\"axis_label\":\"Pay Rate\",\"formatter\":{\"id\":\"1453\",\"type\":\"BasicTickFormatter\"},\"ticker\":{\"id\":\"1096\",\"type\":\"BasicTicker\"}},\"id\":\"1095\",\"type\":\"LinearAxis\"},{\"attributes\":{\"axis_label\":\"Pay Rate\",\"formatter\":{\"id\":\"1477\",\"type\":\"BasicTickFormatter\"},\"ticker\":{\"id\":\"1330\",\"type\":\"BasicTicker\"}},\"id\":\"1329\",\"type\":\"LinearAxis\"},{\"attributes\":{},\"id\":\"1477\",\"type\":\"BasicTickFormatter\"},{\"attributes\":{},\"id\":\"1518\",\"type\":\"Selection\"},{\"attributes\":{\"data_source\":{\"id\":\"1152\",\"type\":\"ColumnDataSource\"},\"glyph\":{\"id\":\"1153\",\"type\":\"Circle\"},\"hover_glyph\":null,\"muted_glyph\":null,\"nonselection_glyph\":{\"id\":\"1154\",\"type\":\"Circle\"},\"selection_glyph\":null,\"view\":{\"id\":\"1156\",\"type\":\"CDSView\"}},\"id\":\"1155\",\"type\":\"GlyphRenderer\"},{\"attributes\":{\"data_source\":{\"id\":\"1269\",\"type\":\"ColumnDataSource\"},\"glyph\":{\"id\":\"1270\",\"type\":\"Circle\"},\"hover_glyph\":null,\"muted_glyph\":null,\"nonselection_glyph\":{\"id\":\"1271\",\"type\":\"Circle\"},\"selection_glyph\":null,\"view\":{\"id\":\"1273\",\"type\":\"CDSView\"}},\"id\":\"1272\",\"type\":\"GlyphRenderer\"},{\"attributes\":{},\"id\":\"1096\",\"type\":\"BasicTicker\"},{\"attributes\":{},\"id\":\"1445\",\"type\":\"BasicTickFormatter\"},{\"attributes\":{\"source\":{\"id\":\"1152\",\"type\":\"ColumnDataSource\"}},\"id\":\"1156\",\"type\":\"CDSView\"},{\"attributes\":{\"source\":{\"id\":\"1269\",\"type\":\"ColumnDataSource\"}},\"id\":\"1273\",\"type\":\"CDSView\"},{\"attributes\":{},\"id\":\"1330\",\"type\":\"BasicTicker\"},{\"attributes\":{\"dimension\":1,\"ticker\":{\"id\":\"1096\",\"type\":\"BasicTicker\"}},\"id\":\"1099\",\"type\":\"Grid\"},{\"attributes\":{\"dimension\":1,\"ticker\":{\"id\":\"1330\",\"type\":\"BasicTicker\"}},\"id\":\"1333\",\"type\":\"Grid\"},{\"attributes\":{},\"id\":\"1479\",\"type\":\"BasicTickFormatter\"},{\"attributes\":{},\"id\":\"1481\",\"type\":\"BasicTickFormatter\"},{\"attributes\":{},\"id\":\"1519\",\"type\":\"UnionRenderers\"},{\"attributes\":{\"below\":[{\"id\":\"1207\",\"type\":\"LinearAxis\"}],\"center\":[{\"id\":\"1211\",\"type\":\"Grid\"},{\"id\":\"1216\",\"type\":\"Grid\"}],\"left\":[{\"id\":\"1212\",\"type\":\"LinearAxis\"}],\"plot_height\":500,\"plot_width\":500,\"renderers\":[{\"id\":\"1233\",\"type\":\"GlyphRenderer\"}],\"title\":{\"id\":\"1197\",\"type\":\"Title\"},\"toolbar\":{\"id\":\"1223\",\"type\":\"Toolbar\"},\"x_range\":{\"id\":\"1199\",\"type\":\"DataRange1d\"},\"x_scale\":{\"id\":\"1203\",\"type\":\"LinearScale\"},\"y_range\":{\"id\":\"1201\",\"type\":\"DataRange1d\"},\"y_scale\":{\"id\":\"1205\",\"type\":\"LinearScale\"}},\"id\":\"1196\",\"subtype\":\"Figure\",\"type\":\"Plot\"},{\"attributes\":{\"below\":[{\"id\":\"1324\",\"type\":\"LinearAxis\"}],\"center\":[{\"id\":\"1328\",\"type\":\"Grid\"},{\"id\":\"1333\",\"type\":\"Grid\"}],\"left\":[{\"id\":\"1329\",\"type\":\"LinearAxis\"}],\"plot_height\":500,\"plot_width\":500,\"renderers\":[{\"id\":\"1350\",\"type\":\"GlyphRenderer\"}],\"title\":{\"id\":\"1314\",\"type\":\"Title\"},\"toolbar\":{\"id\":\"1340\",\"type\":\"Toolbar\"},\"x_range\":{\"id\":\"1316\",\"type\":\"DataRange1d\"},\"x_scale\":{\"id\":\"1320\",\"type\":\"LinearScale\"},\"y_range\":{\"id\":\"1318\",\"type\":\"DataRange1d\"},\"y_scale\":{\"id\":\"1322\",\"type\":\"LinearScale\"}},\"id\":\"1313\",\"subtype\":\"Figure\",\"type\":\"Plot\"},{\"attributes\":{\"fill_alpha\":{\"value\":0.5},\"fill_color\":{\"value\":\"navy\"},\"line_alpha\":{\"value\":0.5},\"line_color\":{\"value\":\"navy\"},\"size\":{\"units\":\"screen\",\"value\":20},\"x\":{\"field\":\"x\"},\"y\":{\"field\":\"y\"}},\"id\":\"1114\",\"type\":\"Circle\"},{\"attributes\":{\"fill_alpha\":{\"value\":0.1},\"fill_color\":{\"value\":\"#1f77b4\"},\"line_alpha\":{\"value\":0.1},\"line_color\":{\"value\":\"#1f77b4\"},\"size\":{\"units\":\"screen\",\"value\":20},\"x\":{\"field\":\"x\"},\"y\":{\"field\":\"y\"}},\"id\":\"1193\",\"type\":\"Circle\"},{\"attributes\":{\"fill_alpha\":{\"value\":0.1},\"fill_color\":{\"value\":\"#1f77b4\"},\"line_alpha\":{\"value\":0.1},\"line_color\":{\"value\":\"#1f77b4\"},\"size\":{\"units\":\"screen\",\"value\":20},\"x\":{\"field\":\"x\"},\"y\":{\"field\":\"y\"}},\"id\":\"1310\",\"type\":\"Circle\"},{\"attributes\":{\"fill_alpha\":{\"value\":0.5},\"fill_color\":{\"value\":\"navy\"},\"line_alpha\":{\"value\":0.5},\"line_color\":{\"value\":\"navy\"},\"size\":{\"units\":\"screen\",\"value\":20},\"x\":{\"field\":\"x\"},\"y\":{\"field\":\"y\"}},\"id\":\"1348\",\"type\":\"Circle\"},{\"attributes\":{\"text\":\"Pay Rate vs Performance for Database Administrator, R-Square= 0.0046\"},\"id\":\"1158\",\"type\":\"Title\"},{\"attributes\":{\"text\":\"Pay Rate vs Performance for Network Engineer, R-Square= 0.0000\"},\"id\":\"1275\",\"type\":\"Title\"},{\"attributes\":{},\"id\":\"1483\",\"type\":\"BasicTickFormatter\"},{\"attributes\":{\"callback\":null,\"data\":{\"x\":[3,3,3],\"y\":{\"__ndarray__\":\"AAAAAACAPEAAAAAAAAA3QAAAAAAAAD1A\",\"dtype\":\"float64\",\"shape\":[3]}},\"selected\":{\"id\":\"1494\",\"type\":\"Selection\"},\"selection_policy\":{\"id\":\"1495\",\"type\":\"UnionRenderers\"}},\"id\":\"1113\",\"type\":\"ColumnDataSource\"},{\"attributes\":{\"callback\":null,\"data\":{\"x\":[2,3,3,3,1,3,3,3,4,5,4,3,5,3,3,3,3,4,3,3,3],\"y\":{\"__ndarray__\":\"AAAAAAAAO0AAAAAAAAA2QAAAAAAAADlAAAAAAAAAOkAAAAAAAAA4QAAAAAAAADtAAAAAAAAAOEAAAAAAAAA4QAAAAAAAgDZAAAAAAAAAOUCamZmZmRk6QAAAAAAAADtAAAAAAAAAOUAAAAAAAAA9QKRwPQrXYzpAAAAAAAAAOkAAAAAAAAA9QAAAAAAAADZAAAAAAAAANkAAAAAAAAA2QAAAAAAAQDhA\",\"dtype\":\"float64\",\"shape\":[21]}},\"selected\":{\"id\":\"1512\",\"type\":\"Selection\"},\"selection_policy\":{\"id\":\"1513\",\"type\":\"UnionRenderers\"}},\"id\":\"1347\",\"type\":\"ColumnDataSource\"},{\"attributes\":{},\"id\":\"1485\",\"type\":\"BasicTickFormatter\"},{\"attributes\":{\"active_drag\":\"auto\",\"active_inspect\":\"auto\",\"active_multi\":null,\"active_scroll\":\"auto\",\"active_tap\":\"auto\",\"tools\":[{\"id\":\"1100\",\"type\":\"PanTool\"},{\"id\":\"1101\",\"type\":\"WheelZoomTool\"},{\"id\":\"1102\",\"type\":\"BoxZoomTool\"},{\"id\":\"1103\",\"type\":\"SaveTool\"},{\"id\":\"1104\",\"type\":\"ResetTool\"},{\"id\":\"1105\",\"type\":\"HelpTool\"}]},\"id\":\"1106\",\"type\":\"Toolbar\"},{\"attributes\":{\"callback\":null},\"id\":\"1160\",\"type\":\"DataRange1d\"},{\"attributes\":{\"callback\":null},\"id\":\"1277\",\"type\":\"DataRange1d\"},{\"attributes\":{\"active_drag\":\"auto\",\"active_inspect\":\"auto\",\"active_multi\":null,\"active_scroll\":\"auto\",\"active_tap\":\"auto\",\"tools\":[{\"id\":\"1334\",\"type\":\"PanTool\"},{\"id\":\"1335\",\"type\":\"WheelZoomTool\"},{\"id\":\"1336\",\"type\":\"BoxZoomTool\"},{\"id\":\"1337\",\"type\":\"SaveTool\"},{\"id\":\"1338\",\"type\":\"ResetTool\"},{\"id\":\"1339\",\"type\":\"HelpTool\"}]},\"id\":\"1340\",\"type\":\"Toolbar\"},{\"attributes\":{},\"id\":\"1100\",\"type\":\"PanTool\"},{\"attributes\":{},\"id\":\"1334\",\"type\":\"PanTool\"},{\"attributes\":{\"bottom_units\":\"screen\",\"fill_alpha\":{\"value\":0.5},\"fill_color\":{\"value\":\"lightgrey\"},\"left_units\":\"screen\",\"level\":\"overlay\",\"line_alpha\":{\"value\":1.0},\"line_color\":{\"value\":\"black\"},\"line_dash\":[4,4],\"line_width\":{\"value\":2},\"render_mode\":\"css\",\"right_units\":\"screen\",\"top_units\":\"screen\"},\"id\":\"1487\",\"type\":\"BoxAnnotation\"},{\"attributes\":{\"callback\":null},\"id\":\"1162\",\"type\":\"DataRange1d\"},{\"attributes\":{\"callback\":null},\"id\":\"1279\",\"type\":\"DataRange1d\"},{\"attributes\":{},\"id\":\"1101\",\"type\":\"WheelZoomTool\"},{\"attributes\":{},\"id\":\"1335\",\"type\":\"WheelZoomTool\"},{\"attributes\":{},\"id\":\"1488\",\"type\":\"Selection\"},{\"attributes\":{},\"id\":\"1164\",\"type\":\"LinearScale\"},{\"attributes\":{},\"id\":\"1281\",\"type\":\"LinearScale\"},{\"attributes\":{\"overlay\":{\"id\":\"1493\",\"type\":\"BoxAnnotation\"}},\"id\":\"1102\",\"type\":\"BoxZoomTool\"},{\"attributes\":{\"overlay\":{\"id\":\"1511\",\"type\":\"BoxAnnotation\"}},\"id\":\"1336\",\"type\":\"BoxZoomTool\"},{\"attributes\":{},\"id\":\"1489\",\"type\":\"UnionRenderers\"},{\"attributes\":{},\"id\":\"1166\",\"type\":\"LinearScale\"},{\"attributes\":{},\"id\":\"1283\",\"type\":\"LinearScale\"},{\"attributes\":{},\"id\":\"1461\",\"type\":\"BasicTickFormatter\"},{\"attributes\":{},\"id\":\"1103\",\"type\":\"SaveTool\"},{\"attributes\":{},\"id\":\"1337\",\"type\":\"SaveTool\"},{\"attributes\":{\"bottom_units\":\"screen\",\"fill_alpha\":{\"value\":0.5},\"fill_color\":{\"value\":\"lightgrey\"},\"left_units\":\"screen\",\"level\":\"overlay\",\"line_alpha\":{\"value\":1.0},\"line_color\":{\"value\":\"black\"},\"line_dash\":[4,4],\"line_width\":{\"value\":2},\"render_mode\":\"css\",\"right_units\":\"screen\",\"top_units\":\"screen\"},\"id\":\"1490\",\"type\":\"BoxAnnotation\"},{\"attributes\":{\"axis_label\":\"Performance\",\"formatter\":{\"id\":\"1459\",\"type\":\"BasicTickFormatter\"},\"ticker\":{\"id\":\"1169\",\"type\":\"BasicTicker\"}},\"id\":\"1168\",\"type\":\"LinearAxis\"},{\"attributes\":{\"axis_label\":\"Performance\",\"formatter\":{\"id\":\"1471\",\"type\":\"BasicTickFormatter\"},\"ticker\":{\"id\":\"1286\",\"type\":\"BasicTicker\"}},\"id\":\"1285\",\"type\":\"LinearAxis\"},{\"attributes\":{},\"id\":\"1443\",\"type\":\"BasicTickFormatter\"},{\"attributes\":{},\"id\":\"1104\",\"type\":\"ResetTool\"},{\"attributes\":{},\"id\":\"1338\",\"type\":\"ResetTool\"},{\"attributes\":{},\"id\":\"1491\",\"type\":\"Selection\"},{\"attributes\":{},\"id\":\"1169\",\"type\":\"BasicTicker\"},{\"attributes\":{},\"id\":\"1286\",\"type\":\"BasicTicker\"},{\"attributes\":{},\"id\":\"1105\",\"type\":\"HelpTool\"},{\"attributes\":{},\"id\":\"1339\",\"type\":\"HelpTool\"},{\"attributes\":{},\"id\":\"1492\",\"type\":\"UnionRenderers\"},{\"attributes\":{\"ticker\":{\"id\":\"1169\",\"type\":\"BasicTicker\"}},\"id\":\"1172\",\"type\":\"Grid\"},{\"attributes\":{\"ticker\":{\"id\":\"1286\",\"type\":\"BasicTicker\"}},\"id\":\"1289\",\"type\":\"Grid\"},{\"attributes\":{\"bottom_units\":\"screen\",\"fill_alpha\":{\"value\":0.5},\"fill_color\":{\"value\":\"lightgrey\"},\"left_units\":\"screen\",\"level\":\"overlay\",\"line_alpha\":{\"value\":1.0},\"line_color\":{\"value\":\"black\"},\"line_dash\":[4,4],\"line_width\":{\"value\":2},\"render_mode\":\"css\",\"right_units\":\"screen\",\"top_units\":\"screen\"},\"id\":\"1493\",\"type\":\"BoxAnnotation\"},{\"attributes\":{\"below\":[{\"id\":\"1012\",\"type\":\"LinearAxis\"}],\"center\":[{\"id\":\"1016\",\"type\":\"Grid\"},{\"id\":\"1021\",\"type\":\"Grid\"}],\"left\":[{\"id\":\"1017\",\"type\":\"LinearAxis\"}],\"plot_height\":500,\"plot_width\":500,\"renderers\":[{\"id\":\"1038\",\"type\":\"GlyphRenderer\"}],\"title\":{\"id\":\"1002\",\"type\":\"Title\"},\"toolbar\":{\"id\":\"1028\",\"type\":\"Toolbar\"},\"x_range\":{\"id\":\"1004\",\"type\":\"DataRange1d\"},\"x_scale\":{\"id\":\"1008\",\"type\":\"LinearScale\"},\"y_range\":{\"id\":\"1006\",\"type\":\"DataRange1d\"},\"y_scale\":{\"id\":\"1010\",\"type\":\"LinearScale\"}},\"id\":\"1001\",\"subtype\":\"Figure\",\"type\":\"Plot\"},{\"attributes\":{\"axis_label\":\"Pay Rate\",\"formatter\":{\"id\":\"1461\",\"type\":\"BasicTickFormatter\"},\"ticker\":{\"id\":\"1174\",\"type\":\"BasicTicker\"}},\"id\":\"1173\",\"type\":\"LinearAxis\"},{\"attributes\":{\"axis_label\":\"Pay Rate\",\"formatter\":{\"id\":\"1473\",\"type\":\"BasicTickFormatter\"},\"ticker\":{\"id\":\"1291\",\"type\":\"BasicTicker\"}},\"id\":\"1290\",\"type\":\"LinearAxis\"},{\"attributes\":{},\"id\":\"1494\",\"type\":\"Selection\"},{\"attributes\":{\"data_source\":{\"id\":\"1113\",\"type\":\"ColumnDataSource\"},\"glyph\":{\"id\":\"1114\",\"type\":\"Circle\"},\"hover_glyph\":null,\"muted_glyph\":null,\"nonselection_glyph\":{\"id\":\"1115\",\"type\":\"Circle\"},\"selection_glyph\":null,\"view\":{\"id\":\"1117\",\"type\":\"CDSView\"}},\"id\":\"1116\",\"type\":\"GlyphRenderer\"},{\"attributes\":{\"data_source\":{\"id\":\"1347\",\"type\":\"ColumnDataSource\"},\"glyph\":{\"id\":\"1348\",\"type\":\"Circle\"},\"hover_glyph\":null,\"muted_glyph\":null,\"nonselection_glyph\":{\"id\":\"1349\",\"type\":\"Circle\"},\"selection_glyph\":null,\"view\":{\"id\":\"1351\",\"type\":\"CDSView\"}},\"id\":\"1350\",\"type\":\"GlyphRenderer\"},{\"attributes\":{},\"id\":\"1174\",\"type\":\"BasicTicker\"},{\"attributes\":{\"source\":{\"id\":\"1113\",\"type\":\"ColumnDataSource\"}},\"id\":\"1117\",\"type\":\"CDSView\"},{\"attributes\":{},\"id\":\"1291\",\"type\":\"BasicTicker\"},{\"attributes\":{\"source\":{\"id\":\"1347\",\"type\":\"ColumnDataSource\"}},\"id\":\"1351\",\"type\":\"CDSView\"},{\"attributes\":{},\"id\":\"1495\",\"type\":\"UnionRenderers\"},{\"attributes\":{\"dimension\":1,\"ticker\":{\"id\":\"1174\",\"type\":\"BasicTicker\"}},\"id\":\"1177\",\"type\":\"Grid\"},{\"attributes\":{\"dimension\":1,\"ticker\":{\"id\":\"1291\",\"type\":\"BasicTicker\"}},\"id\":\"1294\",\"type\":\"Grid\"},{\"attributes\":{\"below\":[{\"id\":\"1129\",\"type\":\"LinearAxis\"}],\"center\":[{\"id\":\"1133\",\"type\":\"Grid\"},{\"id\":\"1138\",\"type\":\"Grid\"}],\"left\":[{\"id\":\"1134\",\"type\":\"LinearAxis\"}],\"plot_height\":500,\"plot_width\":500,\"renderers\":[{\"id\":\"1155\",\"type\":\"GlyphRenderer\"}],\"title\":{\"id\":\"1119\",\"type\":\"Title\"},\"toolbar\":{\"id\":\"1145\",\"type\":\"Toolbar\"},\"x_range\":{\"id\":\"1121\",\"type\":\"DataRange1d\"},\"x_scale\":{\"id\":\"1125\",\"type\":\"LinearScale\"},\"y_range\":{\"id\":\"1123\",\"type\":\"DataRange1d\"},\"y_scale\":{\"id\":\"1127\",\"type\":\"LinearScale\"}},\"id\":\"1118\",\"subtype\":\"Figure\",\"type\":\"Plot\"},{\"attributes\":{\"below\":[{\"id\":\"1363\",\"type\":\"LinearAxis\"}],\"center\":[{\"id\":\"1367\",\"type\":\"Grid\"},{\"id\":\"1372\",\"type\":\"Grid\"}],\"left\":[{\"id\":\"1368\",\"type\":\"LinearAxis\"}],\"plot_height\":500,\"plot_width\":500,\"renderers\":[{\"id\":\"1389\",\"type\":\"GlyphRenderer\"}],\"title\":{\"id\":\"1353\",\"type\":\"Title\"},\"toolbar\":{\"id\":\"1379\",\"type\":\"Toolbar\"},\"x_range\":{\"id\":\"1355\",\"type\":\"DataRange1d\"},\"x_scale\":{\"id\":\"1359\",\"type\":\"LinearScale\"},\"y_range\":{\"id\":\"1357\",\"type\":\"DataRange1d\"},\"y_scale\":{\"id\":\"1361\",\"type\":\"LinearScale\"}},\"id\":\"1352\",\"subtype\":\"Figure\",\"type\":\"Plot\"},{\"attributes\":{\"bottom_units\":\"screen\",\"fill_alpha\":{\"value\":0.5},\"fill_color\":{\"value\":\"lightgrey\"},\"left_units\":\"screen\",\"level\":\"overlay\",\"line_alpha\":{\"value\":1.0},\"line_color\":{\"value\":\"black\"},\"line_dash\":[4,4],\"line_width\":{\"value\":2},\"render_mode\":\"css\",\"right_units\":\"screen\",\"top_units\":\"screen\"},\"id\":\"1496\",\"type\":\"BoxAnnotation\"},{\"attributes\":{\"below\":[{\"id\":\"1168\",\"type\":\"LinearAxis\"}],\"center\":[{\"id\":\"1172\",\"type\":\"Grid\"},{\"id\":\"1177\",\"type\":\"Grid\"}],\"left\":[{\"id\":\"1173\",\"type\":\"LinearAxis\"}],\"plot_height\":500,\"plot_width\":500,\"renderers\":[{\"id\":\"1194\",\"type\":\"GlyphRenderer\"}],\"title\":{\"id\":\"1158\",\"type\":\"Title\"},\"toolbar\":{\"id\":\"1184\",\"type\":\"Toolbar\"},\"x_range\":{\"id\":\"1160\",\"type\":\"DataRange1d\"},\"x_scale\":{\"id\":\"1164\",\"type\":\"LinearScale\"},\"y_range\":{\"id\":\"1162\",\"type\":\"DataRange1d\"},\"y_scale\":{\"id\":\"1166\",\"type\":\"LinearScale\"}},\"id\":\"1157\",\"subtype\":\"Figure\",\"type\":\"Plot\"},{\"attributes\":{\"callback\":null,\"data\":{\"x\":[3,3,4,1,3,3,3,3,1,3,3,3,2,3,3,3,4,3,3,3,3],\"y\":{\"__ndarray__\":\"AAAAAACAS0AAAAAAAIBLQAAAAAAAgEtAAAAAAACAS0AAAAAAAABMQAAAAAAAgEtAAAAAAADAS0AAAAAAAMBLQAAAAAAAAExAAAAAAACAS0AAAAAAAIBLQAAAAAAAAExAAAAAAACAS0AAAAAAAIBLQAAAAAAAgExAAAAAAACAS0AAAAAAAIBLQAAAAAAAAEtAAAAAAACAS0AAAAAAAIBLQAAAAAAAAExA\",\"dtype\":\"float64\",\"shape\":[21]}},\"selected\":{\"id\":\"1515\",\"type\":\"Selection\"},\"selection_policy\":{\"id\":\"1516\",\"type\":\"UnionRenderers\"}},\"id\":\"1386\",\"type\":\"ColumnDataSource\"},{\"attributes\":{\"below\":[{\"id\":\"1402\",\"type\":\"LinearAxis\"}],\"center\":[{\"id\":\"1406\",\"type\":\"Grid\"},{\"id\":\"1411\",\"type\":\"Grid\"}],\"left\":[{\"id\":\"1407\",\"type\":\"LinearAxis\"}],\"plot_height\":500,\"plot_width\":500,\"renderers\":[{\"id\":\"1428\",\"type\":\"GlyphRenderer\"}],\"title\":{\"id\":\"1392\",\"type\":\"Title\"},\"toolbar\":{\"id\":\"1418\",\"type\":\"Toolbar\"},\"x_range\":{\"id\":\"1394\",\"type\":\"DataRange1d\"},\"x_scale\":{\"id\":\"1398\",\"type\":\"LinearScale\"},\"y_range\":{\"id\":\"1396\",\"type\":\"DataRange1d\"},\"y_scale\":{\"id\":\"1400\",\"type\":\"LinearScale\"}},\"id\":\"1391\",\"subtype\":\"Figure\",\"type\":\"Plot\"},{\"attributes\":{\"callback\":null,\"data\":{\"x\":[3,4,3,3,4,3,3,2,3],\"y\":{\"__ndarray__\":\"AAAAAABAS0AAAAAAAIBLQAAAAAAAgElAAAAAAAAAS0AAAAAAAIBLQAAAAAAAgEpAAAAAAAAASkAAAAAAAIBKQAAAAAAAgEtA\",\"dtype\":\"float64\",\"shape\":[9]}},\"selected\":{\"id\":\"1497\",\"type\":\"Selection\"},\"selection_policy\":{\"id\":\"1498\",\"type\":\"UnionRenderers\"}},\"id\":\"1152\",\"type\":\"ColumnDataSource\"},{\"attributes\":{\"fill_alpha\":{\"value\":0.5},\"fill_color\":{\"value\":\"navy\"},\"line_alpha\":{\"value\":0.5},\"line_color\":{\"value\":\"navy\"},\"size\":{\"units\":\"screen\",\"value\":20},\"x\":{\"field\":\"x\"},\"y\":{\"field\":\"y\"}},\"id\":\"1192\",\"type\":\"Circle\"},{\"attributes\":{\"fill_alpha\":{\"value\":0.5},\"fill_color\":{\"value\":\"navy\"},\"line_alpha\":{\"value\":0.5},\"line_color\":{\"value\":\"navy\"},\"size\":{\"units\":\"screen\",\"value\":20},\"x\":{\"field\":\"x\"},\"y\":{\"field\":\"y\"}},\"id\":\"1309\",\"type\":\"Circle\"},{\"attributes\":{\"text\":\"Pay Rate vs Performance for Production Manager, R-Square= 0.2354\"},\"id\":\"1119\",\"type\":\"Title\"},{\"attributes\":{\"text\":\"Pay Rate vs Performance for Area Sales Manager, R-Square= 0.0159\"},\"id\":\"1353\",\"type\":\"Title\"},{\"attributes\":{},\"id\":\"1497\",\"type\":\"Selection\"},{\"attributes\":{\"callback\":null,\"data\":{\"x\":[5,5,3],\"y\":{\"__ndarray__\":\"AAAAAADAQUAAAAAAAGBFQGZmZmZmxkNA\",\"dtype\":\"float64\",\"shape\":[3]}},\"selected\":{\"id\":\"1500\",\"type\":\"Selection\"},\"selection_policy\":{\"id\":\"1501\",\"type\":\"UnionRenderers\"}},\"id\":\"1191\",\"type\":\"ColumnDataSource\"},{\"attributes\":{\"callback\":null,\"data\":{\"x\":[3,3,3],\"y\":{\"__ndarray__\":\"AAAAAACAQ0AAAAAAAAA7QAAAAAAAgEdA\",\"dtype\":\"float64\",\"shape\":[3]}},\"selected\":{\"id\":\"1509\",\"type\":\"Selection\"},\"selection_policy\":{\"id\":\"1510\",\"type\":\"UnionRenderers\"}},\"id\":\"1308\",\"type\":\"ColumnDataSource\"},{\"attributes\":{},\"id\":\"1498\",\"type\":\"UnionRenderers\"},{\"attributes\":{\"callback\":null},\"id\":\"1121\",\"type\":\"DataRange1d\"},{\"attributes\":{\"callback\":null},\"id\":\"1355\",\"type\":\"DataRange1d\"},{\"attributes\":{},\"id\":\"1178\",\"type\":\"PanTool\"},{\"attributes\":{},\"id\":\"1295\",\"type\":\"PanTool\"},{\"attributes\":{\"bottom_units\":\"screen\",\"fill_alpha\":{\"value\":0.5},\"fill_color\":{\"value\":\"lightgrey\"},\"left_units\":\"screen\",\"level\":\"overlay\",\"line_alpha\":{\"value\":1.0},\"line_color\":{\"value\":\"black\"},\"line_dash\":[4,4],\"line_width\":{\"value\":2},\"render_mode\":\"css\",\"right_units\":\"screen\",\"top_units\":\"screen\"},\"id\":\"1499\",\"type\":\"BoxAnnotation\"},{\"attributes\":{\"callback\":null},\"id\":\"1123\",\"type\":\"DataRange1d\"},{\"attributes\":{\"callback\":null},\"id\":\"1357\",\"type\":\"DataRange1d\"},{\"attributes\":{},\"id\":\"1179\",\"type\":\"WheelZoomTool\"},{\"attributes\":{},\"id\":\"1296\",\"type\":\"WheelZoomTool\"},{\"attributes\":{},\"id\":\"1500\",\"type\":\"Selection\"},{\"attributes\":{\"bottom_units\":\"screen\",\"fill_alpha\":{\"value\":0.5},\"fill_color\":{\"value\":\"lightgrey\"},\"left_units\":\"screen\",\"level\":\"overlay\",\"line_alpha\":{\"value\":1.0},\"line_color\":{\"value\":\"black\"},\"line_dash\":[4,4],\"line_width\":{\"value\":2},\"render_mode\":\"css\",\"right_units\":\"screen\",\"top_units\":\"screen\"},\"id\":\"1502\",\"type\":\"BoxAnnotation\"},{\"attributes\":{},\"id\":\"1125\",\"type\":\"LinearScale\"},{\"attributes\":{},\"id\":\"1359\",\"type\":\"LinearScale\"},{\"attributes\":{\"text\":\"Pay Rate vs Performance for Production Technician I, R-Square= 0.0048\"},\"id\":\"1002\",\"type\":\"Title\"},{\"attributes\":{\"overlay\":{\"id\":\"1499\",\"type\":\"BoxAnnotation\"}},\"id\":\"1180\",\"type\":\"BoxZoomTool\"},{\"attributes\":{\"overlay\":{\"id\":\"1508\",\"type\":\"BoxAnnotation\"}},\"id\":\"1297\",\"type\":\"BoxZoomTool\"},{\"attributes\":{},\"id\":\"1501\",\"type\":\"UnionRenderers\"},{\"attributes\":{},\"id\":\"1127\",\"type\":\"LinearScale\"},{\"attributes\":{},\"id\":\"1361\",\"type\":\"LinearScale\"},{\"attributes\":{\"below\":[{\"id\":\"1051\",\"type\":\"LinearAxis\"}],\"center\":[{\"id\":\"1055\",\"type\":\"Grid\"},{\"id\":\"1060\",\"type\":\"Grid\"}],\"left\":[{\"id\":\"1056\",\"type\":\"LinearAxis\"}],\"plot_height\":500,\"plot_width\":500,\"renderers\":[{\"id\":\"1077\",\"type\":\"GlyphRenderer\"}],\"title\":{\"id\":\"1041\",\"type\":\"Title\"},\"toolbar\":{\"id\":\"1067\",\"type\":\"Toolbar\"},\"x_range\":{\"id\":\"1043\",\"type\":\"DataRange1d\"},\"x_scale\":{\"id\":\"1047\",\"type\":\"LinearScale\"},\"y_range\":{\"id\":\"1045\",\"type\":\"DataRange1d\"},\"y_scale\":{\"id\":\"1049\",\"type\":\"LinearScale\"}},\"id\":\"1040\",\"subtype\":\"Figure\",\"type\":\"Plot\"},{\"attributes\":{\"axis_label\":\"Performance\",\"formatter\":{\"id\":\"1455\",\"type\":\"BasicTickFormatter\"},\"ticker\":{\"id\":\"1130\",\"type\":\"BasicTicker\"}},\"id\":\"1129\",\"type\":\"LinearAxis\"}],\"root_ids\":[\"1431\"]},\"title\":\"Bokeh Application\",\"version\":\"1.3.4\"}};\n",
       "  var render_items = [{\"docid\":\"359ca11f-569a-42d1-aab2-41a8efea4de6\",\"roots\":{\"1431\":\"3ca49a58-11a3-4d5a-8e8b-295652b4f752\"}}];\n",
       "  root.Bokeh.embed.embed_items_notebook(docs_json, render_items);\n",
       "\n",
       "  }\n",
       "  if (root.Bokeh !== undefined) {\n",
       "    embed_document(root);\n",
       "  } else {\n",
       "    var attempts = 0;\n",
       "    var timer = setInterval(function(root) {\n",
       "      if (root.Bokeh !== undefined) {\n",
       "        embed_document(root);\n",
       "        clearInterval(timer);\n",
       "      }\n",
       "      attempts++;\n",
       "      if (attempts > 100) {\n",
       "        console.log(\"Bokeh: ERROR: Unable to run BokehJS code because BokehJS library is missing\");\n",
       "        clearInterval(timer);\n",
       "      }\n",
       "    }, 10, root)\n",
       "  }\n",
       "})(window);"
      ],
      "application/vnd.bokehjs_exec.v0+json": ""
     },
     "metadata": {
      "application/vnd.bokehjs_exec.v0+json": {
       "id": "1431"
      }
     },
     "output_type": "display_data"
    }
   ],
   "source": [
    "#Perform regression and data visualization for each position\n",
    "list_of_r2 = []\n",
    "list_of_plots = []\n",
    "\n",
    "for position in regression_position_pay_perf:\n",
    "    r_sq = get_r_squared(regression_position_pay_perf, position)\n",
    "\n",
    "    list_of_r2.append(r_sq)\n",
    "    p = scatter_plot_graph(regression_position_pay_perf,position,r_sq,\"Performance\")\n",
    "    list_of_plots.append(p)\n",
    "\n",
    "output_notebook()\n",
    "show(column(list_of_plots))"
   ]
  },
  {
   "cell_type": "code",
   "execution_count": 8,
   "metadata": {},
   "outputs": [
    {
     "name": "stdout",
     "output_type": "stream",
     "text": [
      "The average R-squared value is 0.08.\n"
     ]
    }
   ],
   "source": [
    "print(\"The average R-squared value is %.2f.\" %(sum(list_of_r2)/len(list_of_r2)))"
   ]
  },
  {
   "cell_type": "markdown",
   "metadata": {},
   "source": [
    "Based on the scatter plots and R-squared values of each position, it seems that high performance score rarely correlated with higher pay rate. The variability in the pay rate for each position is not explained by their performance.\n",
    "\n",
    "The position with the highest R-squared is IT Support, but looking at the scatter plot, the employee who had a higher performance score in fact earned the lowest.\n",
    "\n",
    "This could be a problem that the HR department could look into - to discuss if it is necessary to implement a compensation or bonus system that rewards higher performance.\n",
    "\n",
    "Since performance doesnt explain the variability in pay rate for each position, then what does? Could it be seniority? Let's look at the data of Number of Days that that employee has worked for the company and the corresponding pay rate."
   ]
  },
  {
   "cell_type": "markdown",
   "metadata": {},
   "source": [
    "# Do employees who have worked longer receive a higher pay rate?"
   ]
  },
  {
   "cell_type": "code",
   "execution_count": 9,
   "metadata": {
    "collapsed": true
   },
   "outputs": [],
   "source": [
    "#A Dictionary where key is position, value is a list of pay and days employed\n",
    "position_pay_seniority = {}\n",
    "\n",
    "#Populate the dictionary above using a for loop\n",
    "for position in get_set_of_column(\"Position\"):\n",
    "    for employee in data.dict:\n",
    "        if employee[\"Position\"] == position and employee[\"Employment Status\"] == \"Active\":\n",
    "            pay_seniority = (float(employee[\"Pay Rate\"]), employee[\"Days Employed\"])\n",
    "            append_dict(position_pay_seniority,position,pay_seniority)\n",
    "    \n",
    "#Once again we weed out those positions with data points < 2\n",
    "new_position_pay_seniority = {}\n",
    "\n",
    "for po in position_pay_seniority:\n",
    "    if len(position_pay_seniority[po]) > 2:\n",
    "        new_position_pay_seniority[po] = position_pay_seniority[po]"
   ]
  },
  {
   "cell_type": "code",
   "execution_count": 10,
   "metadata": {},
   "outputs": [
    {
     "data": {
      "text/html": [
       "\n",
       "    <div class=\"bk-root\">\n",
       "        <a href=\"https://bokeh.pydata.org\" target=\"_blank\" class=\"bk-logo bk-logo-small bk-logo-notebook\"></a>\n",
       "        <span id=\"2477\">Loading BokehJS ...</span>\n",
       "    </div>"
      ]
     },
     "metadata": {},
     "output_type": "display_data"
    },
    {
     "data": {
      "application/javascript": [
       "\n",
       "(function(root) {\n",
       "  function now() {\n",
       "    return new Date();\n",
       "  }\n",
       "\n",
       "  var force = true;\n",
       "\n",
       "  if (typeof root._bokeh_onload_callbacks === \"undefined\" || force === true) {\n",
       "    root._bokeh_onload_callbacks = [];\n",
       "    root._bokeh_is_loading = undefined;\n",
       "  }\n",
       "\n",
       "  var JS_MIME_TYPE = 'application/javascript';\n",
       "  var HTML_MIME_TYPE = 'text/html';\n",
       "  var EXEC_MIME_TYPE = 'application/vnd.bokehjs_exec.v0+json';\n",
       "  var CLASS_NAME = 'output_bokeh rendered_html';\n",
       "\n",
       "  /**\n",
       "   * Render data to the DOM node\n",
       "   */\n",
       "  function render(props, node) {\n",
       "    var script = document.createElement(\"script\");\n",
       "    node.appendChild(script);\n",
       "  }\n",
       "\n",
       "  /**\n",
       "   * Handle when an output is cleared or removed\n",
       "   */\n",
       "  function handleClearOutput(event, handle) {\n",
       "    var cell = handle.cell;\n",
       "\n",
       "    var id = cell.output_area._bokeh_element_id;\n",
       "    var server_id = cell.output_area._bokeh_server_id;\n",
       "    // Clean up Bokeh references\n",
       "    if (id != null && id in Bokeh.index) {\n",
       "      Bokeh.index[id].model.document.clear();\n",
       "      delete Bokeh.index[id];\n",
       "    }\n",
       "\n",
       "    if (server_id !== undefined) {\n",
       "      // Clean up Bokeh references\n",
       "      var cmd = \"from bokeh.io.state import curstate; print(curstate().uuid_to_server['\" + server_id + \"'].get_sessions()[0].document.roots[0]._id)\";\n",
       "      cell.notebook.kernel.execute(cmd, {\n",
       "        iopub: {\n",
       "          output: function(msg) {\n",
       "            var id = msg.content.text.trim();\n",
       "            if (id in Bokeh.index) {\n",
       "              Bokeh.index[id].model.document.clear();\n",
       "              delete Bokeh.index[id];\n",
       "            }\n",
       "          }\n",
       "        }\n",
       "      });\n",
       "      // Destroy server and session\n",
       "      var cmd = \"import bokeh.io.notebook as ion; ion.destroy_server('\" + server_id + \"')\";\n",
       "      cell.notebook.kernel.execute(cmd);\n",
       "    }\n",
       "  }\n",
       "\n",
       "  /**\n",
       "   * Handle when a new output is added\n",
       "   */\n",
       "  function handleAddOutput(event, handle) {\n",
       "    var output_area = handle.output_area;\n",
       "    var output = handle.output;\n",
       "\n",
       "    // limit handleAddOutput to display_data with EXEC_MIME_TYPE content only\n",
       "    if ((output.output_type != \"display_data\") || (!output.data.hasOwnProperty(EXEC_MIME_TYPE))) {\n",
       "      return\n",
       "    }\n",
       "\n",
       "    var toinsert = output_area.element.find(\".\" + CLASS_NAME.split(' ')[0]);\n",
       "\n",
       "    if (output.metadata[EXEC_MIME_TYPE][\"id\"] !== undefined) {\n",
       "      toinsert[toinsert.length - 1].firstChild.textContent = output.data[JS_MIME_TYPE];\n",
       "      // store reference to embed id on output_area\n",
       "      output_area._bokeh_element_id = output.metadata[EXEC_MIME_TYPE][\"id\"];\n",
       "    }\n",
       "    if (output.metadata[EXEC_MIME_TYPE][\"server_id\"] !== undefined) {\n",
       "      var bk_div = document.createElement(\"div\");\n",
       "      bk_div.innerHTML = output.data[HTML_MIME_TYPE];\n",
       "      var script_attrs = bk_div.children[0].attributes;\n",
       "      for (var i = 0; i < script_attrs.length; i++) {\n",
       "        toinsert[toinsert.length - 1].firstChild.setAttribute(script_attrs[i].name, script_attrs[i].value);\n",
       "      }\n",
       "      // store reference to server id on output_area\n",
       "      output_area._bokeh_server_id = output.metadata[EXEC_MIME_TYPE][\"server_id\"];\n",
       "    }\n",
       "  }\n",
       "\n",
       "  function register_renderer(events, OutputArea) {\n",
       "\n",
       "    function append_mime(data, metadata, element) {\n",
       "      // create a DOM node to render to\n",
       "      var toinsert = this.create_output_subarea(\n",
       "        metadata,\n",
       "        CLASS_NAME,\n",
       "        EXEC_MIME_TYPE\n",
       "      );\n",
       "      this.keyboard_manager.register_events(toinsert);\n",
       "      // Render to node\n",
       "      var props = {data: data, metadata: metadata[EXEC_MIME_TYPE]};\n",
       "      render(props, toinsert[toinsert.length - 1]);\n",
       "      element.append(toinsert);\n",
       "      return toinsert\n",
       "    }\n",
       "\n",
       "    /* Handle when an output is cleared or removed */\n",
       "    events.on('clear_output.CodeCell', handleClearOutput);\n",
       "    events.on('delete.Cell', handleClearOutput);\n",
       "\n",
       "    /* Handle when a new output is added */\n",
       "    events.on('output_added.OutputArea', handleAddOutput);\n",
       "\n",
       "    /**\n",
       "     * Register the mime type and append_mime function with output_area\n",
       "     */\n",
       "    OutputArea.prototype.register_mime_type(EXEC_MIME_TYPE, append_mime, {\n",
       "      /* Is output safe? */\n",
       "      safe: true,\n",
       "      /* Index of renderer in `output_area.display_order` */\n",
       "      index: 0\n",
       "    });\n",
       "  }\n",
       "\n",
       "  // register the mime type if in Jupyter Notebook environment and previously unregistered\n",
       "  if (root.Jupyter !== undefined) {\n",
       "    var events = require('base/js/events');\n",
       "    var OutputArea = require('notebook/js/outputarea').OutputArea;\n",
       "\n",
       "    if (OutputArea.prototype.mime_types().indexOf(EXEC_MIME_TYPE) == -1) {\n",
       "      register_renderer(events, OutputArea);\n",
       "    }\n",
       "  }\n",
       "\n",
       "  \n",
       "  if (typeof (root._bokeh_timeout) === \"undefined\" || force === true) {\n",
       "    root._bokeh_timeout = Date.now() + 5000;\n",
       "    root._bokeh_failed_load = false;\n",
       "  }\n",
       "\n",
       "  var NB_LOAD_WARNING = {'data': {'text/html':\n",
       "     \"<div style='background-color: #fdd'>\\n\"+\n",
       "     \"<p>\\n\"+\n",
       "     \"BokehJS does not appear to have successfully loaded. If loading BokehJS from CDN, this \\n\"+\n",
       "     \"may be due to a slow or bad network connection. Possible fixes:\\n\"+\n",
       "     \"</p>\\n\"+\n",
       "     \"<ul>\\n\"+\n",
       "     \"<li>re-rerun `output_notebook()` to attempt to load from CDN again, or</li>\\n\"+\n",
       "     \"<li>use INLINE resources instead, as so:</li>\\n\"+\n",
       "     \"</ul>\\n\"+\n",
       "     \"<code>\\n\"+\n",
       "     \"from bokeh.resources import INLINE\\n\"+\n",
       "     \"output_notebook(resources=INLINE)\\n\"+\n",
       "     \"</code>\\n\"+\n",
       "     \"</div>\"}};\n",
       "\n",
       "  function display_loaded() {\n",
       "    var el = document.getElementById(\"2477\");\n",
       "    if (el != null) {\n",
       "      el.textContent = \"BokehJS is loading...\";\n",
       "    }\n",
       "    if (root.Bokeh !== undefined) {\n",
       "      if (el != null) {\n",
       "        el.textContent = \"BokehJS \" + root.Bokeh.version + \" successfully loaded.\";\n",
       "      }\n",
       "    } else if (Date.now() < root._bokeh_timeout) {\n",
       "      setTimeout(display_loaded, 100)\n",
       "    }\n",
       "  }\n",
       "\n",
       "\n",
       "  function run_callbacks() {\n",
       "    try {\n",
       "      root._bokeh_onload_callbacks.forEach(function(callback) {\n",
       "        if (callback != null)\n",
       "          callback();\n",
       "      });\n",
       "    } finally {\n",
       "      delete root._bokeh_onload_callbacks\n",
       "    }\n",
       "    console.debug(\"Bokeh: all callbacks have finished\");\n",
       "  }\n",
       "\n",
       "  function load_libs(css_urls, js_urls, callback) {\n",
       "    if (css_urls == null) css_urls = [];\n",
       "    if (js_urls == null) js_urls = [];\n",
       "\n",
       "    root._bokeh_onload_callbacks.push(callback);\n",
       "    if (root._bokeh_is_loading > 0) {\n",
       "      console.debug(\"Bokeh: BokehJS is being loaded, scheduling callback at\", now());\n",
       "      return null;\n",
       "    }\n",
       "    if (js_urls == null || js_urls.length === 0) {\n",
       "      run_callbacks();\n",
       "      return null;\n",
       "    }\n",
       "    console.debug(\"Bokeh: BokehJS not loaded, scheduling load and callback at\", now());\n",
       "    root._bokeh_is_loading = css_urls.length + js_urls.length;\n",
       "\n",
       "    function on_load() {\n",
       "      root._bokeh_is_loading--;\n",
       "      if (root._bokeh_is_loading === 0) {\n",
       "        console.debug(\"Bokeh: all BokehJS libraries/stylesheets loaded\");\n",
       "        run_callbacks()\n",
       "      }\n",
       "    }\n",
       "\n",
       "    function on_error() {\n",
       "      console.error(\"failed to load \" + url);\n",
       "    }\n",
       "\n",
       "    for (var i = 0; i < css_urls.length; i++) {\n",
       "      var url = css_urls[i];\n",
       "      const element = document.createElement(\"link\");\n",
       "      element.onload = on_load;\n",
       "      element.onerror = on_error;\n",
       "      element.rel = \"stylesheet\";\n",
       "      element.type = \"text/css\";\n",
       "      element.href = url;\n",
       "      console.debug(\"Bokeh: injecting link tag for BokehJS stylesheet: \", url);\n",
       "      document.body.appendChild(element);\n",
       "    }\n",
       "\n",
       "    for (var i = 0; i < js_urls.length; i++) {\n",
       "      var url = js_urls[i];\n",
       "      var element = document.createElement('script');\n",
       "      element.onload = on_load;\n",
       "      element.onerror = on_error;\n",
       "      element.async = false;\n",
       "      element.src = url;\n",
       "      console.debug(\"Bokeh: injecting script tag for BokehJS library: \", url);\n",
       "      document.head.appendChild(element);\n",
       "    }\n",
       "  };var element = document.getElementById(\"2477\");\n",
       "  if (element == null) {\n",
       "    console.error(\"Bokeh: ERROR: autoload.js configured with elementid '2477' but no matching script tag was found. \")\n",
       "    return false;\n",
       "  }\n",
       "\n",
       "  function inject_raw_css(css) {\n",
       "    const element = document.createElement(\"style\");\n",
       "    element.appendChild(document.createTextNode(css));\n",
       "    document.body.appendChild(element);\n",
       "  }\n",
       "\n",
       "  var js_urls = [\"https://cdn.pydata.org/bokeh/release/bokeh-1.3.4.min.js\", \"https://cdn.pydata.org/bokeh/release/bokeh-widgets-1.3.4.min.js\", \"https://cdn.pydata.org/bokeh/release/bokeh-tables-1.3.4.min.js\", \"https://cdn.pydata.org/bokeh/release/bokeh-gl-1.3.4.min.js\"];\n",
       "  var css_urls = [];\n",
       "\n",
       "  var inline_js = [\n",
       "    function(Bokeh) {\n",
       "      Bokeh.set_log_level(\"info\");\n",
       "    },\n",
       "    \n",
       "    function(Bokeh) {\n",
       "      \n",
       "    },\n",
       "    function(Bokeh) {} // ensure no trailing comma for IE\n",
       "  ];\n",
       "\n",
       "  function run_inline_js() {\n",
       "    \n",
       "    if ((root.Bokeh !== undefined) || (force === true)) {\n",
       "      for (var i = 0; i < inline_js.length; i++) {\n",
       "        inline_js[i].call(root, root.Bokeh);\n",
       "      }if (force === true) {\n",
       "        display_loaded();\n",
       "      }} else if (Date.now() < root._bokeh_timeout) {\n",
       "      setTimeout(run_inline_js, 100);\n",
       "    } else if (!root._bokeh_failed_load) {\n",
       "      console.log(\"Bokeh: BokehJS failed to load within specified timeout.\");\n",
       "      root._bokeh_failed_load = true;\n",
       "    } else if (force !== true) {\n",
       "      var cell = $(document.getElementById(\"2477\")).parents('.cell').data().cell;\n",
       "      cell.output_area.append_execute_result(NB_LOAD_WARNING)\n",
       "    }\n",
       "\n",
       "  }\n",
       "\n",
       "  if (root._bokeh_is_loading === 0) {\n",
       "    console.debug(\"Bokeh: BokehJS loaded, going straight to plotting\");\n",
       "    run_inline_js();\n",
       "  } else {\n",
       "    load_libs(css_urls, js_urls, function() {\n",
       "      console.debug(\"Bokeh: BokehJS plotting callback run at\", now());\n",
       "      run_inline_js();\n",
       "    });\n",
       "  }\n",
       "}(window));"
      ],
      "application/vnd.bokehjs_load.v0+json": "\n(function(root) {\n  function now() {\n    return new Date();\n  }\n\n  var force = true;\n\n  if (typeof root._bokeh_onload_callbacks === \"undefined\" || force === true) {\n    root._bokeh_onload_callbacks = [];\n    root._bokeh_is_loading = undefined;\n  }\n\n  \n\n  \n  if (typeof (root._bokeh_timeout) === \"undefined\" || force === true) {\n    root._bokeh_timeout = Date.now() + 5000;\n    root._bokeh_failed_load = false;\n  }\n\n  var NB_LOAD_WARNING = {'data': {'text/html':\n     \"<div style='background-color: #fdd'>\\n\"+\n     \"<p>\\n\"+\n     \"BokehJS does not appear to have successfully loaded. If loading BokehJS from CDN, this \\n\"+\n     \"may be due to a slow or bad network connection. Possible fixes:\\n\"+\n     \"</p>\\n\"+\n     \"<ul>\\n\"+\n     \"<li>re-rerun `output_notebook()` to attempt to load from CDN again, or</li>\\n\"+\n     \"<li>use INLINE resources instead, as so:</li>\\n\"+\n     \"</ul>\\n\"+\n     \"<code>\\n\"+\n     \"from bokeh.resources import INLINE\\n\"+\n     \"output_notebook(resources=INLINE)\\n\"+\n     \"</code>\\n\"+\n     \"</div>\"}};\n\n  function display_loaded() {\n    var el = document.getElementById(\"2477\");\n    if (el != null) {\n      el.textContent = \"BokehJS is loading...\";\n    }\n    if (root.Bokeh !== undefined) {\n      if (el != null) {\n        el.textContent = \"BokehJS \" + root.Bokeh.version + \" successfully loaded.\";\n      }\n    } else if (Date.now() < root._bokeh_timeout) {\n      setTimeout(display_loaded, 100)\n    }\n  }\n\n\n  function run_callbacks() {\n    try {\n      root._bokeh_onload_callbacks.forEach(function(callback) {\n        if (callback != null)\n          callback();\n      });\n    } finally {\n      delete root._bokeh_onload_callbacks\n    }\n    console.debug(\"Bokeh: all callbacks have finished\");\n  }\n\n  function load_libs(css_urls, js_urls, callback) {\n    if (css_urls == null) css_urls = [];\n    if (js_urls == null) js_urls = [];\n\n    root._bokeh_onload_callbacks.push(callback);\n    if (root._bokeh_is_loading > 0) {\n      console.debug(\"Bokeh: BokehJS is being loaded, scheduling callback at\", now());\n      return null;\n    }\n    if (js_urls == null || js_urls.length === 0) {\n      run_callbacks();\n      return null;\n    }\n    console.debug(\"Bokeh: BokehJS not loaded, scheduling load and callback at\", now());\n    root._bokeh_is_loading = css_urls.length + js_urls.length;\n\n    function on_load() {\n      root._bokeh_is_loading--;\n      if (root._bokeh_is_loading === 0) {\n        console.debug(\"Bokeh: all BokehJS libraries/stylesheets loaded\");\n        run_callbacks()\n      }\n    }\n\n    function on_error() {\n      console.error(\"failed to load \" + url);\n    }\n\n    for (var i = 0; i < css_urls.length; i++) {\n      var url = css_urls[i];\n      const element = document.createElement(\"link\");\n      element.onload = on_load;\n      element.onerror = on_error;\n      element.rel = \"stylesheet\";\n      element.type = \"text/css\";\n      element.href = url;\n      console.debug(\"Bokeh: injecting link tag for BokehJS stylesheet: \", url);\n      document.body.appendChild(element);\n    }\n\n    for (var i = 0; i < js_urls.length; i++) {\n      var url = js_urls[i];\n      var element = document.createElement('script');\n      element.onload = on_load;\n      element.onerror = on_error;\n      element.async = false;\n      element.src = url;\n      console.debug(\"Bokeh: injecting script tag for BokehJS library: \", url);\n      document.head.appendChild(element);\n    }\n  };var element = document.getElementById(\"2477\");\n  if (element == null) {\n    console.error(\"Bokeh: ERROR: autoload.js configured with elementid '2477' but no matching script tag was found. \")\n    return false;\n  }\n\n  function inject_raw_css(css) {\n    const element = document.createElement(\"style\");\n    element.appendChild(document.createTextNode(css));\n    document.body.appendChild(element);\n  }\n\n  var js_urls = [\"https://cdn.pydata.org/bokeh/release/bokeh-1.3.4.min.js\", \"https://cdn.pydata.org/bokeh/release/bokeh-widgets-1.3.4.min.js\", \"https://cdn.pydata.org/bokeh/release/bokeh-tables-1.3.4.min.js\", \"https://cdn.pydata.org/bokeh/release/bokeh-gl-1.3.4.min.js\"];\n  var css_urls = [];\n\n  var inline_js = [\n    function(Bokeh) {\n      Bokeh.set_log_level(\"info\");\n    },\n    \n    function(Bokeh) {\n      \n    },\n    function(Bokeh) {} // ensure no trailing comma for IE\n  ];\n\n  function run_inline_js() {\n    \n    if ((root.Bokeh !== undefined) || (force === true)) {\n      for (var i = 0; i < inline_js.length; i++) {\n        inline_js[i].call(root, root.Bokeh);\n      }if (force === true) {\n        display_loaded();\n      }} else if (Date.now() < root._bokeh_timeout) {\n      setTimeout(run_inline_js, 100);\n    } else if (!root._bokeh_failed_load) {\n      console.log(\"Bokeh: BokehJS failed to load within specified timeout.\");\n      root._bokeh_failed_load = true;\n    } else if (force !== true) {\n      var cell = $(document.getElementById(\"2477\")).parents('.cell').data().cell;\n      cell.output_area.append_execute_result(NB_LOAD_WARNING)\n    }\n\n  }\n\n  if (root._bokeh_is_loading === 0) {\n    console.debug(\"Bokeh: BokehJS loaded, going straight to plotting\");\n    run_inline_js();\n  } else {\n    load_libs(css_urls, js_urls, function() {\n      console.debug(\"Bokeh: BokehJS plotting callback run at\", now());\n      run_inline_js();\n    });\n  }\n}(window));"
     },
     "metadata": {},
     "output_type": "display_data"
    },
    {
     "data": {
      "text/html": [
       "\n",
       "\n",
       "\n",
       "\n",
       "\n",
       "\n",
       "  <div class=\"bk-root\" id=\"1b1ccc0a-1dfa-41c6-a6ee-ead110930aed\" data-root-id=\"2478\"></div>\n"
      ]
     },
     "metadata": {},
     "output_type": "display_data"
    },
    {
     "data": {
      "application/javascript": [
       "(function(root) {\n",
       "  function embed_document(root) {\n",
       "    \n",
       "  var docs_json = {\"0f905c8a-53f0-4ea8-a2b0-a74d7f1797ab\":{\"roots\":{\"references\":[{\"attributes\":{\"children\":[{\"id\":\"2048\",\"subtype\":\"Figure\",\"type\":\"Plot\"},{\"id\":\"2087\",\"subtype\":\"Figure\",\"type\":\"Plot\"},{\"id\":\"2126\",\"subtype\":\"Figure\",\"type\":\"Plot\"},{\"id\":\"2165\",\"subtype\":\"Figure\",\"type\":\"Plot\"},{\"id\":\"2204\",\"subtype\":\"Figure\",\"type\":\"Plot\"},{\"id\":\"2243\",\"subtype\":\"Figure\",\"type\":\"Plot\"},{\"id\":\"2282\",\"subtype\":\"Figure\",\"type\":\"Plot\"},{\"id\":\"2321\",\"subtype\":\"Figure\",\"type\":\"Plot\"},{\"id\":\"2360\",\"subtype\":\"Figure\",\"type\":\"Plot\"},{\"id\":\"2399\",\"subtype\":\"Figure\",\"type\":\"Plot\"},{\"id\":\"2438\",\"subtype\":\"Figure\",\"type\":\"Plot\"}]},\"id\":\"2478\",\"type\":\"Column\"},{\"attributes\":{},\"id\":\"2072\",\"type\":\"SaveTool\"},{\"attributes\":{},\"id\":\"2629\",\"type\":\"Selection\"},{\"attributes\":{\"axis_label\":\"Days Hired\",\"formatter\":{\"id\":\"2614\",\"type\":\"BasicTickFormatter\"},\"ticker\":{\"id\":\"2411\",\"type\":\"BasicTicker\"}},\"id\":\"2410\",\"type\":\"LinearAxis\"},{\"attributes\":{},\"id\":\"2055\",\"type\":\"LinearScale\"},{\"attributes\":{\"overlay\":{\"id\":\"2622\",\"type\":\"BoxAnnotation\"}},\"id\":\"2071\",\"type\":\"BoxZoomTool\"},{\"attributes\":{},\"id\":\"2630\",\"type\":\"UnionRenderers\"},{\"attributes\":{},\"id\":\"2411\",\"type\":\"BasicTicker\"},{\"attributes\":{\"below\":[{\"id\":\"2098\",\"type\":\"LinearAxis\"}],\"center\":[{\"id\":\"2102\",\"type\":\"Grid\"},{\"id\":\"2107\",\"type\":\"Grid\"}],\"left\":[{\"id\":\"2103\",\"type\":\"LinearAxis\"}],\"plot_height\":500,\"plot_width\":500,\"renderers\":[{\"id\":\"2124\",\"type\":\"GlyphRenderer\"}],\"title\":{\"id\":\"2088\",\"type\":\"Title\"},\"toolbar\":{\"id\":\"2114\",\"type\":\"Toolbar\"},\"x_range\":{\"id\":\"2090\",\"type\":\"DataRange1d\"},\"x_scale\":{\"id\":\"2094\",\"type\":\"LinearScale\"},\"y_range\":{\"id\":\"2092\",\"type\":\"DataRange1d\"},\"y_scale\":{\"id\":\"2096\",\"type\":\"LinearScale\"}},\"id\":\"2087\",\"subtype\":\"Figure\",\"type\":\"Plot\"},{\"attributes\":{},\"id\":\"2070\",\"type\":\"WheelZoomTool\"},{\"attributes\":{\"bottom_units\":\"screen\",\"fill_alpha\":{\"value\":0.5},\"fill_color\":{\"value\":\"lightgrey\"},\"left_units\":\"screen\",\"level\":\"overlay\",\"line_alpha\":{\"value\":1.0},\"line_color\":{\"value\":\"black\"},\"line_dash\":[4,4],\"line_width\":{\"value\":2},\"render_mode\":\"css\",\"right_units\":\"screen\",\"top_units\":\"screen\"},\"id\":\"2631\",\"type\":\"BoxAnnotation\"},{\"attributes\":{\"ticker\":{\"id\":\"2411\",\"type\":\"BasicTicker\"}},\"id\":\"2414\",\"type\":\"Grid\"},{\"attributes\":{},\"id\":\"2069\",\"type\":\"PanTool\"},{\"attributes\":{},\"id\":\"2632\",\"type\":\"Selection\"},{\"attributes\":{\"active_drag\":\"auto\",\"active_inspect\":\"auto\",\"active_multi\":null,\"active_scroll\":\"auto\",\"active_tap\":\"auto\",\"tools\":[{\"id\":\"2069\",\"type\":\"PanTool\"},{\"id\":\"2070\",\"type\":\"WheelZoomTool\"},{\"id\":\"2071\",\"type\":\"BoxZoomTool\"},{\"id\":\"2072\",\"type\":\"SaveTool\"},{\"id\":\"2073\",\"type\":\"ResetTool\"},{\"id\":\"2074\",\"type\":\"HelpTool\"}]},\"id\":\"2075\",\"type\":\"Toolbar\"},{\"attributes\":{\"axis_label\":\"Pay Rate\",\"formatter\":{\"id\":\"2616\",\"type\":\"BasicTickFormatter\"},\"ticker\":{\"id\":\"2416\",\"type\":\"BasicTicker\"}},\"id\":\"2415\",\"type\":\"LinearAxis\"},{\"attributes\":{},\"id\":\"2633\",\"type\":\"UnionRenderers\"},{\"attributes\":{},\"id\":\"2416\",\"type\":\"BasicTicker\"},{\"attributes\":{\"fill_alpha\":{\"value\":0.5},\"fill_color\":{\"value\":\"navy\"},\"line_alpha\":{\"value\":0.5},\"line_color\":{\"value\":\"navy\"},\"size\":{\"units\":\"screen\",\"value\":20},\"x\":{\"field\":\"x\"},\"y\":{\"field\":\"y\"}},\"id\":\"2083\",\"type\":\"Circle\"},{\"attributes\":{\"bottom_units\":\"screen\",\"fill_alpha\":{\"value\":0.5},\"fill_color\":{\"value\":\"lightgrey\"},\"left_units\":\"screen\",\"level\":\"overlay\",\"line_alpha\":{\"value\":1.0},\"line_color\":{\"value\":\"black\"},\"line_dash\":[4,4],\"line_width\":{\"value\":2},\"render_mode\":\"css\",\"right_units\":\"screen\",\"top_units\":\"screen\"},\"id\":\"2634\",\"type\":\"BoxAnnotation\"},{\"attributes\":{\"dimension\":1,\"ticker\":{\"id\":\"2416\",\"type\":\"BasicTicker\"}},\"id\":\"2419\",\"type\":\"Grid\"},{\"attributes\":{},\"id\":\"2065\",\"type\":\"BasicTicker\"},{\"attributes\":{\"bottom_units\":\"screen\",\"fill_alpha\":{\"value\":0.5},\"fill_color\":{\"value\":\"lightgrey\"},\"left_units\":\"screen\",\"level\":\"overlay\",\"line_alpha\":{\"value\":1.0},\"line_color\":{\"value\":\"black\"},\"line_dash\":[4,4],\"line_width\":{\"value\":2},\"render_mode\":\"css\",\"right_units\":\"screen\",\"top_units\":\"screen\"},\"id\":\"2628\",\"type\":\"BoxAnnotation\"},{\"attributes\":{},\"id\":\"2635\",\"type\":\"Selection\"},{\"attributes\":{\"fill_alpha\":{\"value\":0.1},\"fill_color\":{\"value\":\"#1f77b4\"},\"line_alpha\":{\"value\":0.1},\"line_color\":{\"value\":\"#1f77b4\"},\"size\":{\"units\":\"screen\",\"value\":20},\"x\":{\"field\":\"x\"},\"y\":{\"field\":\"y\"}},\"id\":\"2435\",\"type\":\"Circle\"},{\"attributes\":{\"callback\":null},\"id\":\"2053\",\"type\":\"DataRange1d\"},{\"attributes\":{\"axis_label\":\"Pay Rate\",\"formatter\":{\"id\":\"2580\",\"type\":\"BasicTickFormatter\"},\"ticker\":{\"id\":\"2065\",\"type\":\"BasicTicker\"}},\"id\":\"2064\",\"type\":\"LinearAxis\"},{\"attributes\":{},\"id\":\"2636\",\"type\":\"UnionRenderers\"},{\"attributes\":{\"fill_alpha\":{\"value\":0.5},\"fill_color\":{\"value\":\"navy\"},\"line_alpha\":{\"value\":0.5},\"line_color\":{\"value\":\"navy\"},\"size\":{\"units\":\"screen\",\"value\":20},\"x\":{\"field\":\"x\"},\"y\":{\"field\":\"y\"}},\"id\":\"2434\",\"type\":\"Circle\"},{\"attributes\":{},\"id\":\"2073\",\"type\":\"ResetTool\"},{\"attributes\":{\"bottom_units\":\"screen\",\"fill_alpha\":{\"value\":0.5},\"fill_color\":{\"value\":\"lightgrey\"},\"left_units\":\"screen\",\"level\":\"overlay\",\"line_alpha\":{\"value\":1.0},\"line_color\":{\"value\":\"black\"},\"line_dash\":[4,4],\"line_width\":{\"value\":2},\"render_mode\":\"css\",\"right_units\":\"screen\",\"top_units\":\"screen\"},\"id\":\"2637\",\"type\":\"BoxAnnotation\"},{\"attributes\":{\"active_drag\":\"auto\",\"active_inspect\":\"auto\",\"active_multi\":null,\"active_scroll\":\"auto\",\"active_tap\":\"auto\",\"tools\":[{\"id\":\"2420\",\"type\":\"PanTool\"},{\"id\":\"2421\",\"type\":\"WheelZoomTool\"},{\"id\":\"2422\",\"type\":\"BoxZoomTool\"},{\"id\":\"2423\",\"type\":\"SaveTool\"},{\"id\":\"2424\",\"type\":\"ResetTool\"},{\"id\":\"2425\",\"type\":\"HelpTool\"}]},\"id\":\"2426\",\"type\":\"Toolbar\"},{\"attributes\":{},\"id\":\"2420\",\"type\":\"PanTool\"},{\"attributes\":{},\"id\":\"2638\",\"type\":\"Selection\"},{\"attributes\":{\"dimension\":1,\"ticker\":{\"id\":\"2065\",\"type\":\"BasicTicker\"}},\"id\":\"2068\",\"type\":\"Grid\"},{\"attributes\":{\"axis_label\":\"Days Hired\",\"formatter\":{\"id\":\"2578\",\"type\":\"BasicTickFormatter\"},\"ticker\":{\"id\":\"2060\",\"type\":\"BasicTicker\"}},\"id\":\"2059\",\"type\":\"LinearAxis\"},{\"attributes\":{\"fill_alpha\":{\"value\":0.1},\"fill_color\":{\"value\":\"#1f77b4\"},\"line_alpha\":{\"value\":0.1},\"line_color\":{\"value\":\"#1f77b4\"},\"size\":{\"units\":\"screen\",\"value\":20},\"x\":{\"field\":\"x\"},\"y\":{\"field\":\"y\"}},\"id\":\"2084\",\"type\":\"Circle\"},{\"attributes\":{\"fill_alpha\":{\"value\":0.5},\"fill_color\":{\"value\":\"navy\"},\"line_alpha\":{\"value\":0.5},\"line_color\":{\"value\":\"navy\"},\"size\":{\"units\":\"screen\",\"value\":20},\"x\":{\"field\":\"x\"},\"y\":{\"field\":\"y\"}},\"id\":\"2395\",\"type\":\"Circle\"},{\"attributes\":{},\"id\":\"2421\",\"type\":\"WheelZoomTool\"},{\"attributes\":{\"overlay\":{\"id\":\"2625\",\"type\":\"BoxAnnotation\"}},\"id\":\"2110\",\"type\":\"BoxZoomTool\"},{\"attributes\":{},\"id\":\"2639\",\"type\":\"UnionRenderers\"},{\"attributes\":{\"overlay\":{\"id\":\"2649\",\"type\":\"BoxAnnotation\"}},\"id\":\"2422\",\"type\":\"BoxZoomTool\"},{\"attributes\":{\"bottom_units\":\"screen\",\"fill_alpha\":{\"value\":0.5},\"fill_color\":{\"value\":\"lightgrey\"},\"left_units\":\"screen\",\"level\":\"overlay\",\"line_alpha\":{\"value\":1.0},\"line_color\":{\"value\":\"black\"},\"line_dash\":[4,4],\"line_width\":{\"value\":2},\"render_mode\":\"css\",\"right_units\":\"screen\",\"top_units\":\"screen\"},\"id\":\"2640\",\"type\":\"BoxAnnotation\"},{\"attributes\":{\"source\":{\"id\":\"2082\",\"type\":\"ColumnDataSource\"}},\"id\":\"2086\",\"type\":\"CDSView\"},{\"attributes\":{},\"id\":\"2423\",\"type\":\"SaveTool\"},{\"attributes\":{},\"id\":\"2641\",\"type\":\"Selection\"},{\"attributes\":{\"callback\":null,\"data\":{\"x\":[2336,3611,2148,1518,2106,2428,2064,1560,1238,1336,1154,1294,1602,2246,1602,1056,1973,1238,1294,1784,2064,1112,1336,930,2106,2148,972,1602,2386,972,1154,1476,2330,1973,2190,2022,1294,1931,1560,1847,1518,1420,1518,1378,2512,1966,1420,1476,2371,1784,972,1700,1700,1602,1518,1378,2771,3674,1420,2190,1602,1420,1154,1560,1476,2106,2512,1378,1056,2022,1742,1378,1154],\"y\":{\"__ndarray__\":\"AAAAAAAANEAAAAAAAAA1QAAAAAAAADdAAAAAAAAANkDD9Shcj8IwQAAAAAAAADZAAAAAAAAAMEAAAAAAAAA2QAAAAAAAADBAAAAAAAAANEAAAAAAAAAwQAAAAAAAgDNAAAAAAAAANkAAAAAAAAA2QAAAAAAAAC5AAAAAAACAL0AAAAAAAAAuQAAAAAAAADRAAAAAAAAANUAAAAAAAAA2QAAAAAAAwDBAAAAAAABANUAAAAAAAAA1QAAAAAAAADJAAAAAAAAAN0AAAAAAAAA4QAAAAAAAADNAAAAAAAAAMkAAAAAAAAA4QAAAAAAAADNAAAAAAAAAMEAAAAAAAAAxQAAAAAAAADBAAAAAAAAALkAAAAAAAAA4QAAAAAAAADVAAAAAAAAANEAAAAAAAAAzQAAAAAAAADBAAAAAAAAANEAAAAAAAAA1QAAAAAAAADNAAAAAAAAAM0AAAAAAAAAsQAAAAAAAADVAAAAAAAAAMUAAAAAAAAAxQAAAAAAAADdAAAAAAAAANEAAAAAAAAA4QAAAAAAAADRAAAAAAAAALkAAAAAAAAAuQAAAAAAAADNAAAAAAAAAMEAAAAAAAAA2QAAAAAAAADFAAAAAAAAAMUAAAAAAAAAwQAAAAAAAADZAAAAAAAAAMUAAAAAAAAAxQAAAAAAAADVAAAAAAAAALkAAAAAAAIA4QAAAAAAAADBAAAAAAAAALEAAAAAAAAA2QAAAAAAAADNAAAAAAAAALEAAAAAAAAA4QAAAAAAAADZAAAAAAAAALkA=\",\"dtype\":\"float64\",\"shape\":[73]}},\"selected\":{\"id\":\"2623\",\"type\":\"Selection\"},\"selection_policy\":{\"id\":\"2624\",\"type\":\"UnionRenderers\"}},\"id\":\"2082\",\"type\":\"ColumnDataSource\"},{\"attributes\":{},\"id\":\"2108\",\"type\":\"PanTool\"},{\"attributes\":{},\"id\":\"2424\",\"type\":\"ResetTool\"},{\"attributes\":{},\"id\":\"2642\",\"type\":\"UnionRenderers\"},{\"attributes\":{},\"id\":\"2109\",\"type\":\"WheelZoomTool\"},{\"attributes\":{},\"id\":\"2425\",\"type\":\"HelpTool\"},{\"attributes\":{\"bottom_units\":\"screen\",\"fill_alpha\":{\"value\":0.5},\"fill_color\":{\"value\":\"lightgrey\"},\"left_units\":\"screen\",\"level\":\"overlay\",\"line_alpha\":{\"value\":1.0},\"line_color\":{\"value\":\"black\"},\"line_dash\":[4,4],\"line_width\":{\"value\":2},\"render_mode\":\"css\",\"right_units\":\"screen\",\"top_units\":\"screen\"},\"id\":\"2643\",\"type\":\"BoxAnnotation\"},{\"attributes\":{\"callback\":null},\"id\":\"2051\",\"type\":\"DataRange1d\"},{\"attributes\":{},\"id\":\"2074\",\"type\":\"HelpTool\"},{\"attributes\":{},\"id\":\"2644\",\"type\":\"Selection\"},{\"attributes\":{\"data_source\":{\"id\":\"2082\",\"type\":\"ColumnDataSource\"},\"glyph\":{\"id\":\"2083\",\"type\":\"Circle\"},\"hover_glyph\":null,\"muted_glyph\":null,\"nonselection_glyph\":{\"id\":\"2084\",\"type\":\"Circle\"},\"selection_glyph\":null,\"view\":{\"id\":\"2086\",\"type\":\"CDSView\"}},\"id\":\"2085\",\"type\":\"GlyphRenderer\"},{\"attributes\":{},\"id\":\"2174\",\"type\":\"LinearScale\"},{\"attributes\":{},\"id\":\"2645\",\"type\":\"UnionRenderers\"},{\"attributes\":{\"data_source\":{\"id\":\"2433\",\"type\":\"ColumnDataSource\"},\"glyph\":{\"id\":\"2434\",\"type\":\"Circle\"},\"hover_glyph\":null,\"muted_glyph\":null,\"nonselection_glyph\":{\"id\":\"2435\",\"type\":\"Circle\"},\"selection_glyph\":null,\"view\":{\"id\":\"2437\",\"type\":\"CDSView\"}},\"id\":\"2436\",\"type\":\"GlyphRenderer\"},{\"attributes\":{\"source\":{\"id\":\"2433\",\"type\":\"ColumnDataSource\"}},\"id\":\"2437\",\"type\":\"CDSView\"},{\"attributes\":{\"bottom_units\":\"screen\",\"fill_alpha\":{\"value\":0.5},\"fill_color\":{\"value\":\"lightgrey\"},\"left_units\":\"screen\",\"level\":\"overlay\",\"line_alpha\":{\"value\":1.0},\"line_color\":{\"value\":\"black\"},\"line_dash\":[4,4],\"line_width\":{\"value\":2},\"render_mode\":\"css\",\"right_units\":\"screen\",\"top_units\":\"screen\"},\"id\":\"2646\",\"type\":\"BoxAnnotation\"},{\"attributes\":{\"below\":[{\"id\":\"2059\",\"type\":\"LinearAxis\"}],\"center\":[{\"id\":\"2063\",\"type\":\"Grid\"},{\"id\":\"2068\",\"type\":\"Grid\"}],\"left\":[{\"id\":\"2064\",\"type\":\"LinearAxis\"}],\"plot_height\":500,\"plot_width\":500,\"renderers\":[{\"id\":\"2085\",\"type\":\"GlyphRenderer\"}],\"title\":{\"id\":\"2049\",\"type\":\"Title\"},\"toolbar\":{\"id\":\"2075\",\"type\":\"Toolbar\"},\"x_range\":{\"id\":\"2051\",\"type\":\"DataRange1d\"},\"x_scale\":{\"id\":\"2055\",\"type\":\"LinearScale\"},\"y_range\":{\"id\":\"2053\",\"type\":\"DataRange1d\"},\"y_scale\":{\"id\":\"2057\",\"type\":\"LinearScale\"}},\"id\":\"2048\",\"subtype\":\"Figure\",\"type\":\"Plot\"},{\"attributes\":{\"callback\":null},\"id\":\"2090\",\"type\":\"DataRange1d\"},{\"attributes\":{},\"id\":\"2057\",\"type\":\"LinearScale\"},{\"attributes\":{\"ticker\":{\"id\":\"2060\",\"type\":\"BasicTicker\"}},\"id\":\"2063\",\"type\":\"Grid\"},{\"attributes\":{},\"id\":\"2647\",\"type\":\"Selection\"},{\"attributes\":{\"fill_alpha\":{\"value\":0.1},\"fill_color\":{\"value\":\"#1f77b4\"},\"line_alpha\":{\"value\":0.1},\"line_color\":{\"value\":\"#1f77b4\"},\"size\":{\"units\":\"screen\",\"value\":20},\"x\":{\"field\":\"x\"},\"y\":{\"field\":\"y\"}},\"id\":\"2474\",\"type\":\"Circle\"},{\"attributes\":{},\"id\":\"2648\",\"type\":\"UnionRenderers\"},{\"attributes\":{\"text\":\"Pay Rate vs Days Hired for Software Engineer, R-Square= 0.3268\"},\"id\":\"2439\",\"type\":\"Title\"},{\"attributes\":{},\"id\":\"2381\",\"type\":\"PanTool\"},{\"attributes\":{},\"id\":\"2408\",\"type\":\"LinearScale\"},{\"attributes\":{\"bottom_units\":\"screen\",\"fill_alpha\":{\"value\":0.5},\"fill_color\":{\"value\":\"lightgrey\"},\"left_units\":\"screen\",\"level\":\"overlay\",\"line_alpha\":{\"value\":1.0},\"line_color\":{\"value\":\"black\"},\"line_dash\":[4,4],\"line_width\":{\"value\":2},\"render_mode\":\"css\",\"right_units\":\"screen\",\"top_units\":\"screen\"},\"id\":\"2649\",\"type\":\"BoxAnnotation\"},{\"attributes\":{\"callback\":null},\"id\":\"2441\",\"type\":\"DataRange1d\"},{\"attributes\":{},\"id\":\"2060\",\"type\":\"BasicTicker\"},{\"attributes\":{\"fill_alpha\":{\"value\":0.1},\"fill_color\":{\"value\":\"#1f77b4\"},\"line_alpha\":{\"value\":0.1},\"line_color\":{\"value\":\"#1f77b4\"},\"size\":{\"units\":\"screen\",\"value\":20},\"x\":{\"field\":\"x\"},\"y\":{\"field\":\"y\"}},\"id\":\"2123\",\"type\":\"Circle\"},{\"attributes\":{},\"id\":\"2650\",\"type\":\"Selection\"},{\"attributes\":{\"callback\":null},\"id\":\"2443\",\"type\":\"DataRange1d\"},{\"attributes\":{},\"id\":\"2651\",\"type\":\"UnionRenderers\"},{\"attributes\":{\"text\":\"Pay Rate vs Days Hired for Production Technician I, R-Square= 0.0045\"},\"id\":\"2049\",\"type\":\"Title\"},{\"attributes\":{\"text\":\"Pay Rate vs Days Hired for BI Developer, R-Square= 0.0002\"},\"id\":\"2088\",\"type\":\"Title\"},{\"attributes\":{},\"id\":\"2445\",\"type\":\"LinearScale\"},{\"attributes\":{\"bottom_units\":\"screen\",\"fill_alpha\":{\"value\":0.5},\"fill_color\":{\"value\":\"lightgrey\"},\"left_units\":\"screen\",\"level\":\"overlay\",\"line_alpha\":{\"value\":1.0},\"line_color\":{\"value\":\"black\"},\"line_dash\":[4,4],\"line_width\":{\"value\":2},\"render_mode\":\"css\",\"right_units\":\"screen\",\"top_units\":\"screen\"},\"id\":\"2652\",\"type\":\"BoxAnnotation\"},{\"attributes\":{},\"id\":\"2447\",\"type\":\"LinearScale\"},{\"attributes\":{\"below\":[{\"id\":\"2137\",\"type\":\"LinearAxis\"}],\"center\":[{\"id\":\"2141\",\"type\":\"Grid\"},{\"id\":\"2146\",\"type\":\"Grid\"}],\"left\":[{\"id\":\"2142\",\"type\":\"LinearAxis\"}],\"plot_height\":500,\"plot_width\":500,\"renderers\":[{\"id\":\"2163\",\"type\":\"GlyphRenderer\"}],\"title\":{\"id\":\"2127\",\"type\":\"Title\"},\"toolbar\":{\"id\":\"2153\",\"type\":\"Toolbar\"},\"x_range\":{\"id\":\"2129\",\"type\":\"DataRange1d\"},\"x_scale\":{\"id\":\"2133\",\"type\":\"LinearScale\"},\"y_range\":{\"id\":\"2131\",\"type\":\"DataRange1d\"},\"y_scale\":{\"id\":\"2135\",\"type\":\"LinearScale\"}},\"id\":\"2126\",\"subtype\":\"Figure\",\"type\":\"Plot\"},{\"attributes\":{\"overlay\":{\"id\":\"2643\",\"type\":\"BoxAnnotation\"}},\"id\":\"2344\",\"type\":\"BoxZoomTool\"},{\"attributes\":{},\"id\":\"2653\",\"type\":\"Selection\"},{\"attributes\":{\"axis_label\":\"Days Hired\",\"formatter\":{\"id\":\"2618\",\"type\":\"BasicTickFormatter\"},\"ticker\":{\"id\":\"2450\",\"type\":\"BasicTicker\"}},\"id\":\"2449\",\"type\":\"LinearAxis\"},{\"attributes\":{\"callback\":null},\"id\":\"2092\",\"type\":\"DataRange1d\"},{\"attributes\":{},\"id\":\"2654\",\"type\":\"UnionRenderers\"},{\"attributes\":{},\"id\":\"2094\",\"type\":\"LinearScale\"},{\"attributes\":{},\"id\":\"2450\",\"type\":\"BasicTicker\"},{\"attributes\":{},\"id\":\"2096\",\"type\":\"LinearScale\"},{\"attributes\":{\"ticker\":{\"id\":\"2450\",\"type\":\"BasicTicker\"}},\"id\":\"2453\",\"type\":\"Grid\"},{\"attributes\":{\"axis_label\":\"Days Hired\",\"formatter\":{\"id\":\"2582\",\"type\":\"BasicTickFormatter\"},\"ticker\":{\"id\":\"2099\",\"type\":\"BasicTicker\"}},\"id\":\"2098\",\"type\":\"LinearAxis\"},{\"attributes\":{\"axis_label\":\"Pay Rate\",\"formatter\":{\"id\":\"2620\",\"type\":\"BasicTickFormatter\"},\"ticker\":{\"id\":\"2455\",\"type\":\"BasicTicker\"}},\"id\":\"2454\",\"type\":\"LinearAxis\"},{\"attributes\":{},\"id\":\"2099\",\"type\":\"BasicTicker\"},{\"attributes\":{},\"id\":\"2455\",\"type\":\"BasicTicker\"},{\"attributes\":{\"ticker\":{\"id\":\"2099\",\"type\":\"BasicTicker\"}},\"id\":\"2102\",\"type\":\"Grid\"},{\"attributes\":{\"dimension\":1,\"ticker\":{\"id\":\"2455\",\"type\":\"BasicTicker\"}},\"id\":\"2458\",\"type\":\"Grid\"},{\"attributes\":{\"axis_label\":\"Pay Rate\",\"formatter\":{\"id\":\"2584\",\"type\":\"BasicTickFormatter\"},\"ticker\":{\"id\":\"2104\",\"type\":\"BasicTicker\"}},\"id\":\"2103\",\"type\":\"LinearAxis\"},{\"attributes\":{\"fill_alpha\":{\"value\":0.5},\"fill_color\":{\"value\":\"navy\"},\"line_alpha\":{\"value\":0.5},\"line_color\":{\"value\":\"navy\"},\"size\":{\"units\":\"screen\",\"value\":20},\"x\":{\"field\":\"x\"},\"y\":{\"field\":\"y\"}},\"id\":\"2473\",\"type\":\"Circle\"},{\"attributes\":{},\"id\":\"2104\",\"type\":\"BasicTicker\"},{\"attributes\":{\"callback\":null,\"data\":{\"x\":[1112,1476,2148,1476,1847,1238],\"y\":{\"__ndarray__\":\"zczMzMzMR0AAAAAAAABMQI/C9Shcj0xA4XoUrkfBS0AAAAAAAKBIQAAAAAAAAEhA\",\"dtype\":\"float64\",\"shape\":[6]}},\"selected\":{\"id\":\"2653\",\"type\":\"Selection\"},\"selection_policy\":{\"id\":\"2654\",\"type\":\"UnionRenderers\"}},\"id\":\"2472\",\"type\":\"ColumnDataSource\"},{\"attributes\":{\"dimension\":1,\"ticker\":{\"id\":\"2104\",\"type\":\"BasicTicker\"}},\"id\":\"2107\",\"type\":\"Grid\"},{\"attributes\":{},\"id\":\"2459\",\"type\":\"PanTool\"},{\"attributes\":{\"fill_alpha\":{\"value\":0.5},\"fill_color\":{\"value\":\"navy\"},\"line_alpha\":{\"value\":0.5},\"line_color\":{\"value\":\"navy\"},\"size\":{\"units\":\"screen\",\"value\":20},\"x\":{\"field\":\"x\"},\"y\":{\"field\":\"y\"}},\"id\":\"2122\",\"type\":\"Circle\"},{\"attributes\":{},\"id\":\"2460\",\"type\":\"WheelZoomTool\"},{\"attributes\":{\"callback\":null,\"data\":{\"x\":[420,284,220,220],\"y\":{\"__ndarray__\":\"AAAAAACARkAAAAAAAABHQAAAAAAAgEZAAAAAAACARkA=\",\"dtype\":\"float64\",\"shape\":[4]}},\"selected\":{\"id\":\"2626\",\"type\":\"Selection\"},\"selection_policy\":{\"id\":\"2627\",\"type\":\"UnionRenderers\"}},\"id\":\"2121\",\"type\":\"ColumnDataSource\"},{\"attributes\":{\"overlay\":{\"id\":\"2652\",\"type\":\"BoxAnnotation\"}},\"id\":\"2461\",\"type\":\"BoxZoomTool\"},{\"attributes\":{},\"id\":\"2111\",\"type\":\"SaveTool\"},{\"attributes\":{},\"id\":\"2228\",\"type\":\"SaveTool\"},{\"attributes\":{},\"id\":\"2345\",\"type\":\"SaveTool\"},{\"attributes\":{},\"id\":\"2462\",\"type\":\"SaveTool\"},{\"attributes\":{\"axis_label\":\"Days Hired\",\"formatter\":{\"id\":\"2590\",\"type\":\"BasicTickFormatter\"},\"ticker\":{\"id\":\"2177\",\"type\":\"BasicTicker\"}},\"id\":\"2176\",\"type\":\"LinearAxis\"},{\"attributes\":{\"axis_label\":\"Days Hired\",\"formatter\":{\"id\":\"2602\",\"type\":\"BasicTickFormatter\"},\"ticker\":{\"id\":\"2294\",\"type\":\"BasicTicker\"}},\"id\":\"2293\",\"type\":\"LinearAxis\"},{\"attributes\":{},\"id\":\"2112\",\"type\":\"ResetTool\"},{\"attributes\":{},\"id\":\"2229\",\"type\":\"ResetTool\"},{\"attributes\":{},\"id\":\"2346\",\"type\":\"ResetTool\"},{\"attributes\":{},\"id\":\"2463\",\"type\":\"ResetTool\"},{\"attributes\":{},\"id\":\"2177\",\"type\":\"BasicTicker\"},{\"attributes\":{},\"id\":\"2294\",\"type\":\"BasicTicker\"},{\"attributes\":{},\"id\":\"2113\",\"type\":\"HelpTool\"},{\"attributes\":{},\"id\":\"2230\",\"type\":\"HelpTool\"},{\"attributes\":{},\"id\":\"2347\",\"type\":\"HelpTool\"},{\"attributes\":{},\"id\":\"2464\",\"type\":\"HelpTool\"},{\"attributes\":{\"ticker\":{\"id\":\"2177\",\"type\":\"BasicTicker\"}},\"id\":\"2180\",\"type\":\"Grid\"},{\"attributes\":{\"ticker\":{\"id\":\"2294\",\"type\":\"BasicTicker\"}},\"id\":\"2297\",\"type\":\"Grid\"},{\"attributes\":{\"active_drag\":\"auto\",\"active_inspect\":\"auto\",\"active_multi\":null,\"active_scroll\":\"auto\",\"active_tap\":\"auto\",\"tools\":[{\"id\":\"2108\",\"type\":\"PanTool\"},{\"id\":\"2109\",\"type\":\"WheelZoomTool\"},{\"id\":\"2110\",\"type\":\"BoxZoomTool\"},{\"id\":\"2111\",\"type\":\"SaveTool\"},{\"id\":\"2112\",\"type\":\"ResetTool\"},{\"id\":\"2113\",\"type\":\"HelpTool\"}]},\"id\":\"2114\",\"type\":\"Toolbar\"},{\"attributes\":{\"axis_label\":\"Pay Rate\",\"formatter\":{\"id\":\"2592\",\"type\":\"BasicTickFormatter\"},\"ticker\":{\"id\":\"2182\",\"type\":\"BasicTicker\"}},\"id\":\"2181\",\"type\":\"LinearAxis\"},{\"attributes\":{\"active_drag\":\"auto\",\"active_inspect\":\"auto\",\"active_multi\":null,\"active_scroll\":\"auto\",\"active_tap\":\"auto\",\"tools\":[{\"id\":\"2225\",\"type\":\"PanTool\"},{\"id\":\"2226\",\"type\":\"WheelZoomTool\"},{\"id\":\"2227\",\"type\":\"BoxZoomTool\"},{\"id\":\"2228\",\"type\":\"SaveTool\"},{\"id\":\"2229\",\"type\":\"ResetTool\"},{\"id\":\"2230\",\"type\":\"HelpTool\"}]},\"id\":\"2231\",\"type\":\"Toolbar\"},{\"attributes\":{\"axis_label\":\"Pay Rate\",\"formatter\":{\"id\":\"2604\",\"type\":\"BasicTickFormatter\"},\"ticker\":{\"id\":\"2299\",\"type\":\"BasicTicker\"}},\"id\":\"2298\",\"type\":\"LinearAxis\"},{\"attributes\":{\"active_drag\":\"auto\",\"active_inspect\":\"auto\",\"active_multi\":null,\"active_scroll\":\"auto\",\"active_tap\":\"auto\",\"tools\":[{\"id\":\"2342\",\"type\":\"PanTool\"},{\"id\":\"2343\",\"type\":\"WheelZoomTool\"},{\"id\":\"2344\",\"type\":\"BoxZoomTool\"},{\"id\":\"2345\",\"type\":\"SaveTool\"},{\"id\":\"2346\",\"type\":\"ResetTool\"},{\"id\":\"2347\",\"type\":\"HelpTool\"}]},\"id\":\"2348\",\"type\":\"Toolbar\"},{\"attributes\":{\"active_drag\":\"auto\",\"active_inspect\":\"auto\",\"active_multi\":null,\"active_scroll\":\"auto\",\"active_tap\":\"auto\",\"tools\":[{\"id\":\"2459\",\"type\":\"PanTool\"},{\"id\":\"2460\",\"type\":\"WheelZoomTool\"},{\"id\":\"2461\",\"type\":\"BoxZoomTool\"},{\"id\":\"2462\",\"type\":\"SaveTool\"},{\"id\":\"2463\",\"type\":\"ResetTool\"},{\"id\":\"2464\",\"type\":\"HelpTool\"}]},\"id\":\"2465\",\"type\":\"Toolbar\"},{\"attributes\":{\"data_source\":{\"id\":\"2121\",\"type\":\"ColumnDataSource\"},\"glyph\":{\"id\":\"2122\",\"type\":\"Circle\"},\"hover_glyph\":null,\"muted_glyph\":null,\"nonselection_glyph\":{\"id\":\"2123\",\"type\":\"Circle\"},\"selection_glyph\":null,\"view\":{\"id\":\"2125\",\"type\":\"CDSView\"}},\"id\":\"2124\",\"type\":\"GlyphRenderer\"},{\"attributes\":{\"data_source\":{\"id\":\"2238\",\"type\":\"ColumnDataSource\"},\"glyph\":{\"id\":\"2239\",\"type\":\"Circle\"},\"hover_glyph\":null,\"muted_glyph\":null,\"nonselection_glyph\":{\"id\":\"2240\",\"type\":\"Circle\"},\"selection_glyph\":null,\"view\":{\"id\":\"2242\",\"type\":\"CDSView\"}},\"id\":\"2241\",\"type\":\"GlyphRenderer\"},{\"attributes\":{\"data_source\":{\"id\":\"2355\",\"type\":\"ColumnDataSource\"},\"glyph\":{\"id\":\"2356\",\"type\":\"Circle\"},\"hover_glyph\":null,\"muted_glyph\":null,\"nonselection_glyph\":{\"id\":\"2357\",\"type\":\"Circle\"},\"selection_glyph\":null,\"view\":{\"id\":\"2359\",\"type\":\"CDSView\"}},\"id\":\"2358\",\"type\":\"GlyphRenderer\"},{\"attributes\":{\"data_source\":{\"id\":\"2472\",\"type\":\"ColumnDataSource\"},\"glyph\":{\"id\":\"2473\",\"type\":\"Circle\"},\"hover_glyph\":null,\"muted_glyph\":null,\"nonselection_glyph\":{\"id\":\"2474\",\"type\":\"Circle\"},\"selection_glyph\":null,\"view\":{\"id\":\"2476\",\"type\":\"CDSView\"}},\"id\":\"2475\",\"type\":\"GlyphRenderer\"},{\"attributes\":{\"source\":{\"id\":\"2121\",\"type\":\"ColumnDataSource\"}},\"id\":\"2125\",\"type\":\"CDSView\"},{\"attributes\":{},\"id\":\"2182\",\"type\":\"BasicTicker\"},{\"attributes\":{\"source\":{\"id\":\"2238\",\"type\":\"ColumnDataSource\"}},\"id\":\"2242\",\"type\":\"CDSView\"},{\"attributes\":{\"dimension\":1,\"ticker\":{\"id\":\"2182\",\"type\":\"BasicTicker\"}},\"id\":\"2185\",\"type\":\"Grid\"},{\"attributes\":{\"dimension\":1,\"ticker\":{\"id\":\"2299\",\"type\":\"BasicTicker\"}},\"id\":\"2302\",\"type\":\"Grid\"},{\"attributes\":{},\"id\":\"2299\",\"type\":\"BasicTicker\"},{\"attributes\":{\"source\":{\"id\":\"2355\",\"type\":\"ColumnDataSource\"}},\"id\":\"2359\",\"type\":\"CDSView\"},{\"attributes\":{\"source\":{\"id\":\"2472\",\"type\":\"ColumnDataSource\"}},\"id\":\"2476\",\"type\":\"CDSView\"},{\"attributes\":{},\"id\":\"2578\",\"type\":\"BasicTickFormatter\"},{\"attributes\":{\"fill_alpha\":{\"value\":0.1},\"fill_color\":{\"value\":\"#1f77b4\"},\"line_alpha\":{\"value\":0.1},\"line_color\":{\"value\":\"#1f77b4\"},\"size\":{\"units\":\"screen\",\"value\":20},\"x\":{\"field\":\"x\"},\"y\":{\"field\":\"y\"}},\"id\":\"2201\",\"type\":\"Circle\"},{\"attributes\":{\"fill_alpha\":{\"value\":0.1},\"fill_color\":{\"value\":\"#1f77b4\"},\"line_alpha\":{\"value\":0.1},\"line_color\":{\"value\":\"#1f77b4\"},\"size\":{\"units\":\"screen\",\"value\":20},\"x\":{\"field\":\"x\"},\"y\":{\"field\":\"y\"}},\"id\":\"2318\",\"type\":\"Circle\"},{\"attributes\":{\"fill_alpha\":{\"value\":0.1},\"fill_color\":{\"value\":\"#1f77b4\"},\"line_alpha\":{\"value\":0.1},\"line_color\":{\"value\":\"#1f77b4\"},\"size\":{\"units\":\"screen\",\"value\":20},\"x\":{\"field\":\"x\"},\"y\":{\"field\":\"y\"}},\"id\":\"2162\",\"type\":\"Circle\"},{\"attributes\":{\"fill_alpha\":{\"value\":0.1},\"fill_color\":{\"value\":\"#1f77b4\"},\"line_alpha\":{\"value\":0.1},\"line_color\":{\"value\":\"#1f77b4\"},\"size\":{\"units\":\"screen\",\"value\":20},\"x\":{\"field\":\"x\"},\"y\":{\"field\":\"y\"}},\"id\":\"2279\",\"type\":\"Circle\"},{\"attributes\":{\"fill_alpha\":{\"value\":0.1},\"fill_color\":{\"value\":\"#1f77b4\"},\"line_alpha\":{\"value\":0.1},\"line_color\":{\"value\":\"#1f77b4\"},\"size\":{\"units\":\"screen\",\"value\":20},\"x\":{\"field\":\"x\"},\"y\":{\"field\":\"y\"}},\"id\":\"2396\",\"type\":\"Circle\"},{\"attributes\":{\"text\":\"Pay Rate vs Days Hired for Accountant I, R-Square= 0.1084\"},\"id\":\"2127\",\"type\":\"Title\"},{\"attributes\":{\"text\":\"Pay Rate vs Days Hired for IT Support, R-Square= 0.0595\"},\"id\":\"2244\",\"type\":\"Title\"},{\"attributes\":{\"text\":\"Pay Rate vs Days Hired for Production Technician II, R-Square= 0.1984\"},\"id\":\"2361\",\"type\":\"Title\"},{\"attributes\":{\"fill_alpha\":{\"value\":0.5},\"fill_color\":{\"value\":\"navy\"},\"line_alpha\":{\"value\":0.5},\"line_color\":{\"value\":\"navy\"},\"size\":{\"units\":\"screen\",\"value\":20},\"x\":{\"field\":\"x\"},\"y\":{\"field\":\"y\"}},\"id\":\"2200\",\"type\":\"Circle\"},{\"attributes\":{\"fill_alpha\":{\"value\":0.5},\"fill_color\":{\"value\":\"navy\"},\"line_alpha\":{\"value\":0.5},\"line_color\":{\"value\":\"navy\"},\"size\":{\"units\":\"screen\",\"value\":20},\"x\":{\"field\":\"x\"},\"y\":{\"field\":\"y\"}},\"id\":\"2317\",\"type\":\"Circle\"},{\"attributes\":{\"callback\":null},\"id\":\"2129\",\"type\":\"DataRange1d\"},{\"attributes\":{\"active_drag\":\"auto\",\"active_inspect\":\"auto\",\"active_multi\":null,\"active_scroll\":\"auto\",\"active_tap\":\"auto\",\"tools\":[{\"id\":\"2186\",\"type\":\"PanTool\"},{\"id\":\"2187\",\"type\":\"WheelZoomTool\"},{\"id\":\"2188\",\"type\":\"BoxZoomTool\"},{\"id\":\"2189\",\"type\":\"SaveTool\"},{\"id\":\"2190\",\"type\":\"ResetTool\"},{\"id\":\"2191\",\"type\":\"HelpTool\"}]},\"id\":\"2192\",\"type\":\"Toolbar\"},{\"attributes\":{\"callback\":null},\"id\":\"2246\",\"type\":\"DataRange1d\"},{\"attributes\":{\"active_drag\":\"auto\",\"active_inspect\":\"auto\",\"active_multi\":null,\"active_scroll\":\"auto\",\"active_tap\":\"auto\",\"tools\":[{\"id\":\"2303\",\"type\":\"PanTool\"},{\"id\":\"2304\",\"type\":\"WheelZoomTool\"},{\"id\":\"2305\",\"type\":\"BoxZoomTool\"},{\"id\":\"2306\",\"type\":\"SaveTool\"},{\"id\":\"2307\",\"type\":\"ResetTool\"},{\"id\":\"2308\",\"type\":\"HelpTool\"}]},\"id\":\"2309\",\"type\":\"Toolbar\"},{\"attributes\":{\"callback\":null},\"id\":\"2363\",\"type\":\"DataRange1d\"},{\"attributes\":{},\"id\":\"2580\",\"type\":\"BasicTickFormatter\"},{\"attributes\":{},\"id\":\"2186\",\"type\":\"PanTool\"},{\"attributes\":{\"callback\":null},\"id\":\"2131\",\"type\":\"DataRange1d\"},{\"attributes\":{\"callback\":null},\"id\":\"2248\",\"type\":\"DataRange1d\"},{\"attributes\":{\"callback\":null},\"id\":\"2365\",\"type\":\"DataRange1d\"},{\"attributes\":{},\"id\":\"2584\",\"type\":\"BasicTickFormatter\"},{\"attributes\":{},\"id\":\"2187\",\"type\":\"WheelZoomTool\"},{\"attributes\":{},\"id\":\"2303\",\"type\":\"PanTool\"},{\"attributes\":{},\"id\":\"2304\",\"type\":\"WheelZoomTool\"},{\"attributes\":{},\"id\":\"2133\",\"type\":\"LinearScale\"},{\"attributes\":{},\"id\":\"2250\",\"type\":\"LinearScale\"},{\"attributes\":{},\"id\":\"2367\",\"type\":\"LinearScale\"},{\"attributes\":{},\"id\":\"2586\",\"type\":\"BasicTickFormatter\"},{\"attributes\":{\"overlay\":{\"id\":\"2631\",\"type\":\"BoxAnnotation\"}},\"id\":\"2188\",\"type\":\"BoxZoomTool\"},{\"attributes\":{\"overlay\":{\"id\":\"2640\",\"type\":\"BoxAnnotation\"}},\"id\":\"2305\",\"type\":\"BoxZoomTool\"},{\"attributes\":{},\"id\":\"2135\",\"type\":\"LinearScale\"},{\"attributes\":{},\"id\":\"2252\",\"type\":\"LinearScale\"},{\"attributes\":{},\"id\":\"2369\",\"type\":\"LinearScale\"},{\"attributes\":{},\"id\":\"2588\",\"type\":\"BasicTickFormatter\"},{\"attributes\":{},\"id\":\"2189\",\"type\":\"SaveTool\"},{\"attributes\":{},\"id\":\"2306\",\"type\":\"SaveTool\"},{\"attributes\":{\"bottom_units\":\"screen\",\"fill_alpha\":{\"value\":0.5},\"fill_color\":{\"value\":\"lightgrey\"},\"left_units\":\"screen\",\"level\":\"overlay\",\"line_alpha\":{\"value\":1.0},\"line_color\":{\"value\":\"black\"},\"line_dash\":[4,4],\"line_width\":{\"value\":2},\"render_mode\":\"css\",\"right_units\":\"screen\",\"top_units\":\"screen\"},\"id\":\"2622\",\"type\":\"BoxAnnotation\"},{\"attributes\":{\"axis_label\":\"Days Hired\",\"formatter\":{\"id\":\"2586\",\"type\":\"BasicTickFormatter\"},\"ticker\":{\"id\":\"2138\",\"type\":\"BasicTicker\"}},\"id\":\"2137\",\"type\":\"LinearAxis\"},{\"attributes\":{\"axis_label\":\"Days Hired\",\"formatter\":{\"id\":\"2598\",\"type\":\"BasicTickFormatter\"},\"ticker\":{\"id\":\"2255\",\"type\":\"BasicTicker\"}},\"id\":\"2254\",\"type\":\"LinearAxis\"},{\"attributes\":{\"axis_label\":\"Days Hired\",\"formatter\":{\"id\":\"2610\",\"type\":\"BasicTickFormatter\"},\"ticker\":{\"id\":\"2372\",\"type\":\"BasicTicker\"}},\"id\":\"2371\",\"type\":\"LinearAxis\"},{\"attributes\":{},\"id\":\"2590\",\"type\":\"BasicTickFormatter\"},{\"attributes\":{},\"id\":\"2190\",\"type\":\"ResetTool\"},{\"attributes\":{},\"id\":\"2307\",\"type\":\"ResetTool\"},{\"attributes\":{},\"id\":\"2138\",\"type\":\"BasicTicker\"},{\"attributes\":{},\"id\":\"2255\",\"type\":\"BasicTicker\"},{\"attributes\":{},\"id\":\"2372\",\"type\":\"BasicTicker\"},{\"attributes\":{},\"id\":\"2191\",\"type\":\"HelpTool\"},{\"attributes\":{},\"id\":\"2592\",\"type\":\"BasicTickFormatter\"},{\"attributes\":{},\"id\":\"2308\",\"type\":\"HelpTool\"},{\"attributes\":{\"ticker\":{\"id\":\"2138\",\"type\":\"BasicTicker\"}},\"id\":\"2141\",\"type\":\"Grid\"},{\"attributes\":{\"ticker\":{\"id\":\"2255\",\"type\":\"BasicTicker\"}},\"id\":\"2258\",\"type\":\"Grid\"},{\"attributes\":{\"ticker\":{\"id\":\"2372\",\"type\":\"BasicTicker\"}},\"id\":\"2375\",\"type\":\"Grid\"},{\"attributes\":{},\"id\":\"2594\",\"type\":\"BasicTickFormatter\"},{\"attributes\":{\"axis_label\":\"Pay Rate\",\"formatter\":{\"id\":\"2588\",\"type\":\"BasicTickFormatter\"},\"ticker\":{\"id\":\"2143\",\"type\":\"BasicTicker\"}},\"id\":\"2142\",\"type\":\"LinearAxis\"},{\"attributes\":{\"axis_label\":\"Pay Rate\",\"formatter\":{\"id\":\"2600\",\"type\":\"BasicTickFormatter\"},\"ticker\":{\"id\":\"2260\",\"type\":\"BasicTicker\"}},\"id\":\"2259\",\"type\":\"LinearAxis\"},{\"attributes\":{\"axis_label\":\"Pay Rate\",\"formatter\":{\"id\":\"2612\",\"type\":\"BasicTickFormatter\"},\"ticker\":{\"id\":\"2377\",\"type\":\"BasicTicker\"}},\"id\":\"2376\",\"type\":\"LinearAxis\"},{\"attributes\":{},\"id\":\"2596\",\"type\":\"BasicTickFormatter\"},{\"attributes\":{\"data_source\":{\"id\":\"2199\",\"type\":\"ColumnDataSource\"},\"glyph\":{\"id\":\"2200\",\"type\":\"Circle\"},\"hover_glyph\":null,\"muted_glyph\":null,\"nonselection_glyph\":{\"id\":\"2201\",\"type\":\"Circle\"},\"selection_glyph\":null,\"view\":{\"id\":\"2203\",\"type\":\"CDSView\"}},\"id\":\"2202\",\"type\":\"GlyphRenderer\"},{\"attributes\":{\"data_source\":{\"id\":\"2316\",\"type\":\"ColumnDataSource\"},\"glyph\":{\"id\":\"2317\",\"type\":\"Circle\"},\"hover_glyph\":null,\"muted_glyph\":null,\"nonselection_glyph\":{\"id\":\"2318\",\"type\":\"Circle\"},\"selection_glyph\":null,\"view\":{\"id\":\"2320\",\"type\":\"CDSView\"}},\"id\":\"2319\",\"type\":\"GlyphRenderer\"},{\"attributes\":{},\"id\":\"2143\",\"type\":\"BasicTicker\"},{\"attributes\":{},\"id\":\"2582\",\"type\":\"BasicTickFormatter\"},{\"attributes\":{\"source\":{\"id\":\"2199\",\"type\":\"ColumnDataSource\"}},\"id\":\"2203\",\"type\":\"CDSView\"},{\"attributes\":{},\"id\":\"2598\",\"type\":\"BasicTickFormatter\"},{\"attributes\":{},\"id\":\"2260\",\"type\":\"BasicTicker\"},{\"attributes\":{\"dimension\":1,\"ticker\":{\"id\":\"2260\",\"type\":\"BasicTicker\"}},\"id\":\"2263\",\"type\":\"Grid\"},{\"attributes\":{\"dimension\":1,\"ticker\":{\"id\":\"2143\",\"type\":\"BasicTicker\"}},\"id\":\"2146\",\"type\":\"Grid\"},{\"attributes\":{\"dimension\":1,\"ticker\":{\"id\":\"2377\",\"type\":\"BasicTicker\"}},\"id\":\"2380\",\"type\":\"Grid\"},{\"attributes\":{},\"id\":\"2600\",\"type\":\"BasicTickFormatter\"},{\"attributes\":{\"source\":{\"id\":\"2316\",\"type\":\"ColumnDataSource\"}},\"id\":\"2320\",\"type\":\"CDSView\"},{\"attributes\":{\"below\":[{\"id\":\"2254\",\"type\":\"LinearAxis\"}],\"center\":[{\"id\":\"2258\",\"type\":\"Grid\"},{\"id\":\"2263\",\"type\":\"Grid\"}],\"left\":[{\"id\":\"2259\",\"type\":\"LinearAxis\"}],\"plot_height\":500,\"plot_width\":500,\"renderers\":[{\"id\":\"2280\",\"type\":\"GlyphRenderer\"}],\"title\":{\"id\":\"2244\",\"type\":\"Title\"},\"toolbar\":{\"id\":\"2270\",\"type\":\"Toolbar\"},\"x_range\":{\"id\":\"2246\",\"type\":\"DataRange1d\"},\"x_scale\":{\"id\":\"2250\",\"type\":\"LinearScale\"},\"y_range\":{\"id\":\"2248\",\"type\":\"DataRange1d\"},\"y_scale\":{\"id\":\"2252\",\"type\":\"LinearScale\"}},\"id\":\"2243\",\"subtype\":\"Figure\",\"type\":\"Plot\"},{\"attributes\":{\"below\":[{\"id\":\"2371\",\"type\":\"LinearAxis\"}],\"center\":[{\"id\":\"2375\",\"type\":\"Grid\"},{\"id\":\"2380\",\"type\":\"Grid\"}],\"left\":[{\"id\":\"2376\",\"type\":\"LinearAxis\"}],\"plot_height\":500,\"plot_width\":500,\"renderers\":[{\"id\":\"2397\",\"type\":\"GlyphRenderer\"}],\"title\":{\"id\":\"2361\",\"type\":\"Title\"},\"toolbar\":{\"id\":\"2387\",\"type\":\"Toolbar\"},\"x_range\":{\"id\":\"2363\",\"type\":\"DataRange1d\"},\"x_scale\":{\"id\":\"2367\",\"type\":\"LinearScale\"},\"y_range\":{\"id\":\"2365\",\"type\":\"DataRange1d\"},\"y_scale\":{\"id\":\"2369\",\"type\":\"LinearScale\"}},\"id\":\"2360\",\"subtype\":\"Figure\",\"type\":\"Plot\"},{\"attributes\":{\"fill_alpha\":{\"value\":0.5},\"fill_color\":{\"value\":\"navy\"},\"line_alpha\":{\"value\":0.5},\"line_color\":{\"value\":\"navy\"},\"size\":{\"units\":\"screen\",\"value\":20},\"x\":{\"field\":\"x\"},\"y\":{\"field\":\"y\"}},\"id\":\"2161\",\"type\":\"Circle\"},{\"attributes\":{\"fill_alpha\":{\"value\":0.1},\"fill_color\":{\"value\":\"#1f77b4\"},\"line_alpha\":{\"value\":0.1},\"line_color\":{\"value\":\"#1f77b4\"},\"size\":{\"units\":\"screen\",\"value\":20},\"x\":{\"field\":\"x\"},\"y\":{\"field\":\"y\"}},\"id\":\"2240\",\"type\":\"Circle\"},{\"attributes\":{\"fill_alpha\":{\"value\":0.5},\"fill_color\":{\"value\":\"navy\"},\"line_alpha\":{\"value\":0.5},\"line_color\":{\"value\":\"navy\"},\"size\":{\"units\":\"screen\",\"value\":20},\"x\":{\"field\":\"x\"},\"y\":{\"field\":\"y\"}},\"id\":\"2278\",\"type\":\"Circle\"},{\"attributes\":{},\"id\":\"2602\",\"type\":\"BasicTickFormatter\"},{\"attributes\":{\"text\":\"Pay Rate vs Days Hired for Database Administrator, R-Square= 0.0286\"},\"id\":\"2205\",\"type\":\"Title\"},{\"attributes\":{\"text\":\"Pay Rate vs Days Hired for Network Engineer, R-Square= 0.0075\"},\"id\":\"2322\",\"type\":\"Title\"},{\"attributes\":{\"fill_alpha\":{\"value\":0.1},\"fill_color\":{\"value\":\"#1f77b4\"},\"line_alpha\":{\"value\":0.1},\"line_color\":{\"value\":\"#1f77b4\"},\"size\":{\"units\":\"screen\",\"value\":20},\"x\":{\"field\":\"x\"},\"y\":{\"field\":\"y\"}},\"id\":\"2357\",\"type\":\"Circle\"},{\"attributes\":{\"callback\":null,\"data\":{\"x\":[3317,1420,1154],\"y\":{\"__ndarray__\":\"AAAAAACAPEAAAAAAAAA3QAAAAAAAAD1A\",\"dtype\":\"float64\",\"shape\":[3]}},\"selected\":{\"id\":\"2629\",\"type\":\"Selection\"},\"selection_policy\":{\"id\":\"2630\",\"type\":\"UnionRenderers\"}},\"id\":\"2160\",\"type\":\"ColumnDataSource\"},{\"attributes\":{\"callback\":null,\"data\":{\"x\":[1908,2766,2501,2361],\"y\":{\"__ndarray__\":\"PQrXo3D9PEBmZmZmZmY/QAAAAAAAADpAPQrXo3B9O0A=\",\"dtype\":\"float64\",\"shape\":[4]}},\"selected\":{\"id\":\"2638\",\"type\":\"Selection\"},\"selection_policy\":{\"id\":\"2639\",\"type\":\"UnionRenderers\"}},\"id\":\"2277\",\"type\":\"ColumnDataSource\"},{\"attributes\":{},\"id\":\"2604\",\"type\":\"BasicTickFormatter\"},{\"attributes\":{\"callback\":null,\"data\":{\"x\":[2428,1154,2092,2428,2211,1238,1238,1378,1476,2336,1238,1560,972,2211,1658,1658,1112,2064,2645,1154,1196,1154,1238],\"y\":{\"__ndarray__\":\"AAAAAAAAO0AAAAAAAAA2QAAAAAAAADlAAAAAAAAAOkAAAAAAAAA5QAAAAAAAADhAAAAAAAAAO0AAAAAAAAA4QAAAAAAAADhAAAAAAACANkAAAAAAAAA5QJqZmZmZGTpAAAAAAAAAOkAAAAAAAAA7QAAAAAAAADlAAAAAAAAAPUCkcD0K12M6QAAAAAAAADpAAAAAAAAAPUAAAAAAAAA2QAAAAAAAADZAAAAAAAAANkAAAAAAAEA4QA==\",\"dtype\":\"float64\",\"shape\":[23]}},\"selected\":{\"id\":\"2647\",\"type\":\"Selection\"},\"selection_policy\":{\"id\":\"2648\",\"type\":\"UnionRenderers\"}},\"id\":\"2394\",\"type\":\"ColumnDataSource\"},{\"attributes\":{\"active_drag\":\"auto\",\"active_inspect\":\"auto\",\"active_multi\":null,\"active_scroll\":\"auto\",\"active_tap\":\"auto\",\"tools\":[{\"id\":\"2147\",\"type\":\"PanTool\"},{\"id\":\"2148\",\"type\":\"WheelZoomTool\"},{\"id\":\"2149\",\"type\":\"BoxZoomTool\"},{\"id\":\"2150\",\"type\":\"SaveTool\"},{\"id\":\"2151\",\"type\":\"ResetTool\"},{\"id\":\"2152\",\"type\":\"HelpTool\"}]},\"id\":\"2153\",\"type\":\"Toolbar\"},{\"attributes\":{\"callback\":null},\"id\":\"2207\",\"type\":\"DataRange1d\"},{\"attributes\":{\"active_drag\":\"auto\",\"active_inspect\":\"auto\",\"active_multi\":null,\"active_scroll\":\"auto\",\"active_tap\":\"auto\",\"tools\":[{\"id\":\"2264\",\"type\":\"PanTool\"},{\"id\":\"2265\",\"type\":\"WheelZoomTool\"},{\"id\":\"2266\",\"type\":\"BoxZoomTool\"},{\"id\":\"2267\",\"type\":\"SaveTool\"},{\"id\":\"2268\",\"type\":\"ResetTool\"},{\"id\":\"2269\",\"type\":\"HelpTool\"}]},\"id\":\"2270\",\"type\":\"Toolbar\"},{\"attributes\":{\"callback\":null},\"id\":\"2324\",\"type\":\"DataRange1d\"},{\"attributes\":{\"active_drag\":\"auto\",\"active_inspect\":\"auto\",\"active_multi\":null,\"active_scroll\":\"auto\",\"active_tap\":\"auto\",\"tools\":[{\"id\":\"2381\",\"type\":\"PanTool\"},{\"id\":\"2382\",\"type\":\"WheelZoomTool\"},{\"id\":\"2383\",\"type\":\"BoxZoomTool\"},{\"id\":\"2384\",\"type\":\"SaveTool\"},{\"id\":\"2385\",\"type\":\"ResetTool\"},{\"id\":\"2386\",\"type\":\"HelpTool\"}]},\"id\":\"2387\",\"type\":\"Toolbar\"},{\"attributes\":{},\"id\":\"2147\",\"type\":\"PanTool\"},{\"attributes\":{},\"id\":\"2264\",\"type\":\"PanTool\"},{\"attributes\":{\"callback\":null},\"id\":\"2209\",\"type\":\"DataRange1d\"},{\"attributes\":{\"callback\":null},\"id\":\"2326\",\"type\":\"DataRange1d\"},{\"attributes\":{},\"id\":\"2606\",\"type\":\"BasicTickFormatter\"},{\"attributes\":{},\"id\":\"2148\",\"type\":\"WheelZoomTool\"},{\"attributes\":{},\"id\":\"2265\",\"type\":\"WheelZoomTool\"},{\"attributes\":{},\"id\":\"2608\",\"type\":\"BasicTickFormatter\"},{\"attributes\":{},\"id\":\"2382\",\"type\":\"WheelZoomTool\"},{\"attributes\":{},\"id\":\"2211\",\"type\":\"LinearScale\"},{\"attributes\":{},\"id\":\"2328\",\"type\":\"LinearScale\"},{\"attributes\":{},\"id\":\"2624\",\"type\":\"UnionRenderers\"},{\"attributes\":{\"overlay\":{\"id\":\"2628\",\"type\":\"BoxAnnotation\"}},\"id\":\"2149\",\"type\":\"BoxZoomTool\"},{\"attributes\":{\"overlay\":{\"id\":\"2637\",\"type\":\"BoxAnnotation\"}},\"id\":\"2266\",\"type\":\"BoxZoomTool\"},{\"attributes\":{},\"id\":\"2610\",\"type\":\"BasicTickFormatter\"},{\"attributes\":{\"overlay\":{\"id\":\"2646\",\"type\":\"BoxAnnotation\"}},\"id\":\"2383\",\"type\":\"BoxZoomTool\"},{\"attributes\":{},\"id\":\"2213\",\"type\":\"LinearScale\"},{\"attributes\":{},\"id\":\"2330\",\"type\":\"LinearScale\"},{\"attributes\":{},\"id\":\"2150\",\"type\":\"SaveTool\"},{\"attributes\":{},\"id\":\"2267\",\"type\":\"SaveTool\"},{\"attributes\":{},\"id\":\"2384\",\"type\":\"SaveTool\"},{\"attributes\":{},\"id\":\"2612\",\"type\":\"BasicTickFormatter\"},{\"attributes\":{\"axis_label\":\"Days Hired\",\"formatter\":{\"id\":\"2594\",\"type\":\"BasicTickFormatter\"},\"ticker\":{\"id\":\"2216\",\"type\":\"BasicTicker\"}},\"id\":\"2215\",\"type\":\"LinearAxis\"},{\"attributes\":{\"axis_label\":\"Days Hired\",\"formatter\":{\"id\":\"2606\",\"type\":\"BasicTickFormatter\"},\"ticker\":{\"id\":\"2333\",\"type\":\"BasicTicker\"}},\"id\":\"2332\",\"type\":\"LinearAxis\"},{\"attributes\":{},\"id\":\"2151\",\"type\":\"ResetTool\"},{\"attributes\":{},\"id\":\"2268\",\"type\":\"ResetTool\"},{\"attributes\":{},\"id\":\"2385\",\"type\":\"ResetTool\"},{\"attributes\":{},\"id\":\"2614\",\"type\":\"BasicTickFormatter\"},{\"attributes\":{},\"id\":\"2216\",\"type\":\"BasicTicker\"},{\"attributes\":{},\"id\":\"2333\",\"type\":\"BasicTicker\"},{\"attributes\":{},\"id\":\"2152\",\"type\":\"HelpTool\"},{\"attributes\":{},\"id\":\"2269\",\"type\":\"HelpTool\"},{\"attributes\":{},\"id\":\"2386\",\"type\":\"HelpTool\"},{\"attributes\":{},\"id\":\"2616\",\"type\":\"BasicTickFormatter\"},{\"attributes\":{\"ticker\":{\"id\":\"2216\",\"type\":\"BasicTicker\"}},\"id\":\"2219\",\"type\":\"Grid\"},{\"attributes\":{\"ticker\":{\"id\":\"2333\",\"type\":\"BasicTicker\"}},\"id\":\"2336\",\"type\":\"Grid\"},{\"attributes\":{},\"id\":\"2618\",\"type\":\"BasicTickFormatter\"},{\"attributes\":{\"axis_label\":\"Pay Rate\",\"formatter\":{\"id\":\"2596\",\"type\":\"BasicTickFormatter\"},\"ticker\":{\"id\":\"2221\",\"type\":\"BasicTicker\"}},\"id\":\"2220\",\"type\":\"LinearAxis\"},{\"attributes\":{\"axis_label\":\"Pay Rate\",\"formatter\":{\"id\":\"2608\",\"type\":\"BasicTickFormatter\"},\"ticker\":{\"id\":\"2338\",\"type\":\"BasicTicker\"}},\"id\":\"2337\",\"type\":\"LinearAxis\"},{\"attributes\":{},\"id\":\"2620\",\"type\":\"BasicTickFormatter\"},{\"attributes\":{\"data_source\":{\"id\":\"2160\",\"type\":\"ColumnDataSource\"},\"glyph\":{\"id\":\"2161\",\"type\":\"Circle\"},\"hover_glyph\":null,\"muted_glyph\":null,\"nonselection_glyph\":{\"id\":\"2162\",\"type\":\"Circle\"},\"selection_glyph\":null,\"view\":{\"id\":\"2164\",\"type\":\"CDSView\"}},\"id\":\"2163\",\"type\":\"GlyphRenderer\"},{\"attributes\":{\"data_source\":{\"id\":\"2277\",\"type\":\"ColumnDataSource\"},\"glyph\":{\"id\":\"2278\",\"type\":\"Circle\"},\"hover_glyph\":null,\"muted_glyph\":null,\"nonselection_glyph\":{\"id\":\"2279\",\"type\":\"Circle\"},\"selection_glyph\":null,\"view\":{\"id\":\"2281\",\"type\":\"CDSView\"}},\"id\":\"2280\",\"type\":\"GlyphRenderer\"},{\"attributes\":{\"data_source\":{\"id\":\"2394\",\"type\":\"ColumnDataSource\"},\"glyph\":{\"id\":\"2395\",\"type\":\"Circle\"},\"hover_glyph\":null,\"muted_glyph\":null,\"nonselection_glyph\":{\"id\":\"2396\",\"type\":\"Circle\"},\"selection_glyph\":null,\"view\":{\"id\":\"2398\",\"type\":\"CDSView\"}},\"id\":\"2397\",\"type\":\"GlyphRenderer\"},{\"attributes\":{\"source\":{\"id\":\"2160\",\"type\":\"ColumnDataSource\"}},\"id\":\"2164\",\"type\":\"CDSView\"},{\"attributes\":{},\"id\":\"2221\",\"type\":\"BasicTicker\"},{\"attributes\":{\"source\":{\"id\":\"2277\",\"type\":\"ColumnDataSource\"}},\"id\":\"2281\",\"type\":\"CDSView\"},{\"attributes\":{},\"id\":\"2338\",\"type\":\"BasicTicker\"},{\"attributes\":{\"dimension\":1,\"ticker\":{\"id\":\"2221\",\"type\":\"BasicTicker\"}},\"id\":\"2224\",\"type\":\"Grid\"},{\"attributes\":{\"dimension\":1,\"ticker\":{\"id\":\"2338\",\"type\":\"BasicTicker\"}},\"id\":\"2341\",\"type\":\"Grid\"},{\"attributes\":{\"source\":{\"id\":\"2394\",\"type\":\"ColumnDataSource\"}},\"id\":\"2398\",\"type\":\"CDSView\"},{\"attributes\":{\"below\":[{\"id\":\"2176\",\"type\":\"LinearAxis\"}],\"center\":[{\"id\":\"2180\",\"type\":\"Grid\"},{\"id\":\"2185\",\"type\":\"Grid\"}],\"left\":[{\"id\":\"2181\",\"type\":\"LinearAxis\"}],\"plot_height\":500,\"plot_width\":500,\"renderers\":[{\"id\":\"2202\",\"type\":\"GlyphRenderer\"}],\"title\":{\"id\":\"2166\",\"type\":\"Title\"},\"toolbar\":{\"id\":\"2192\",\"type\":\"Toolbar\"},\"x_range\":{\"id\":\"2168\",\"type\":\"DataRange1d\"},\"x_scale\":{\"id\":\"2172\",\"type\":\"LinearScale\"},\"y_range\":{\"id\":\"2170\",\"type\":\"DataRange1d\"},\"y_scale\":{\"id\":\"2174\",\"type\":\"LinearScale\"}},\"id\":\"2165\",\"subtype\":\"Figure\",\"type\":\"Plot\"},{\"attributes\":{\"below\":[{\"id\":\"2293\",\"type\":\"LinearAxis\"}],\"center\":[{\"id\":\"2297\",\"type\":\"Grid\"},{\"id\":\"2302\",\"type\":\"Grid\"}],\"left\":[{\"id\":\"2298\",\"type\":\"LinearAxis\"}],\"plot_height\":500,\"plot_width\":500,\"renderers\":[{\"id\":\"2319\",\"type\":\"GlyphRenderer\"}],\"title\":{\"id\":\"2283\",\"type\":\"Title\"},\"toolbar\":{\"id\":\"2309\",\"type\":\"Toolbar\"},\"x_range\":{\"id\":\"2285\",\"type\":\"DataRange1d\"},\"x_scale\":{\"id\":\"2289\",\"type\":\"LinearScale\"},\"y_range\":{\"id\":\"2287\",\"type\":\"DataRange1d\"},\"y_scale\":{\"id\":\"2291\",\"type\":\"LinearScale\"}},\"id\":\"2282\",\"subtype\":\"Figure\",\"type\":\"Plot\"},{\"attributes\":{\"below\":[{\"id\":\"2410\",\"type\":\"LinearAxis\"}],\"center\":[{\"id\":\"2414\",\"type\":\"Grid\"},{\"id\":\"2419\",\"type\":\"Grid\"}],\"left\":[{\"id\":\"2415\",\"type\":\"LinearAxis\"}],\"plot_height\":500,\"plot_width\":500,\"renderers\":[{\"id\":\"2436\",\"type\":\"GlyphRenderer\"}],\"title\":{\"id\":\"2400\",\"type\":\"Title\"},\"toolbar\":{\"id\":\"2426\",\"type\":\"Toolbar\"},\"x_range\":{\"id\":\"2402\",\"type\":\"DataRange1d\"},\"x_scale\":{\"id\":\"2406\",\"type\":\"LinearScale\"},\"y_range\":{\"id\":\"2404\",\"type\":\"DataRange1d\"},\"y_scale\":{\"id\":\"2408\",\"type\":\"LinearScale\"}},\"id\":\"2399\",\"subtype\":\"Figure\",\"type\":\"Plot\"},{\"attributes\":{},\"id\":\"2623\",\"type\":\"Selection\"},{\"attributes\":{\"below\":[{\"id\":\"2332\",\"type\":\"LinearAxis\"}],\"center\":[{\"id\":\"2336\",\"type\":\"Grid\"},{\"id\":\"2341\",\"type\":\"Grid\"}],\"left\":[{\"id\":\"2337\",\"type\":\"LinearAxis\"}],\"plot_height\":500,\"plot_width\":500,\"renderers\":[{\"id\":\"2358\",\"type\":\"GlyphRenderer\"}],\"title\":{\"id\":\"2322\",\"type\":\"Title\"},\"toolbar\":{\"id\":\"2348\",\"type\":\"Toolbar\"},\"x_range\":{\"id\":\"2324\",\"type\":\"DataRange1d\"},\"x_scale\":{\"id\":\"2328\",\"type\":\"LinearScale\"},\"y_range\":{\"id\":\"2326\",\"type\":\"DataRange1d\"},\"y_scale\":{\"id\":\"2330\",\"type\":\"LinearScale\"}},\"id\":\"2321\",\"subtype\":\"Figure\",\"type\":\"Plot\"},{\"attributes\":{\"below\":[{\"id\":\"2215\",\"type\":\"LinearAxis\"}],\"center\":[{\"id\":\"2219\",\"type\":\"Grid\"},{\"id\":\"2224\",\"type\":\"Grid\"}],\"left\":[{\"id\":\"2220\",\"type\":\"LinearAxis\"}],\"plot_height\":500,\"plot_width\":500,\"renderers\":[{\"id\":\"2241\",\"type\":\"GlyphRenderer\"}],\"title\":{\"id\":\"2205\",\"type\":\"Title\"},\"toolbar\":{\"id\":\"2231\",\"type\":\"Toolbar\"},\"x_range\":{\"id\":\"2207\",\"type\":\"DataRange1d\"},\"x_scale\":{\"id\":\"2211\",\"type\":\"LinearScale\"},\"y_range\":{\"id\":\"2209\",\"type\":\"DataRange1d\"},\"y_scale\":{\"id\":\"2213\",\"type\":\"LinearScale\"}},\"id\":\"2204\",\"subtype\":\"Figure\",\"type\":\"Plot\"},{\"attributes\":{\"callback\":null,\"data\":{\"x\":[1154,1196,2512,2106,1196,2273,2456,1014,1294,1294,1560,2036,2022,1154,1602,1518,1056,2148,4339,2617,1154,2336,2092],\"y\":{\"__ndarray__\":\"AAAAAACAS0AAAAAAAIBLQAAAAAAAgEtAAAAAAACAS0AAAAAAAABMQAAAAAAAgEtAAAAAAADAS0AAAAAAAIBLQAAAAAAAwEtAAAAAAAAATEAAAAAAAIBLQAAAAAAAgEtAAAAAAAAATEAAAAAAAIBLQAAAAAAAgEtAAAAAAACATEAAAAAAAIBLQAAAAAAAgEtAAAAAAACAS0AAAAAAAABLQAAAAAAAgEtAAAAAAACAS0AAAAAAAABMQA==\",\"dtype\":\"float64\",\"shape\":[23]}},\"selected\":{\"id\":\"2650\",\"type\":\"Selection\"},\"selection_policy\":{\"id\":\"2651\",\"type\":\"UnionRenderers\"}},\"id\":\"2433\",\"type\":\"ColumnDataSource\"},{\"attributes\":{\"below\":[{\"id\":\"2449\",\"type\":\"LinearAxis\"}],\"center\":[{\"id\":\"2453\",\"type\":\"Grid\"},{\"id\":\"2458\",\"type\":\"Grid\"}],\"left\":[{\"id\":\"2454\",\"type\":\"LinearAxis\"}],\"plot_height\":500,\"plot_width\":500,\"renderers\":[{\"id\":\"2475\",\"type\":\"GlyphRenderer\"}],\"title\":{\"id\":\"2439\",\"type\":\"Title\"},\"toolbar\":{\"id\":\"2465\",\"type\":\"Toolbar\"},\"x_range\":{\"id\":\"2441\",\"type\":\"DataRange1d\"},\"x_scale\":{\"id\":\"2445\",\"type\":\"LinearScale\"},\"y_range\":{\"id\":\"2443\",\"type\":\"DataRange1d\"},\"y_scale\":{\"id\":\"2447\",\"type\":\"LinearScale\"}},\"id\":\"2438\",\"subtype\":\"Figure\",\"type\":\"Plot\"},{\"attributes\":{\"callback\":null,\"data\":{\"x\":[2309,668,1165,908,1518,1928,1881,2686,3244],\"y\":{\"__ndarray__\":\"AAAAAABAS0AAAAAAAIBLQAAAAAAAgElAAAAAAAAAS0AAAAAAAIBLQAAAAAAAgEpAAAAAAAAASkAAAAAAAIBKQAAAAAAAgEtA\",\"dtype\":\"float64\",\"shape\":[9]}},\"selected\":{\"id\":\"2632\",\"type\":\"Selection\"},\"selection_policy\":{\"id\":\"2633\",\"type\":\"UnionRenderers\"}},\"id\":\"2199\",\"type\":\"ColumnDataSource\"},{\"attributes\":{\"fill_alpha\":{\"value\":0.5},\"fill_color\":{\"value\":\"navy\"},\"line_alpha\":{\"value\":0.5},\"line_color\":{\"value\":\"navy\"},\"size\":{\"units\":\"screen\",\"value\":20},\"x\":{\"field\":\"x\"},\"y\":{\"field\":\"y\"}},\"id\":\"2239\",\"type\":\"Circle\"},{\"attributes\":{\"callback\":null,\"data\":{\"x\":[420,289,284],\"y\":{\"__ndarray__\":\"AAAAAAAgSUAAAAAAACBKQAAAAAAAgElA\",\"dtype\":\"float64\",\"shape\":[3]}},\"selected\":{\"id\":\"2641\",\"type\":\"Selection\"},\"selection_policy\":{\"id\":\"2642\",\"type\":\"UnionRenderers\"}},\"id\":\"2316\",\"type\":\"ColumnDataSource\"},{\"attributes\":{\"text\":\"Pay Rate vs Days Hired for Production Manager, R-Square= 0.0115\"},\"id\":\"2166\",\"type\":\"Title\"},{\"attributes\":{\"text\":\"Pay Rate vs Days Hired for Senior BI Developer, R-Square= 0.5856\"},\"id\":\"2283\",\"type\":\"Title\"},{\"attributes\":{\"text\":\"Pay Rate vs Days Hired for Area Sales Manager, R-Square= 0.0431\"},\"id\":\"2400\",\"type\":\"Title\"},{\"attributes\":{\"callback\":null,\"data\":{\"x\":[972,1112,1112,1014,972,1056,972],\"y\":{\"__ndarray__\":\"AAAAAAAAQUAAAAAAAMBBQAAAAAAAYEVAZmZmZmbGQ0CamZmZmRlFQDMzMzMzMz5AZmZmZmZmP0A=\",\"dtype\":\"float64\",\"shape\":[7]}},\"selected\":{\"id\":\"2635\",\"type\":\"Selection\"},\"selection_policy\":{\"id\":\"2636\",\"type\":\"UnionRenderers\"}},\"id\":\"2238\",\"type\":\"ColumnDataSource\"},{\"attributes\":{\"callback\":null,\"data\":{\"x\":[1056,972,1056,1056,972,1014,1153,972],\"y\":{\"__ndarray__\":\"AAAAAACARkAAAAAAAABFQAAAAAAAgEJAAAAAAACAQ0AAAAAAAIBFQAAAAAAAADtAAAAAAACAR0DNzMzMzIxIQA==\",\"dtype\":\"float64\",\"shape\":[8]}},\"selected\":{\"id\":\"2644\",\"type\":\"Selection\"},\"selection_policy\":{\"id\":\"2645\",\"type\":\"UnionRenderers\"}},\"id\":\"2355\",\"type\":\"ColumnDataSource\"},{\"attributes\":{\"fill_alpha\":{\"value\":0.5},\"fill_color\":{\"value\":\"navy\"},\"line_alpha\":{\"value\":0.5},\"line_color\":{\"value\":\"navy\"},\"size\":{\"units\":\"screen\",\"value\":20},\"x\":{\"field\":\"x\"},\"y\":{\"field\":\"y\"}},\"id\":\"2356\",\"type\":\"Circle\"},{\"attributes\":{\"bottom_units\":\"screen\",\"fill_alpha\":{\"value\":0.5},\"fill_color\":{\"value\":\"lightgrey\"},\"left_units\":\"screen\",\"level\":\"overlay\",\"line_alpha\":{\"value\":1.0},\"line_color\":{\"value\":\"black\"},\"line_dash\":[4,4],\"line_width\":{\"value\":2},\"render_mode\":\"css\",\"right_units\":\"screen\",\"top_units\":\"screen\"},\"id\":\"2625\",\"type\":\"BoxAnnotation\"},{\"attributes\":{\"callback\":null},\"id\":\"2168\",\"type\":\"DataRange1d\"},{\"attributes\":{\"callback\":null},\"id\":\"2285\",\"type\":\"DataRange1d\"},{\"attributes\":{\"callback\":null},\"id\":\"2402\",\"type\":\"DataRange1d\"},{\"attributes\":{},\"id\":\"2225\",\"type\":\"PanTool\"},{\"attributes\":{},\"id\":\"2342\",\"type\":\"PanTool\"},{\"attributes\":{},\"id\":\"2626\",\"type\":\"Selection\"},{\"attributes\":{\"callback\":null},\"id\":\"2170\",\"type\":\"DataRange1d\"},{\"attributes\":{\"callback\":null},\"id\":\"2287\",\"type\":\"DataRange1d\"},{\"attributes\":{\"callback\":null},\"id\":\"2404\",\"type\":\"DataRange1d\"},{\"attributes\":{},\"id\":\"2226\",\"type\":\"WheelZoomTool\"},{\"attributes\":{},\"id\":\"2343\",\"type\":\"WheelZoomTool\"},{\"attributes\":{},\"id\":\"2377\",\"type\":\"BasicTicker\"},{\"attributes\":{},\"id\":\"2627\",\"type\":\"UnionRenderers\"},{\"attributes\":{},\"id\":\"2172\",\"type\":\"LinearScale\"},{\"attributes\":{},\"id\":\"2289\",\"type\":\"LinearScale\"},{\"attributes\":{},\"id\":\"2406\",\"type\":\"LinearScale\"},{\"attributes\":{\"overlay\":{\"id\":\"2634\",\"type\":\"BoxAnnotation\"}},\"id\":\"2227\",\"type\":\"BoxZoomTool\"},{\"attributes\":{},\"id\":\"2291\",\"type\":\"LinearScale\"}],\"root_ids\":[\"2478\"]},\"title\":\"Bokeh Application\",\"version\":\"1.3.4\"}};\n",
       "  var render_items = [{\"docid\":\"0f905c8a-53f0-4ea8-a2b0-a74d7f1797ab\",\"roots\":{\"2478\":\"1b1ccc0a-1dfa-41c6-a6ee-ead110930aed\"}}];\n",
       "  root.Bokeh.embed.embed_items_notebook(docs_json, render_items);\n",
       "\n",
       "  }\n",
       "  if (root.Bokeh !== undefined) {\n",
       "    embed_document(root);\n",
       "  } else {\n",
       "    var attempts = 0;\n",
       "    var timer = setInterval(function(root) {\n",
       "      if (root.Bokeh !== undefined) {\n",
       "        embed_document(root);\n",
       "        clearInterval(timer);\n",
       "      }\n",
       "      attempts++;\n",
       "      if (attempts > 100) {\n",
       "        console.log(\"Bokeh: ERROR: Unable to run BokehJS code because BokehJS library is missing\");\n",
       "        clearInterval(timer);\n",
       "      }\n",
       "    }, 10, root)\n",
       "  }\n",
       "})(window);"
      ],
      "application/vnd.bokehjs_exec.v0+json": ""
     },
     "metadata": {
      "application/vnd.bokehjs_exec.v0+json": {
       "id": "2478"
      }
     },
     "output_type": "display_data"
    }
   ],
   "source": [
    "#We perform the same regression and visualization analysis for days hired and pay rate\n",
    "list_of_r2_seniority = []\n",
    "list_of_plots_seniority = []\n",
    "\n",
    "for position in new_position_pay_seniority:\n",
    "    r_sq = get_r_squared(new_position_pay_seniority, position)\n",
    "\n",
    "    list_of_r2_seniority.append(r_sq)\n",
    "    p = scatter_plot_graph(new_position_pay_seniority,position,r_sq,\"Days Hired\")\n",
    "    list_of_plots_seniority.append(p)\n",
    "\n",
    "output_notebook()\n",
    "show(column(list_of_plots_seniority))"
   ]
  },
  {
   "cell_type": "code",
   "execution_count": 11,
   "metadata": {},
   "outputs": [
    {
     "name": "stdout",
     "output_type": "stream",
     "text": [
      "The average r-squared for this analysis is 0.12.\n"
     ]
    }
   ],
   "source": [
    "print(\"The average r-squared for this analysis is %.2f.\" %(sum(list_of_r2_seniority)/len(list_of_r2_seniority)))"
   ]
  },
  {
   "cell_type": "markdown",
   "metadata": {},
   "source": [
    "We can interpret this as: on average, the number of days that you have worked at this company accounts for about 12% of the variability of your pay rate vis-a-vis peers who hold the same position as you. This is higher than the R-squared value for performance score, but overall it is still very low.\n",
    "\n",
    "It is important for the company to be transparent to their staff about what accounts for the variability in pay rate, as it is a sensitive issue that can create a lot of conflict if not managed well."
   ]
  },
  {
   "cell_type": "markdown",
   "metadata": {},
   "source": [
    "# What is the overall diversity profile of the company?"
   ]
  },
  {
   "cell_type": "markdown",
   "metadata": {},
   "source": [
    "Lets analyze the overall diversity profile of the company and visualize the data. Here, I use 3 diversity categories: Gender, Race Description and Age. <br />\n",
    "\n",
    "First, lets analyze their gender ratio:"
   ]
  },
  {
   "cell_type": "markdown",
   "metadata": {},
   "source": [
    "## Gender"
   ]
  },
  {
   "cell_type": "code",
   "execution_count": 12,
   "metadata": {
    "collapsed": true
   },
   "outputs": [],
   "source": [
    "#A method that takes in a string that is in the list of headers of the data, and counts the number of employees\n",
    "# according to the categories within the column 'header'\n",
    "#Returns a dictionary with key as each category, value as the count of employees that falls within that category\n",
    "\n",
    "def count_by_category(Header):\n",
    "    set_of_category = list(get_set_of_column(Header))\n",
    "    count_of_category = {}\n",
    "\n",
    "    for category in set_of_category:\n",
    "        for employee in data.dict:\n",
    "            if employee[\"Employment Status\"] == 'Active':\n",
    "                if employee[Header] == category:\n",
    "                    append_dict(count_of_category, employee[Header],1)\n",
    "\n",
    "    sum_of_categories = sum_items_in_dict(count_of_category)\n",
    "    return sum_of_categories\n",
    "\n",
    "#A method that takes in a string that is in the list of headers of the data, and a dictionary, the sum of categories\n",
    "#It returns a dictionary with key as each category, and value as the % count of the total employees\n",
    "\n",
    "def percentage_by_category(Header, sum_of_categories):\n",
    "    list_of_values = []\n",
    "    for category in sum_of_categories:\n",
    "        list_of_values.append(sum_of_categories[category])\n",
    "    percentage_of_values = get_percentage(list_of_values)\n",
    "    percentage_of_category = {}\n",
    "    i = 0\n",
    "    for category in sum_of_categories:\n",
    "        percentage_of_category[category] = percentage_of_values[i]\n",
    "        i +=1\n",
    "    return percentage_of_category\n",
    "\n",
    "#A method that takes in a full list of values and returns a list of their % out of the values in the list\n",
    "\n",
    "def get_percentage(list_of_values):\n",
    "    sum_values = sum(list_of_values)\n",
    "    new_list = []\n",
    "    for i in list_of_values:\n",
    "        percent = (i / sum_values) * 100\n",
    "        new_list.append(percent)\n",
    "    return new_list\n",
    "\n",
    "#A method that takes in a dictionary, and returns a dictionary that is the sum of the length of items in the value\n",
    "def sum_items_in_dict(dictionary):\n",
    "    new_dict = {}\n",
    "    for item in dictionary:\n",
    "        new_dict[item] = len(dictionary[item])\n",
    "    return new_dict"
   ]
  },
  {
   "cell_type": "code",
   "execution_count": 13,
   "metadata": {
    "collapsed": true
   },
   "outputs": [],
   "source": [
    "count_by_gender = count_by_category(\"GenderID\")\n",
    "female_counter = count_by_gender['0']\n",
    "male_counter = count_by_gender['1']\n",
    "\n",
    "#A dictionary with more user friendly name- Female and Male\n",
    "count_by_gender_names = {'Females': female_counter, 'Males': male_counter}"
   ]
  },
  {
   "cell_type": "code",
   "execution_count": 14,
   "metadata": {},
   "outputs": [
    {
     "data": {
      "text/html": [
       "\n",
       "\n",
       "\n",
       "\n",
       "\n",
       "\n",
       "  <div class=\"bk-root\" id=\"14ee13cb-dd5e-4eed-85d3-b7fbc2a5852d\" data-root-id=\"3183\"></div>\n"
      ]
     },
     "metadata": {},
     "output_type": "display_data"
    },
    {
     "data": {
      "application/javascript": [
       "(function(root) {\n",
       "  function embed_document(root) {\n",
       "    \n",
       "  var docs_json = {\"d5510861-e478-4ef6-a346-e612e16ce0b4\":{\"roots\":{\"references\":[{\"attributes\":{\"below\":[{\"id\":\"3194\",\"type\":\"LinearAxis\"}],\"center\":[{\"id\":\"3198\",\"type\":\"Grid\"},{\"id\":\"3203\",\"type\":\"Grid\"},{\"id\":\"3220\",\"type\":\"Legend\"}],\"left\":[{\"id\":\"3199\",\"type\":\"LinearAxis\"}],\"plot_height\":500,\"plot_width\":900,\"renderers\":[{\"id\":\"3213\",\"type\":\"GlyphRenderer\"}],\"title\":{\"id\":\"3184\",\"type\":\"Title\"},\"toolbar\":{\"id\":\"3205\",\"type\":\"Toolbar\"},\"x_range\":{\"id\":\"3186\",\"type\":\"DataRange1d\"},\"x_scale\":{\"id\":\"3190\",\"type\":\"LinearScale\"},\"y_range\":{\"id\":\"3188\",\"type\":\"DataRange1d\"},\"y_scale\":{\"id\":\"3192\",\"type\":\"LinearScale\"}},\"id\":\"3183\",\"subtype\":\"Figure\",\"type\":\"Plot\"},{\"attributes\":{},\"id\":\"3216\",\"type\":\"BasicTickFormatter\"},{\"attributes\":{},\"id\":\"3192\",\"type\":\"LinearScale\"},{\"attributes\":{},\"id\":\"3218\",\"type\":\"BasicTickFormatter\"},{\"attributes\":{\"formatter\":{\"id\":\"3216\",\"type\":\"BasicTickFormatter\"},\"ticker\":{\"id\":\"3195\",\"type\":\"BasicTicker\"}},\"id\":\"3194\",\"type\":\"LinearAxis\"},{\"attributes\":{\"items\":[{\"id\":\"3221\",\"type\":\"LegendItem\"}]},\"id\":\"3220\",\"type\":\"Legend\"},{\"attributes\":{},\"id\":\"3195\",\"type\":\"BasicTicker\"},{\"attributes\":{\"label\":{\"field\":\"Race\"},\"renderers\":[{\"id\":\"3213\",\"type\":\"GlyphRenderer\"}]},\"id\":\"3221\",\"type\":\"LegendItem\"},{\"attributes\":{\"ticker\":{\"id\":\"3195\",\"type\":\"BasicTicker\"}},\"id\":\"3198\",\"type\":\"Grid\"},{\"attributes\":{},\"id\":\"3403\",\"type\":\"Selection\"},{\"attributes\":{\"dimension\":1,\"ticker\":{\"id\":\"3200\",\"type\":\"BasicTicker\"}},\"id\":\"3203\",\"type\":\"Grid\"},{\"attributes\":{},\"id\":\"3404\",\"type\":\"UnionRenderers\"},{\"attributes\":{\"active_drag\":\"auto\",\"active_inspect\":\"auto\",\"active_multi\":null,\"active_scroll\":\"auto\",\"active_tap\":\"auto\",\"tools\":[{\"id\":\"3204\",\"type\":\"HoverTool\"}]},\"id\":\"3205\",\"type\":\"Toolbar\"},{\"attributes\":{\"callback\":null,\"tooltips\":\"@Race: @value\"},\"id\":\"3204\",\"type\":\"HoverTool\"},{\"attributes\":{\"text\":\"Gender Diversity in the Organization\"},\"id\":\"3184\",\"type\":\"Title\"},{\"attributes\":{\"field\":\"angle\"},\"id\":\"3208\",\"type\":\"CumSum\"},{\"attributes\":{\"callback\":null,\"data\":{\"Race\":[\"Females\",\"Males\"],\"angle\":{\"__ndarray__\":\"mgpcpP29C0CVTywE+YUGQA==\",\"dtype\":\"float64\",\"shape\":[2]},\"color\":[\"pink\",\"navy\"],\"index\":[0,1],\"value\":[101,82]},\"selected\":{\"id\":\"3403\",\"type\":\"Selection\"},\"selection_policy\":{\"id\":\"3404\",\"type\":\"UnionRenderers\"}},\"id\":\"3209\",\"type\":\"ColumnDataSource\"},{\"attributes\":{},\"id\":\"3200\",\"type\":\"BasicTicker\"},{\"attributes\":{\"formatter\":{\"id\":\"3218\",\"type\":\"BasicTickFormatter\"},\"ticker\":{\"id\":\"3200\",\"type\":\"BasicTicker\"}},\"id\":\"3199\",\"type\":\"LinearAxis\"},{\"attributes\":{\"data_source\":{\"id\":\"3209\",\"type\":\"ColumnDataSource\"},\"glyph\":{\"id\":\"3211\",\"type\":\"Wedge\"},\"hover_glyph\":null,\"muted_glyph\":null,\"nonselection_glyph\":{\"id\":\"3212\",\"type\":\"Wedge\"},\"selection_glyph\":null,\"view\":{\"id\":\"3214\",\"type\":\"CDSView\"}},\"id\":\"3213\",\"type\":\"GlyphRenderer\"},{\"attributes\":{\"end_angle\":{\"expr\":{\"id\":\"3208\",\"type\":\"CumSum\"},\"units\":\"rad\"},\"fill_color\":{\"field\":\"color\"},\"line_color\":{\"value\":\"white\"},\"radius\":{\"units\":\"data\",\"value\":0.4},\"start_angle\":{\"expr\":{\"id\":\"3207\",\"type\":\"CumSum\"},\"units\":\"rad\"},\"x\":{\"value\":0},\"y\":{\"value\":1}},\"id\":\"3211\",\"type\":\"Wedge\"},{\"attributes\":{\"field\":\"angle\",\"include_zero\":true},\"id\":\"3207\",\"type\":\"CumSum\"},{\"attributes\":{\"callback\":null},\"id\":\"3186\",\"type\":\"DataRange1d\"},{\"attributes\":{\"end_angle\":{\"expr\":{\"id\":\"3208\",\"type\":\"CumSum\"},\"units\":\"rad\"},\"fill_alpha\":{\"value\":0.1},\"fill_color\":{\"value\":\"#1f77b4\"},\"line_alpha\":{\"value\":0.1},\"line_color\":{\"value\":\"#1f77b4\"},\"radius\":{\"units\":\"data\",\"value\":0.4},\"start_angle\":{\"expr\":{\"id\":\"3207\",\"type\":\"CumSum\"},\"units\":\"rad\"},\"x\":{\"value\":0},\"y\":{\"value\":1}},\"id\":\"3212\",\"type\":\"Wedge\"},{\"attributes\":{\"callback\":null},\"id\":\"3188\",\"type\":\"DataRange1d\"},{\"attributes\":{\"source\":{\"id\":\"3209\",\"type\":\"ColumnDataSource\"}},\"id\":\"3214\",\"type\":\"CDSView\"},{\"attributes\":{},\"id\":\"3190\",\"type\":\"LinearScale\"}],\"root_ids\":[\"3183\"]},\"title\":\"Bokeh Application\",\"version\":\"1.3.4\"}};\n",
       "  var render_items = [{\"docid\":\"d5510861-e478-4ef6-a346-e612e16ce0b4\",\"roots\":{\"3183\":\"14ee13cb-dd5e-4eed-85d3-b7fbc2a5852d\"}}];\n",
       "  root.Bokeh.embed.embed_items_notebook(docs_json, render_items);\n",
       "\n",
       "  }\n",
       "  if (root.Bokeh !== undefined) {\n",
       "    embed_document(root);\n",
       "  } else {\n",
       "    var attempts = 0;\n",
       "    var timer = setInterval(function(root) {\n",
       "      if (root.Bokeh !== undefined) {\n",
       "        embed_document(root);\n",
       "        clearInterval(timer);\n",
       "      }\n",
       "      attempts++;\n",
       "      if (attempts > 100) {\n",
       "        console.log(\"Bokeh: ERROR: Unable to run BokehJS code because BokehJS library is missing\");\n",
       "        clearInterval(timer);\n",
       "      }\n",
       "    }, 10, root)\n",
       "  }\n",
       "})(window);"
      ],
      "application/vnd.bokehjs_exec.v0+json": ""
     },
     "metadata": {
      "application/vnd.bokehjs_exec.v0+json": {
       "id": "3183"
      }
     },
     "output_type": "display_data"
    },
    {
     "name": "stdout",
     "output_type": "stream",
     "text": [
      "The percentage of females in the company is 55.19% and the percentage of males in the company is 44.81%.\n"
     ]
    }
   ],
   "source": [
    "from math import pi\n",
    "import pandas as pd\n",
    "from bokeh.transform import cumsum\n",
    "from bokeh.palettes import Spectral6, Spectral5, Pastel1, Category20c\n",
    "\n",
    "def piechart(x_value,color,title):\n",
    "    x = x_value\n",
    "\n",
    "    datap = pd.Series(x).reset_index(name='value').rename(columns={'index':'Race'})\n",
    "    datap['angle'] = datap['value']/datap['value'].sum() * 2*pi\n",
    "    datap['color'] = color\n",
    "\n",
    "    p = figure(plot_height=500, plot_width = 900, title=title,\n",
    "            tools=\"hover\", tooltips=\"@Race: @value\")\n",
    "\n",
    "    p.wedge(x=0, y=1, radius=0.4,\n",
    "            start_angle=cumsum('angle', include_zero=True), end_angle=cumsum('angle'),\n",
    "            line_color=\"white\", fill_color='color', legend='Race', source=datap)\n",
    "    p.legend.location = \"top_right\"\n",
    "    show(p)\n",
    "\n",
    "piechart(count_by_gender_names, [\"pink\",\"navy\"],\"Gender Diversity in the Organization\")\n",
    "\n",
    "percentage_by_gender = percentage_by_category(\"GenderID\",count_by_gender_names)\n",
    "Female_percentage = percentage_by_gender['Females']\n",
    "Male_percentage = percentage_by_gender['Males']\n",
    "\n",
    "print(\"The percentage of females in the company is %.2f%% and the percentage of males in the company is %.2f%%.\" %(Female_percentage, Male_percentage))"
   ]
  },
  {
   "cell_type": "markdown",
   "metadata": {},
   "source": [
    "The organization seems to have a higher proportion of females in the company! But what positions do they undertake? Let's analyze the job titles of each respective gender. "
   ]
  },
  {
   "cell_type": "code",
   "execution_count": 15,
   "metadata": {
    "collapsed": true
   },
   "outputs": [],
   "source": [
    "#A method that takes in a list of categories, a list of position titles, and the category in which we should count the positions\n",
    "#Returns a list of categories, within each list, a list of position and the sum of people in that category who occupy that position\n",
    "\n",
    "def job_count_by_category(set_of_categories,positions,header):\n",
    "    list_of_dict = []\n",
    "    for category in set_of_categories:\n",
    "        jobs_category = {}\n",
    "        for job in positions:\n",
    "            for employee in data.dict:\n",
    "                if employee[\"Employment Status\"] == 'Active':\n",
    "                    if employee[header] == category and employee[\"Position\"] == job:\n",
    "                        append_dict(jobs_category, employee[\"Position\"],1)\n",
    "        sum_jobs_category = sum_items_in_dict(jobs_category)\n",
    "        list_of_dict.append([category, sum_jobs_category])\n",
    "\n",
    "    return list_of_dict\n",
    "\n",
    "positions = avg_pay_sorted['Position'] #This will get the list of positions already sorted by pay\n",
    "\n",
    "#A method that takes in the list of positions and dictionary\n",
    "#Returns a list of positions and a count of that position, with '0' for none\n",
    "def position_counting(positions,dictionary):\n",
    "    list_positions = []\n",
    "    for position in positions:\n",
    "        if position in dictionary.keys():\n",
    "            list_positions.append(dictionary[position])\n",
    "        else:\n",
    "            list_positions.append(0)\n",
    "    return list_positions\n",
    "    "
   ]
  },
  {
   "cell_type": "code",
   "execution_count": 16,
   "metadata": {
    "collapsed": true
   },
   "outputs": [],
   "source": [
    "total_dict_sum = job_count_by_category([\"Female\",\"Male\"],positions,\"Sex\")\n",
    "female_jobs_dict_sum = total_dict_sum[0][1]\n",
    "male_jobs_dict_sum = total_dict_sum[1][1]\n",
    "\n",
    "fem_positions = position_counting(positions,female_jobs_dict_sum)\n",
    "male_positions = position_counting(positions, male_jobs_dict_sum)\n",
    "\n",
    "all_positions_count=[]\n",
    "male = 0\n",
    "for fem in fem_positions:\n",
    "    all_positions_count.append(fem + male_positions[male])\n",
    "    male += 1"
   ]
  },
  {
   "cell_type": "code",
   "execution_count": 17,
   "metadata": {
    "collapsed": true
   },
   "outputs": [],
   "source": [
    "#A method that takes in a dictionary that has the sum by category, and returns the dictionary as percentage by category\n",
    "def job_percentage_by_category(sum_by_category_dict):\n",
    "    list_of_dict_counted= []\n",
    "    for i in range(len(sum_by_category_dict)):\n",
    "        list_of_dict_counted.append([sum_by_category_dict[i][0], position_counting(positions,sum_by_category_dict[i][1])])\n",
    "\n",
    "    new_list_of_dict_counted = {}\n",
    "\n",
    "    for cat in list_of_dict_counted:\n",
    "        i = 0\n",
    "        new_list = []\n",
    "        while i < len(all_positions_count):\n",
    "            new_list.append(cat[1][i] / all_positions_count[i] * 100)\n",
    "            i += 1\n",
    "        new_list_of_dict_counted[cat[0]] = new_list\n",
    "    return new_list_of_dict_counted"
   ]
  },
  {
   "cell_type": "code",
   "execution_count": 18,
   "metadata": {
    "collapsed": true
   },
   "outputs": [],
   "source": [
    "job_percentage_by_gender = job_percentage_by_category(total_dict_sum)"
   ]
  },
  {
   "cell_type": "code",
   "execution_count": 19,
   "metadata": {},
   "outputs": [
    {
     "data": {
      "text/html": [
       "\n",
       "\n",
       "\n",
       "\n",
       "\n",
       "\n",
       "  <div class=\"bk-root\" id=\"743170e2-4041-4831-bc4a-c5230cf40de0\" data-root-id=\"3447\"></div>\n"
      ]
     },
     "metadata": {},
     "output_type": "display_data"
    },
    {
     "data": {
      "application/javascript": [
       "(function(root) {\n",
       "  function embed_document(root) {\n",
       "    \n",
       "  var docs_json = {\"1a17feb6-d8c4-4551-a5dd-f7046dc679ad\":{\"roots\":{\"references\":[{\"attributes\":{\"below\":[{\"id\":\"3458\",\"type\":\"LinearAxis\"}],\"center\":[{\"id\":\"3462\",\"type\":\"Grid\"},{\"id\":\"3466\",\"type\":\"Grid\"}],\"left\":[{\"id\":\"3463\",\"type\":\"CategoricalAxis\"}],\"outline_line_color\":{\"value\":null},\"plot_height\":700,\"plot_width\":800,\"renderers\":[{\"id\":\"3488\",\"type\":\"GlyphRenderer\"},{\"id\":\"3493\",\"type\":\"GlyphRenderer\"}],\"title\":{\"id\":\"3448\",\"type\":\"Title\"},\"toolbar\":{\"id\":\"3473\",\"type\":\"Toolbar\"},\"toolbar_location\":null,\"x_range\":{\"id\":\"3450\",\"type\":\"Range1d\"},\"x_scale\":{\"id\":\"3454\",\"type\":\"LinearScale\"},\"y_range\":{\"id\":\"3452\",\"type\":\"FactorRange\"},\"y_scale\":{\"id\":\"3456\",\"type\":\"CategoricalScale\"}},\"id\":\"3447\",\"subtype\":\"Figure\",\"type\":\"Plot\"},{\"attributes\":{},\"id\":\"3681\",\"type\":\"CategoricalTickFormatter\"},{\"attributes\":{\"fill_color\":{\"value\":\"navy\"},\"height\":{\"value\":0.9},\"left\":{\"expr\":{\"id\":\"3483\",\"type\":\"Stack\"}},\"line_color\":{\"value\":\"navy\"},\"right\":{\"expr\":{\"id\":\"3484\",\"type\":\"Stack\"}},\"y\":{\"field\":\"all_positions\"}},\"id\":\"3491\",\"type\":\"HBar\"},{\"attributes\":{\"active_drag\":\"auto\",\"active_inspect\":\"auto\",\"active_multi\":null,\"active_scroll\":\"auto\",\"active_tap\":\"auto\",\"tools\":[{\"id\":\"3467\",\"type\":\"PanTool\"},{\"id\":\"3468\",\"type\":\"WheelZoomTool\"},{\"id\":\"3469\",\"type\":\"BoxZoomTool\"},{\"id\":\"3470\",\"type\":\"SaveTool\"},{\"id\":\"3471\",\"type\":\"ResetTool\"},{\"id\":\"3472\",\"type\":\"HelpTool\"}]},\"id\":\"3473\",\"type\":\"Toolbar\"},{\"attributes\":{},\"id\":\"3684\",\"type\":\"Selection\"},{\"attributes\":{},\"id\":\"3467\",\"type\":\"PanTool\"},{\"attributes\":{},\"id\":\"3468\",\"type\":\"WheelZoomTool\"},{\"attributes\":{\"overlay\":{\"id\":\"3683\",\"type\":\"BoxAnnotation\"}},\"id\":\"3469\",\"type\":\"BoxZoomTool\"},{\"attributes\":{\"bottom_units\":\"screen\",\"fill_alpha\":{\"value\":0.5},\"fill_color\":{\"value\":\"lightgrey\"},\"left_units\":\"screen\",\"level\":\"overlay\",\"line_alpha\":{\"value\":1.0},\"line_color\":{\"value\":\"black\"},\"line_dash\":[4,4],\"line_width\":{\"value\":2},\"render_mode\":\"css\",\"right_units\":\"screen\",\"top_units\":\"screen\"},\"id\":\"3683\",\"type\":\"BoxAnnotation\"},{\"attributes\":{},\"id\":\"3685\",\"type\":\"UnionRenderers\"},{\"attributes\":{},\"id\":\"3470\",\"type\":\"SaveTool\"},{\"attributes\":{},\"id\":\"3679\",\"type\":\"BasicTickFormatter\"},{\"attributes\":{\"callback\":null,\"data\":{\"Female\":[100.0,100.0,0.0,0.0,0.0,0.0,0.0,100.0,100.0,43.47826086956522,50.0,0.0,100.0,50.0,44.44444444444444,83.33333333333334,33.33333333333333,25.0,50.0,57.14285714285714,100.0,75.0,0.0,33.33333333333333,56.52173913043478,60.273972602739725,100.0],\"Male\":[0.0,0.0,100.0,100.0,100.0,100.0,100.0,0.0,0.0,56.52173913043478,50.0,100.0,0.0,50.0,55.55555555555556,16.666666666666664,66.66666666666666,75.0,50.0,42.857142857142854,0.0,25.0,100.0,66.66666666666666,43.47826086956522,39.726027397260275,0.0],\"all_positions\":[\"President & CEO\",\"CIO\",\"IT Director\",\"IT Manager - Support\",\"BI Director\",\"IT Manager - Infra\",\"IT Manager - DB\",\"Director of Operations\",\"Director of Sales\",\"Area Sales Manager\",\"Sales Manager\",\"Shared Services Manager\",\"Data Architect\",\"Sr. Network Engineer\",\"Production Manager\",\"Software Engineer\",\"Senior BI Developer\",\"BI Developer\",\"Network Engineer\",\"Database Administrator\",\"Sr. Accountant\",\"IT Support\",\"Software Engineering Manager\",\"Accountant I\",\"Production Technician II\",\"Production Technician I\",\"Administrative Assistant\"]},\"selected\":{\"id\":\"3684\",\"type\":\"Selection\"},\"selection_policy\":{\"id\":\"3685\",\"type\":\"UnionRenderers\"}},\"id\":\"3480\",\"type\":\"ColumnDataSource\"},{\"attributes\":{\"fill_alpha\":{\"value\":0.1},\"fill_color\":{\"value\":\"#1f77b4\"},\"height\":{\"value\":0.9},\"left\":{\"expr\":{\"id\":\"3483\",\"type\":\"Stack\"}},\"line_alpha\":{\"value\":0.1},\"line_color\":{\"value\":\"#1f77b4\"},\"right\":{\"expr\":{\"id\":\"3484\",\"type\":\"Stack\"}},\"y\":{\"field\":\"all_positions\"}},\"id\":\"3492\",\"type\":\"HBar\"},{\"attributes\":{},\"id\":\"3471\",\"type\":\"ResetTool\"},{\"attributes\":{\"source\":{\"id\":\"3480\",\"type\":\"ColumnDataSource\"}},\"id\":\"3489\",\"type\":\"CDSView\"},{\"attributes\":{\"text\":\"Job Representation By Gender (%) - Sorted from Lowest Pay to Highest\"},\"id\":\"3448\",\"type\":\"Title\"},{\"attributes\":{},\"id\":\"3472\",\"type\":\"HelpTool\"},{\"attributes\":{\"fill_alpha\":{\"value\":0.1},\"fill_color\":{\"value\":\"#1f77b4\"},\"height\":{\"value\":0.9},\"left\":{\"expr\":{\"id\":\"3481\",\"type\":\"Stack\"}},\"line_alpha\":{\"value\":0.1},\"line_color\":{\"value\":\"#1f77b4\"},\"right\":{\"expr\":{\"id\":\"3482\",\"type\":\"Stack\"}},\"y\":{\"field\":\"all_positions\"}},\"id\":\"3487\",\"type\":\"HBar\"},{\"attributes\":{\"callback\":null,\"end\":100},\"id\":\"3450\",\"type\":\"Range1d\"},{\"attributes\":{\"fill_color\":{\"value\":\"pink\"},\"height\":{\"value\":0.9},\"left\":{\"expr\":{\"id\":\"3481\",\"type\":\"Stack\"}},\"line_color\":{\"value\":\"pink\"},\"right\":{\"expr\":{\"id\":\"3482\",\"type\":\"Stack\"}},\"y\":{\"field\":\"all_positions\"}},\"id\":\"3486\",\"type\":\"HBar\"},{\"attributes\":{\"fields\":[\"Female\"]},\"id\":\"3482\",\"type\":\"Stack\"},{\"attributes\":{\"callback\":null,\"factors\":[\"President & CEO\",\"CIO\",\"IT Director\",\"IT Manager - Support\",\"BI Director\",\"IT Manager - Infra\",\"IT Manager - DB\",\"Director of Operations\",\"Director of Sales\",\"Area Sales Manager\",\"Sales Manager\",\"Shared Services Manager\",\"Data Architect\",\"Sr. Network Engineer\",\"Production Manager\",\"Software Engineer\",\"Senior BI Developer\",\"BI Developer\",\"Network Engineer\",\"Database Administrator\",\"Sr. Accountant\",\"IT Support\",\"Software Engineering Manager\",\"Accountant I\",\"Production Technician II\",\"Production Technician I\",\"Administrative Assistant\"],\"range_padding\":0.1},\"id\":\"3452\",\"type\":\"FactorRange\"},{\"attributes\":{\"fields\":[\"Female\"]},\"id\":\"3483\",\"type\":\"Stack\"},{\"attributes\":{},\"id\":\"3454\",\"type\":\"LinearScale\"},{\"attributes\":{\"source\":{\"id\":\"3480\",\"type\":\"ColumnDataSource\"}},\"id\":\"3494\",\"type\":\"CDSView\"},{\"attributes\":{\"fields\":[\"Female\",\"Male\"]},\"id\":\"3484\",\"type\":\"Stack\"},{\"attributes\":{},\"id\":\"3456\",\"type\":\"CategoricalScale\"},{\"attributes\":{\"axis_label\":\"% of Gender in Each Position\",\"formatter\":{\"id\":\"3679\",\"type\":\"BasicTickFormatter\"},\"minor_tick_line_color\":{\"value\":null},\"ticker\":{\"id\":\"3459\",\"type\":\"BasicTicker\"}},\"id\":\"3458\",\"type\":\"LinearAxis\"},{\"attributes\":{},\"id\":\"3459\",\"type\":\"BasicTicker\"},{\"attributes\":{\"ticker\":{\"id\":\"3459\",\"type\":\"BasicTicker\"}},\"id\":\"3462\",\"type\":\"Grid\"},{\"attributes\":{\"data_source\":{\"id\":\"3480\",\"type\":\"ColumnDataSource\"},\"glyph\":{\"id\":\"3486\",\"type\":\"HBar\"},\"hover_glyph\":null,\"muted_glyph\":null,\"name\":\"Female\",\"nonselection_glyph\":{\"id\":\"3487\",\"type\":\"HBar\"},\"selection_glyph\":null,\"view\":{\"id\":\"3489\",\"type\":\"CDSView\"}},\"id\":\"3488\",\"type\":\"GlyphRenderer\"},{\"attributes\":{\"formatter\":{\"id\":\"3681\",\"type\":\"CategoricalTickFormatter\"},\"minor_tick_line_color\":{\"value\":null},\"ticker\":{\"id\":\"3464\",\"type\":\"CategoricalTicker\"}},\"id\":\"3463\",\"type\":\"CategoricalAxis\"},{\"attributes\":{},\"id\":\"3464\",\"type\":\"CategoricalTicker\"},{\"attributes\":{\"dimension\":1,\"grid_line_color\":null,\"ticker\":{\"id\":\"3464\",\"type\":\"CategoricalTicker\"}},\"id\":\"3466\",\"type\":\"Grid\"},{\"attributes\":{\"data_source\":{\"id\":\"3480\",\"type\":\"ColumnDataSource\"},\"glyph\":{\"id\":\"3491\",\"type\":\"HBar\"},\"hover_glyph\":null,\"muted_glyph\":null,\"name\":\"Male\",\"nonselection_glyph\":{\"id\":\"3492\",\"type\":\"HBar\"},\"selection_glyph\":null,\"view\":{\"id\":\"3494\",\"type\":\"CDSView\"}},\"id\":\"3493\",\"type\":\"GlyphRenderer\"},{\"attributes\":{\"fields\":[]},\"id\":\"3481\",\"type\":\"Stack\"}],\"root_ids\":[\"3447\"]},\"title\":\"Bokeh Application\",\"version\":\"1.3.4\"}};\n",
       "  var render_items = [{\"docid\":\"1a17feb6-d8c4-4551-a5dd-f7046dc679ad\",\"roots\":{\"3447\":\"743170e2-4041-4831-bc4a-c5230cf40de0\"}}];\n",
       "  root.Bokeh.embed.embed_items_notebook(docs_json, render_items);\n",
       "\n",
       "  }\n",
       "  if (root.Bokeh !== undefined) {\n",
       "    embed_document(root);\n",
       "  } else {\n",
       "    var attempts = 0;\n",
       "    var timer = setInterval(function(root) {\n",
       "      if (root.Bokeh !== undefined) {\n",
       "        embed_document(root);\n",
       "        clearInterval(timer);\n",
       "      }\n",
       "      attempts++;\n",
       "      if (attempts > 100) {\n",
       "        console.log(\"Bokeh: ERROR: Unable to run BokehJS code because BokehJS library is missing\");\n",
       "        clearInterval(timer);\n",
       "      }\n",
       "    }, 10, root)\n",
       "  }\n",
       "})(window);"
      ],
      "application/vnd.bokehjs_exec.v0+json": ""
     },
     "metadata": {
      "application/vnd.bokehjs_exec.v0+json": {
       "id": "3447"
      }
     },
     "output_type": "display_data"
    }
   ],
   "source": [
    "from bokeh.models import ColumnDataSource\n",
    "\n",
    "colors = [\"pink\", \"navy\"]\n",
    "all_positions = positions\n",
    "gender = [\"Female\", \"Male\"]\n",
    "\n",
    "exports = {'all_positions' : all_positions,\n",
    "           'Female'   : job_percentage_by_gender['Female'],\n",
    "           'Male'   : job_percentage_by_gender['Male']}\n",
    "\n",
    "p = figure(y_range=all_positions, plot_height=700, plot_width=800, x_range=(0, 100), title=\"Job Representation By Gender (%) - Sorted from Lowest Pay to Highest\",\n",
    "           toolbar_location=None,x_axis_label=\"% of Gender in Each Position\")\n",
    "\n",
    "p.hbar_stack(gender, y='all_positions', color = colors, height=0.9, source=ColumnDataSource(exports))\n",
    "\n",
    "p.y_range.range_padding = 0.1\n",
    "p.ygrid.grid_line_color = None\n",
    "p.axis.minor_tick_line_color = None\n",
    "p.outline_line_color = None\n",
    "\n",
    "show(p)"
   ]
  },
  {
   "cell_type": "markdown",
   "metadata": {},
   "source": [
    "Some insights we can obtain from this visualization: the highest-paid executives are females, but the lowest-paid jobs are also occupied by females. It may be hard to draw an immediate conclusion, but the visualization does not point to a severe lack of representation in the highest-paying and lowest-paying segments of the company. </br>\n",
    "\n",
    "Finally, lets look at the average pay rate of females and males to see if there is a pay gap. \n",
    "\n"
   ]
  },
  {
   "cell_type": "code",
   "execution_count": 20,
   "metadata": {},
   "outputs": [
    {
     "name": "stdout",
     "output_type": "stream",
     "text": [
      "The average pay rate for females in this organization is $32.15 and for males, $35.91.\n",
      "Despite the fact that the highest-paid executive in the company is a female, there is still an average $3.76 pay gap, based on the data.\n"
     ]
    }
   ],
   "source": [
    "#A method that takes in a list of categories and the header of that category\n",
    "#Returns a dictionary of the pay gap between the categories\n",
    "def pay_gap(category_set, category_header):\n",
    "    new_dict_pay_rate = {}\n",
    "    for category in category_set:\n",
    "        sum_pay_rate = 0\n",
    "        counter_pay = 0\n",
    "        for employee in data.dict:\n",
    "            if employee[\"Employment Status\"] == 'Active':\n",
    "                if employee[category_header] == category:\n",
    "                    sum_pay_rate += float(employee[\"Pay Rate\"])\n",
    "                    counter_pay += 1\n",
    "        new_dict_pay_rate[category] = sum_pay_rate / counter_pay\n",
    "\n",
    "    return new_dict_pay_rate\n",
    "\n",
    "avg_fem_pay = pay_gap(['Female','Male'],\"Sex\")[\"Female\"]\n",
    "avg_male_pay = pay_gap(['Female','Male'],\"Sex\")[\"Male\"]\n",
    "\n",
    "print(\"The average pay rate for females in this organization is $%.2f and for males, $%.2f.\" %(avg_fem_pay, avg_male_pay))\n",
    "print(\"Despite the fact that the highest-paid executive in the company is a female, there is still an average $%.2f pay gap, based on the data.\" %(avg_male_pay - avg_fem_pay))\n",
    "\n"
   ]
  },
  {
   "cell_type": "markdown",
   "metadata": {},
   "source": [
    "## Ethnicity"
   ]
  },
  {
   "cell_type": "code",
   "execution_count": 21,
   "metadata": {},
   "outputs": [
    {
     "name": "stdout",
     "output_type": "stream",
     "text": [
      "The percentage of employees who identify as Hispanic is 1.09%.\n",
      "The percentage of employees who identify as White is 62.84%.\n",
      "The percentage of employees who identify as Asian is 9.84%.\n",
      "The percentage of employees who identify as American Indian or Alaska Native is 1.64%.\n",
      "The percentage of employees who identify as Two or more races is 4.92%.\n",
      "The percentage of employees who identify as Black or African American is 19.67%.\n"
     ]
    }
   ],
   "source": [
    "count_of_race_desc = count_by_category(\"RaceDesc\")\n",
    "percentage_of_race_desc = percentage_by_category(\"RaceDesc\", count_of_race_desc)\n",
    "\n",
    "for race in percentage_of_race_desc:\n",
    "    print(\"The percentage of employees who identify as %s is %.2f%%.\" %(race, percentage_of_race_desc[race]))"
   ]
  },
  {
   "cell_type": "code",
   "execution_count": 22,
   "metadata": {},
   "outputs": [
    {
     "data": {
      "text/html": [
       "\n",
       "\n",
       "\n",
       "\n",
       "\n",
       "\n",
       "  <div class=\"bk-root\" id=\"f555a0e4-c97e-4604-94f6-cabbc3f6da64\" data-root-id=\"3734\"></div>\n"
      ]
     },
     "metadata": {},
     "output_type": "display_data"
    },
    {
     "data": {
      "application/javascript": [
       "(function(root) {\n",
       "  function embed_document(root) {\n",
       "    \n",
       "  var docs_json = {\"e925ac96-fcbd-412c-add9-c2559ac7c7ab\":{\"roots\":{\"references\":[{\"attributes\":{\"below\":[{\"id\":\"3745\",\"type\":\"LinearAxis\"}],\"center\":[{\"id\":\"3749\",\"type\":\"Grid\"},{\"id\":\"3754\",\"type\":\"Grid\"},{\"id\":\"3771\",\"type\":\"Legend\"}],\"left\":[{\"id\":\"3750\",\"type\":\"LinearAxis\"}],\"plot_height\":500,\"plot_width\":900,\"renderers\":[{\"id\":\"3764\",\"type\":\"GlyphRenderer\"}],\"title\":{\"id\":\"3735\",\"type\":\"Title\"},\"toolbar\":{\"id\":\"3756\",\"type\":\"Toolbar\"},\"x_range\":{\"id\":\"3737\",\"type\":\"DataRange1d\"},\"x_scale\":{\"id\":\"3741\",\"type\":\"LinearScale\"},\"y_range\":{\"id\":\"3739\",\"type\":\"DataRange1d\"},\"y_scale\":{\"id\":\"3743\",\"type\":\"LinearScale\"}},\"id\":\"3734\",\"subtype\":\"Figure\",\"type\":\"Plot\"},{\"attributes\":{},\"id\":\"3751\",\"type\":\"BasicTicker\"},{\"attributes\":{},\"id\":\"3769\",\"type\":\"BasicTickFormatter\"},{\"attributes\":{\"ticker\":{\"id\":\"3746\",\"type\":\"BasicTicker\"}},\"id\":\"3749\",\"type\":\"Grid\"},{\"attributes\":{\"items\":[{\"id\":\"3772\",\"type\":\"LegendItem\"}]},\"id\":\"3771\",\"type\":\"Legend\"},{\"attributes\":{\"callback\":null,\"tooltips\":\"@Race: @value\"},\"id\":\"3755\",\"type\":\"HoverTool\"},{\"attributes\":{\"callback\":null},\"id\":\"3737\",\"type\":\"DataRange1d\"},{\"attributes\":{},\"id\":\"3743\",\"type\":\"LinearScale\"},{\"attributes\":{\"end_angle\":{\"expr\":{\"id\":\"3759\",\"type\":\"CumSum\"},\"units\":\"rad\"},\"fill_alpha\":{\"value\":0.1},\"fill_color\":{\"value\":\"#1f77b4\"},\"line_alpha\":{\"value\":0.1},\"line_color\":{\"value\":\"#1f77b4\"},\"radius\":{\"units\":\"data\",\"value\":0.4},\"start_angle\":{\"expr\":{\"id\":\"3758\",\"type\":\"CumSum\"},\"units\":\"rad\"},\"x\":{\"value\":0},\"y\":{\"value\":1}},\"id\":\"3763\",\"type\":\"Wedge\"},{\"attributes\":{},\"id\":\"3741\",\"type\":\"LinearScale\"},{\"attributes\":{},\"id\":\"3969\",\"type\":\"Selection\"},{\"attributes\":{\"field\":\"angle\"},\"id\":\"3759\",\"type\":\"CumSum\"},{\"attributes\":{\"formatter\":{\"id\":\"3767\",\"type\":\"BasicTickFormatter\"},\"ticker\":{\"id\":\"3746\",\"type\":\"BasicTicker\"}},\"id\":\"3745\",\"type\":\"LinearAxis\"},{\"attributes\":{\"text\":\"Ethnic Diversity in the Organization\"},\"id\":\"3735\",\"type\":\"Title\"},{\"attributes\":{\"callback\":null},\"id\":\"3739\",\"type\":\"DataRange1d\"},{\"attributes\":{\"field\":\"angle\",\"include_zero\":true},\"id\":\"3758\",\"type\":\"CumSum\"},{\"attributes\":{\"callback\":null,\"data\":{\"Race\":[\"American Indian or Alaska Native\",\"Asian\",\"Black or African American\",\"Hispanic\",\"Two or more races\",\"White\"],\"angle\":{\"__ndarray__\":\"tTfWNmheuj/HqSApzsbjP8epICnOxvM/IyXkeUWUsT/HqSApzsbTP7vyBddslg9A\",\"dtype\":\"float64\",\"shape\":[6]},\"color\":[\"#3288bd\",\"#99d594\",\"#e6f598\",\"#fee08b\",\"#fc8d59\",\"#d53e4f\"],\"index\":[0,1,2,3,4,5],\"value\":[3,18,36,2,9,115]},\"selected\":{\"id\":\"3969\",\"type\":\"Selection\"},\"selection_policy\":{\"id\":\"3970\",\"type\":\"UnionRenderers\"}},\"id\":\"3760\",\"type\":\"ColumnDataSource\"},{\"attributes\":{},\"id\":\"3767\",\"type\":\"BasicTickFormatter\"},{\"attributes\":{\"formatter\":{\"id\":\"3769\",\"type\":\"BasicTickFormatter\"},\"ticker\":{\"id\":\"3751\",\"type\":\"BasicTicker\"}},\"id\":\"3750\",\"type\":\"LinearAxis\"},{\"attributes\":{},\"id\":\"3746\",\"type\":\"BasicTicker\"},{\"attributes\":{\"label\":{\"field\":\"Race\"},\"renderers\":[{\"id\":\"3764\",\"type\":\"GlyphRenderer\"}]},\"id\":\"3772\",\"type\":\"LegendItem\"},{\"attributes\":{\"dimension\":1,\"ticker\":{\"id\":\"3751\",\"type\":\"BasicTicker\"}},\"id\":\"3754\",\"type\":\"Grid\"},{\"attributes\":{\"end_angle\":{\"expr\":{\"id\":\"3759\",\"type\":\"CumSum\"},\"units\":\"rad\"},\"fill_color\":{\"field\":\"color\"},\"line_color\":{\"value\":\"white\"},\"radius\":{\"units\":\"data\",\"value\":0.4},\"start_angle\":{\"expr\":{\"id\":\"3758\",\"type\":\"CumSum\"},\"units\":\"rad\"},\"x\":{\"value\":0},\"y\":{\"value\":1}},\"id\":\"3762\",\"type\":\"Wedge\"},{\"attributes\":{\"source\":{\"id\":\"3760\",\"type\":\"ColumnDataSource\"}},\"id\":\"3765\",\"type\":\"CDSView\"},{\"attributes\":{},\"id\":\"3970\",\"type\":\"UnionRenderers\"},{\"attributes\":{\"data_source\":{\"id\":\"3760\",\"type\":\"ColumnDataSource\"},\"glyph\":{\"id\":\"3762\",\"type\":\"Wedge\"},\"hover_glyph\":null,\"muted_glyph\":null,\"nonselection_glyph\":{\"id\":\"3763\",\"type\":\"Wedge\"},\"selection_glyph\":null,\"view\":{\"id\":\"3765\",\"type\":\"CDSView\"}},\"id\":\"3764\",\"type\":\"GlyphRenderer\"},{\"attributes\":{\"active_drag\":\"auto\",\"active_inspect\":\"auto\",\"active_multi\":null,\"active_scroll\":\"auto\",\"active_tap\":\"auto\",\"tools\":[{\"id\":\"3755\",\"type\":\"HoverTool\"}]},\"id\":\"3756\",\"type\":\"Toolbar\"}],\"root_ids\":[\"3734\"]},\"title\":\"Bokeh Application\",\"version\":\"1.3.4\"}};\n",
       "  var render_items = [{\"docid\":\"e925ac96-fcbd-412c-add9-c2559ac7c7ab\",\"roots\":{\"3734\":\"f555a0e4-c97e-4604-94f6-cabbc3f6da64\"}}];\n",
       "  root.Bokeh.embed.embed_items_notebook(docs_json, render_items);\n",
       "\n",
       "  }\n",
       "  if (root.Bokeh !== undefined) {\n",
       "    embed_document(root);\n",
       "  } else {\n",
       "    var attempts = 0;\n",
       "    var timer = setInterval(function(root) {\n",
       "      if (root.Bokeh !== undefined) {\n",
       "        embed_document(root);\n",
       "        clearInterval(timer);\n",
       "      }\n",
       "      attempts++;\n",
       "      if (attempts > 100) {\n",
       "        console.log(\"Bokeh: ERROR: Unable to run BokehJS code because BokehJS library is missing\");\n",
       "        clearInterval(timer);\n",
       "      }\n",
       "    }, 10, root)\n",
       "  }\n",
       "})(window);"
      ],
      "application/vnd.bokehjs_exec.v0+json": ""
     },
     "metadata": {
      "application/vnd.bokehjs_exec.v0+json": {
       "id": "3734"
      }
     },
     "output_type": "display_data"
    }
   ],
   "source": [
    "piechart(count_of_race_desc,Spectral6,\"Ethnic Diversity in the Organization\")"
   ]
  },
  {
   "cell_type": "markdown",
   "metadata": {},
   "source": [
    "Based on this visualization, it appears that the organization is not at all diverse. What titles do these respective employees hold?"
   ]
  },
  {
   "cell_type": "code",
   "execution_count": 23,
   "metadata": {
    "collapsed": true
   },
   "outputs": [],
   "source": [
    "job_count_by_race = job_count_by_category(get_set_of_column(\"RaceDesc\"),positions,\"RaceDesc\")\n",
    "percentage_job_by_race = job_percentage_by_category(job_count_by_race)\n",
    "races = [race for race in percentage_job_by_race]"
   ]
  },
  {
   "cell_type": "code",
   "execution_count": 24,
   "metadata": {},
   "outputs": [
    {
     "data": {
      "text/html": [
       "\n",
       "\n",
       "\n",
       "\n",
       "\n",
       "\n",
       "  <div class=\"bk-root\" id=\"7070275d-640c-451e-9b5f-edf7ec1c0bd3\" data-root-id=\"4013\"></div>\n"
      ]
     },
     "metadata": {},
     "output_type": "display_data"
    },
    {
     "data": {
      "application/javascript": [
       "(function(root) {\n",
       "  function embed_document(root) {\n",
       "    \n",
       "  var docs_json = {\"eea3da6a-f74e-4a1b-a54e-dd685198910f\":{\"roots\":{\"references\":[{\"attributes\":{\"below\":[{\"id\":\"4024\",\"type\":\"LinearAxis\"}],\"center\":[{\"id\":\"4028\",\"type\":\"Grid\"},{\"id\":\"4032\",\"type\":\"Grid\"},{\"id\":\"4070\",\"type\":\"Legend\"}],\"left\":[{\"id\":\"4029\",\"type\":\"CategoricalAxis\"}],\"outline_line_color\":{\"value\":null},\"plot_height\":700,\"plot_width\":900,\"renderers\":[{\"id\":\"4062\",\"type\":\"GlyphRenderer\"},{\"id\":\"4075\",\"type\":\"GlyphRenderer\"},{\"id\":\"4089\",\"type\":\"GlyphRenderer\"},{\"id\":\"4103\",\"type\":\"GlyphRenderer\"},{\"id\":\"4117\",\"type\":\"GlyphRenderer\"},{\"id\":\"4131\",\"type\":\"GlyphRenderer\"}],\"title\":{\"id\":\"4014\",\"type\":\"Title\"},\"toolbar\":{\"id\":\"4039\",\"type\":\"Toolbar\"},\"x_range\":{\"id\":\"4016\",\"type\":\"Range1d\"},\"x_scale\":{\"id\":\"4020\",\"type\":\"LinearScale\"},\"y_range\":{\"id\":\"4018\",\"type\":\"FactorRange\"},\"y_scale\":{\"id\":\"4022\",\"type\":\"CategoricalScale\"}},\"id\":\"4013\",\"subtype\":\"Figure\",\"type\":\"Plot\"},{\"attributes\":{},\"id\":\"4083\",\"type\":\"Selection\"},{\"attributes\":{\"data_source\":{\"id\":\"4046\",\"type\":\"ColumnDataSource\"},\"glyph\":{\"id\":\"4115\",\"type\":\"HBar\"},\"hover_glyph\":null,\"muted_glyph\":null,\"name\":\"Two or more races\",\"nonselection_glyph\":{\"id\":\"4116\",\"type\":\"HBar\"},\"selection_glyph\":null,\"view\":{\"id\":\"4118\",\"type\":\"CDSView\"}},\"id\":\"4117\",\"type\":\"GlyphRenderer\"},{\"attributes\":{\"fields\":[\"Hispanic\",\"White\",\"Asian\",\"American Indian or Alaska Native\",\"Two or more races\"]},\"id\":\"4057\",\"type\":\"Stack\"},{\"attributes\":{\"dimension\":1,\"grid_line_color\":null,\"ticker\":{\"id\":\"4030\",\"type\":\"CategoricalTicker\"}},\"id\":\"4032\",\"type\":\"Grid\"},{\"attributes\":{\"fields\":[\"Hispanic\",\"White\",\"Asian\",\"American Indian or Alaska Native\"]},\"id\":\"4055\",\"type\":\"Stack\"},{\"attributes\":{},\"id\":\"4084\",\"type\":\"UnionRenderers\"},{\"attributes\":{\"source\":{\"id\":\"4046\",\"type\":\"ColumnDataSource\"}},\"id\":\"4118\",\"type\":\"CDSView\"},{\"attributes\":{\"fields\":[\"Hispanic\",\"White\",\"Asian\",\"American Indian or Alaska Native\",\"Two or more races\"]},\"id\":\"4056\",\"type\":\"Stack\"},{\"attributes\":{\"label\":{\"value\":\"White\"},\"renderers\":[{\"id\":\"4075\",\"type\":\"GlyphRenderer\"}]},\"id\":\"4085\",\"type\":\"LegendItem\"},{\"attributes\":{\"label\":{\"value\":\"Two or more races\"},\"renderers\":[{\"id\":\"4117\",\"type\":\"GlyphRenderer\"}]},\"id\":\"4127\",\"type\":\"LegendItem\"},{\"attributes\":{\"fields\":[\"Hispanic\",\"White\",\"Asian\",\"American Indian or Alaska Native\",\"Two or more races\",\"Black or African American\"]},\"id\":\"4058\",\"type\":\"Stack\"},{\"attributes\":{\"active_drag\":\"auto\",\"active_inspect\":\"auto\",\"active_multi\":null,\"active_scroll\":\"auto\",\"active_tap\":\"auto\",\"tools\":[{\"id\":\"4033\",\"type\":\"PanTool\"},{\"id\":\"4034\",\"type\":\"WheelZoomTool\"},{\"id\":\"4035\",\"type\":\"BoxZoomTool\"},{\"id\":\"4036\",\"type\":\"SaveTool\"},{\"id\":\"4037\",\"type\":\"ResetTool\"},{\"id\":\"4038\",\"type\":\"HelpTool\"}]},\"id\":\"4039\",\"type\":\"Toolbar\"},{\"attributes\":{\"fields\":[\"Hispanic\",\"White\",\"Asian\",\"American Indian or Alaska Native\"]},\"id\":\"4054\",\"type\":\"Stack\"},{\"attributes\":{},\"id\":\"4033\",\"type\":\"PanTool\"},{\"attributes\":{\"fill_color\":{\"value\":\"#e6f598\"},\"height\":{\"value\":0.9},\"left\":{\"expr\":{\"id\":\"4051\",\"type\":\"Stack\"}},\"line_color\":{\"value\":\"#e6f598\"},\"right\":{\"expr\":{\"id\":\"4052\",\"type\":\"Stack\"}},\"y\":{\"field\":\"all_positions\"}},\"id\":\"4087\",\"type\":\"HBar\"},{\"attributes\":{\"fill_color\":{\"value\":\"#d53e4f\"},\"height\":{\"value\":0.9},\"left\":{\"expr\":{\"id\":\"4057\",\"type\":\"Stack\"}},\"line_color\":{\"value\":\"#d53e4f\"},\"right\":{\"expr\":{\"id\":\"4058\",\"type\":\"Stack\"}},\"y\":{\"field\":\"all_positions\"}},\"id\":\"4129\",\"type\":\"HBar\"},{\"attributes\":{},\"id\":\"4067\",\"type\":\"CategoricalTickFormatter\"},{\"attributes\":{},\"id\":\"4034\",\"type\":\"WheelZoomTool\"},{\"attributes\":{\"fill_alpha\":{\"value\":0.1},\"fill_color\":{\"value\":\"#1f77b4\"},\"height\":{\"value\":0.9},\"left\":{\"expr\":{\"id\":\"4051\",\"type\":\"Stack\"}},\"line_alpha\":{\"value\":0.1},\"line_color\":{\"value\":\"#1f77b4\"},\"right\":{\"expr\":{\"id\":\"4052\",\"type\":\"Stack\"}},\"y\":{\"field\":\"all_positions\"}},\"id\":\"4088\",\"type\":\"HBar\"},{\"attributes\":{\"fill_color\":{\"value\":\"#3288bd\"},\"height\":{\"value\":0.9},\"left\":{\"expr\":{\"id\":\"4047\",\"type\":\"Stack\"}},\"line_color\":{\"value\":\"#3288bd\"},\"right\":{\"expr\":{\"id\":\"4048\",\"type\":\"Stack\"}},\"y\":{\"field\":\"all_positions\"}},\"id\":\"4060\",\"type\":\"HBar\"},{\"attributes\":{\"fill_alpha\":{\"value\":0.1},\"fill_color\":{\"value\":\"#1f77b4\"},\"height\":{\"value\":0.9},\"left\":{\"expr\":{\"id\":\"4057\",\"type\":\"Stack\"}},\"line_alpha\":{\"value\":0.1},\"line_color\":{\"value\":\"#1f77b4\"},\"right\":{\"expr\":{\"id\":\"4058\",\"type\":\"Stack\"}},\"y\":{\"field\":\"all_positions\"}},\"id\":\"4130\",\"type\":\"HBar\"},{\"attributes\":{\"data_source\":{\"id\":\"4046\",\"type\":\"ColumnDataSource\"},\"glyph\":{\"id\":\"4087\",\"type\":\"HBar\"},\"hover_glyph\":null,\"muted_glyph\":null,\"name\":\"Asian\",\"nonselection_glyph\":{\"id\":\"4088\",\"type\":\"HBar\"},\"selection_glyph\":null,\"view\":{\"id\":\"4090\",\"type\":\"CDSView\"}},\"id\":\"4089\",\"type\":\"GlyphRenderer\"},{\"attributes\":{\"overlay\":{\"id\":\"4069\",\"type\":\"BoxAnnotation\"}},\"id\":\"4035\",\"type\":\"BoxZoomTool\"},{\"attributes\":{\"data_source\":{\"id\":\"4046\",\"type\":\"ColumnDataSource\"},\"glyph\":{\"id\":\"4129\",\"type\":\"HBar\"},\"hover_glyph\":null,\"muted_glyph\":null,\"name\":\"Black or African American\",\"nonselection_glyph\":{\"id\":\"4130\",\"type\":\"HBar\"},\"selection_glyph\":null,\"view\":{\"id\":\"4132\",\"type\":\"CDSView\"}},\"id\":\"4131\",\"type\":\"GlyphRenderer\"},{\"attributes\":{\"fill_alpha\":{\"value\":0.1},\"fill_color\":{\"value\":\"#1f77b4\"},\"height\":{\"value\":0.9},\"left\":{\"expr\":{\"id\":\"4047\",\"type\":\"Stack\"}},\"line_alpha\":{\"value\":0.1},\"line_color\":{\"value\":\"#1f77b4\"},\"right\":{\"expr\":{\"id\":\"4048\",\"type\":\"Stack\"}},\"y\":{\"field\":\"all_positions\"}},\"id\":\"4061\",\"type\":\"HBar\"},{\"attributes\":{\"callback\":null,\"data\":{\"American Indian or Alaska Native\":[0.0,0.0,0.0,0.0,0.0,0.0,0.0,0.0,0.0,4.3478260869565215,0.0,0.0,0.0,0.0,0.0,0.0,0.0,0.0,0.0,0.0,0.0,0.0,0.0,0.0,4.3478260869565215,1.36986301369863,0.0],\"Asian\":[0.0,0.0,0.0,0.0,0.0,0.0,0.0,0.0,0.0,4.3478260869565215,0.0,0.0,0.0,50.0,0.0,16.666666666666664,100.0,0.0,0.0,14.285714285714285,50.0,0.0,0.0,0.0,4.3478260869565215,12.32876712328767,0.0],\"Black or African American\":[0.0,0.0,100.0,0.0,0.0,0.0,0.0,100.0,0.0,26.08695652173913,50.0,0.0,100.0,0.0,11.11111111111111,16.666666666666664,0.0,50.0,0.0,14.285714285714285,0.0,25.0,0.0,66.66666666666666,30.434782608695656,15.068493150684931,0.0],\"Hispanic\":[0.0,0.0,0.0,0.0,0.0,100.0,0.0,0.0,0.0,0.0,0.0,0.0,0.0,0.0,11.11111111111111,0.0,0.0,0.0,0.0,0.0,0.0,0.0,0.0,0.0,0.0,0.0,0.0],\"Two or more races\":[0.0,0.0,0.0,0.0,0.0,0.0,0.0,0.0,0.0,17.391304347826086,0.0,0.0,0.0,0.0,0.0,0.0,0.0,0.0,0.0,0.0,0.0,25.0,0.0,0.0,4.3478260869565215,4.10958904109589,0.0],\"White\":[100.0,100.0,0.0,100.0,100.0,0.0,100.0,0.0,100.0,47.82608695652174,50.0,100.0,0.0,50.0,77.77777777777779,66.66666666666666,0.0,50.0,100.0,71.42857142857143,50.0,50.0,100.0,33.33333333333333,56.52173913043478,67.12328767123287,100.0],\"all_positions\":[\"President & CEO\",\"CIO\",\"IT Director\",\"IT Manager - Support\",\"BI Director\",\"IT Manager - Infra\",\"IT Manager - DB\",\"Director of Operations\",\"Director of Sales\",\"Area Sales Manager\",\"Sales Manager\",\"Shared Services Manager\",\"Data Architect\",\"Sr. Network Engineer\",\"Production Manager\",\"Software Engineer\",\"Senior BI Developer\",\"BI Developer\",\"Network Engineer\",\"Database Administrator\",\"Sr. Accountant\",\"IT Support\",\"Software Engineering Manager\",\"Accountant I\",\"Production Technician II\",\"Production Technician I\",\"Administrative Assistant\"]},\"selected\":{\"id\":\"4083\",\"type\":\"Selection\"},\"selection_policy\":{\"id\":\"4084\",\"type\":\"UnionRenderers\"}},\"id\":\"4046\",\"type\":\"ColumnDataSource\"},{\"attributes\":{},\"id\":\"4036\",\"type\":\"SaveTool\"},{\"attributes\":{\"source\":{\"id\":\"4046\",\"type\":\"ColumnDataSource\"}},\"id\":\"4090\",\"type\":\"CDSView\"},{\"attributes\":{\"data_source\":{\"id\":\"4046\",\"type\":\"ColumnDataSource\"},\"glyph\":{\"id\":\"4060\",\"type\":\"HBar\"},\"hover_glyph\":null,\"muted_glyph\":null,\"name\":\"Hispanic\",\"nonselection_glyph\":{\"id\":\"4061\",\"type\":\"HBar\"},\"selection_glyph\":null,\"view\":{\"id\":\"4063\",\"type\":\"CDSView\"}},\"id\":\"4062\",\"type\":\"GlyphRenderer\"},{\"attributes\":{\"source\":{\"id\":\"4046\",\"type\":\"ColumnDataSource\"}},\"id\":\"4132\",\"type\":\"CDSView\"},{\"attributes\":{},\"id\":\"4037\",\"type\":\"ResetTool\"},{\"attributes\":{\"label\":{\"value\":\"Asian\"},\"renderers\":[{\"id\":\"4089\",\"type\":\"GlyphRenderer\"}]},\"id\":\"4099\",\"type\":\"LegendItem\"},{\"attributes\":{\"label\":{\"value\":\"Black or African American\"},\"renderers\":[{\"id\":\"4131\",\"type\":\"GlyphRenderer\"}]},\"id\":\"4141\",\"type\":\"LegendItem\"},{\"attributes\":{\"source\":{\"id\":\"4046\",\"type\":\"ColumnDataSource\"}},\"id\":\"4063\",\"type\":\"CDSView\"},{\"attributes\":{\"fields\":[]},\"id\":\"4047\",\"type\":\"Stack\"},{\"attributes\":{\"text\":\"Job Representation By Ethnicity (%) - Sorted from Lowest Pay to Highest\"},\"id\":\"4014\",\"type\":\"Title\"},{\"attributes\":{},\"id\":\"4038\",\"type\":\"HelpTool\"},{\"attributes\":{},\"id\":\"4065\",\"type\":\"BasicTickFormatter\"},{\"attributes\":{\"callback\":null,\"end\":100},\"id\":\"4016\",\"type\":\"Range1d\"},{\"attributes\":{\"fill_color\":{\"value\":\"#fee08b\"},\"height\":{\"value\":0.9},\"left\":{\"expr\":{\"id\":\"4053\",\"type\":\"Stack\"}},\"line_color\":{\"value\":\"#fee08b\"},\"right\":{\"expr\":{\"id\":\"4054\",\"type\":\"Stack\"}},\"y\":{\"field\":\"all_positions\"}},\"id\":\"4101\",\"type\":\"HBar\"},{\"attributes\":{\"bottom_units\":\"screen\",\"fill_alpha\":{\"value\":0.5},\"fill_color\":{\"value\":\"lightgrey\"},\"left_units\":\"screen\",\"level\":\"overlay\",\"line_alpha\":{\"value\":1.0},\"line_color\":{\"value\":\"black\"},\"line_dash\":[4,4],\"line_width\":{\"value\":2},\"render_mode\":\"css\",\"right_units\":\"screen\",\"top_units\":\"screen\"},\"id\":\"4069\",\"type\":\"BoxAnnotation\"},{\"attributes\":{\"callback\":null,\"factors\":[\"President & CEO\",\"CIO\",\"IT Director\",\"IT Manager - Support\",\"BI Director\",\"IT Manager - Infra\",\"IT Manager - DB\",\"Director of Operations\",\"Director of Sales\",\"Area Sales Manager\",\"Sales Manager\",\"Shared Services Manager\",\"Data Architect\",\"Sr. Network Engineer\",\"Production Manager\",\"Software Engineer\",\"Senior BI Developer\",\"BI Developer\",\"Network Engineer\",\"Database Administrator\",\"Sr. Accountant\",\"IT Support\",\"Software Engineering Manager\",\"Accountant I\",\"Production Technician II\",\"Production Technician I\",\"Administrative Assistant\"],\"range_padding\":0.1},\"id\":\"4018\",\"type\":\"FactorRange\"},{\"attributes\":{\"fill_alpha\":{\"value\":0.1},\"fill_color\":{\"value\":\"#1f77b4\"},\"height\":{\"value\":0.9},\"left\":{\"expr\":{\"id\":\"4053\",\"type\":\"Stack\"}},\"line_alpha\":{\"value\":0.1},\"line_color\":{\"value\":\"#1f77b4\"},\"right\":{\"expr\":{\"id\":\"4054\",\"type\":\"Stack\"}},\"y\":{\"field\":\"all_positions\"}},\"id\":\"4102\",\"type\":\"HBar\"},{\"attributes\":{\"items\":[{\"id\":\"4071\",\"type\":\"LegendItem\"},{\"id\":\"4085\",\"type\":\"LegendItem\"},{\"id\":\"4099\",\"type\":\"LegendItem\"},{\"id\":\"4113\",\"type\":\"LegendItem\"},{\"id\":\"4127\",\"type\":\"LegendItem\"},{\"id\":\"4141\",\"type\":\"LegendItem\"}],\"location\":\"bottom_right\"},\"id\":\"4070\",\"type\":\"Legend\"},{\"attributes\":{\"fields\":[\"Hispanic\"]},\"id\":\"4048\",\"type\":\"Stack\"},{\"attributes\":{},\"id\":\"4020\",\"type\":\"LinearScale\"},{\"attributes\":{\"data_source\":{\"id\":\"4046\",\"type\":\"ColumnDataSource\"},\"glyph\":{\"id\":\"4101\",\"type\":\"HBar\"},\"hover_glyph\":null,\"muted_glyph\":null,\"name\":\"American Indian or Alaska Native\",\"nonselection_glyph\":{\"id\":\"4102\",\"type\":\"HBar\"},\"selection_glyph\":null,\"view\":{\"id\":\"4104\",\"type\":\"CDSView\"}},\"id\":\"4103\",\"type\":\"GlyphRenderer\"},{\"attributes\":{\"fields\":[\"Hispanic\"]},\"id\":\"4049\",\"type\":\"Stack\"},{\"attributes\":{\"label\":{\"value\":\"Hispanic\"},\"renderers\":[{\"id\":\"4062\",\"type\":\"GlyphRenderer\"}]},\"id\":\"4071\",\"type\":\"LegendItem\"},{\"attributes\":{},\"id\":\"4022\",\"type\":\"CategoricalScale\"},{\"attributes\":{\"source\":{\"id\":\"4046\",\"type\":\"ColumnDataSource\"}},\"id\":\"4104\",\"type\":\"CDSView\"},{\"attributes\":{\"fields\":[\"Hispanic\",\"White\"]},\"id\":\"4050\",\"type\":\"Stack\"},{\"attributes\":{\"axis_label\":\"% of Ethnicity in Each Position\",\"formatter\":{\"id\":\"4065\",\"type\":\"BasicTickFormatter\"},\"minor_tick_line_color\":{\"value\":null},\"ticker\":{\"id\":\"4025\",\"type\":\"BasicTicker\"}},\"id\":\"4024\",\"type\":\"LinearAxis\"},{\"attributes\":{\"label\":{\"value\":\"American Indian or Alaska Native\"},\"renderers\":[{\"id\":\"4103\",\"type\":\"GlyphRenderer\"}]},\"id\":\"4113\",\"type\":\"LegendItem\"},{\"attributes\":{\"fields\":[\"Hispanic\",\"White\"]},\"id\":\"4051\",\"type\":\"Stack\"},{\"attributes\":{\"fill_color\":{\"value\":\"#99d594\"},\"height\":{\"value\":0.9},\"left\":{\"expr\":{\"id\":\"4049\",\"type\":\"Stack\"}},\"line_color\":{\"value\":\"#99d594\"},\"right\":{\"expr\":{\"id\":\"4050\",\"type\":\"Stack\"}},\"y\":{\"field\":\"all_positions\"}},\"id\":\"4073\",\"type\":\"HBar\"},{\"attributes\":{},\"id\":\"4025\",\"type\":\"BasicTicker\"},{\"attributes\":{\"fields\":[\"Hispanic\",\"White\",\"Asian\"]},\"id\":\"4052\",\"type\":\"Stack\"},{\"attributes\":{\"fill_alpha\":{\"value\":0.1},\"fill_color\":{\"value\":\"#1f77b4\"},\"height\":{\"value\":0.9},\"left\":{\"expr\":{\"id\":\"4049\",\"type\":\"Stack\"}},\"line_alpha\":{\"value\":0.1},\"line_color\":{\"value\":\"#1f77b4\"},\"right\":{\"expr\":{\"id\":\"4050\",\"type\":\"Stack\"}},\"y\":{\"field\":\"all_positions\"}},\"id\":\"4074\",\"type\":\"HBar\"},{\"attributes\":{\"ticker\":{\"id\":\"4025\",\"type\":\"BasicTicker\"}},\"id\":\"4028\",\"type\":\"Grid\"},{\"attributes\":{\"fill_color\":{\"value\":\"#fc8d59\"},\"height\":{\"value\":0.9},\"left\":{\"expr\":{\"id\":\"4055\",\"type\":\"Stack\"}},\"line_color\":{\"value\":\"#fc8d59\"},\"right\":{\"expr\":{\"id\":\"4056\",\"type\":\"Stack\"}},\"y\":{\"field\":\"all_positions\"}},\"id\":\"4115\",\"type\":\"HBar\"},{\"attributes\":{\"fields\":[\"Hispanic\",\"White\",\"Asian\"]},\"id\":\"4053\",\"type\":\"Stack\"},{\"attributes\":{\"data_source\":{\"id\":\"4046\",\"type\":\"ColumnDataSource\"},\"glyph\":{\"id\":\"4073\",\"type\":\"HBar\"},\"hover_glyph\":null,\"muted_glyph\":null,\"name\":\"White\",\"nonselection_glyph\":{\"id\":\"4074\",\"type\":\"HBar\"},\"selection_glyph\":null,\"view\":{\"id\":\"4076\",\"type\":\"CDSView\"}},\"id\":\"4075\",\"type\":\"GlyphRenderer\"},{\"attributes\":{\"formatter\":{\"id\":\"4067\",\"type\":\"CategoricalTickFormatter\"},\"minor_tick_line_color\":{\"value\":null},\"ticker\":{\"id\":\"4030\",\"type\":\"CategoricalTicker\"}},\"id\":\"4029\",\"type\":\"CategoricalAxis\"},{\"attributes\":{\"fill_alpha\":{\"value\":0.1},\"fill_color\":{\"value\":\"#1f77b4\"},\"height\":{\"value\":0.9},\"left\":{\"expr\":{\"id\":\"4055\",\"type\":\"Stack\"}},\"line_alpha\":{\"value\":0.1},\"line_color\":{\"value\":\"#1f77b4\"},\"right\":{\"expr\":{\"id\":\"4056\",\"type\":\"Stack\"}},\"y\":{\"field\":\"all_positions\"}},\"id\":\"4116\",\"type\":\"HBar\"},{\"attributes\":{\"source\":{\"id\":\"4046\",\"type\":\"ColumnDataSource\"}},\"id\":\"4076\",\"type\":\"CDSView\"},{\"attributes\":{},\"id\":\"4030\",\"type\":\"CategoricalTicker\"}],\"root_ids\":[\"4013\"]},\"title\":\"Bokeh Application\",\"version\":\"1.3.4\"}};\n",
       "  var render_items = [{\"docid\":\"eea3da6a-f74e-4a1b-a54e-dd685198910f\",\"roots\":{\"4013\":\"7070275d-640c-451e-9b5f-edf7ec1c0bd3\"}}];\n",
       "  root.Bokeh.embed.embed_items_notebook(docs_json, render_items);\n",
       "\n",
       "  }\n",
       "  if (root.Bokeh !== undefined) {\n",
       "    embed_document(root);\n",
       "  } else {\n",
       "    var attempts = 0;\n",
       "    var timer = setInterval(function(root) {\n",
       "      if (root.Bokeh !== undefined) {\n",
       "        embed_document(root);\n",
       "        clearInterval(timer);\n",
       "      }\n",
       "      attempts++;\n",
       "      if (attempts > 100) {\n",
       "        console.log(\"Bokeh: ERROR: Unable to run BokehJS code because BokehJS library is missing\");\n",
       "        clearInterval(timer);\n",
       "      }\n",
       "    }, 10, root)\n",
       "  }\n",
       "})(window);"
      ],
      "application/vnd.bokehjs_exec.v0+json": ""
     },
     "metadata": {
      "application/vnd.bokehjs_exec.v0+json": {
       "id": "4013"
      }
     },
     "output_type": "display_data"
    }
   ],
   "source": [
    "from bokeh.core.properties import value, field\n",
    "\n",
    "colors = Spectral6\n",
    "all_positions = positions\n",
    "race = races\n",
    "\n",
    "exports = {'all_positions' : all_positions,\n",
    "           'Two or more races'   : percentage_job_by_race[\"Two or more races\"],\n",
    "           'Asian'   : percentage_job_by_race[\"Asian\"],\n",
    "           'American Indian or Alaska Native': percentage_job_by_race[\"American Indian or Alaska Native\"],\n",
    "           'Hispanic': percentage_job_by_race[\"Hispanic\"],\n",
    "           'Black or African American': percentage_job_by_race[\"Black or African American\"],\n",
    "           'White': percentage_job_by_race[\"White\"]}\n",
    "\n",
    "p = figure(y_range=all_positions, plot_height=700, plot_width=900, x_range=(0, 100), title=\"Job Representation By Ethnicity (%) - Sorted from Lowest Pay to Highest\",x_axis_label=\"% of Ethnicity in Each Position\")\n",
    "\n",
    "p.hbar_stack(race, y='all_positions', color = colors, height=0.9, source=ColumnDataSource(exports), legend=[value(x) for x in race])\n",
    "\n",
    "p.legend.location = \"bottom_right\"\n",
    "p.y_range.range_padding = 0.1\n",
    "p.ygrid.grid_line_color = None\n",
    "p.axis.minor_tick_line_color = None\n",
    "p.outline_line_color = None\n",
    "\n",
    "show(p)"
   ]
  },
  {
   "cell_type": "markdown",
   "metadata": {},
   "source": [
    "The positions of 'Area Sales Manager' and 'Production Technicians' seem to have a lot more diversity than other positions. Another trend observed is that from the director level and above, there is a significant lack of ethnic diversity. This could be an actionable insight for the HR department to pursue. </br>\n",
    "\n",
    "Finally, lets look at the average pay rate for each ethnic category, unadjusted for position. "
   ]
  },
  {
   "cell_type": "code",
   "execution_count": 25,
   "metadata": {},
   "outputs": [
    {
     "name": "stdout",
     "output_type": "stream",
     "text": [
      "The average pay rate for the ethnic category of 'Hispanic' is $58.00.\n",
      "The average pay rate for the ethnic category of 'White' is $32.87.\n",
      "The average pay rate for the ethnic category of 'Asian' is $32.99.\n",
      "The average pay rate for the ethnic category of 'American Indian or Alaska Native' is $31.50.\n",
      "The average pay rate for the ethnic category of 'Two or more races' is $35.36.\n",
      "The average pay rate for the ethnic category of 'Black or African American' is $35.83.\n"
     ]
    }
   ],
   "source": [
    "set_of_race_desc = get_set_of_column('RaceDesc')\n",
    "avg_pay_rate_race = pay_gap(set_of_race_desc,\"RaceDesc\")\n",
    "\n",
    "races = []\n",
    "pay_rates = []\n",
    "for race in avg_pay_rate_race:\n",
    "    print(\"The average pay rate for the ethnic category of '%s' is $%.2f.\" %(race, avg_pay_rate_race[race]))\n",
    "    races.append(race)\n",
    "    pay_rates.append(avg_pay_rate_race[race])\n"
   ]
  },
  {
   "cell_type": "code",
   "execution_count": 26,
   "metadata": {},
   "outputs": [
    {
     "data": {
      "text/html": [
       "\n",
       "\n",
       "\n",
       "\n",
       "\n",
       "\n",
       "  <div class=\"bk-root\" id=\"eec326c7-e996-40a4-a598-cf705fb7c5ba\" data-root-id=\"4396\"></div>\n"
      ]
     },
     "metadata": {},
     "output_type": "display_data"
    },
    {
     "data": {
      "application/javascript": [
       "(function(root) {\n",
       "  function embed_document(root) {\n",
       "    \n",
       "  var docs_json = {\"dda1dac7-584d-4f1b-9e93-63c071a5fd4a\":{\"roots\":{\"references\":[{\"attributes\":{\"below\":[{\"id\":\"4407\",\"type\":\"CategoricalAxis\"}],\"center\":[{\"id\":\"4410\",\"type\":\"Grid\"},{\"id\":\"4415\",\"type\":\"Grid\"}],\"left\":[{\"id\":\"4411\",\"type\":\"LinearAxis\"}],\"plot_height\":350,\"plot_width\":900,\"renderers\":[{\"id\":\"4420\",\"type\":\"GlyphRenderer\"}],\"title\":{\"id\":\"4397\",\"type\":\"Title\"},\"toolbar\":{\"id\":\"4416\",\"type\":\"Toolbar\"},\"toolbar_location\":null,\"x_range\":{\"id\":\"4399\",\"type\":\"FactorRange\"},\"x_scale\":{\"id\":\"4403\",\"type\":\"CategoricalScale\"},\"y_range\":{\"id\":\"4401\",\"type\":\"DataRange1d\"},\"y_scale\":{\"id\":\"4405\",\"type\":\"LinearScale\"}},\"id\":\"4396\",\"subtype\":\"Figure\",\"type\":\"Plot\"},{\"attributes\":{\"callback\":null,\"data\":{\"fill_color\":[\"#3288bd\",\"#99d594\",\"#e6f598\",\"#fee08b\",\"#fc8d59\",\"#d53e4f\"],\"line_color\":[\"#3288bd\",\"#99d594\",\"#e6f598\",\"#fee08b\",\"#fc8d59\",\"#d53e4f\"],\"top\":[58.0,32.866,32.995,31.5,35.36222222222222,35.82527777777778],\"x\":[\"Hispanic\",\"White\",\"Asian\",\"American Indian or Alaska Native\",\"Two or more races\",\"Black or African American\"]},\"selected\":{\"id\":\"4633\",\"type\":\"Selection\"},\"selection_policy\":{\"id\":\"4634\",\"type\":\"UnionRenderers\"}},\"id\":\"4417\",\"type\":\"ColumnDataSource\"},{\"attributes\":{},\"id\":\"4629\",\"type\":\"CategoricalTickFormatter\"},{\"attributes\":{},\"id\":\"4631\",\"type\":\"BasicTickFormatter\"},{\"attributes\":{},\"id\":\"4634\",\"type\":\"UnionRenderers\"},{\"attributes\":{\"text\":\"Avg Pay Rate by Ethnic Category, Sorted\"},\"id\":\"4397\",\"type\":\"Title\"},{\"attributes\":{\"formatter\":{\"id\":\"4629\",\"type\":\"CategoricalTickFormatter\"},\"ticker\":{\"id\":\"4408\",\"type\":\"CategoricalTicker\"}},\"id\":\"4407\",\"type\":\"CategoricalAxis\"},{\"attributes\":{},\"id\":\"4408\",\"type\":\"CategoricalTicker\"},{\"attributes\":{\"active_drag\":\"auto\",\"active_inspect\":\"auto\",\"active_multi\":null,\"active_scroll\":\"auto\",\"active_tap\":\"auto\"},\"id\":\"4416\",\"type\":\"Toolbar\"},{\"attributes\":{\"callback\":null,\"start\":0},\"id\":\"4401\",\"type\":\"DataRange1d\"},{\"attributes\":{\"dimension\":1,\"ticker\":{\"id\":\"4412\",\"type\":\"BasicTicker\"}},\"id\":\"4415\",\"type\":\"Grid\"},{\"attributes\":{},\"id\":\"4403\",\"type\":\"CategoricalScale\"},{\"attributes\":{},\"id\":\"4412\",\"type\":\"BasicTicker\"},{\"attributes\":{},\"id\":\"4405\",\"type\":\"LinearScale\"},{\"attributes\":{\"axis_label\":\"Average Pay Rate\",\"formatter\":{\"id\":\"4631\",\"type\":\"BasicTickFormatter\"},\"ticker\":{\"id\":\"4412\",\"type\":\"BasicTicker\"}},\"id\":\"4411\",\"type\":\"LinearAxis\"},{\"attributes\":{\"callback\":null,\"factors\":[\"American Indian or Alaska Native\",\"White\",\"Asian\",\"Two or more races\",\"Black or African American\",\"Hispanic\"]},\"id\":\"4399\",\"type\":\"FactorRange\"},{\"attributes\":{},\"id\":\"4633\",\"type\":\"Selection\"},{\"attributes\":{\"grid_line_color\":null,\"ticker\":{\"id\":\"4408\",\"type\":\"CategoricalTicker\"}},\"id\":\"4410\",\"type\":\"Grid\"},{\"attributes\":{\"source\":{\"id\":\"4417\",\"type\":\"ColumnDataSource\"}},\"id\":\"4421\",\"type\":\"CDSView\"},{\"attributes\":{\"data_source\":{\"id\":\"4417\",\"type\":\"ColumnDataSource\"},\"glyph\":{\"id\":\"4418\",\"type\":\"VBar\"},\"hover_glyph\":null,\"muted_glyph\":null,\"nonselection_glyph\":{\"id\":\"4419\",\"type\":\"VBar\"},\"selection_glyph\":null,\"view\":{\"id\":\"4421\",\"type\":\"CDSView\"}},\"id\":\"4420\",\"type\":\"GlyphRenderer\"},{\"attributes\":{\"fill_alpha\":{\"value\":0.1},\"fill_color\":{\"value\":\"#1f77b4\"},\"line_alpha\":{\"value\":0.1},\"line_color\":{\"value\":\"#1f77b4\"},\"top\":{\"field\":\"top\"},\"width\":{\"value\":0.7},\"x\":{\"field\":\"x\"}},\"id\":\"4419\",\"type\":\"VBar\"},{\"attributes\":{\"fill_color\":{\"field\":\"fill_color\"},\"line_color\":{\"field\":\"line_color\"},\"top\":{\"field\":\"top\"},\"width\":{\"value\":0.7},\"x\":{\"field\":\"x\"}},\"id\":\"4418\",\"type\":\"VBar\"}],\"root_ids\":[\"4396\"]},\"title\":\"Bokeh Application\",\"version\":\"1.3.4\"}};\n",
       "  var render_items = [{\"docid\":\"dda1dac7-584d-4f1b-9e93-63c071a5fd4a\",\"roots\":{\"4396\":\"eec326c7-e996-40a4-a598-cf705fb7c5ba\"}}];\n",
       "  root.Bokeh.embed.embed_items_notebook(docs_json, render_items);\n",
       "\n",
       "  }\n",
       "  if (root.Bokeh !== undefined) {\n",
       "    embed_document(root);\n",
       "  } else {\n",
       "    var attempts = 0;\n",
       "    var timer = setInterval(function(root) {\n",
       "      if (root.Bokeh !== undefined) {\n",
       "        embed_document(root);\n",
       "        clearInterval(timer);\n",
       "      }\n",
       "      attempts++;\n",
       "      if (attempts > 100) {\n",
       "        console.log(\"Bokeh: ERROR: Unable to run BokehJS code because BokehJS library is missing\");\n",
       "        clearInterval(timer);\n",
       "      }\n",
       "    }, 10, root)\n",
       "  }\n",
       "})(window);"
      ],
      "application/vnd.bokehjs_exec.v0+json": ""
     },
     "metadata": {
      "application/vnd.bokehjs_exec.v0+json": {
       "id": "4396"
      }
     },
     "output_type": "display_data"
    }
   ],
   "source": [
    "def barchart(x_cat,y_cat,colors,title,y_axis_title):\n",
    "    race = x_cat\n",
    "    counts = y_cat\n",
    "\n",
    "    # sorting the bars means sorting the range factors\n",
    "    sorted_race = sorted(race, key=lambda x: counts[race.index(x)])\n",
    "\n",
    "    p = figure(x_range=sorted_race, plot_height=350, plot_width = 900, title=title,\n",
    "               toolbar_location=None, tools=\"\",y_axis_label=y_axis_title)\n",
    "\n",
    "    p.vbar(x=race, top=counts, width=0.7,color= colors)\n",
    "\n",
    "    p.xgrid.grid_line_color = None\n",
    "    p.y_range.start = 0\n",
    "\n",
    "    show(p)\n",
    "    \n",
    "barchart(races,pay_rates, Spectral6, \"Avg Pay Rate by Ethnic Category, Sorted\",\"Average Pay Rate\")"
   ]
  },
  {
   "cell_type": "markdown",
   "metadata": {},
   "source": [
    "From this visualization, it seems that on average, in this organization, employees identifying as 'Hispanic' have the highest average pay rate, but we must bear in mind that the sample size is 2 for this category, hence the result of the average pay rate can be very skewed. "
   ]
  },
  {
   "cell_type": "markdown",
   "metadata": {},
   "source": [
    "## Age\n",
    "Finally lets take a look at the diversity of the employees in terms of their ages."
   ]
  },
  {
   "cell_type": "code",
   "execution_count": 27,
   "metadata": {
    "collapsed": true
   },
   "outputs": [],
   "source": [
    "#Lets first create a new column in our dataset of our age categories: 20-30, 31-40, 41-50, 51-60, 61-70\n",
    "if 'Age Category' not in list_of_headers:\n",
    "    value = \"\"\n",
    "    age_categories = []\n",
    "    for employee in data.dict:\n",
    "        age_int = int(employee['Age'])\n",
    "        if age_int <= 30:\n",
    "            value = \"20-30\"\n",
    "        elif age_int <=40:\n",
    "            value = \"31-40\"\n",
    "        elif age_int <=50:\n",
    "            value = \"41-50\"\n",
    "        elif age_int <=60:\n",
    "            value = \"51-60\"\n",
    "        else:\n",
    "            value = \"61-70\"\n",
    "        age_categories.append(value)\n",
    "    data.append_col(age_categories, 'Age Category')\n"
   ]
  },
  {
   "cell_type": "code",
   "execution_count": 28,
   "metadata": {
    "scrolled": true
   },
   "outputs": [
    {
     "name": "stdout",
     "output_type": "stream",
     "text": [
      "The percentage of employees that fall within the 31-40 age range is 48.09%\n",
      "The percentage of employees that fall within the 20-30 age range is 19.67%\n",
      "The percentage of employees that fall within the 41-50 age range is 22.40%\n",
      "The percentage of employees that fall within the 51-60 age range is 8.20%\n",
      "The percentage of employees that fall within the 61-70 age range is 1.64%\n"
     ]
    }
   ],
   "source": [
    "count_of_age = count_by_category(\"Age Category\")\n",
    "percentage_by_age = percentage_by_category(\"Age Category\", count_of_age)\n",
    "\n",
    "for age in percentage_by_age:\n",
    "    print(\"The percentage of employees that fall within the %s age range is %.2f%%\" %(age, percentage_by_age[age]))"
   ]
  },
  {
   "cell_type": "code",
   "execution_count": 29,
   "metadata": {},
   "outputs": [
    {
     "data": {
      "text/html": [
       "\n",
       "\n",
       "\n",
       "\n",
       "\n",
       "\n",
       "  <div class=\"bk-root\" id=\"1fab137d-2e98-4007-bc10-8b8845cf49ef\" data-root-id=\"4677\"></div>\n"
      ]
     },
     "metadata": {},
     "output_type": "display_data"
    },
    {
     "data": {
      "application/javascript": [
       "(function(root) {\n",
       "  function embed_document(root) {\n",
       "    \n",
       "  var docs_json = {\"a327708e-626a-49ee-af7a-1c60ec277a84\":{\"roots\":{\"references\":[{\"attributes\":{\"below\":[{\"id\":\"4688\",\"type\":\"LinearAxis\"}],\"center\":[{\"id\":\"4692\",\"type\":\"Grid\"},{\"id\":\"4697\",\"type\":\"Grid\"},{\"id\":\"4714\",\"type\":\"Legend\"}],\"left\":[{\"id\":\"4693\",\"type\":\"LinearAxis\"}],\"plot_height\":500,\"plot_width\":900,\"renderers\":[{\"id\":\"4707\",\"type\":\"GlyphRenderer\"}],\"title\":{\"id\":\"4678\",\"type\":\"Title\"},\"toolbar\":{\"id\":\"4699\",\"type\":\"Toolbar\"},\"x_range\":{\"id\":\"4680\",\"type\":\"DataRange1d\"},\"x_scale\":{\"id\":\"4684\",\"type\":\"LinearScale\"},\"y_range\":{\"id\":\"4682\",\"type\":\"DataRange1d\"},\"y_scale\":{\"id\":\"4686\",\"type\":\"LinearScale\"}},\"id\":\"4677\",\"subtype\":\"Figure\",\"type\":\"Plot\"},{\"attributes\":{\"text\":\"Diversity by Age in the Organization\"},\"id\":\"4678\",\"type\":\"Title\"},{\"attributes\":{\"callback\":null,\"data\":{\"Race\":[\"20-30\",\"31-40\",\"41-50\",\"51-60\",\"61-70\"],\"angle\":{\"__ndarray__\":\"x6kgKc7G8z8Qs5mH3ysIQJVPLAT5hfY/0OJFIgF74D+1N9Y2aF66Pw==\",\"dtype\":\"float64\",\"shape\":[5]},\"color\":[\"#fbb4ae\",\"#b3cde3\",\"#ccebc5\",\"#decbe4\",\"#fed9a6\"],\"index\":[0,1,2,3,4],\"value\":[36,88,41,15,3]},\"selected\":{\"id\":\"4934\",\"type\":\"Selection\"},\"selection_policy\":{\"id\":\"4935\",\"type\":\"UnionRenderers\"}},\"id\":\"4703\",\"type\":\"ColumnDataSource\"},{\"attributes\":{\"end_angle\":{\"expr\":{\"id\":\"4702\",\"type\":\"CumSum\"},\"units\":\"rad\"},\"fill_alpha\":{\"value\":0.1},\"fill_color\":{\"value\":\"#1f77b4\"},\"line_alpha\":{\"value\":0.1},\"line_color\":{\"value\":\"#1f77b4\"},\"radius\":{\"units\":\"data\",\"value\":0.4},\"start_angle\":{\"expr\":{\"id\":\"4701\",\"type\":\"CumSum\"},\"units\":\"rad\"},\"x\":{\"value\":0},\"y\":{\"value\":1}},\"id\":\"4706\",\"type\":\"Wedge\"},{\"attributes\":{},\"id\":\"4935\",\"type\":\"UnionRenderers\"},{\"attributes\":{\"callback\":null},\"id\":\"4680\",\"type\":\"DataRange1d\"},{\"attributes\":{\"callback\":null},\"id\":\"4682\",\"type\":\"DataRange1d\"},{\"attributes\":{},\"id\":\"4684\",\"type\":\"LinearScale\"},{\"attributes\":{},\"id\":\"4686\",\"type\":\"LinearScale\"},{\"attributes\":{\"formatter\":{\"id\":\"4710\",\"type\":\"BasicTickFormatter\"},\"ticker\":{\"id\":\"4689\",\"type\":\"BasicTicker\"}},\"id\":\"4688\",\"type\":\"LinearAxis\"},{\"attributes\":{},\"id\":\"4689\",\"type\":\"BasicTicker\"},{\"attributes\":{\"ticker\":{\"id\":\"4689\",\"type\":\"BasicTicker\"}},\"id\":\"4692\",\"type\":\"Grid\"},{\"attributes\":{\"items\":[{\"id\":\"4715\",\"type\":\"LegendItem\"}]},\"id\":\"4714\",\"type\":\"Legend\"},{\"attributes\":{\"formatter\":{\"id\":\"4712\",\"type\":\"BasicTickFormatter\"},\"ticker\":{\"id\":\"4694\",\"type\":\"BasicTicker\"}},\"id\":\"4693\",\"type\":\"LinearAxis\"},{\"attributes\":{\"field\":\"angle\",\"include_zero\":true},\"id\":\"4701\",\"type\":\"CumSum\"},{\"attributes\":{},\"id\":\"4694\",\"type\":\"BasicTicker\"},{\"attributes\":{\"source\":{\"id\":\"4703\",\"type\":\"ColumnDataSource\"}},\"id\":\"4708\",\"type\":\"CDSView\"},{\"attributes\":{},\"id\":\"4710\",\"type\":\"BasicTickFormatter\"},{\"attributes\":{\"dimension\":1,\"ticker\":{\"id\":\"4694\",\"type\":\"BasicTicker\"}},\"id\":\"4697\",\"type\":\"Grid\"},{\"attributes\":{\"end_angle\":{\"expr\":{\"id\":\"4702\",\"type\":\"CumSum\"},\"units\":\"rad\"},\"fill_color\":{\"field\":\"color\"},\"line_color\":{\"value\":\"white\"},\"radius\":{\"units\":\"data\",\"value\":0.4},\"start_angle\":{\"expr\":{\"id\":\"4701\",\"type\":\"CumSum\"},\"units\":\"rad\"},\"x\":{\"value\":0},\"y\":{\"value\":1}},\"id\":\"4705\",\"type\":\"Wedge\"},{\"attributes\":{},\"id\":\"4934\",\"type\":\"Selection\"},{\"attributes\":{\"active_drag\":\"auto\",\"active_inspect\":\"auto\",\"active_multi\":null,\"active_scroll\":\"auto\",\"active_tap\":\"auto\",\"tools\":[{\"id\":\"4698\",\"type\":\"HoverTool\"}]},\"id\":\"4699\",\"type\":\"Toolbar\"},{\"attributes\":{\"data_source\":{\"id\":\"4703\",\"type\":\"ColumnDataSource\"},\"glyph\":{\"id\":\"4705\",\"type\":\"Wedge\"},\"hover_glyph\":null,\"muted_glyph\":null,\"nonselection_glyph\":{\"id\":\"4706\",\"type\":\"Wedge\"},\"selection_glyph\":null,\"view\":{\"id\":\"4708\",\"type\":\"CDSView\"}},\"id\":\"4707\",\"type\":\"GlyphRenderer\"},{\"attributes\":{\"callback\":null,\"tooltips\":\"@Race: @value\"},\"id\":\"4698\",\"type\":\"HoverTool\"},{\"attributes\":{\"label\":{\"field\":\"Race\"},\"renderers\":[{\"id\":\"4707\",\"type\":\"GlyphRenderer\"}]},\"id\":\"4715\",\"type\":\"LegendItem\"},{\"attributes\":{},\"id\":\"4712\",\"type\":\"BasicTickFormatter\"},{\"attributes\":{\"field\":\"angle\"},\"id\":\"4702\",\"type\":\"CumSum\"}],\"root_ids\":[\"4677\"]},\"title\":\"Bokeh Application\",\"version\":\"1.3.4\"}};\n",
       "  var render_items = [{\"docid\":\"a327708e-626a-49ee-af7a-1c60ec277a84\",\"roots\":{\"4677\":\"1fab137d-2e98-4007-bc10-8b8845cf49ef\"}}];\n",
       "  root.Bokeh.embed.embed_items_notebook(docs_json, render_items);\n",
       "\n",
       "  }\n",
       "  if (root.Bokeh !== undefined) {\n",
       "    embed_document(root);\n",
       "  } else {\n",
       "    var attempts = 0;\n",
       "    var timer = setInterval(function(root) {\n",
       "      if (root.Bokeh !== undefined) {\n",
       "        embed_document(root);\n",
       "        clearInterval(timer);\n",
       "      }\n",
       "      attempts++;\n",
       "      if (attempts > 100) {\n",
       "        console.log(\"Bokeh: ERROR: Unable to run BokehJS code because BokehJS library is missing\");\n",
       "        clearInterval(timer);\n",
       "      }\n",
       "    }, 10, root)\n",
       "  }\n",
       "})(window);"
      ],
      "application/vnd.bokehjs_exec.v0+json": ""
     },
     "metadata": {
      "application/vnd.bokehjs_exec.v0+json": {
       "id": "4677"
      }
     },
     "output_type": "display_data"
    }
   ],
   "source": [
    "piechart(count_of_age,Pastel1[5],\"Diversity by Age in the Organization\")"
   ]
  },
  {
   "cell_type": "markdown",
   "metadata": {},
   "source": [
    "Majority of employees fall within the age range of 31-40, and those who are 50 and above only form approx 9% of the workforce in this company. Once again, we can analyze the job distribution by age, as well as the average pay rate by age."
   ]
  },
  {
   "cell_type": "code",
   "execution_count": 30,
   "metadata": {
    "collapsed": true
   },
   "outputs": [],
   "source": [
    "job_count_by_age = job_count_by_category(get_set_of_column('Age Category'),positions,'Age Category')\n",
    "job_percentage_by_age = job_percentage_by_category(job_count_by_age)\n",
    "\n",
    "age_categories = [\"20-30\",\"31-40\",\"41-50\",\"51-60\",\"61-70\"]"
   ]
  },
  {
   "cell_type": "code",
   "execution_count": 31,
   "metadata": {},
   "outputs": [
    {
     "data": {
      "text/html": [
       "\n",
       "\n",
       "\n",
       "\n",
       "\n",
       "\n",
       "  <div class=\"bk-root\" id=\"5f22d48a-d5a7-46dd-85ca-e7f8eb2d5194\" data-root-id=\"4978\"></div>\n"
      ]
     },
     "metadata": {},
     "output_type": "display_data"
    },
    {
     "data": {
      "application/javascript": [
       "(function(root) {\n",
       "  function embed_document(root) {\n",
       "    \n",
       "  var docs_json = {\"708020cd-487f-4187-8b94-9f454590cc87\":{\"roots\":{\"references\":[{\"attributes\":{\"below\":[{\"id\":\"4989\",\"type\":\"LinearAxis\"}],\"center\":[{\"id\":\"4993\",\"type\":\"Grid\"},{\"id\":\"4997\",\"type\":\"Grid\"},{\"id\":\"5033\",\"type\":\"Legend\"}],\"left\":[{\"id\":\"4994\",\"type\":\"CategoricalAxis\"}],\"outline_line_color\":{\"value\":null},\"plot_height\":700,\"plot_width\":900,\"renderers\":[{\"id\":\"5025\",\"type\":\"GlyphRenderer\"},{\"id\":\"5038\",\"type\":\"GlyphRenderer\"},{\"id\":\"5052\",\"type\":\"GlyphRenderer\"},{\"id\":\"5066\",\"type\":\"GlyphRenderer\"},{\"id\":\"5080\",\"type\":\"GlyphRenderer\"}],\"title\":{\"id\":\"4979\",\"type\":\"Title\"},\"toolbar\":{\"id\":\"5004\",\"type\":\"Toolbar\"},\"x_range\":{\"id\":\"4981\",\"type\":\"Range1d\"},\"x_scale\":{\"id\":\"4985\",\"type\":\"LinearScale\"},\"y_range\":{\"id\":\"4983\",\"type\":\"FactorRange\"},\"y_scale\":{\"id\":\"4987\",\"type\":\"CategoricalScale\"}},\"id\":\"4978\",\"subtype\":\"Figure\",\"type\":\"Plot\"},{\"attributes\":{},\"id\":\"5046\",\"type\":\"Selection\"},{\"attributes\":{\"data_source\":{\"id\":\"5011\",\"type\":\"ColumnDataSource\"},\"glyph\":{\"id\":\"5078\",\"type\":\"HBar\"},\"hover_glyph\":null,\"muted_glyph\":null,\"name\":\"61-70\",\"nonselection_glyph\":{\"id\":\"5079\",\"type\":\"HBar\"},\"selection_glyph\":null,\"view\":{\"id\":\"5081\",\"type\":\"CDSView\"}},\"id\":\"5080\",\"type\":\"GlyphRenderer\"},{\"attributes\":{\"fields\":[\"20-30\",\"31-40\",\"41-50\"]},\"id\":\"5017\",\"type\":\"Stack\"},{\"attributes\":{\"formatter\":{\"id\":\"5030\",\"type\":\"CategoricalTickFormatter\"},\"minor_tick_line_color\":{\"value\":null},\"ticker\":{\"id\":\"4995\",\"type\":\"CategoricalTicker\"}},\"id\":\"4994\",\"type\":\"CategoricalAxis\"},{\"attributes\":{\"fields\":[\"20-30\",\"31-40\",\"41-50\"]},\"id\":\"5018\",\"type\":\"Stack\"},{\"attributes\":{},\"id\":\"5047\",\"type\":\"UnionRenderers\"},{\"attributes\":{\"source\":{\"id\":\"5011\",\"type\":\"ColumnDataSource\"}},\"id\":\"5081\",\"type\":\"CDSView\"},{\"attributes\":{\"fields\":[\"20-30\",\"31-40\",\"41-50\",\"51-60\"]},\"id\":\"5019\",\"type\":\"Stack\"},{\"attributes\":{},\"id\":\"4995\",\"type\":\"CategoricalTicker\"},{\"attributes\":{\"label\":{\"value\":\"31-40\"},\"renderers\":[{\"id\":\"5038\",\"type\":\"GlyphRenderer\"}]},\"id\":\"5048\",\"type\":\"LegendItem\"},{\"attributes\":{\"label\":{\"value\":\"61-70\"},\"renderers\":[{\"id\":\"5080\",\"type\":\"GlyphRenderer\"}]},\"id\":\"5090\",\"type\":\"LegendItem\"},{\"attributes\":{\"bottom_units\":\"screen\",\"fill_alpha\":{\"value\":0.5},\"fill_color\":{\"value\":\"lightgrey\"},\"left_units\":\"screen\",\"level\":\"overlay\",\"line_alpha\":{\"value\":1.0},\"line_color\":{\"value\":\"black\"},\"line_dash\":[4,4],\"line_width\":{\"value\":2},\"render_mode\":\"css\",\"right_units\":\"screen\",\"top_units\":\"screen\"},\"id\":\"5032\",\"type\":\"BoxAnnotation\"},{\"attributes\":{\"dimension\":1,\"grid_line_color\":null,\"ticker\":{\"id\":\"4995\",\"type\":\"CategoricalTicker\"}},\"id\":\"4997\",\"type\":\"Grid\"},{\"attributes\":{\"fields\":[\"20-30\",\"31-40\",\"41-50\",\"51-60\"]},\"id\":\"5020\",\"type\":\"Stack\"},{\"attributes\":{\"fields\":[]},\"id\":\"5012\",\"type\":\"Stack\"},{\"attributes\":{\"fields\":[\"20-30\",\"31-40\",\"41-50\",\"51-60\",\"61-70\"]},\"id\":\"5021\",\"type\":\"Stack\"},{\"attributes\":{\"fill_color\":{\"value\":\"#ccebc5\"},\"height\":{\"value\":0.9},\"left\":{\"expr\":{\"id\":\"5016\",\"type\":\"Stack\"}},\"line_color\":{\"value\":\"#ccebc5\"},\"right\":{\"expr\":{\"id\":\"5017\",\"type\":\"Stack\"}},\"y\":{\"field\":\"all_positions\"}},\"id\":\"5050\",\"type\":\"HBar\"},{\"attributes\":{\"callback\":null,\"data\":{\"20-30\":[0.0,0.0,0.0,0.0,0.0,0.0,0.0,0.0,0.0,43.47826086956522,50.0,0.0,0.0,0.0,0.0,16.666666666666664,33.33333333333333,50.0,50.0,14.285714285714285,0.0,25.0,0.0,33.33333333333333,21.73913043478261,10.95890410958904,50.0],\"31-40\":[0.0,100.0,100.0,0.0,0.0,100.0,0.0,100.0,0.0,13.043478260869565,50.0,100.0,0.0,50.0,55.55555555555556,83.33333333333334,33.33333333333333,50.0,37.5,71.42857142857143,100.0,25.0,0.0,66.66666666666666,56.52173913043478,52.054794520547944,50.0],\"41-50\":[0.0,0.0,0.0,100.0,100.0,0.0,100.0,0.0,0.0,26.08695652173913,0.0,0.0,100.0,0.0,44.44444444444444,0.0,33.33333333333333,0.0,12.5,14.285714285714285,0.0,50.0,0.0,0.0,17.391304347826086,24.65753424657534,0.0],\"51-60\":[0.0,0.0,0.0,0.0,0.0,0.0,0.0,0.0,100.0,13.043478260869565,0.0,0.0,0.0,50.0,0.0,0.0,0.0,0.0,0.0,0.0,0.0,0.0,100.0,0.0,4.3478260869565215,10.95890410958904,0.0],\"61-70\":[100.0,0.0,0.0,0.0,0.0,0.0,0.0,0.0,0.0,4.3478260869565215,0.0,0.0,0.0,0.0,0.0,0.0,0.0,0.0,0.0,0.0,0.0,0.0,0.0,0.0,0.0,1.36986301369863,0.0],\"all_positions\":[\"President & CEO\",\"CIO\",\"IT Director\",\"IT Manager - Support\",\"BI Director\",\"IT Manager - Infra\",\"IT Manager - DB\",\"Director of Operations\",\"Director of Sales\",\"Area Sales Manager\",\"Sales Manager\",\"Shared Services Manager\",\"Data Architect\",\"Sr. Network Engineer\",\"Production Manager\",\"Software Engineer\",\"Senior BI Developer\",\"BI Developer\",\"Network Engineer\",\"Database Administrator\",\"Sr. Accountant\",\"IT Support\",\"Software Engineering Manager\",\"Accountant I\",\"Production Technician II\",\"Production Technician I\",\"Administrative Assistant\"]},\"selected\":{\"id\":\"5046\",\"type\":\"Selection\"},\"selection_policy\":{\"id\":\"5047\",\"type\":\"UnionRenderers\"}},\"id\":\"5011\",\"type\":\"ColumnDataSource\"},{\"attributes\":{\"fill_alpha\":{\"value\":0.1},\"fill_color\":{\"value\":\"#1f77b4\"},\"height\":{\"value\":0.9},\"left\":{\"expr\":{\"id\":\"5016\",\"type\":\"Stack\"}},\"line_alpha\":{\"value\":0.1},\"line_color\":{\"value\":\"#1f77b4\"},\"right\":{\"expr\":{\"id\":\"5017\",\"type\":\"Stack\"}},\"y\":{\"field\":\"all_positions\"}},\"id\":\"5051\",\"type\":\"HBar\"},{\"attributes\":{\"fill_color\":{\"value\":\"#fbb4ae\"},\"height\":{\"value\":0.9},\"left\":{\"expr\":{\"id\":\"5012\",\"type\":\"Stack\"}},\"line_color\":{\"value\":\"#fbb4ae\"},\"right\":{\"expr\":{\"id\":\"5013\",\"type\":\"Stack\"}},\"y\":{\"field\":\"all_positions\"}},\"id\":\"5023\",\"type\":\"HBar\"},{\"attributes\":{\"active_drag\":\"auto\",\"active_inspect\":\"auto\",\"active_multi\":null,\"active_scroll\":\"auto\",\"active_tap\":\"auto\",\"tools\":[{\"id\":\"4998\",\"type\":\"PanTool\"},{\"id\":\"4999\",\"type\":\"WheelZoomTool\"},{\"id\":\"5000\",\"type\":\"BoxZoomTool\"},{\"id\":\"5001\",\"type\":\"SaveTool\"},{\"id\":\"5002\",\"type\":\"ResetTool\"},{\"id\":\"5003\",\"type\":\"HelpTool\"}]},\"id\":\"5004\",\"type\":\"Toolbar\"},{\"attributes\":{\"data_source\":{\"id\":\"5011\",\"type\":\"ColumnDataSource\"},\"glyph\":{\"id\":\"5050\",\"type\":\"HBar\"},\"hover_glyph\":null,\"muted_glyph\":null,\"name\":\"41-50\",\"nonselection_glyph\":{\"id\":\"5051\",\"type\":\"HBar\"},\"selection_glyph\":null,\"view\":{\"id\":\"5053\",\"type\":\"CDSView\"}},\"id\":\"5052\",\"type\":\"GlyphRenderer\"},{\"attributes\":{},\"id\":\"4998\",\"type\":\"PanTool\"},{\"attributes\":{\"fill_alpha\":{\"value\":0.1},\"fill_color\":{\"value\":\"#1f77b4\"},\"height\":{\"value\":0.9},\"left\":{\"expr\":{\"id\":\"5012\",\"type\":\"Stack\"}},\"line_alpha\":{\"value\":0.1},\"line_color\":{\"value\":\"#1f77b4\"},\"right\":{\"expr\":{\"id\":\"5013\",\"type\":\"Stack\"}},\"y\":{\"field\":\"all_positions\"}},\"id\":\"5024\",\"type\":\"HBar\"},{\"attributes\":{},\"id\":\"4999\",\"type\":\"WheelZoomTool\"},{\"attributes\":{\"source\":{\"id\":\"5011\",\"type\":\"ColumnDataSource\"}},\"id\":\"5053\",\"type\":\"CDSView\"},{\"attributes\":{\"data_source\":{\"id\":\"5011\",\"type\":\"ColumnDataSource\"},\"glyph\":{\"id\":\"5023\",\"type\":\"HBar\"},\"hover_glyph\":null,\"muted_glyph\":null,\"name\":\"20-30\",\"nonselection_glyph\":{\"id\":\"5024\",\"type\":\"HBar\"},\"selection_glyph\":null,\"view\":{\"id\":\"5026\",\"type\":\"CDSView\"}},\"id\":\"5025\",\"type\":\"GlyphRenderer\"},{\"attributes\":{\"overlay\":{\"id\":\"5032\",\"type\":\"BoxAnnotation\"}},\"id\":\"5000\",\"type\":\"BoxZoomTool\"},{\"attributes\":{\"label\":{\"value\":\"41-50\"},\"renderers\":[{\"id\":\"5052\",\"type\":\"GlyphRenderer\"}]},\"id\":\"5062\",\"type\":\"LegendItem\"},{\"attributes\":{\"source\":{\"id\":\"5011\",\"type\":\"ColumnDataSource\"}},\"id\":\"5026\",\"type\":\"CDSView\"},{\"attributes\":{},\"id\":\"5001\",\"type\":\"SaveTool\"},{\"attributes\":{},\"id\":\"5028\",\"type\":\"BasicTickFormatter\"},{\"attributes\":{},\"id\":\"5002\",\"type\":\"ResetTool\"},{\"attributes\":{\"fill_color\":{\"value\":\"#decbe4\"},\"height\":{\"value\":0.9},\"left\":{\"expr\":{\"id\":\"5018\",\"type\":\"Stack\"}},\"line_color\":{\"value\":\"#decbe4\"},\"right\":{\"expr\":{\"id\":\"5019\",\"type\":\"Stack\"}},\"y\":{\"field\":\"all_positions\"}},\"id\":\"5064\",\"type\":\"HBar\"},{\"attributes\":{},\"id\":\"5030\",\"type\":\"CategoricalTickFormatter\"},{\"attributes\":{\"text\":\"Job Representation By Age (%) - Sorted from Lowest Pay to Highest\"},\"id\":\"4979\",\"type\":\"Title\"},{\"attributes\":{},\"id\":\"5003\",\"type\":\"HelpTool\"},{\"attributes\":{\"fill_alpha\":{\"value\":0.1},\"fill_color\":{\"value\":\"#1f77b4\"},\"height\":{\"value\":0.9},\"left\":{\"expr\":{\"id\":\"5018\",\"type\":\"Stack\"}},\"line_alpha\":{\"value\":0.1},\"line_color\":{\"value\":\"#1f77b4\"},\"right\":{\"expr\":{\"id\":\"5019\",\"type\":\"Stack\"}},\"y\":{\"field\":\"all_positions\"}},\"id\":\"5065\",\"type\":\"HBar\"},{\"attributes\":{\"items\":[{\"id\":\"5034\",\"type\":\"LegendItem\"},{\"id\":\"5048\",\"type\":\"LegendItem\"},{\"id\":\"5062\",\"type\":\"LegendItem\"},{\"id\":\"5076\",\"type\":\"LegendItem\"},{\"id\":\"5090\",\"type\":\"LegendItem\"}],\"location\":\"bottom_right\"},\"id\":\"5033\",\"type\":\"Legend\"},{\"attributes\":{\"callback\":null,\"end\":100},\"id\":\"4981\",\"type\":\"Range1d\"},{\"attributes\":{\"data_source\":{\"id\":\"5011\",\"type\":\"ColumnDataSource\"},\"glyph\":{\"id\":\"5064\",\"type\":\"HBar\"},\"hover_glyph\":null,\"muted_glyph\":null,\"name\":\"51-60\",\"nonselection_glyph\":{\"id\":\"5065\",\"type\":\"HBar\"},\"selection_glyph\":null,\"view\":{\"id\":\"5067\",\"type\":\"CDSView\"}},\"id\":\"5066\",\"type\":\"GlyphRenderer\"},{\"attributes\":{\"label\":{\"value\":\"20-30\"},\"renderers\":[{\"id\":\"5025\",\"type\":\"GlyphRenderer\"}]},\"id\":\"5034\",\"type\":\"LegendItem\"},{\"attributes\":{\"callback\":null,\"factors\":[\"President & CEO\",\"CIO\",\"IT Director\",\"IT Manager - Support\",\"BI Director\",\"IT Manager - Infra\",\"IT Manager - DB\",\"Director of Operations\",\"Director of Sales\",\"Area Sales Manager\",\"Sales Manager\",\"Shared Services Manager\",\"Data Architect\",\"Sr. Network Engineer\",\"Production Manager\",\"Software Engineer\",\"Senior BI Developer\",\"BI Developer\",\"Network Engineer\",\"Database Administrator\",\"Sr. Accountant\",\"IT Support\",\"Software Engineering Manager\",\"Accountant I\",\"Production Technician II\",\"Production Technician I\",\"Administrative Assistant\"],\"range_padding\":0.1},\"id\":\"4983\",\"type\":\"FactorRange\"},{\"attributes\":{\"source\":{\"id\":\"5011\",\"type\":\"ColumnDataSource\"}},\"id\":\"5067\",\"type\":\"CDSView\"},{\"attributes\":{\"fields\":[\"20-30\"]},\"id\":\"5013\",\"type\":\"Stack\"},{\"attributes\":{},\"id\":\"4985\",\"type\":\"LinearScale\"},{\"attributes\":{\"label\":{\"value\":\"51-60\"},\"renderers\":[{\"id\":\"5066\",\"type\":\"GlyphRenderer\"}]},\"id\":\"5076\",\"type\":\"LegendItem\"},{\"attributes\":{\"fields\":[\"20-30\"]},\"id\":\"5014\",\"type\":\"Stack\"},{\"attributes\":{\"fill_color\":{\"value\":\"#b3cde3\"},\"height\":{\"value\":0.9},\"left\":{\"expr\":{\"id\":\"5014\",\"type\":\"Stack\"}},\"line_color\":{\"value\":\"#b3cde3\"},\"right\":{\"expr\":{\"id\":\"5015\",\"type\":\"Stack\"}},\"y\":{\"field\":\"all_positions\"}},\"id\":\"5036\",\"type\":\"HBar\"},{\"attributes\":{},\"id\":\"4987\",\"type\":\"CategoricalScale\"},{\"attributes\":{\"fields\":[\"20-30\",\"31-40\"]},\"id\":\"5015\",\"type\":\"Stack\"},{\"attributes\":{\"fill_alpha\":{\"value\":0.1},\"fill_color\":{\"value\":\"#1f77b4\"},\"height\":{\"value\":0.9},\"left\":{\"expr\":{\"id\":\"5014\",\"type\":\"Stack\"}},\"line_alpha\":{\"value\":0.1},\"line_color\":{\"value\":\"#1f77b4\"},\"right\":{\"expr\":{\"id\":\"5015\",\"type\":\"Stack\"}},\"y\":{\"field\":\"all_positions\"}},\"id\":\"5037\",\"type\":\"HBar\"},{\"attributes\":{\"axis_label\":\"% of Age in Each Position\",\"formatter\":{\"id\":\"5028\",\"type\":\"BasicTickFormatter\"},\"minor_tick_line_color\":{\"value\":null},\"ticker\":{\"id\":\"4990\",\"type\":\"BasicTicker\"}},\"id\":\"4989\",\"type\":\"LinearAxis\"},{\"attributes\":{\"fill_color\":{\"value\":\"#fed9a6\"},\"height\":{\"value\":0.9},\"left\":{\"expr\":{\"id\":\"5020\",\"type\":\"Stack\"}},\"line_color\":{\"value\":\"#fed9a6\"},\"right\":{\"expr\":{\"id\":\"5021\",\"type\":\"Stack\"}},\"y\":{\"field\":\"all_positions\"}},\"id\":\"5078\",\"type\":\"HBar\"},{\"attributes\":{\"fields\":[\"20-30\",\"31-40\"]},\"id\":\"5016\",\"type\":\"Stack\"},{\"attributes\":{\"data_source\":{\"id\":\"5011\",\"type\":\"ColumnDataSource\"},\"glyph\":{\"id\":\"5036\",\"type\":\"HBar\"},\"hover_glyph\":null,\"muted_glyph\":null,\"name\":\"31-40\",\"nonselection_glyph\":{\"id\":\"5037\",\"type\":\"HBar\"},\"selection_glyph\":null,\"view\":{\"id\":\"5039\",\"type\":\"CDSView\"}},\"id\":\"5038\",\"type\":\"GlyphRenderer\"},{\"attributes\":{},\"id\":\"4990\",\"type\":\"BasicTicker\"},{\"attributes\":{\"fill_alpha\":{\"value\":0.1},\"fill_color\":{\"value\":\"#1f77b4\"},\"height\":{\"value\":0.9},\"left\":{\"expr\":{\"id\":\"5020\",\"type\":\"Stack\"}},\"line_alpha\":{\"value\":0.1},\"line_color\":{\"value\":\"#1f77b4\"},\"right\":{\"expr\":{\"id\":\"5021\",\"type\":\"Stack\"}},\"y\":{\"field\":\"all_positions\"}},\"id\":\"5079\",\"type\":\"HBar\"},{\"attributes\":{\"source\":{\"id\":\"5011\",\"type\":\"ColumnDataSource\"}},\"id\":\"5039\",\"type\":\"CDSView\"},{\"attributes\":{\"ticker\":{\"id\":\"4990\",\"type\":\"BasicTicker\"}},\"id\":\"4993\",\"type\":\"Grid\"}],\"root_ids\":[\"4978\"]},\"title\":\"Bokeh Application\",\"version\":\"1.3.4\"}};\n",
       "  var render_items = [{\"docid\":\"708020cd-487f-4187-8b94-9f454590cc87\",\"roots\":{\"4978\":\"5f22d48a-d5a7-46dd-85ca-e7f8eb2d5194\"}}];\n",
       "  root.Bokeh.embed.embed_items_notebook(docs_json, render_items);\n",
       "\n",
       "  }\n",
       "  if (root.Bokeh !== undefined) {\n",
       "    embed_document(root);\n",
       "  } else {\n",
       "    var attempts = 0;\n",
       "    var timer = setInterval(function(root) {\n",
       "      if (root.Bokeh !== undefined) {\n",
       "        embed_document(root);\n",
       "        clearInterval(timer);\n",
       "      }\n",
       "      attempts++;\n",
       "      if (attempts > 100) {\n",
       "        console.log(\"Bokeh: ERROR: Unable to run BokehJS code because BokehJS library is missing\");\n",
       "        clearInterval(timer);\n",
       "      }\n",
       "    }, 10, root)\n",
       "  }\n",
       "})(window);"
      ],
      "application/vnd.bokehjs_exec.v0+json": ""
     },
     "metadata": {
      "application/vnd.bokehjs_exec.v0+json": {
       "id": "4978"
      }
     },
     "output_type": "display_data"
    }
   ],
   "source": [
    "from bokeh.core.properties import value\n",
    "colors = Pastel1[5]\n",
    "all_positions = positions\n",
    "ages = ['20-30','31-40','41-50','51-60','61-70']\n",
    "\n",
    "exports = {'all_positions' : all_positions,\n",
    "           '20-30'   : job_percentage_by_age[\"20-30\"],\n",
    "           '31-40'   : job_percentage_by_age[\"31-40\"],\n",
    "           '41-50': job_percentage_by_age[\"41-50\"],\n",
    "           '51-60': job_percentage_by_age[\"51-60\"],\n",
    "           '61-70': job_percentage_by_age[\"61-70\"]}\n",
    "\n",
    "p = figure(y_range=all_positions, plot_height=700, plot_width=900, x_range=(0, 100), title=\"Job Representation By Age (%) - Sorted from Lowest Pay to Highest\", x_axis_label=\"% of Age in Each Position\")\n",
    "\n",
    "ages1 = ['20-30','31-40','41-50','51-60','61-70']\n",
    "\n",
    "p.hbar_stack(ages, y='all_positions', color = colors, height=0.9, source=ColumnDataSource(exports),legend = [value(x) for x in ages])\n",
    "\n",
    "p.legend.location = \"bottom_right\"\n",
    "p.y_range.range_padding = 0.1\n",
    "p.ygrid.grid_line_color = None\n",
    "p.axis.minor_tick_line_color = None\n",
    "p.outline_line_color = None\n",
    "\n",
    "show(p)"
   ]
  },
  {
   "cell_type": "markdown",
   "metadata": {},
   "source": [
    "Some insights: </br>\n",
    "\n",
    "-The youngest employees (aged 20-30) are generally still working in the lower-paying jobs. </br>\n",
    "\n",
    "-Once again, it seems like the positions of \"Production Technician I\" and \"Area Sales Manager\" has greater age diversity!\n",
    "\n",
    "-The President & CEO, which is the highest-paying position, is older than most people in the company. "
   ]
  },
  {
   "cell_type": "code",
   "execution_count": 32,
   "metadata": {},
   "outputs": [
    {
     "data": {
      "text/html": [
       "\n",
       "\n",
       "\n",
       "\n",
       "\n",
       "\n",
       "  <div class=\"bk-root\" id=\"24d84d68-ea92-4562-a937-ee5d3c8294cc\" data-root-id=\"5367\"></div>\n"
      ]
     },
     "metadata": {},
     "output_type": "display_data"
    },
    {
     "data": {
      "application/javascript": [
       "(function(root) {\n",
       "  function embed_document(root) {\n",
       "    \n",
       "  var docs_json = {\"c694cf1d-99ad-427f-86ab-4042f60a69fe\":{\"roots\":{\"references\":[{\"attributes\":{\"below\":[{\"id\":\"5378\",\"type\":\"CategoricalAxis\"}],\"center\":[{\"id\":\"5381\",\"type\":\"Grid\"},{\"id\":\"5386\",\"type\":\"Grid\"}],\"left\":[{\"id\":\"5382\",\"type\":\"LinearAxis\"}],\"plot_height\":350,\"plot_width\":900,\"renderers\":[{\"id\":\"5391\",\"type\":\"GlyphRenderer\"}],\"title\":{\"id\":\"5368\",\"type\":\"Title\"},\"toolbar\":{\"id\":\"5387\",\"type\":\"Toolbar\"},\"toolbar_location\":null,\"x_range\":{\"id\":\"5370\",\"type\":\"FactorRange\"},\"x_scale\":{\"id\":\"5374\",\"type\":\"CategoricalScale\"},\"y_range\":{\"id\":\"5372\",\"type\":\"DataRange1d\"},\"y_scale\":{\"id\":\"5376\",\"type\":\"LinearScale\"}},\"id\":\"5367\",\"subtype\":\"Figure\",\"type\":\"Plot\"},{\"attributes\":{\"dimension\":1,\"ticker\":{\"id\":\"5383\",\"type\":\"BasicTicker\"}},\"id\":\"5386\",\"type\":\"Grid\"},{\"attributes\":{\"active_drag\":\"auto\",\"active_inspect\":\"auto\",\"active_multi\":null,\"active_scroll\":\"auto\",\"active_tap\":\"auto\"},\"id\":\"5387\",\"type\":\"Toolbar\"},{\"attributes\":{},\"id\":\"5383\",\"type\":\"BasicTicker\"},{\"attributes\":{\"callback\":null,\"start\":0},\"id\":\"5372\",\"type\":\"DataRange1d\"},{\"attributes\":{\"fill_color\":{\"field\":\"fill_color\"},\"line_color\":{\"field\":\"line_color\"},\"top\":{\"field\":\"top\"},\"width\":{\"value\":0.7},\"x\":{\"field\":\"x\"}},\"id\":\"5389\",\"type\":\"VBar\"},{\"attributes\":{\"fill_alpha\":{\"value\":0.1},\"fill_color\":{\"value\":\"#1f77b4\"},\"line_alpha\":{\"value\":0.1},\"line_color\":{\"value\":\"#1f77b4\"},\"top\":{\"field\":\"top\"},\"width\":{\"value\":0.7},\"x\":{\"field\":\"x\"}},\"id\":\"5390\",\"type\":\"VBar\"},{\"attributes\":{\"callback\":null,\"data\":{\"fill_color\":[\"#fbb4ae\",\"#b3cde3\",\"#ccebc5\",\"#decbe4\",\"#fed9a6\"],\"line_color\":[\"#fbb4ae\",\"#b3cde3\",\"#ccebc5\",\"#decbe4\",\"#fed9a6\"],\"top\":[37.56444444444444,31.576249999999995,34.65707317073171,32.56666666666667,50.5],\"x\":[\"20-30\",\"31-40\",\"41-50\",\"51-60\",\"61-70\"]},\"selected\":{\"id\":\"5626\",\"type\":\"Selection\"},\"selection_policy\":{\"id\":\"5627\",\"type\":\"UnionRenderers\"}},\"id\":\"5388\",\"type\":\"ColumnDataSource\"},{\"attributes\":{},\"id\":\"5627\",\"type\":\"UnionRenderers\"},{\"attributes\":{},\"id\":\"5374\",\"type\":\"CategoricalScale\"},{\"attributes\":{\"data_source\":{\"id\":\"5388\",\"type\":\"ColumnDataSource\"},\"glyph\":{\"id\":\"5389\",\"type\":\"VBar\"},\"hover_glyph\":null,\"muted_glyph\":null,\"nonselection_glyph\":{\"id\":\"5390\",\"type\":\"VBar\"},\"selection_glyph\":null,\"view\":{\"id\":\"5392\",\"type\":\"CDSView\"}},\"id\":\"5391\",\"type\":\"GlyphRenderer\"},{\"attributes\":{\"formatter\":{\"id\":\"5622\",\"type\":\"CategoricalTickFormatter\"},\"ticker\":{\"id\":\"5379\",\"type\":\"CategoricalTicker\"}},\"id\":\"5378\",\"type\":\"CategoricalAxis\"},{\"attributes\":{},\"id\":\"5379\",\"type\":\"CategoricalTicker\"},{\"attributes\":{\"source\":{\"id\":\"5388\",\"type\":\"ColumnDataSource\"}},\"id\":\"5392\",\"type\":\"CDSView\"},{\"attributes\":{},\"id\":\"5624\",\"type\":\"BasicTickFormatter\"},{\"attributes\":{},\"id\":\"5622\",\"type\":\"CategoricalTickFormatter\"},{\"attributes\":{},\"id\":\"5376\",\"type\":\"LinearScale\"},{\"attributes\":{\"axis_label\":\"Average Pay Rate\",\"formatter\":{\"id\":\"5624\",\"type\":\"BasicTickFormatter\"},\"ticker\":{\"id\":\"5383\",\"type\":\"BasicTicker\"}},\"id\":\"5382\",\"type\":\"LinearAxis\"},{\"attributes\":{},\"id\":\"5626\",\"type\":\"Selection\"},{\"attributes\":{\"callback\":null,\"factors\":[\"31-40\",\"51-60\",\"41-50\",\"20-30\",\"61-70\"]},\"id\":\"5370\",\"type\":\"FactorRange\"},{\"attributes\":{\"text\":\"Average Pay Rate by Age Categories, Sorted\"},\"id\":\"5368\",\"type\":\"Title\"},{\"attributes\":{\"grid_line_color\":null,\"ticker\":{\"id\":\"5379\",\"type\":\"CategoricalTicker\"}},\"id\":\"5381\",\"type\":\"Grid\"}],\"root_ids\":[\"5367\"]},\"title\":\"Bokeh Application\",\"version\":\"1.3.4\"}};\n",
       "  var render_items = [{\"docid\":\"c694cf1d-99ad-427f-86ab-4042f60a69fe\",\"roots\":{\"5367\":\"24d84d68-ea92-4562-a937-ee5d3c8294cc\"}}];\n",
       "  root.Bokeh.embed.embed_items_notebook(docs_json, render_items);\n",
       "\n",
       "  }\n",
       "  if (root.Bokeh !== undefined) {\n",
       "    embed_document(root);\n",
       "  } else {\n",
       "    var attempts = 0;\n",
       "    var timer = setInterval(function(root) {\n",
       "      if (root.Bokeh !== undefined) {\n",
       "        embed_document(root);\n",
       "        clearInterval(timer);\n",
       "      }\n",
       "      attempts++;\n",
       "      if (attempts > 100) {\n",
       "        console.log(\"Bokeh: ERROR: Unable to run BokehJS code because BokehJS library is missing\");\n",
       "        clearInterval(timer);\n",
       "      }\n",
       "    }, 10, root)\n",
       "  }\n",
       "})(window);"
      ],
      "application/vnd.bokehjs_exec.v0+json": ""
     },
     "metadata": {
      "application/vnd.bokehjs_exec.v0+json": {
       "id": "5367"
      }
     },
     "output_type": "display_data"
    }
   ],
   "source": [
    "avg_pay_rate_age = pay_gap(age_categories,\"Age Category\")\n",
    "\n",
    "ages = []\n",
    "ages_pay_rate = []\n",
    "for age in avg_pay_rate_age:\n",
    "    ages.append(age)\n",
    "    ages_pay_rate.append(avg_pay_rate_age[age])\n",
    "\n",
    "barchart(ages,ages_pay_rate, Pastel1[5], \"Average Pay Rate by Age Categories, Sorted\",\"Average Pay Rate\")"
   ]
  },
  {
   "cell_type": "markdown",
   "metadata": {},
   "source": [
    "# Which recruiting sources has been providing the company with the best-performing employees?"
   ]
  },
  {
   "cell_type": "markdown",
   "metadata": {},
   "source": [
    "According to the dataset, the company has used 23 different recruiting sources to staff its company over the years. But are all the sources providing high-quality employees? Which source should the company invest into more given the different costs of each source?"
   ]
  },
  {
   "cell_type": "code",
   "execution_count": 33,
   "metadata": {
    "collapsed": true
   },
   "outputs": [],
   "source": [
    "sources = get_set_of_column(\"Employee Source\")\n",
    "no_of_sources = len(sources)"
   ]
  },
  {
   "cell_type": "code",
   "execution_count": 34,
   "metadata": {
    "collapsed": true
   },
   "outputs": [],
   "source": [
    "#A method that was similar to count_by_category, but takes into account all employees, rather than just the active ones\n",
    "def count_by_category_all(Header):\n",
    "    set_of_category = list(get_set_of_column(Header))\n",
    "    count_of_category = {}\n",
    "\n",
    "    for category in set_of_category:\n",
    "        for employee in data.dict:\n",
    "            if employee[Header] == category:\n",
    "                append_dict(count_of_category, employee[Header],1)\n",
    "\n",
    "    sum_of_categories = sum_items_in_dict(count_of_category)\n",
    "    return sum_of_categories"
   ]
  },
  {
   "cell_type": "code",
   "execution_count": 35,
   "metadata": {
    "collapsed": true
   },
   "outputs": [],
   "source": [
    "count_by_source = count_by_category_all(\"Employee Source\")\n",
    "percentage_by_source= percentage_by_category(\"Employee Source\", count_by_source)\n",
    "\n",
    "sources = []\n",
    "number = []\n",
    "\n",
    "#Display only the top 8 sources (by no. of employees)\n",
    "for source in count_by_source:\n",
    "    if count_by_source[source] > 16:\n",
    "        sources.append(source)\n",
    "        number.append(count_by_source[source])"
   ]
  },
  {
   "cell_type": "code",
   "execution_count": 36,
   "metadata": {},
   "outputs": [
    {
     "data": {
      "text/html": [
       "\n",
       "\n",
       "\n",
       "\n",
       "\n",
       "\n",
       "  <div class=\"bk-root\" id=\"5cfa64f8-6074-4725-8d19-826729b32320\" data-root-id=\"5670\"></div>\n"
      ]
     },
     "metadata": {},
     "output_type": "display_data"
    },
    {
     "data": {
      "application/javascript": [
       "(function(root) {\n",
       "  function embed_document(root) {\n",
       "    \n",
       "  var docs_json = {\"9c50e831-23ba-4d19-9888-e800f0825cf6\":{\"roots\":{\"references\":[{\"attributes\":{\"below\":[{\"id\":\"5681\",\"type\":\"CategoricalAxis\"}],\"center\":[{\"id\":\"5684\",\"type\":\"Grid\"},{\"id\":\"5689\",\"type\":\"Grid\"}],\"left\":[{\"id\":\"5685\",\"type\":\"LinearAxis\"}],\"plot_height\":350,\"plot_width\":900,\"renderers\":[{\"id\":\"5694\",\"type\":\"GlyphRenderer\"}],\"title\":{\"id\":\"5671\",\"type\":\"Title\"},\"toolbar\":{\"id\":\"5690\",\"type\":\"Toolbar\"},\"toolbar_location\":null,\"x_range\":{\"id\":\"5673\",\"type\":\"FactorRange\"},\"x_scale\":{\"id\":\"5677\",\"type\":\"CategoricalScale\"},\"y_range\":{\"id\":\"5675\",\"type\":\"DataRange1d\"},\"y_scale\":{\"id\":\"5679\",\"type\":\"LinearScale\"}},\"id\":\"5670\",\"subtype\":\"Figure\",\"type\":\"Plot\"},{\"attributes\":{\"callback\":null,\"start\":0},\"id\":\"5675\",\"type\":\"DataRange1d\"},{\"attributes\":{},\"id\":\"5679\",\"type\":\"LinearScale\"},{\"attributes\":{\"source\":{\"id\":\"5691\",\"type\":\"ColumnDataSource\"}},\"id\":\"5695\",\"type\":\"CDSView\"},{\"attributes\":{},\"id\":\"5682\",\"type\":\"CategoricalTicker\"},{\"attributes\":{\"text\":\"Top 8 Recruiting Sources, Sorted\"},\"id\":\"5671\",\"type\":\"Title\"},{\"attributes\":{\"dimension\":1,\"ticker\":{\"id\":\"5686\",\"type\":\"BasicTicker\"}},\"id\":\"5689\",\"type\":\"Grid\"},{\"attributes\":{\"callback\":null,\"data\":{\"fill_color\":[\"#8dd3c7\",\"#ffffb3\",\"#bebada\",\"#fb8072\",\"#80b1d3\",\"#fdb462\",\"#b3de69\",\"#fccde5\"],\"line_color\":[\"#8dd3c7\",\"#ffffb3\",\"#bebada\",\"#fb8072\",\"#80b1d3\",\"#fdb462\",\"#b3de69\",\"#fccde5\"],\"top\":[29,31,17,24,20,18,25,21],\"x\":[\"Diversity Job Fair\",\"Employee Referral\",\"MBTA ads\",\"Monster.com\",\"Professional Society\",\"Newspager/Magazine\",\"Search Engine - Google Bing Yahoo\",\"Pay Per Click - Google\"]},\"selected\":{\"id\":\"5936\",\"type\":\"Selection\"},\"selection_policy\":{\"id\":\"5937\",\"type\":\"UnionRenderers\"}},\"id\":\"5691\",\"type\":\"ColumnDataSource\"},{\"attributes\":{},\"id\":\"5677\",\"type\":\"CategoricalScale\"},{\"attributes\":{},\"id\":\"5934\",\"type\":\"BasicTickFormatter\"},{\"attributes\":{},\"id\":\"5937\",\"type\":\"UnionRenderers\"},{\"attributes\":{\"callback\":null,\"factors\":[\"MBTA ads\",\"Newspager/Magazine\",\"Professional Society\",\"Pay Per Click - Google\",\"Monster.com\",\"Search Engine - Google Bing Yahoo\",\"Diversity Job Fair\",\"Employee Referral\"]},\"id\":\"5673\",\"type\":\"FactorRange\"},{\"attributes\":{\"fill_color\":{\"field\":\"fill_color\"},\"line_color\":{\"field\":\"line_color\"},\"top\":{\"field\":\"top\"},\"width\":{\"value\":0.7},\"x\":{\"field\":\"x\"}},\"id\":\"5692\",\"type\":\"VBar\"},{\"attributes\":{},\"id\":\"5932\",\"type\":\"CategoricalTickFormatter\"},{\"attributes\":{},\"id\":\"5936\",\"type\":\"Selection\"},{\"attributes\":{\"fill_alpha\":{\"value\":0.1},\"fill_color\":{\"value\":\"#1f77b4\"},\"line_alpha\":{\"value\":0.1},\"line_color\":{\"value\":\"#1f77b4\"},\"top\":{\"field\":\"top\"},\"width\":{\"value\":0.7},\"x\":{\"field\":\"x\"}},\"id\":\"5693\",\"type\":\"VBar\"},{\"attributes\":{\"axis_label\":\"Number of Employees\",\"formatter\":{\"id\":\"5934\",\"type\":\"BasicTickFormatter\"},\"ticker\":{\"id\":\"5686\",\"type\":\"BasicTicker\"}},\"id\":\"5685\",\"type\":\"LinearAxis\"},{\"attributes\":{\"active_drag\":\"auto\",\"active_inspect\":\"auto\",\"active_multi\":null,\"active_scroll\":\"auto\",\"active_tap\":\"auto\"},\"id\":\"5690\",\"type\":\"Toolbar\"},{\"attributes\":{},\"id\":\"5686\",\"type\":\"BasicTicker\"},{\"attributes\":{\"formatter\":{\"id\":\"5932\",\"type\":\"CategoricalTickFormatter\"},\"ticker\":{\"id\":\"5682\",\"type\":\"CategoricalTicker\"}},\"id\":\"5681\",\"type\":\"CategoricalAxis\"},{\"attributes\":{\"data_source\":{\"id\":\"5691\",\"type\":\"ColumnDataSource\"},\"glyph\":{\"id\":\"5692\",\"type\":\"VBar\"},\"hover_glyph\":null,\"muted_glyph\":null,\"nonselection_glyph\":{\"id\":\"5693\",\"type\":\"VBar\"},\"selection_glyph\":null,\"view\":{\"id\":\"5695\",\"type\":\"CDSView\"}},\"id\":\"5694\",\"type\":\"GlyphRenderer\"},{\"attributes\":{\"grid_line_color\":null,\"ticker\":{\"id\":\"5682\",\"type\":\"CategoricalTicker\"}},\"id\":\"5684\",\"type\":\"Grid\"}],\"root_ids\":[\"5670\"]},\"title\":\"Bokeh Application\",\"version\":\"1.3.4\"}};\n",
       "  var render_items = [{\"docid\":\"9c50e831-23ba-4d19-9888-e800f0825cf6\",\"roots\":{\"5670\":\"5cfa64f8-6074-4725-8d19-826729b32320\"}}];\n",
       "  root.Bokeh.embed.embed_items_notebook(docs_json, render_items);\n",
       "\n",
       "  }\n",
       "  if (root.Bokeh !== undefined) {\n",
       "    embed_document(root);\n",
       "  } else {\n",
       "    var attempts = 0;\n",
       "    var timer = setInterval(function(root) {\n",
       "      if (root.Bokeh !== undefined) {\n",
       "        embed_document(root);\n",
       "        clearInterval(timer);\n",
       "      }\n",
       "      attempts++;\n",
       "      if (attempts > 100) {\n",
       "        console.log(\"Bokeh: ERROR: Unable to run BokehJS code because BokehJS library is missing\");\n",
       "        clearInterval(timer);\n",
       "      }\n",
       "    }, 10, root)\n",
       "  }\n",
       "})(window);"
      ],
      "application/vnd.bokehjs_exec.v0+json": ""
     },
     "metadata": {
      "application/vnd.bokehjs_exec.v0+json": {
       "id": "5670"
      }
     },
     "output_type": "display_data"
    }
   ],
   "source": [
    "from bokeh.palettes import Set3 \n",
    "\n",
    "barchart(sources,number,Set3[8], \"Top 8 Recruiting Sources, Sorted\",\"Number of Employees\")"
   ]
  },
  {
   "cell_type": "code",
   "execution_count": 37,
   "metadata": {},
   "outputs": [
    {
     "name": "stdout",
     "output_type": "stream",
     "text": [
      "Recruiting Sources                                 % of Employees Recruited by this Channel\n",
      "Employee Referral                                  10.00%\n",
      "Diversity Job Fair                                 9.35%\n",
      "Search Engine - Google Bing Yahoo                  8.06%\n",
      "Monster.com                                        7.74%\n",
      "Pay Per Click - Google                             6.77%\n",
      "Professional Society                               6.45%\n",
      "Newspager/Magazine                                 5.81%\n",
      "MBTA ads                                           5.48%\n",
      "Billboard                                          5.16%\n",
      "Vendor Referral                                    4.84%\n",
      "Glassdoor                                          4.52%\n",
      "Word of Mouth                                      4.19%\n",
      "Website Banner Ads                                 4.19%\n",
      "On-campus Recruiting                               3.87%\n",
      "Social Networks - Facebook Twitter etc             3.55%\n",
      "Other                                              2.90%\n",
      "Indeed                                             2.58%\n",
      "Internet Search                                    1.94%\n",
      "Information Session                                1.29%\n",
      "On-line Web application                            0.32%\n",
      "Company Intranet - Partner                         0.32%\n",
      "Pay Per Click                                      0.32%\n",
      "Careerbuilder                                      0.32%\n"
     ]
    }
   ],
   "source": [
    "percentage_by_source_sorted = {}\n",
    "print(\"%-50s %s\" %(\"Recruiting Sources\",\"% of Employees Recruited by this Channel\"))\n",
    "for key, value in sorted(percentage_by_source.items(), key=lambda item: item[1],reverse=True):\n",
    "    print(\"%-50s %.2f%%\" %(key, value))"
   ]
  },
  {
   "cell_type": "markdown",
   "metadata": {},
   "source": [
    "Employee referral has provided the most number of employees, followed by Diversity Job Fair and Search Engine- Google Bing Yahoo. \n",
    "\n",
    "## Employee Performance \n",
    "How are these employees doing in terms of performance?"
   ]
  },
  {
   "cell_type": "code",
   "execution_count": 38,
   "metadata": {
    "collapsed": true
   },
   "outputs": [],
   "source": [
    "employment_source_perf = {}\n",
    "\n",
    "for source in sources:\n",
    "    for employee in data.dict:\n",
    "        score = int(employee[\"Perf_ScoreID\"])\n",
    "        if employee[\"Employee Source\"] == source and score <= 5 and score != 0: #Once again, lets remove performance scores of 0 and 9\n",
    "            append_dict(employment_source_perf,source,score)"
   ]
  },
  {
   "cell_type": "code",
   "execution_count": 39,
   "metadata": {
    "collapsed": true
   },
   "outputs": [],
   "source": [
    "#Get Average Performance Score by Source\n",
    "avg_perf_by_source = {}\n",
    "for source in employment_source_perf:\n",
    "    avg_perf_by_source[source] = sum(employment_source_perf[source])/len(employment_source_perf[source])\n",
    "\n",
    "sources = []\n",
    "scores = []\n",
    "for source in avg_perf_by_source:\n",
    "    sources.append(source)\n",
    "    scores.append(avg_perf_by_source[source])\n"
   ]
  },
  {
   "cell_type": "code",
   "execution_count": 40,
   "metadata": {},
   "outputs": [
    {
     "data": {
      "text/html": [
       "\n",
       "\n",
       "\n",
       "\n",
       "\n",
       "\n",
       "  <div class=\"bk-root\" id=\"1dfa4aaf-180f-4bc3-8645-d91b0153f1c5\" data-root-id=\"5980\"></div>\n"
      ]
     },
     "metadata": {},
     "output_type": "display_data"
    },
    {
     "data": {
      "application/javascript": [
       "(function(root) {\n",
       "  function embed_document(root) {\n",
       "    \n",
       "  var docs_json = {\"a5b34604-4f95-4008-92d2-3d5b427768fe\":{\"roots\":{\"references\":[{\"attributes\":{\"below\":[{\"id\":\"5991\",\"type\":\"CategoricalAxis\"}],\"center\":[{\"id\":\"5994\",\"type\":\"Grid\"},{\"id\":\"5999\",\"type\":\"Grid\"}],\"left\":[{\"id\":\"5995\",\"type\":\"LinearAxis\"}],\"plot_height\":350,\"plot_width\":900,\"renderers\":[{\"id\":\"6004\",\"type\":\"GlyphRenderer\"}],\"title\":{\"id\":\"5981\",\"type\":\"Title\"},\"toolbar\":{\"id\":\"6000\",\"type\":\"Toolbar\"},\"toolbar_location\":null,\"x_range\":{\"id\":\"5983\",\"type\":\"FactorRange\"},\"x_scale\":{\"id\":\"5987\",\"type\":\"CategoricalScale\"},\"y_range\":{\"id\":\"5985\",\"type\":\"DataRange1d\"},\"y_scale\":{\"id\":\"5989\",\"type\":\"LinearScale\"}},\"id\":\"5980\",\"subtype\":\"Figure\",\"type\":\"Plot\"},{\"attributes\":{},\"id\":\"6249\",\"type\":\"CategoricalTickFormatter\"},{\"attributes\":{},\"id\":\"6253\",\"type\":\"Selection\"},{\"attributes\":{\"callback\":null,\"factors\":[\"Search Engine - Google Bing Yahoo\",\"Monster.com\",\"Newspager/Magazine\",\"Pay Per Click - Google\",\"Diversity Job Fair\",\"MBTA ads\",\"Professional Society\",\"Employee Referral\"]},\"id\":\"5983\",\"type\":\"FactorRange\"},{\"attributes\":{},\"id\":\"6254\",\"type\":\"UnionRenderers\"},{\"attributes\":{\"text\":\"Average Performance Score by Recruiting Source (Top 8 Feeders), Sorted\"},\"id\":\"5981\",\"type\":\"Title\"},{\"attributes\":{\"active_drag\":\"auto\",\"active_inspect\":\"auto\",\"active_multi\":null,\"active_scroll\":\"auto\",\"active_tap\":\"auto\"},\"id\":\"6000\",\"type\":\"Toolbar\"},{\"attributes\":{\"fill_color\":{\"field\":\"fill_color\"},\"line_color\":{\"field\":\"line_color\"},\"top\":{\"field\":\"top\"},\"width\":{\"value\":0.7},\"x\":{\"field\":\"x\"}},\"id\":\"6002\",\"type\":\"VBar\"},{\"attributes\":{\"callback\":null,\"start\":0},\"id\":\"5985\",\"type\":\"DataRange1d\"},{\"attributes\":{},\"id\":\"5992\",\"type\":\"CategoricalTicker\"},{\"attributes\":{\"grid_line_color\":null,\"ticker\":{\"id\":\"5992\",\"type\":\"CategoricalTicker\"}},\"id\":\"5994\",\"type\":\"Grid\"},{\"attributes\":{\"formatter\":{\"id\":\"6249\",\"type\":\"CategoricalTickFormatter\"},\"ticker\":{\"id\":\"5992\",\"type\":\"CategoricalTicker\"}},\"id\":\"5991\",\"type\":\"CategoricalAxis\"},{\"attributes\":{},\"id\":\"5987\",\"type\":\"CategoricalScale\"},{\"attributes\":{\"fill_alpha\":{\"value\":0.1},\"fill_color\":{\"value\":\"#1f77b4\"},\"line_alpha\":{\"value\":0.1},\"line_color\":{\"value\":\"#1f77b4\"},\"top\":{\"field\":\"top\"},\"width\":{\"value\":0.7},\"x\":{\"field\":\"x\"}},\"id\":\"6003\",\"type\":\"VBar\"},{\"attributes\":{},\"id\":\"5996\",\"type\":\"BasicTicker\"},{\"attributes\":{\"axis_label\":\"Average Performance Score\",\"formatter\":{\"id\":\"6251\",\"type\":\"BasicTickFormatter\"},\"ticker\":{\"id\":\"5996\",\"type\":\"BasicTicker\"}},\"id\":\"5995\",\"type\":\"LinearAxis\"},{\"attributes\":{\"source\":{\"id\":\"6001\",\"type\":\"ColumnDataSource\"}},\"id\":\"6005\",\"type\":\"CDSView\"},{\"attributes\":{\"dimension\":1,\"ticker\":{\"id\":\"5996\",\"type\":\"BasicTicker\"}},\"id\":\"5999\",\"type\":\"Grid\"},{\"attributes\":{\"callback\":null,\"data\":{\"fill_color\":[\"#8dd3c7\",\"#ffffb3\",\"#bebada\",\"#fb8072\",\"#80b1d3\",\"#fdb462\",\"#b3de69\",\"#fccde5\"],\"line_color\":[\"#8dd3c7\",\"#ffffb3\",\"#bebada\",\"#fb8072\",\"#80b1d3\",\"#fdb462\",\"#b3de69\",\"#fccde5\"],\"top\":[3.0833333333333335,3.380952380952381,3.176470588235294,2.95,3.235294117647059,3.0,2.909090909090909,3.0],\"x\":[\"Diversity Job Fair\",\"Employee Referral\",\"MBTA ads\",\"Monster.com\",\"Professional Society\",\"Newspager/Magazine\",\"Search Engine - Google Bing Yahoo\",\"Pay Per Click - Google\"]},\"selected\":{\"id\":\"6253\",\"type\":\"Selection\"},\"selection_policy\":{\"id\":\"6254\",\"type\":\"UnionRenderers\"}},\"id\":\"6001\",\"type\":\"ColumnDataSource\"},{\"attributes\":{\"data_source\":{\"id\":\"6001\",\"type\":\"ColumnDataSource\"},\"glyph\":{\"id\":\"6002\",\"type\":\"VBar\"},\"hover_glyph\":null,\"muted_glyph\":null,\"nonselection_glyph\":{\"id\":\"6003\",\"type\":\"VBar\"},\"selection_glyph\":null,\"view\":{\"id\":\"6005\",\"type\":\"CDSView\"}},\"id\":\"6004\",\"type\":\"GlyphRenderer\"},{\"attributes\":{},\"id\":\"6251\",\"type\":\"BasicTickFormatter\"},{\"attributes\":{},\"id\":\"5989\",\"type\":\"LinearScale\"}],\"root_ids\":[\"5980\"]},\"title\":\"Bokeh Application\",\"version\":\"1.3.4\"}};\n",
       "  var render_items = [{\"docid\":\"a5b34604-4f95-4008-92d2-3d5b427768fe\",\"roots\":{\"5980\":\"1dfa4aaf-180f-4bc3-8645-d91b0153f1c5\"}}];\n",
       "  root.Bokeh.embed.embed_items_notebook(docs_json, render_items);\n",
       "\n",
       "  }\n",
       "  if (root.Bokeh !== undefined) {\n",
       "    embed_document(root);\n",
       "  } else {\n",
       "    var attempts = 0;\n",
       "    var timer = setInterval(function(root) {\n",
       "      if (root.Bokeh !== undefined) {\n",
       "        embed_document(root);\n",
       "        clearInterval(timer);\n",
       "      }\n",
       "      attempts++;\n",
       "      if (attempts > 100) {\n",
       "        console.log(\"Bokeh: ERROR: Unable to run BokehJS code because BokehJS library is missing\");\n",
       "        clearInterval(timer);\n",
       "      }\n",
       "    }, 10, root)\n",
       "  }\n",
       "})(window);"
      ],
      "application/vnd.bokehjs_exec.v0+json": ""
     },
     "metadata": {
      "application/vnd.bokehjs_exec.v0+json": {
       "id": "5980"
      }
     },
     "output_type": "display_data"
    }
   ],
   "source": [
    "barchart(sources,scores,Set3[8],\"Average Performance Score by Recruiting Source (Top 8 Feeders), Sorted\",\"Average Performance Score\")"
   ]
  },
  {
   "cell_type": "markdown",
   "metadata": {},
   "source": [
    "It seems like on average, employee referral has provided the best-performing employees, followed by Professional Society."
   ]
  },
  {
   "cell_type": "markdown",
   "metadata": {},
   "source": [
    "## Recruiting Costs\n",
    "How much has the company spent on these recruiting sources? Are the high-quality employees obtained through these channels worth the cost? "
   ]
  },
  {
   "cell_type": "code",
   "execution_count": 41,
   "metadata": {},
   "outputs": [
    {
     "name": "stdout",
     "output_type": "stream",
     "text": [
      "Recruiting Source                                  Total Cost\n",
      "MBTA ads                                           $10980\n",
      "Diversity Job Fair                                 $10021\n",
      "Newspager/Magazine                                 $8291\n",
      "Careerbuilder                                      $7790\n",
      "On-campus Recruiting                               $7500\n",
      "Website Banner Ads                                 $7143\n",
      "Billboard                                          $6192\n",
      "Monster.com                                        $5760\n",
      "Social Networks - Facebook Twitter etc             $5573\n",
      "Search Engine - Google Bing Yahoo                  $5183\n",
      "Other                                              $3995\n",
      "Pay Per Click - Google                             $3509\n",
      "Pay Per Click                                      $1323\n",
      "Professional Society                               $1200\n",
      "Company Intranet - Partner                         $0\n",
      "Employee Referral                                  $0\n",
      "Glassdoor                                          $0\n",
      "Information Session                                $0\n",
      "Internet Search                                    $0\n",
      "On-line Web application                            $0\n",
      "Vendor Referral                                    $0\n",
      "Word of Mouth                                      $0\n"
     ]
    }
   ],
   "source": [
    "datafile2 = open(\"recruiting_costs.csv\",\"r\")\n",
    "recruiting = tablib.import_set(datafile2.read())\n",
    "datafile.close()\n",
    "\n",
    "total_recruiting_costs = {}\n",
    "for source in recruiting.dict:\n",
    "    total_recruiting_costs[source['Employment Source']] = int(source['Total'])\n",
    "\n",
    "print(\"%-50s %s\" %(\"Recruiting Source\", \"Total Cost\"))\n",
    "for key, value in sorted(total_recruiting_costs.items(), key=lambda item: item[1],reverse=True):\n",
    "    print(\"%-50s $%d\" %(key, value))"
   ]
  },
  {
   "cell_type": "code",
   "execution_count": 42,
   "metadata": {},
   "outputs": [
    {
     "name": "stdout",
     "output_type": "stream",
     "text": [
      "Recruiting Source                                  Average Cost / Employee Gained\n",
      "Careerbuilder                                      $7790\n",
      "Pay Per Click                                      $1323\n",
      "MBTA ads                                           $645\n",
      "On-campus Recruiting                               $625\n",
      "Website Banner Ads                                 $549\n",
      "Social Networks - Facebook Twitter etc             $506\n",
      "Newspager/Magazine                                 $460\n",
      "Other                                              $443\n",
      "Billboard                                          $387\n",
      "Diversity Job Fair                                 $345\n",
      "Monster.com                                        $240\n",
      "Search Engine - Google Bing Yahoo                  $207\n",
      "Pay Per Click - Google                             $167\n",
      "Professional Society                               $60\n",
      "Company Intranet - Partner                         $0\n",
      "Employee Referral                                  $0\n",
      "Glassdoor                                          $0\n",
      "Information Session                                $0\n",
      "Internet Search                                    $0\n",
      "On-line Web application                            $0\n",
      "Vendor Referral                                    $0\n",
      "Word of Mouth                                      $0\n"
     ]
    }
   ],
   "source": [
    "#Lets look at the cost of recruiting source per employee\n",
    "\n",
    "recruiting_cost_per_employee = {}\n",
    "\n",
    "for source in total_recruiting_costs:\n",
    "    recruiting_cost_per_employee[source] = total_recruiting_costs[source] / count_by_source[source]\n",
    "\n",
    "print(\"%-50s %s\" %(\"Recruiting Source\", \"Average Cost / Employee Gained\"))\n",
    "for key, value in sorted(recruiting_cost_per_employee.items(), key=lambda item: item[1],reverse=True):\n",
    "    print(\"%-50s $%d\" %(key, value))"
   ]
  },
  {
   "cell_type": "markdown",
   "metadata": {},
   "source": [
    "Now let's look at the cost of each recruiting source vis-a-vis the quality of employees recruited from that channel."
   ]
  },
  {
   "cell_type": "code",
   "execution_count": 43,
   "metadata": {
    "collapsed": true,
    "scrolled": true
   },
   "outputs": [],
   "source": [
    "new_dict = {}\n",
    "for perf in avg_perf_by_source:\n",
    "    new_dict[perf] = [avg_perf_by_source[perf], recruiting_cost_per_employee[perf]]\n",
    "\n",
    "cost_list = []\n",
    "perf_list = []\n",
    "names_list = []\n",
    "for new in new_dict:\n",
    "    names_list.append(new)\n",
    "    perf_list.append(new_dict[new][0])\n",
    "    cost_list.append(new_dict[new][1])"
   ]
  },
  {
   "cell_type": "code",
   "execution_count": 44,
   "metadata": {},
   "outputs": [
    {
     "data": {
      "text/html": [
       "\n",
       "    <div class=\"bk-root\">\n",
       "        <a href=\"https://bokeh.pydata.org\" target=\"_blank\" class=\"bk-logo bk-logo-small bk-logo-notebook\"></a>\n",
       "        <span id=\"6330\">Loading BokehJS ...</span>\n",
       "    </div>"
      ]
     },
     "metadata": {},
     "output_type": "display_data"
    },
    {
     "data": {
      "application/javascript": [
       "\n",
       "(function(root) {\n",
       "  function now() {\n",
       "    return new Date();\n",
       "  }\n",
       "\n",
       "  var force = true;\n",
       "\n",
       "  if (typeof root._bokeh_onload_callbacks === \"undefined\" || force === true) {\n",
       "    root._bokeh_onload_callbacks = [];\n",
       "    root._bokeh_is_loading = undefined;\n",
       "  }\n",
       "\n",
       "  var JS_MIME_TYPE = 'application/javascript';\n",
       "  var HTML_MIME_TYPE = 'text/html';\n",
       "  var EXEC_MIME_TYPE = 'application/vnd.bokehjs_exec.v0+json';\n",
       "  var CLASS_NAME = 'output_bokeh rendered_html';\n",
       "\n",
       "  /**\n",
       "   * Render data to the DOM node\n",
       "   */\n",
       "  function render(props, node) {\n",
       "    var script = document.createElement(\"script\");\n",
       "    node.appendChild(script);\n",
       "  }\n",
       "\n",
       "  /**\n",
       "   * Handle when an output is cleared or removed\n",
       "   */\n",
       "  function handleClearOutput(event, handle) {\n",
       "    var cell = handle.cell;\n",
       "\n",
       "    var id = cell.output_area._bokeh_element_id;\n",
       "    var server_id = cell.output_area._bokeh_server_id;\n",
       "    // Clean up Bokeh references\n",
       "    if (id != null && id in Bokeh.index) {\n",
       "      Bokeh.index[id].model.document.clear();\n",
       "      delete Bokeh.index[id];\n",
       "    }\n",
       "\n",
       "    if (server_id !== undefined) {\n",
       "      // Clean up Bokeh references\n",
       "      var cmd = \"from bokeh.io.state import curstate; print(curstate().uuid_to_server['\" + server_id + \"'].get_sessions()[0].document.roots[0]._id)\";\n",
       "      cell.notebook.kernel.execute(cmd, {\n",
       "        iopub: {\n",
       "          output: function(msg) {\n",
       "            var id = msg.content.text.trim();\n",
       "            if (id in Bokeh.index) {\n",
       "              Bokeh.index[id].model.document.clear();\n",
       "              delete Bokeh.index[id];\n",
       "            }\n",
       "          }\n",
       "        }\n",
       "      });\n",
       "      // Destroy server and session\n",
       "      var cmd = \"import bokeh.io.notebook as ion; ion.destroy_server('\" + server_id + \"')\";\n",
       "      cell.notebook.kernel.execute(cmd);\n",
       "    }\n",
       "  }\n",
       "\n",
       "  /**\n",
       "   * Handle when a new output is added\n",
       "   */\n",
       "  function handleAddOutput(event, handle) {\n",
       "    var output_area = handle.output_area;\n",
       "    var output = handle.output;\n",
       "\n",
       "    // limit handleAddOutput to display_data with EXEC_MIME_TYPE content only\n",
       "    if ((output.output_type != \"display_data\") || (!output.data.hasOwnProperty(EXEC_MIME_TYPE))) {\n",
       "      return\n",
       "    }\n",
       "\n",
       "    var toinsert = output_area.element.find(\".\" + CLASS_NAME.split(' ')[0]);\n",
       "\n",
       "    if (output.metadata[EXEC_MIME_TYPE][\"id\"] !== undefined) {\n",
       "      toinsert[toinsert.length - 1].firstChild.textContent = output.data[JS_MIME_TYPE];\n",
       "      // store reference to embed id on output_area\n",
       "      output_area._bokeh_element_id = output.metadata[EXEC_MIME_TYPE][\"id\"];\n",
       "    }\n",
       "    if (output.metadata[EXEC_MIME_TYPE][\"server_id\"] !== undefined) {\n",
       "      var bk_div = document.createElement(\"div\");\n",
       "      bk_div.innerHTML = output.data[HTML_MIME_TYPE];\n",
       "      var script_attrs = bk_div.children[0].attributes;\n",
       "      for (var i = 0; i < script_attrs.length; i++) {\n",
       "        toinsert[toinsert.length - 1].firstChild.setAttribute(script_attrs[i].name, script_attrs[i].value);\n",
       "      }\n",
       "      // store reference to server id on output_area\n",
       "      output_area._bokeh_server_id = output.metadata[EXEC_MIME_TYPE][\"server_id\"];\n",
       "    }\n",
       "  }\n",
       "\n",
       "  function register_renderer(events, OutputArea) {\n",
       "\n",
       "    function append_mime(data, metadata, element) {\n",
       "      // create a DOM node to render to\n",
       "      var toinsert = this.create_output_subarea(\n",
       "        metadata,\n",
       "        CLASS_NAME,\n",
       "        EXEC_MIME_TYPE\n",
       "      );\n",
       "      this.keyboard_manager.register_events(toinsert);\n",
       "      // Render to node\n",
       "      var props = {data: data, metadata: metadata[EXEC_MIME_TYPE]};\n",
       "      render(props, toinsert[toinsert.length - 1]);\n",
       "      element.append(toinsert);\n",
       "      return toinsert\n",
       "    }\n",
       "\n",
       "    /* Handle when an output is cleared or removed */\n",
       "    events.on('clear_output.CodeCell', handleClearOutput);\n",
       "    events.on('delete.Cell', handleClearOutput);\n",
       "\n",
       "    /* Handle when a new output is added */\n",
       "    events.on('output_added.OutputArea', handleAddOutput);\n",
       "\n",
       "    /**\n",
       "     * Register the mime type and append_mime function with output_area\n",
       "     */\n",
       "    OutputArea.prototype.register_mime_type(EXEC_MIME_TYPE, append_mime, {\n",
       "      /* Is output safe? */\n",
       "      safe: true,\n",
       "      /* Index of renderer in `output_area.display_order` */\n",
       "      index: 0\n",
       "    });\n",
       "  }\n",
       "\n",
       "  // register the mime type if in Jupyter Notebook environment and previously unregistered\n",
       "  if (root.Jupyter !== undefined) {\n",
       "    var events = require('base/js/events');\n",
       "    var OutputArea = require('notebook/js/outputarea').OutputArea;\n",
       "\n",
       "    if (OutputArea.prototype.mime_types().indexOf(EXEC_MIME_TYPE) == -1) {\n",
       "      register_renderer(events, OutputArea);\n",
       "    }\n",
       "  }\n",
       "\n",
       "  \n",
       "  if (typeof (root._bokeh_timeout) === \"undefined\" || force === true) {\n",
       "    root._bokeh_timeout = Date.now() + 5000;\n",
       "    root._bokeh_failed_load = false;\n",
       "  }\n",
       "\n",
       "  var NB_LOAD_WARNING = {'data': {'text/html':\n",
       "     \"<div style='background-color: #fdd'>\\n\"+\n",
       "     \"<p>\\n\"+\n",
       "     \"BokehJS does not appear to have successfully loaded. If loading BokehJS from CDN, this \\n\"+\n",
       "     \"may be due to a slow or bad network connection. Possible fixes:\\n\"+\n",
       "     \"</p>\\n\"+\n",
       "     \"<ul>\\n\"+\n",
       "     \"<li>re-rerun `output_notebook()` to attempt to load from CDN again, or</li>\\n\"+\n",
       "     \"<li>use INLINE resources instead, as so:</li>\\n\"+\n",
       "     \"</ul>\\n\"+\n",
       "     \"<code>\\n\"+\n",
       "     \"from bokeh.resources import INLINE\\n\"+\n",
       "     \"output_notebook(resources=INLINE)\\n\"+\n",
       "     \"</code>\\n\"+\n",
       "     \"</div>\"}};\n",
       "\n",
       "  function display_loaded() {\n",
       "    var el = document.getElementById(\"6330\");\n",
       "    if (el != null) {\n",
       "      el.textContent = \"BokehJS is loading...\";\n",
       "    }\n",
       "    if (root.Bokeh !== undefined) {\n",
       "      if (el != null) {\n",
       "        el.textContent = \"BokehJS \" + root.Bokeh.version + \" successfully loaded.\";\n",
       "      }\n",
       "    } else if (Date.now() < root._bokeh_timeout) {\n",
       "      setTimeout(display_loaded, 100)\n",
       "    }\n",
       "  }\n",
       "\n",
       "\n",
       "  function run_callbacks() {\n",
       "    try {\n",
       "      root._bokeh_onload_callbacks.forEach(function(callback) {\n",
       "        if (callback != null)\n",
       "          callback();\n",
       "      });\n",
       "    } finally {\n",
       "      delete root._bokeh_onload_callbacks\n",
       "    }\n",
       "    console.debug(\"Bokeh: all callbacks have finished\");\n",
       "  }\n",
       "\n",
       "  function load_libs(css_urls, js_urls, callback) {\n",
       "    if (css_urls == null) css_urls = [];\n",
       "    if (js_urls == null) js_urls = [];\n",
       "\n",
       "    root._bokeh_onload_callbacks.push(callback);\n",
       "    if (root._bokeh_is_loading > 0) {\n",
       "      console.debug(\"Bokeh: BokehJS is being loaded, scheduling callback at\", now());\n",
       "      return null;\n",
       "    }\n",
       "    if (js_urls == null || js_urls.length === 0) {\n",
       "      run_callbacks();\n",
       "      return null;\n",
       "    }\n",
       "    console.debug(\"Bokeh: BokehJS not loaded, scheduling load and callback at\", now());\n",
       "    root._bokeh_is_loading = css_urls.length + js_urls.length;\n",
       "\n",
       "    function on_load() {\n",
       "      root._bokeh_is_loading--;\n",
       "      if (root._bokeh_is_loading === 0) {\n",
       "        console.debug(\"Bokeh: all BokehJS libraries/stylesheets loaded\");\n",
       "        run_callbacks()\n",
       "      }\n",
       "    }\n",
       "\n",
       "    function on_error() {\n",
       "      console.error(\"failed to load \" + url);\n",
       "    }\n",
       "\n",
       "    for (var i = 0; i < css_urls.length; i++) {\n",
       "      var url = css_urls[i];\n",
       "      const element = document.createElement(\"link\");\n",
       "      element.onload = on_load;\n",
       "      element.onerror = on_error;\n",
       "      element.rel = \"stylesheet\";\n",
       "      element.type = \"text/css\";\n",
       "      element.href = url;\n",
       "      console.debug(\"Bokeh: injecting link tag for BokehJS stylesheet: \", url);\n",
       "      document.body.appendChild(element);\n",
       "    }\n",
       "\n",
       "    for (var i = 0; i < js_urls.length; i++) {\n",
       "      var url = js_urls[i];\n",
       "      var element = document.createElement('script');\n",
       "      element.onload = on_load;\n",
       "      element.onerror = on_error;\n",
       "      element.async = false;\n",
       "      element.src = url;\n",
       "      console.debug(\"Bokeh: injecting script tag for BokehJS library: \", url);\n",
       "      document.head.appendChild(element);\n",
       "    }\n",
       "  };var element = document.getElementById(\"6330\");\n",
       "  if (element == null) {\n",
       "    console.error(\"Bokeh: ERROR: autoload.js configured with elementid '6330' but no matching script tag was found. \")\n",
       "    return false;\n",
       "  }\n",
       "\n",
       "  function inject_raw_css(css) {\n",
       "    const element = document.createElement(\"style\");\n",
       "    element.appendChild(document.createTextNode(css));\n",
       "    document.body.appendChild(element);\n",
       "  }\n",
       "\n",
       "  var js_urls = [\"https://cdn.pydata.org/bokeh/release/bokeh-1.3.4.min.js\", \"https://cdn.pydata.org/bokeh/release/bokeh-widgets-1.3.4.min.js\", \"https://cdn.pydata.org/bokeh/release/bokeh-tables-1.3.4.min.js\", \"https://cdn.pydata.org/bokeh/release/bokeh-gl-1.3.4.min.js\"];\n",
       "  var css_urls = [];\n",
       "\n",
       "  var inline_js = [\n",
       "    function(Bokeh) {\n",
       "      Bokeh.set_log_level(\"info\");\n",
       "    },\n",
       "    \n",
       "    function(Bokeh) {\n",
       "      \n",
       "    },\n",
       "    function(Bokeh) {} // ensure no trailing comma for IE\n",
       "  ];\n",
       "\n",
       "  function run_inline_js() {\n",
       "    \n",
       "    if ((root.Bokeh !== undefined) || (force === true)) {\n",
       "      for (var i = 0; i < inline_js.length; i++) {\n",
       "        inline_js[i].call(root, root.Bokeh);\n",
       "      }if (force === true) {\n",
       "        display_loaded();\n",
       "      }} else if (Date.now() < root._bokeh_timeout) {\n",
       "      setTimeout(run_inline_js, 100);\n",
       "    } else if (!root._bokeh_failed_load) {\n",
       "      console.log(\"Bokeh: BokehJS failed to load within specified timeout.\");\n",
       "      root._bokeh_failed_load = true;\n",
       "    } else if (force !== true) {\n",
       "      var cell = $(document.getElementById(\"6330\")).parents('.cell').data().cell;\n",
       "      cell.output_area.append_execute_result(NB_LOAD_WARNING)\n",
       "    }\n",
       "\n",
       "  }\n",
       "\n",
       "  if (root._bokeh_is_loading === 0) {\n",
       "    console.debug(\"Bokeh: BokehJS loaded, going straight to plotting\");\n",
       "    run_inline_js();\n",
       "  } else {\n",
       "    load_libs(css_urls, js_urls, function() {\n",
       "      console.debug(\"Bokeh: BokehJS plotting callback run at\", now());\n",
       "      run_inline_js();\n",
       "    });\n",
       "  }\n",
       "}(window));"
      ],
      "application/vnd.bokehjs_load.v0+json": "\n(function(root) {\n  function now() {\n    return new Date();\n  }\n\n  var force = true;\n\n  if (typeof root._bokeh_onload_callbacks === \"undefined\" || force === true) {\n    root._bokeh_onload_callbacks = [];\n    root._bokeh_is_loading = undefined;\n  }\n\n  \n\n  \n  if (typeof (root._bokeh_timeout) === \"undefined\" || force === true) {\n    root._bokeh_timeout = Date.now() + 5000;\n    root._bokeh_failed_load = false;\n  }\n\n  var NB_LOAD_WARNING = {'data': {'text/html':\n     \"<div style='background-color: #fdd'>\\n\"+\n     \"<p>\\n\"+\n     \"BokehJS does not appear to have successfully loaded. If loading BokehJS from CDN, this \\n\"+\n     \"may be due to a slow or bad network connection. Possible fixes:\\n\"+\n     \"</p>\\n\"+\n     \"<ul>\\n\"+\n     \"<li>re-rerun `output_notebook()` to attempt to load from CDN again, or</li>\\n\"+\n     \"<li>use INLINE resources instead, as so:</li>\\n\"+\n     \"</ul>\\n\"+\n     \"<code>\\n\"+\n     \"from bokeh.resources import INLINE\\n\"+\n     \"output_notebook(resources=INLINE)\\n\"+\n     \"</code>\\n\"+\n     \"</div>\"}};\n\n  function display_loaded() {\n    var el = document.getElementById(\"6330\");\n    if (el != null) {\n      el.textContent = \"BokehJS is loading...\";\n    }\n    if (root.Bokeh !== undefined) {\n      if (el != null) {\n        el.textContent = \"BokehJS \" + root.Bokeh.version + \" successfully loaded.\";\n      }\n    } else if (Date.now() < root._bokeh_timeout) {\n      setTimeout(display_loaded, 100)\n    }\n  }\n\n\n  function run_callbacks() {\n    try {\n      root._bokeh_onload_callbacks.forEach(function(callback) {\n        if (callback != null)\n          callback();\n      });\n    } finally {\n      delete root._bokeh_onload_callbacks\n    }\n    console.debug(\"Bokeh: all callbacks have finished\");\n  }\n\n  function load_libs(css_urls, js_urls, callback) {\n    if (css_urls == null) css_urls = [];\n    if (js_urls == null) js_urls = [];\n\n    root._bokeh_onload_callbacks.push(callback);\n    if (root._bokeh_is_loading > 0) {\n      console.debug(\"Bokeh: BokehJS is being loaded, scheduling callback at\", now());\n      return null;\n    }\n    if (js_urls == null || js_urls.length === 0) {\n      run_callbacks();\n      return null;\n    }\n    console.debug(\"Bokeh: BokehJS not loaded, scheduling load and callback at\", now());\n    root._bokeh_is_loading = css_urls.length + js_urls.length;\n\n    function on_load() {\n      root._bokeh_is_loading--;\n      if (root._bokeh_is_loading === 0) {\n        console.debug(\"Bokeh: all BokehJS libraries/stylesheets loaded\");\n        run_callbacks()\n      }\n    }\n\n    function on_error() {\n      console.error(\"failed to load \" + url);\n    }\n\n    for (var i = 0; i < css_urls.length; i++) {\n      var url = css_urls[i];\n      const element = document.createElement(\"link\");\n      element.onload = on_load;\n      element.onerror = on_error;\n      element.rel = \"stylesheet\";\n      element.type = \"text/css\";\n      element.href = url;\n      console.debug(\"Bokeh: injecting link tag for BokehJS stylesheet: \", url);\n      document.body.appendChild(element);\n    }\n\n    for (var i = 0; i < js_urls.length; i++) {\n      var url = js_urls[i];\n      var element = document.createElement('script');\n      element.onload = on_load;\n      element.onerror = on_error;\n      element.async = false;\n      element.src = url;\n      console.debug(\"Bokeh: injecting script tag for BokehJS library: \", url);\n      document.head.appendChild(element);\n    }\n  };var element = document.getElementById(\"6330\");\n  if (element == null) {\n    console.error(\"Bokeh: ERROR: autoload.js configured with elementid '6330' but no matching script tag was found. \")\n    return false;\n  }\n\n  function inject_raw_css(css) {\n    const element = document.createElement(\"style\");\n    element.appendChild(document.createTextNode(css));\n    document.body.appendChild(element);\n  }\n\n  var js_urls = [\"https://cdn.pydata.org/bokeh/release/bokeh-1.3.4.min.js\", \"https://cdn.pydata.org/bokeh/release/bokeh-widgets-1.3.4.min.js\", \"https://cdn.pydata.org/bokeh/release/bokeh-tables-1.3.4.min.js\", \"https://cdn.pydata.org/bokeh/release/bokeh-gl-1.3.4.min.js\"];\n  var css_urls = [];\n\n  var inline_js = [\n    function(Bokeh) {\n      Bokeh.set_log_level(\"info\");\n    },\n    \n    function(Bokeh) {\n      \n    },\n    function(Bokeh) {} // ensure no trailing comma for IE\n  ];\n\n  function run_inline_js() {\n    \n    if ((root.Bokeh !== undefined) || (force === true)) {\n      for (var i = 0; i < inline_js.length; i++) {\n        inline_js[i].call(root, root.Bokeh);\n      }if (force === true) {\n        display_loaded();\n      }} else if (Date.now() < root._bokeh_timeout) {\n      setTimeout(run_inline_js, 100);\n    } else if (!root._bokeh_failed_load) {\n      console.log(\"Bokeh: BokehJS failed to load within specified timeout.\");\n      root._bokeh_failed_load = true;\n    } else if (force !== true) {\n      var cell = $(document.getElementById(\"6330\")).parents('.cell').data().cell;\n      cell.output_area.append_execute_result(NB_LOAD_WARNING)\n    }\n\n  }\n\n  if (root._bokeh_is_loading === 0) {\n    console.debug(\"Bokeh: BokehJS loaded, going straight to plotting\");\n    run_inline_js();\n  } else {\n    load_libs(css_urls, js_urls, function() {\n      console.debug(\"Bokeh: BokehJS plotting callback run at\", now());\n      run_inline_js();\n    });\n  }\n}(window));"
     },
     "metadata": {},
     "output_type": "display_data"
    },
    {
     "data": {
      "text/html": [
       "\n",
       "\n",
       "\n",
       "\n",
       "\n",
       "\n",
       "  <div class=\"bk-root\" id=\"c79a7578-a276-426e-a5dd-485293507b44\" data-root-id=\"6300\"></div>\n"
      ]
     },
     "metadata": {},
     "output_type": "display_data"
    },
    {
     "data": {
      "application/javascript": [
       "(function(root) {\n",
       "  function embed_document(root) {\n",
       "    \n",
       "  var docs_json = {\"e46abffc-7ef6-4c23-9413-7f791ce1bb5e\":{\"roots\":{\"references\":[{\"attributes\":{\"below\":[{\"id\":\"6311\",\"type\":\"LinearAxis\"}],\"center\":[{\"id\":\"6315\",\"type\":\"Grid\"},{\"id\":\"6320\",\"type\":\"Grid\"},{\"id\":\"6328\",\"type\":\"LabelSet\"}],\"left\":[{\"id\":\"6316\",\"type\":\"LinearAxis\"}],\"plot_height\":400,\"plot_width\":900,\"renderers\":[{\"id\":\"6326\",\"type\":\"GlyphRenderer\"}],\"title\":{\"id\":\"6301\",\"type\":\"Title\"},\"toolbar\":{\"id\":\"6321\",\"type\":\"Toolbar\"},\"x_range\":{\"id\":\"6303\",\"type\":\"Range1d\"},\"x_scale\":{\"id\":\"6307\",\"type\":\"LinearScale\"},\"y_range\":{\"id\":\"6305\",\"type\":\"Range1d\"},\"y_scale\":{\"id\":\"6309\",\"type\":\"LinearScale\"}},\"id\":\"6300\",\"subtype\":\"Figure\",\"type\":\"Plot\"},{\"attributes\":{\"level\":\"glyph\",\"source\":{\"id\":\"6297\",\"type\":\"ColumnDataSource\"},\"text\":{\"field\":\"desc\"},\"x\":{\"field\":\"x\"},\"x_offset\":{\"value\":-30},\"y\":{\"field\":\"y\"},\"y_offset\":{\"value\":12}},\"id\":\"6328\",\"type\":\"LabelSet\"},{\"attributes\":{\"dimension\":1,\"ticker\":{\"id\":\"6317\",\"type\":\"BasicTicker\"}},\"id\":\"6320\",\"type\":\"Grid\"},{\"attributes\":{\"ticker\":{\"id\":\"6312\",\"type\":\"BasicTicker\"}},\"id\":\"6315\",\"type\":\"Grid\"},{\"attributes\":{\"data_source\":{\"id\":\"6297\",\"type\":\"ColumnDataSource\"},\"glyph\":{\"id\":\"6324\",\"type\":\"Circle\"},\"hover_glyph\":null,\"muted_glyph\":null,\"nonselection_glyph\":{\"id\":\"6325\",\"type\":\"Circle\"},\"selection_glyph\":null,\"view\":{\"id\":\"6327\",\"type\":\"CDSView\"}},\"id\":\"6326\",\"type\":\"GlyphRenderer\"},{\"attributes\":{},\"id\":\"6317\",\"type\":\"BasicTicker\"},{\"attributes\":{\"callback\":null,\"end\":3.5,\"start\":2.8},\"id\":\"6303\",\"type\":\"Range1d\"},{\"attributes\":{\"callback\":null,\"end\":750,\"start\":-50},\"id\":\"6305\",\"type\":\"Range1d\"},{\"attributes\":{\"axis_label\":\"Average cost/employee\",\"formatter\":{\"id\":\"6583\",\"type\":\"BasicTickFormatter\"},\"ticker\":{\"id\":\"6317\",\"type\":\"BasicTicker\"}},\"id\":\"6316\",\"type\":\"LinearAxis\"},{\"attributes\":{\"active_drag\":\"auto\",\"active_inspect\":\"auto\",\"active_multi\":null,\"active_scroll\":\"auto\",\"active_tap\":\"auto\",\"tools\":[{\"id\":\"6298\",\"type\":\"HoverTool\"}]},\"id\":\"6321\",\"type\":\"Toolbar\"},{\"attributes\":{\"fill_alpha\":{\"value\":0.1},\"fill_color\":{\"value\":\"#1f77b4\"},\"line_alpha\":{\"value\":0.1},\"line_color\":{\"value\":\"#1f77b4\"},\"size\":{\"units\":\"screen\",\"value\":20},\"x\":{\"field\":\"x\"},\"y\":{\"field\":\"y\"}},\"id\":\"6325\",\"type\":\"Circle\"},{\"attributes\":{\"text\":\"Cost vs Performance Score for each Recruiting Source\"},\"id\":\"6301\",\"type\":\"Title\"},{\"attributes\":{},\"id\":\"6307\",\"type\":\"LinearScale\"},{\"attributes\":{\"fill_color\":{\"field\":\"y\",\"transform\":{\"id\":\"6299\",\"type\":\"LinearColorMapper\"}},\"line_color\":{\"value\":\"#1f77b4\"},\"size\":{\"units\":\"screen\",\"value\":20},\"x\":{\"field\":\"x\"},\"y\":{\"field\":\"y\"}},\"id\":\"6324\",\"type\":\"Circle\"},{\"attributes\":{},\"id\":\"6581\",\"type\":\"BasicTickFormatter\"},{\"attributes\":{\"source\":{\"id\":\"6297\",\"type\":\"ColumnDataSource\"}},\"id\":\"6327\",\"type\":\"CDSView\"},{\"attributes\":{},\"id\":\"6309\",\"type\":\"LinearScale\"},{\"attributes\":{},\"id\":\"6586\",\"type\":\"UnionRenderers\"},{\"attributes\":{\"callback\":null,\"tooltips\":[[\"source\",\"@desc\"],[\"(Average Performance Score,Average Cost)\",\"(@x, @y)\"]]},\"id\":\"6298\",\"type\":\"HoverTool\"},{\"attributes\":{},\"id\":\"6583\",\"type\":\"BasicTickFormatter\"},{\"attributes\":{\"callback\":null,\"data\":{\"desc\":[\"Diversity Job Fair\",\"Employee Referral\",\"MBTA ads\",\"Monster.com\",\"Professional Society\",\"Newspager/Magazine\",\"Search Engine - Google Bing Yahoo\",\"Pay Per Click - Google\"],\"x\":[3.0833333333333335,3.380952380952381,3.176470588235294,2.95,3.235294117647059,3.0,2.909090909090909,3.0],\"y\":[345.55172413793105,0.0,645.8823529411765,240.0,60.0,460.6111111111111,207.32,167.0952380952381]},\"selected\":{\"id\":\"6585\",\"type\":\"Selection\"},\"selection_policy\":{\"id\":\"6586\",\"type\":\"UnionRenderers\"}},\"id\":\"6297\",\"type\":\"ColumnDataSource\"},{\"attributes\":{},\"id\":\"6585\",\"type\":\"Selection\"},{\"attributes\":{},\"id\":\"6312\",\"type\":\"BasicTicker\"},{\"attributes\":{\"axis_label\":\"Average Performance Score for Employee\",\"formatter\":{\"id\":\"6581\",\"type\":\"BasicTickFormatter\"},\"ticker\":{\"id\":\"6312\",\"type\":\"BasicTicker\"}},\"id\":\"6311\",\"type\":\"LinearAxis\"},{\"attributes\":{\"high\":645.8823529411765,\"low\":0.0,\"palette\":[\"#0C0786\",\"#100787\",\"#130689\",\"#15068A\",\"#18068B\",\"#1B068C\",\"#1D068D\",\"#1F058E\",\"#21058F\",\"#230590\",\"#250591\",\"#270592\",\"#290593\",\"#2B0594\",\"#2D0494\",\"#2F0495\",\"#310496\",\"#330497\",\"#340498\",\"#360498\",\"#380499\",\"#3A049A\",\"#3B039A\",\"#3D039B\",\"#3F039C\",\"#40039C\",\"#42039D\",\"#44039E\",\"#45039E\",\"#47029F\",\"#49029F\",\"#4A02A0\",\"#4C02A1\",\"#4E02A1\",\"#4F02A2\",\"#5101A2\",\"#5201A3\",\"#5401A3\",\"#5601A3\",\"#5701A4\",\"#5901A4\",\"#5A00A5\",\"#5C00A5\",\"#5E00A5\",\"#5F00A6\",\"#6100A6\",\"#6200A6\",\"#6400A7\",\"#6500A7\",\"#6700A7\",\"#6800A7\",\"#6A00A7\",\"#6C00A8\",\"#6D00A8\",\"#6F00A8\",\"#7000A8\",\"#7200A8\",\"#7300A8\",\"#7500A8\",\"#7601A8\",\"#7801A8\",\"#7901A8\",\"#7B02A8\",\"#7C02A7\",\"#7E03A7\",\"#7F03A7\",\"#8104A7\",\"#8204A7\",\"#8405A6\",\"#8506A6\",\"#8607A6\",\"#8807A5\",\"#8908A5\",\"#8B09A4\",\"#8C0AA4\",\"#8E0CA4\",\"#8F0DA3\",\"#900EA3\",\"#920FA2\",\"#9310A1\",\"#9511A1\",\"#9612A0\",\"#9713A0\",\"#99149F\",\"#9A159E\",\"#9B179E\",\"#9D189D\",\"#9E199C\",\"#9F1A9B\",\"#A01B9B\",\"#A21C9A\",\"#A31D99\",\"#A41E98\",\"#A51F97\",\"#A72197\",\"#A82296\",\"#A92395\",\"#AA2494\",\"#AC2593\",\"#AD2692\",\"#AE2791\",\"#AF2890\",\"#B02A8F\",\"#B12B8F\",\"#B22C8E\",\"#B42D8D\",\"#B52E8C\",\"#B62F8B\",\"#B7308A\",\"#B83289\",\"#B93388\",\"#BA3487\",\"#BB3586\",\"#BC3685\",\"#BD3784\",\"#BE3883\",\"#BF3982\",\"#C03B81\",\"#C13C80\",\"#C23D80\",\"#C33E7F\",\"#C43F7E\",\"#C5407D\",\"#C6417C\",\"#C7427B\",\"#C8447A\",\"#C94579\",\"#CA4678\",\"#CB4777\",\"#CC4876\",\"#CD4975\",\"#CE4A75\",\"#CF4B74\",\"#D04D73\",\"#D14E72\",\"#D14F71\",\"#D25070\",\"#D3516F\",\"#D4526E\",\"#D5536D\",\"#D6556D\",\"#D7566C\",\"#D7576B\",\"#D8586A\",\"#D95969\",\"#DA5A68\",\"#DB5B67\",\"#DC5D66\",\"#DC5E66\",\"#DD5F65\",\"#DE6064\",\"#DF6163\",\"#DF6262\",\"#E06461\",\"#E16560\",\"#E26660\",\"#E3675F\",\"#E3685E\",\"#E46A5D\",\"#E56B5C\",\"#E56C5B\",\"#E66D5A\",\"#E76E5A\",\"#E87059\",\"#E87158\",\"#E97257\",\"#EA7356\",\"#EA7455\",\"#EB7654\",\"#EC7754\",\"#EC7853\",\"#ED7952\",\"#ED7B51\",\"#EE7C50\",\"#EF7D4F\",\"#EF7E4E\",\"#F0804D\",\"#F0814D\",\"#F1824C\",\"#F2844B\",\"#F2854A\",\"#F38649\",\"#F38748\",\"#F48947\",\"#F48A47\",\"#F58B46\",\"#F58D45\",\"#F68E44\",\"#F68F43\",\"#F69142\",\"#F79241\",\"#F79341\",\"#F89540\",\"#F8963F\",\"#F8983E\",\"#F9993D\",\"#F99A3C\",\"#FA9C3B\",\"#FA9D3A\",\"#FA9F3A\",\"#FAA039\",\"#FBA238\",\"#FBA337\",\"#FBA436\",\"#FCA635\",\"#FCA735\",\"#FCA934\",\"#FCAA33\",\"#FCAC32\",\"#FCAD31\",\"#FDAF31\",\"#FDB030\",\"#FDB22F\",\"#FDB32E\",\"#FDB52D\",\"#FDB62D\",\"#FDB82C\",\"#FDB92B\",\"#FDBB2B\",\"#FDBC2A\",\"#FDBE29\",\"#FDC029\",\"#FDC128\",\"#FDC328\",\"#FDC427\",\"#FDC626\",\"#FCC726\",\"#FCC926\",\"#FCCB25\",\"#FCCC25\",\"#FCCE25\",\"#FBD024\",\"#FBD124\",\"#FBD324\",\"#FAD524\",\"#FAD624\",\"#FAD824\",\"#F9D924\",\"#F9DB24\",\"#F8DD24\",\"#F8DF24\",\"#F7E024\",\"#F7E225\",\"#F6E425\",\"#F6E525\",\"#F5E726\",\"#F5E926\",\"#F4EA26\",\"#F3EC26\",\"#F3EE26\",\"#F2F026\",\"#F2F126\",\"#F1F326\",\"#F0F525\",\"#F0F623\",\"#EFF821\"]},\"id\":\"6299\",\"type\":\"LinearColorMapper\"}],\"root_ids\":[\"6300\"]},\"title\":\"Bokeh Application\",\"version\":\"1.3.4\"}};\n",
       "  var render_items = [{\"docid\":\"e46abffc-7ef6-4c23-9413-7f791ce1bb5e\",\"roots\":{\"6300\":\"c79a7578-a276-426e-a5dd-485293507b44\"}}];\n",
       "  root.Bokeh.embed.embed_items_notebook(docs_json, render_items);\n",
       "\n",
       "  }\n",
       "  if (root.Bokeh !== undefined) {\n",
       "    embed_document(root);\n",
       "  } else {\n",
       "    var attempts = 0;\n",
       "    var timer = setInterval(function(root) {\n",
       "      if (root.Bokeh !== undefined) {\n",
       "        embed_document(root);\n",
       "        clearInterval(timer);\n",
       "      }\n",
       "      attempts++;\n",
       "      if (attempts > 100) {\n",
       "        console.log(\"Bokeh: ERROR: Unable to run BokehJS code because BokehJS library is missing\");\n",
       "        clearInterval(timer);\n",
       "      }\n",
       "    }, 10, root)\n",
       "  }\n",
       "})(window);"
      ],
      "application/vnd.bokehjs_exec.v0+json": ""
     },
     "metadata": {
      "application/vnd.bokehjs_exec.v0+json": {
       "id": "6300"
      }
     },
     "output_type": "display_data"
    }
   ],
   "source": [
    "from bokeh.models import ColumnDataSource, HoverTool, LinearColorMapper, LabelSet, Label\n",
    "from bokeh.palettes import plasma\n",
    "from bokeh.transform import transform\n",
    "\n",
    "list_x = perf_list\n",
    "list_y = cost_list\n",
    "recruiting_source = names_list\n",
    "\n",
    "source = ColumnDataSource(data=dict(x=list_x, y=list_y, desc=recruiting_source))\n",
    "hover = HoverTool(tooltips=[\n",
    "    ('source', '@desc'),\n",
    "    (\"(Average Performance Score,Average Cost)\", \"(@x, @y)\"),\n",
    "])\n",
    "mapper = LinearColorMapper(palette=plasma(256), low=min(list_y), high=max(list_y))\n",
    "\n",
    "p = figure(plot_width=900, plot_height=400, y_range=(-50,750),x_range=(2.8,3.5), tools=[hover], title=\"Cost vs Performance Score for each Recruiting Source\")\n",
    "p.circle('x', 'y', size=20, source=source, fill_color=transform('y', mapper))\n",
    "\n",
    "labels = LabelSet(x='x', y='y', text='desc', level='glyph', x_offset=-30, y_offset=12, source=source, render_mode='canvas')\n",
    "\n",
    "p.add_layout(labels)\n",
    "p.xaxis[0].axis_label = 'Average Performance Score for Employee'\n",
    "p.yaxis[0].axis_label = 'Average cost/employee'\n",
    "output_notebook()\n",
    "show(p)"
   ]
  },
  {
   "cell_type": "markdown",
   "metadata": {},
   "source": [
    "Based on this visualization, it seems that **Employee Referral** has been the best recruiting source for the company. It has the lowest cost, and produces the highest-performing employees. The second best source by these metrics is **Professional Society**. The HR Department can act upon this insight by investing more into their employee referral program, and continue building connections with professional societies."
   ]
  },
  {
   "cell_type": "markdown",
   "metadata": {},
   "source": [
    "Dataset From: https://www.kaggle.com/rhuebner/human-resources-data-set"
   ]
  }
 ],
 "metadata": {
  "kernelspec": {
   "display_name": "Python 3",
   "language": "python",
   "name": "python3"
  },
  "language_info": {
   "codemirror_mode": {
    "name": "ipython",
    "version": 3
   },
   "file_extension": ".py",
   "mimetype": "text/x-python",
   "name": "python",
   "nbconvert_exporter": "python",
   "pygments_lexer": "ipython3",
   "version": "3.7.3"
  }
 },
 "nbformat": 4,
 "nbformat_minor": 2
}
